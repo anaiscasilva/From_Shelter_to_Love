{
 "cells": [
  {
   "cell_type": "code",
   "execution_count": 153,
   "id": "ae1cf7ab",
   "metadata": {},
   "outputs": [
    {
     "name": "stdout",
     "output_type": "stream",
     "text": [
      "The autoreload extension is already loaded. To reload it, use:\n",
      "  %reload_ext autoreload\n"
     ]
    }
   ],
   "source": [
    "%load_ext autoreload\n",
    "%autoreload 2"
   ]
  },
  {
   "cell_type": "code",
   "execution_count": 154,
   "id": "801e2da3",
   "metadata": {},
   "outputs": [],
   "source": [
    "import pandas as pd\n",
    "import numpy as np"
   ]
  },
  {
   "cell_type": "code",
   "execution_count": 155,
   "id": "f404f208",
   "metadata": {},
   "outputs": [],
   "source": [
    "from sklearn.pipeline import Pipeline\n",
    "from sklearn.impute import SimpleImputer\n",
    "from sklearn.preprocessing import MinMaxScaler , FunctionTransformer,OneHotEncoder\n",
    "from sklearn.compose import make_column_selector,ColumnTransformer\n",
    "from sklearn.ensemble import RandomForestRegressor\n",
    "from sklearn.model_selection import GridSearchCV\n",
    "from sklearn.model_selection import ShuffleSplit"
   ]
  },
  {
   "cell_type": "markdown",
   "id": "8a17135b",
   "metadata": {},
   "source": [
    "## Load the data"
   ]
  },
  {
   "cell_type": "code",
   "execution_count": 156,
   "id": "edd761a1",
   "metadata": {},
   "outputs": [],
   "source": [
    "from From_Shelter_to_Love.data_provisoria_v2 import get_data"
   ]
  },
  {
   "cell_type": "code",
   "execution_count": 157,
   "id": "cd1614c2",
   "metadata": {},
   "outputs": [],
   "source": [
    "df_all_2 = get_data()"
   ]
  },
  {
   "cell_type": "markdown",
   "id": "42d226ed",
   "metadata": {},
   "source": [
    "## Drop the outcome features and the data with more than 60 days in shelter "
   ]
  },
  {
   "cell_type": "code",
   "execution_count": 184,
   "id": "8a4d5039",
   "metadata": {},
   "outputs": [],
   "source": [
    "df_2 = df_all_2.drop(columns =['Animal ID','age_upon_intake_years', 'age_upon_outcome_years', 'Outcome Type', 'age_upon_outcome_months', 'neutered_or_spayed_outcome', 'male_or_female_outcome', 'male_or_female_intake'], axis=1)\n",
    "df_less_60_2 = df_2[df_2['days_in_shelter'] < 60]"
   ]
  },
  {
   "cell_type": "code",
   "execution_count": 185,
   "id": "94915979",
   "metadata": {},
   "outputs": [
    {
     "data": {
      "text/html": [
       "<div>\n",
       "<style scoped>\n",
       "    .dataframe tbody tr th:only-of-type {\n",
       "        vertical-align: middle;\n",
       "    }\n",
       "\n",
       "    .dataframe tbody tr th {\n",
       "        vertical-align: top;\n",
       "    }\n",
       "\n",
       "    .dataframe thead th {\n",
       "        text-align: right;\n",
       "    }\n",
       "</style>\n",
       "<table border=\"1\" class=\"dataframe\">\n",
       "  <thead>\n",
       "    <tr style=\"text-align: right;\">\n",
       "      <th></th>\n",
       "      <th>Intake Type</th>\n",
       "      <th>Intake Condition</th>\n",
       "      <th>Animal Type</th>\n",
       "      <th>Breed</th>\n",
       "      <th>days_in_shelter</th>\n",
       "      <th>age_upon_intake_months</th>\n",
       "      <th>neutered_or_spayed_intake</th>\n",
       "      <th>color</th>\n",
       "    </tr>\n",
       "  </thead>\n",
       "  <tbody>\n",
       "    <tr>\n",
       "      <th>0</th>\n",
       "      <td>Public Assist</td>\n",
       "      <td>Normal</td>\n",
       "      <td>Dog</td>\n",
       "      <td>Mixed</td>\n",
       "      <td>2.0</td>\n",
       "      <td>72.0</td>\n",
       "      <td>1</td>\n",
       "      <td>Bicolor</td>\n",
       "    </tr>\n",
       "    <tr>\n",
       "      <th>1</th>\n",
       "      <td>Owner Surrender</td>\n",
       "      <td>Normal</td>\n",
       "      <td>Dog</td>\n",
       "      <td>Pure</td>\n",
       "      <td>5.0</td>\n",
       "      <td>120.0</td>\n",
       "      <td>1</td>\n",
       "      <td>Tricolor</td>\n",
       "    </tr>\n",
       "    <tr>\n",
       "      <th>2</th>\n",
       "      <td>Public Assist</td>\n",
       "      <td>Injured</td>\n",
       "      <td>Dog</td>\n",
       "      <td>Pure</td>\n",
       "      <td>1.0</td>\n",
       "      <td>192.0</td>\n",
       "      <td>1</td>\n",
       "      <td>Bicolor</td>\n",
       "    </tr>\n",
       "    <tr>\n",
       "      <th>3</th>\n",
       "      <td>Stray</td>\n",
       "      <td>Aged</td>\n",
       "      <td>Dog</td>\n",
       "      <td>Mixed</td>\n",
       "      <td>1.0</td>\n",
       "      <td>180.0</td>\n",
       "      <td>1</td>\n",
       "      <td>Bicolor</td>\n",
       "    </tr>\n",
       "    <tr>\n",
       "      <th>4</th>\n",
       "      <td>Stray</td>\n",
       "      <td>Normal</td>\n",
       "      <td>Dog</td>\n",
       "      <td>Mixed</td>\n",
       "      <td>1.0</td>\n",
       "      <td>180.0</td>\n",
       "      <td>0</td>\n",
       "      <td>Bicolor</td>\n",
       "    </tr>\n",
       "  </tbody>\n",
       "</table>\n",
       "</div>"
      ],
      "text/plain": [
       "       Intake Type Intake Condition Animal Type  Breed  days_in_shelter  \\\n",
       "0    Public Assist           Normal         Dog  Mixed              2.0   \n",
       "1  Owner Surrender           Normal         Dog   Pure              5.0   \n",
       "2    Public Assist          Injured         Dog   Pure              1.0   \n",
       "3            Stray             Aged         Dog  Mixed              1.0   \n",
       "4            Stray           Normal         Dog  Mixed              1.0   \n",
       "\n",
       "   age_upon_intake_months  neutered_or_spayed_intake     color  \n",
       "0                    72.0                          1   Bicolor  \n",
       "1                   120.0                          1  Tricolor  \n",
       "2                   192.0                          1   Bicolor  \n",
       "3                   180.0                          1   Bicolor  \n",
       "4                   180.0                          0   Bicolor  "
      ]
     },
     "execution_count": 185,
     "metadata": {},
     "output_type": "execute_result"
    }
   ],
   "source": [
    "df_less_60_2.head(5)"
   ]
  },
  {
   "cell_type": "markdown",
   "id": "cd9433ae",
   "metadata": {},
   "source": [
    "## Baseline to less than 60 days in Shelter - RMSE"
   ]
  },
  {
   "cell_type": "code",
   "execution_count": 186,
   "id": "8a15ddec",
   "metadata": {},
   "outputs": [
    {
     "data": {
      "text/plain": [
       "12.985501995602426"
      ]
     },
     "execution_count": 186,
     "metadata": {},
     "output_type": "execute_result"
    }
   ],
   "source": [
    "y_pred_2 = df_less_60_2['days_in_shelter'].mean()\n",
    "#RMSE\n",
    "np.sqrt(np.mean((y_pred_2 - df_less_60_2['days_in_shelter'])**2))"
   ]
  },
  {
   "cell_type": "markdown",
   "id": "7b5e05c9",
   "metadata": {},
   "source": [
    "### Split the data"
   ]
  },
  {
   "cell_type": "code",
   "execution_count": 187,
   "id": "fffa20aa",
   "metadata": {},
   "outputs": [],
   "source": [
    "from sklearn.model_selection import train_test_split\n",
    "\n",
    "y = df_less_60_2[\"days_in_shelter\"]\n",
    "X = df_less_60_2.drop(columns = [\"days_in_shelter\"] , axis=1)\n",
    "\n",
    "X_train, X_test, y_train, y_test = train_test_split(X, y, test_size=0.3, random_state = 10)"
   ]
  },
  {
   "cell_type": "markdown",
   "id": "6b587ada",
   "metadata": {},
   "source": [
    "## Preprocessing "
   ]
  },
  {
   "cell_type": "code",
   "execution_count": 188,
   "id": "67f88b76",
   "metadata": {},
   "outputs": [
    {
     "data": {
      "text/plain": [
       "Intake Type                   object\n",
       "Intake Condition              object\n",
       "Animal Type                   object\n",
       "Breed                         object\n",
       "age_upon_intake_months       float64\n",
       "neutered_or_spayed_intake      int64\n",
       "color                         object\n",
       "dtype: object"
      ]
     },
     "execution_count": 188,
     "metadata": {},
     "output_type": "execute_result"
    }
   ],
   "source": [
    "X_train.dtypes"
   ]
  },
  {
   "cell_type": "code",
   "execution_count": 189,
   "id": "f0fe6ced",
   "metadata": {},
   "outputs": [],
   "source": [
    "# Impute then Scale for numerical variables\n",
    "num_transformer = Pipeline([\n",
    "    ('imputer', SimpleImputer()),\n",
    "    ('scaler', MinMaxScaler())])\n",
    "\n",
    "# Encode categorical varibles \n",
    "cat_transformer = Pipeline([('onehot', OneHotEncoder(handle_unknown='ignore',sparse=False))])\n",
    "\n",
    "cat_bi_transformer = OneHotEncoder(drop='if_binary', sparse = False)\n",
    "\n",
    "\n",
    "# Apply transformations to desired features\n",
    "preprocessor = ColumnTransformer([\n",
    "    ('num_transformer', num_transformer, ['age_upon_intake_months', 'neutered_or_spayed_intake']),\n",
    "    ('cat_bi_transformer', cat_bi_transformer, ['Animal Type', 'Breed']),\n",
    "    ('cat_transformer', cat_transformer, ['color', 'Intake Condition', 'Intake Type'])])\n"
   ]
  },
  {
   "cell_type": "code",
   "execution_count": 190,
   "id": "ea499bcb",
   "metadata": {},
   "outputs": [],
   "source": [
    "X_train_transf = preprocessor.fit_transform(X_train)"
   ]
  },
  {
   "cell_type": "markdown",
   "id": "b1501021",
   "metadata": {},
   "source": [
    "## X_train_transf to a dataframe with the columns names "
   ]
  },
  {
   "cell_type": "code",
   "execution_count": 191,
   "id": "75bbe7f8",
   "metadata": {},
   "outputs": [],
   "source": [
    "cat_names = preprocessor.transformers_[2][1].steps[0][1].get_feature_names(['color', 'Intake Condition', 'Intake Type'])"
   ]
  },
  {
   "cell_type": "code",
   "execution_count": 192,
   "id": "2a16fe67",
   "metadata": {},
   "outputs": [
    {
     "data": {
      "text/plain": [
       "array(['color_Bicolor', 'color_Dark', 'color_Light', 'color_Tricolor',\n",
       "       'Intake Condition_Aged', 'Intake Condition_Behavior',\n",
       "       'Intake Condition_Feral', 'Intake Condition_Injured',\n",
       "       'Intake Condition_Medical', 'Intake Condition_Normal',\n",
       "       'Intake Condition_Nursing', 'Intake Condition_Other',\n",
       "       'Intake Condition_Pregnant', 'Intake Condition_Sick',\n",
       "       'Intake Type_Abandoned', 'Intake Type_Euthanasia Request',\n",
       "       'Intake Type_Owner Surrender', 'Intake Type_Public Assist',\n",
       "       'Intake Type_Stray'], dtype=object)"
      ]
     },
     "execution_count": 192,
     "metadata": {},
     "output_type": "execute_result"
    }
   ],
   "source": [
    "cat_names"
   ]
  },
  {
   "cell_type": "code",
   "execution_count": 193,
   "id": "35c330ad",
   "metadata": {},
   "outputs": [],
   "source": [
    "columns = ['age_upon_intake_months', 'neutered_or_spayed_intake', \n",
    "           'Animal Type', 'Breed', 'color_Bicolor', 'color_Dark', 'color_Light', 'color_Tricolor',\n",
    "           'Intake Condition_Aged', 'Intake Condition_Behavior',\n",
    "           'Intake Condition_Feral', 'Intake Condition_Injured',\n",
    "           'Intake Condition_Medical', 'Intake Condition_Normal',\n",
    "           'Intake Condition_Nursing', 'Intake Condition_Other',\n",
    "           'Intake Condition_Pregnant', 'Intake Condition_Sick',\n",
    "           'Intake Type_Abandoned', 'Intake Type_Euthanasia Request',\n",
    "           'Intake Type_Owner Surrender', 'Intake Type_Public Assist',\n",
    "           'Intake Type_Stray']\n",
    "df_X_train_transf = pd.DataFrame(X_train_transf, columns = columns)"
   ]
  },
  {
   "cell_type": "code",
   "execution_count": 194,
   "id": "7cb1fdfc",
   "metadata": {},
   "outputs": [
    {
     "data": {
      "text/html": [
       "<div>\n",
       "<style scoped>\n",
       "    .dataframe tbody tr th:only-of-type {\n",
       "        vertical-align: middle;\n",
       "    }\n",
       "\n",
       "    .dataframe tbody tr th {\n",
       "        vertical-align: top;\n",
       "    }\n",
       "\n",
       "    .dataframe thead th {\n",
       "        text-align: right;\n",
       "    }\n",
       "</style>\n",
       "<table border=\"1\" class=\"dataframe\">\n",
       "  <thead>\n",
       "    <tr style=\"text-align: right;\">\n",
       "      <th></th>\n",
       "      <th>age_upon_intake_months</th>\n",
       "      <th>neutered_or_spayed_intake</th>\n",
       "      <th>Animal Type</th>\n",
       "      <th>Breed</th>\n",
       "      <th>color_Bicolor</th>\n",
       "      <th>color_Dark</th>\n",
       "      <th>color_Light</th>\n",
       "      <th>color_Tricolor</th>\n",
       "      <th>Intake Condition_Aged</th>\n",
       "      <th>Intake Condition_Behavior</th>\n",
       "      <th>...</th>\n",
       "      <th>Intake Condition_Normal</th>\n",
       "      <th>Intake Condition_Nursing</th>\n",
       "      <th>Intake Condition_Other</th>\n",
       "      <th>Intake Condition_Pregnant</th>\n",
       "      <th>Intake Condition_Sick</th>\n",
       "      <th>Intake Type_Abandoned</th>\n",
       "      <th>Intake Type_Euthanasia Request</th>\n",
       "      <th>Intake Type_Owner Surrender</th>\n",
       "      <th>Intake Type_Public Assist</th>\n",
       "      <th>Intake Type_Stray</th>\n",
       "    </tr>\n",
       "  </thead>\n",
       "  <tbody>\n",
       "    <tr>\n",
       "      <th>0</th>\n",
       "      <td>0.017361</td>\n",
       "      <td>0.0</td>\n",
       "      <td>1.0</td>\n",
       "      <td>0.0</td>\n",
       "      <td>1.0</td>\n",
       "      <td>0.0</td>\n",
       "      <td>0.0</td>\n",
       "      <td>0.0</td>\n",
       "      <td>0.0</td>\n",
       "      <td>0.0</td>\n",
       "      <td>...</td>\n",
       "      <td>1.0</td>\n",
       "      <td>0.0</td>\n",
       "      <td>0.0</td>\n",
       "      <td>0.0</td>\n",
       "      <td>0.0</td>\n",
       "      <td>0.0</td>\n",
       "      <td>0.0</td>\n",
       "      <td>0.0</td>\n",
       "      <td>0.0</td>\n",
       "      <td>1.0</td>\n",
       "    </tr>\n",
       "    <tr>\n",
       "      <th>1</th>\n",
       "      <td>0.166667</td>\n",
       "      <td>1.0</td>\n",
       "      <td>1.0</td>\n",
       "      <td>0.0</td>\n",
       "      <td>1.0</td>\n",
       "      <td>0.0</td>\n",
       "      <td>0.0</td>\n",
       "      <td>0.0</td>\n",
       "      <td>0.0</td>\n",
       "      <td>0.0</td>\n",
       "      <td>...</td>\n",
       "      <td>1.0</td>\n",
       "      <td>0.0</td>\n",
       "      <td>0.0</td>\n",
       "      <td>0.0</td>\n",
       "      <td>0.0</td>\n",
       "      <td>0.0</td>\n",
       "      <td>0.0</td>\n",
       "      <td>1.0</td>\n",
       "      <td>0.0</td>\n",
       "      <td>0.0</td>\n",
       "    </tr>\n",
       "    <tr>\n",
       "      <th>2</th>\n",
       "      <td>0.006944</td>\n",
       "      <td>0.0</td>\n",
       "      <td>1.0</td>\n",
       "      <td>0.0</td>\n",
       "      <td>1.0</td>\n",
       "      <td>0.0</td>\n",
       "      <td>0.0</td>\n",
       "      <td>0.0</td>\n",
       "      <td>0.0</td>\n",
       "      <td>0.0</td>\n",
       "      <td>...</td>\n",
       "      <td>1.0</td>\n",
       "      <td>0.0</td>\n",
       "      <td>0.0</td>\n",
       "      <td>0.0</td>\n",
       "      <td>0.0</td>\n",
       "      <td>0.0</td>\n",
       "      <td>0.0</td>\n",
       "      <td>1.0</td>\n",
       "      <td>0.0</td>\n",
       "      <td>0.0</td>\n",
       "    </tr>\n",
       "    <tr>\n",
       "      <th>3</th>\n",
       "      <td>0.083333</td>\n",
       "      <td>0.0</td>\n",
       "      <td>1.0</td>\n",
       "      <td>0.0</td>\n",
       "      <td>0.0</td>\n",
       "      <td>0.0</td>\n",
       "      <td>1.0</td>\n",
       "      <td>0.0</td>\n",
       "      <td>0.0</td>\n",
       "      <td>0.0</td>\n",
       "      <td>...</td>\n",
       "      <td>1.0</td>\n",
       "      <td>0.0</td>\n",
       "      <td>0.0</td>\n",
       "      <td>0.0</td>\n",
       "      <td>0.0</td>\n",
       "      <td>0.0</td>\n",
       "      <td>0.0</td>\n",
       "      <td>0.0</td>\n",
       "      <td>0.0</td>\n",
       "      <td>1.0</td>\n",
       "    </tr>\n",
       "    <tr>\n",
       "      <th>4</th>\n",
       "      <td>0.003472</td>\n",
       "      <td>0.0</td>\n",
       "      <td>0.0</td>\n",
       "      <td>0.0</td>\n",
       "      <td>1.0</td>\n",
       "      <td>0.0</td>\n",
       "      <td>0.0</td>\n",
       "      <td>0.0</td>\n",
       "      <td>0.0</td>\n",
       "      <td>0.0</td>\n",
       "      <td>...</td>\n",
       "      <td>1.0</td>\n",
       "      <td>0.0</td>\n",
       "      <td>0.0</td>\n",
       "      <td>0.0</td>\n",
       "      <td>0.0</td>\n",
       "      <td>0.0</td>\n",
       "      <td>0.0</td>\n",
       "      <td>0.0</td>\n",
       "      <td>0.0</td>\n",
       "      <td>1.0</td>\n",
       "    </tr>\n",
       "    <tr>\n",
       "      <th>...</th>\n",
       "      <td>...</td>\n",
       "      <td>...</td>\n",
       "      <td>...</td>\n",
       "      <td>...</td>\n",
       "      <td>...</td>\n",
       "      <td>...</td>\n",
       "      <td>...</td>\n",
       "      <td>...</td>\n",
       "      <td>...</td>\n",
       "      <td>...</td>\n",
       "      <td>...</td>\n",
       "      <td>...</td>\n",
       "      <td>...</td>\n",
       "      <td>...</td>\n",
       "      <td>...</td>\n",
       "      <td>...</td>\n",
       "      <td>...</td>\n",
       "      <td>...</td>\n",
       "      <td>...</td>\n",
       "      <td>...</td>\n",
       "      <td>...</td>\n",
       "    </tr>\n",
       "    <tr>\n",
       "      <th>65919</th>\n",
       "      <td>0.041667</td>\n",
       "      <td>1.0</td>\n",
       "      <td>1.0</td>\n",
       "      <td>0.0</td>\n",
       "      <td>0.0</td>\n",
       "      <td>0.0</td>\n",
       "      <td>1.0</td>\n",
       "      <td>0.0</td>\n",
       "      <td>0.0</td>\n",
       "      <td>0.0</td>\n",
       "      <td>...</td>\n",
       "      <td>0.0</td>\n",
       "      <td>0.0</td>\n",
       "      <td>0.0</td>\n",
       "      <td>0.0</td>\n",
       "      <td>0.0</td>\n",
       "      <td>0.0</td>\n",
       "      <td>0.0</td>\n",
       "      <td>0.0</td>\n",
       "      <td>0.0</td>\n",
       "      <td>1.0</td>\n",
       "    </tr>\n",
       "    <tr>\n",
       "      <th>65920</th>\n",
       "      <td>0.125000</td>\n",
       "      <td>0.0</td>\n",
       "      <td>0.0</td>\n",
       "      <td>0.0</td>\n",
       "      <td>0.0</td>\n",
       "      <td>1.0</td>\n",
       "      <td>0.0</td>\n",
       "      <td>0.0</td>\n",
       "      <td>0.0</td>\n",
       "      <td>0.0</td>\n",
       "      <td>...</td>\n",
       "      <td>0.0</td>\n",
       "      <td>0.0</td>\n",
       "      <td>0.0</td>\n",
       "      <td>0.0</td>\n",
       "      <td>0.0</td>\n",
       "      <td>0.0</td>\n",
       "      <td>0.0</td>\n",
       "      <td>0.0</td>\n",
       "      <td>0.0</td>\n",
       "      <td>1.0</td>\n",
       "    </tr>\n",
       "    <tr>\n",
       "      <th>65921</th>\n",
       "      <td>0.041667</td>\n",
       "      <td>0.0</td>\n",
       "      <td>0.0</td>\n",
       "      <td>0.0</td>\n",
       "      <td>1.0</td>\n",
       "      <td>0.0</td>\n",
       "      <td>0.0</td>\n",
       "      <td>0.0</td>\n",
       "      <td>0.0</td>\n",
       "      <td>0.0</td>\n",
       "      <td>...</td>\n",
       "      <td>1.0</td>\n",
       "      <td>0.0</td>\n",
       "      <td>0.0</td>\n",
       "      <td>0.0</td>\n",
       "      <td>0.0</td>\n",
       "      <td>0.0</td>\n",
       "      <td>0.0</td>\n",
       "      <td>0.0</td>\n",
       "      <td>0.0</td>\n",
       "      <td>1.0</td>\n",
       "    </tr>\n",
       "    <tr>\n",
       "      <th>65922</th>\n",
       "      <td>0.006944</td>\n",
       "      <td>0.0</td>\n",
       "      <td>0.0</td>\n",
       "      <td>0.0</td>\n",
       "      <td>1.0</td>\n",
       "      <td>0.0</td>\n",
       "      <td>0.0</td>\n",
       "      <td>0.0</td>\n",
       "      <td>0.0</td>\n",
       "      <td>0.0</td>\n",
       "      <td>...</td>\n",
       "      <td>1.0</td>\n",
       "      <td>0.0</td>\n",
       "      <td>0.0</td>\n",
       "      <td>0.0</td>\n",
       "      <td>0.0</td>\n",
       "      <td>0.0</td>\n",
       "      <td>0.0</td>\n",
       "      <td>1.0</td>\n",
       "      <td>0.0</td>\n",
       "      <td>0.0</td>\n",
       "    </tr>\n",
       "    <tr>\n",
       "      <th>65923</th>\n",
       "      <td>0.017361</td>\n",
       "      <td>0.0</td>\n",
       "      <td>1.0</td>\n",
       "      <td>0.0</td>\n",
       "      <td>1.0</td>\n",
       "      <td>0.0</td>\n",
       "      <td>0.0</td>\n",
       "      <td>0.0</td>\n",
       "      <td>0.0</td>\n",
       "      <td>0.0</td>\n",
       "      <td>...</td>\n",
       "      <td>1.0</td>\n",
       "      <td>0.0</td>\n",
       "      <td>0.0</td>\n",
       "      <td>0.0</td>\n",
       "      <td>0.0</td>\n",
       "      <td>0.0</td>\n",
       "      <td>0.0</td>\n",
       "      <td>0.0</td>\n",
       "      <td>0.0</td>\n",
       "      <td>1.0</td>\n",
       "    </tr>\n",
       "  </tbody>\n",
       "</table>\n",
       "<p>65924 rows × 23 columns</p>\n",
       "</div>"
      ],
      "text/plain": [
       "       age_upon_intake_months  neutered_or_spayed_intake  Animal Type  Breed  \\\n",
       "0                    0.017361                        0.0          1.0    0.0   \n",
       "1                    0.166667                        1.0          1.0    0.0   \n",
       "2                    0.006944                        0.0          1.0    0.0   \n",
       "3                    0.083333                        0.0          1.0    0.0   \n",
       "4                    0.003472                        0.0          0.0    0.0   \n",
       "...                       ...                        ...          ...    ...   \n",
       "65919                0.041667                        1.0          1.0    0.0   \n",
       "65920                0.125000                        0.0          0.0    0.0   \n",
       "65921                0.041667                        0.0          0.0    0.0   \n",
       "65922                0.006944                        0.0          0.0    0.0   \n",
       "65923                0.017361                        0.0          1.0    0.0   \n",
       "\n",
       "       color_Bicolor  color_Dark  color_Light  color_Tricolor  \\\n",
       "0                1.0         0.0          0.0             0.0   \n",
       "1                1.0         0.0          0.0             0.0   \n",
       "2                1.0         0.0          0.0             0.0   \n",
       "3                0.0         0.0          1.0             0.0   \n",
       "4                1.0         0.0          0.0             0.0   \n",
       "...              ...         ...          ...             ...   \n",
       "65919            0.0         0.0          1.0             0.0   \n",
       "65920            0.0         1.0          0.0             0.0   \n",
       "65921            1.0         0.0          0.0             0.0   \n",
       "65922            1.0         0.0          0.0             0.0   \n",
       "65923            1.0         0.0          0.0             0.0   \n",
       "\n",
       "       Intake Condition_Aged  Intake Condition_Behavior  ...  \\\n",
       "0                        0.0                        0.0  ...   \n",
       "1                        0.0                        0.0  ...   \n",
       "2                        0.0                        0.0  ...   \n",
       "3                        0.0                        0.0  ...   \n",
       "4                        0.0                        0.0  ...   \n",
       "...                      ...                        ...  ...   \n",
       "65919                    0.0                        0.0  ...   \n",
       "65920                    0.0                        0.0  ...   \n",
       "65921                    0.0                        0.0  ...   \n",
       "65922                    0.0                        0.0  ...   \n",
       "65923                    0.0                        0.0  ...   \n",
       "\n",
       "       Intake Condition_Normal  Intake Condition_Nursing  \\\n",
       "0                          1.0                       0.0   \n",
       "1                          1.0                       0.0   \n",
       "2                          1.0                       0.0   \n",
       "3                          1.0                       0.0   \n",
       "4                          1.0                       0.0   \n",
       "...                        ...                       ...   \n",
       "65919                      0.0                       0.0   \n",
       "65920                      0.0                       0.0   \n",
       "65921                      1.0                       0.0   \n",
       "65922                      1.0                       0.0   \n",
       "65923                      1.0                       0.0   \n",
       "\n",
       "       Intake Condition_Other  Intake Condition_Pregnant  \\\n",
       "0                         0.0                        0.0   \n",
       "1                         0.0                        0.0   \n",
       "2                         0.0                        0.0   \n",
       "3                         0.0                        0.0   \n",
       "4                         0.0                        0.0   \n",
       "...                       ...                        ...   \n",
       "65919                     0.0                        0.0   \n",
       "65920                     0.0                        0.0   \n",
       "65921                     0.0                        0.0   \n",
       "65922                     0.0                        0.0   \n",
       "65923                     0.0                        0.0   \n",
       "\n",
       "       Intake Condition_Sick  Intake Type_Abandoned  \\\n",
       "0                        0.0                    0.0   \n",
       "1                        0.0                    0.0   \n",
       "2                        0.0                    0.0   \n",
       "3                        0.0                    0.0   \n",
       "4                        0.0                    0.0   \n",
       "...                      ...                    ...   \n",
       "65919                    0.0                    0.0   \n",
       "65920                    0.0                    0.0   \n",
       "65921                    0.0                    0.0   \n",
       "65922                    0.0                    0.0   \n",
       "65923                    0.0                    0.0   \n",
       "\n",
       "       Intake Type_Euthanasia Request  Intake Type_Owner Surrender  \\\n",
       "0                                 0.0                          0.0   \n",
       "1                                 0.0                          1.0   \n",
       "2                                 0.0                          1.0   \n",
       "3                                 0.0                          0.0   \n",
       "4                                 0.0                          0.0   \n",
       "...                               ...                          ...   \n",
       "65919                             0.0                          0.0   \n",
       "65920                             0.0                          0.0   \n",
       "65921                             0.0                          0.0   \n",
       "65922                             0.0                          1.0   \n",
       "65923                             0.0                          0.0   \n",
       "\n",
       "       Intake Type_Public Assist  Intake Type_Stray  \n",
       "0                            0.0                1.0  \n",
       "1                            0.0                0.0  \n",
       "2                            0.0                0.0  \n",
       "3                            0.0                1.0  \n",
       "4                            0.0                1.0  \n",
       "...                          ...                ...  \n",
       "65919                        0.0                1.0  \n",
       "65920                        0.0                1.0  \n",
       "65921                        0.0                1.0  \n",
       "65922                        0.0                0.0  \n",
       "65923                        0.0                1.0  \n",
       "\n",
       "[65924 rows x 23 columns]"
      ]
     },
     "execution_count": 194,
     "metadata": {},
     "output_type": "execute_result"
    }
   ],
   "source": [
    "df_X_train_transf"
   ]
  },
  {
   "cell_type": "code",
   "execution_count": 195,
   "id": "a615702a",
   "metadata": {},
   "outputs": [
    {
     "data": {
      "text/plain": [
       "Intake Type                   object\n",
       "Intake Condition              object\n",
       "Animal Type                   object\n",
       "Breed                         object\n",
       "age_upon_intake_months       float64\n",
       "neutered_or_spayed_intake      int64\n",
       "color                         object\n",
       "dtype: object"
      ]
     },
     "execution_count": 195,
     "metadata": {},
     "output_type": "execute_result"
    }
   ],
   "source": [
    "X_train.dtypes"
   ]
  },
  {
   "cell_type": "markdown",
   "id": "4a8ebd0e",
   "metadata": {},
   "source": [
    "## GridSearch"
   ]
  },
  {
   "cell_type": "code",
   "execution_count": 30,
   "id": "53f31ee3",
   "metadata": {},
   "outputs": [
    {
     "name": "stdout",
     "output_type": "stream",
     "text": [
      "{'max_depth': 20}\n",
      "-153.22551754622432\n"
     ]
    }
   ],
   "source": [
    "model = RandomForestRegressor(max_samples=2000)\n",
    "\n",
    "# Hyperparameter Grid\n",
    "grid = {'max_depth': [10, 20]}\n",
    "\n",
    "# Instanciate Grid Search\n",
    "search = GridSearchCV(model, grid, \n",
    "                           scoring='neg_mean_squared_error',\n",
    "                           cv = 5) \n",
    "search.fit(X_train_transf,y_train)\n",
    "print(search.best_params_)\n",
    "print(search.best_score_)"
   ]
  },
  {
   "cell_type": "code",
   "execution_count": 15,
   "id": "c6ce46af",
   "metadata": {},
   "outputs": [
    {
     "data": {
      "text/plain": [
       "12.36931687685298"
      ]
     },
     "execution_count": 15,
     "metadata": {},
     "output_type": "execute_result"
    }
   ],
   "source": [
    "import numpy as np\n",
    "np.sqrt(153)"
   ]
  },
  {
   "cell_type": "markdown",
   "id": "554366f3",
   "metadata": {},
   "source": [
    "## Cross validate RandomForestRegressor"
   ]
  },
  {
   "cell_type": "code",
   "execution_count": 179,
   "id": "40633971",
   "metadata": {},
   "outputs": [],
   "source": [
    "from sklearn.metrics import mean_squared_error\n",
    "from sklearn.metrics import make_scorer\n",
    "\n",
    "def rmse(y_true, y_pred):\n",
    "    return np.sqrt(mean_squared_error(y_true, y_pred))\n",
    "\n",
    "def rmse_neg(y_true, y_pred):\n",
    "    return 0 - np.sqrt(mean_squared_error(y_true, y_pred))\n",
    " \n",
    "rmse = make_scorer(rmse)\n",
    "rmse_neg = make_scorer(rmse_neg)"
   ]
  },
  {
   "cell_type": "code",
   "execution_count": 180,
   "id": "abdf1198",
   "metadata": {},
   "outputs": [],
   "source": [
    "model = RandomForestRegressor(max_depth=20)"
   ]
  },
  {
   "cell_type": "code",
   "execution_count": 181,
   "id": "5febc01e",
   "metadata": {},
   "outputs": [
    {
     "data": {
      "text/plain": [
       "12.537319153199551"
      ]
     },
     "execution_count": 181,
     "metadata": {},
     "output_type": "execute_result"
    }
   ],
   "source": [
    "from sklearn.model_selection import cross_validate, cross_val_score\n",
    "\n",
    "# Cross validate pipeline\n",
    "#cross_val_score(model, X_train_transf, y_train, cv=5, scoring='neg_mean_squared_error').mean()\n",
    "Cv = cross_validate(model, X_train_transf, y_train, cv=5, scoring={'rmse_neg': rmse_neg, 'rmse': rmse})\n",
    "Cv['test_rmse'].mean() "
   ]
  },
  {
   "cell_type": "markdown",
   "id": "e43f441d",
   "metadata": {},
   "source": [
    "## Test importance of features "
   ]
  },
  {
   "cell_type": "code",
   "execution_count": 196,
   "id": "7687db51",
   "metadata": {},
   "outputs": [],
   "source": [
    "feature_names = [i for i in df_X_train_transf.columns]\n",
    "\n",
    "train_X, val_X, train_y, val_y = train_test_split(df_X_train_transf, y_train, random_state=1)\n",
    "\n",
    "my_model = RandomForestRegressor(max_depth=20).fit(df_X_train_transf, y_train)\n",
    "\n",
    "from sklearn.inspection import permutation_importance\n",
    "\n",
    "perm = permutation_importance(my_model,val_X, val_y,n_repeats=30, random_state=1)\n",
    " "
   ]
  },
  {
   "cell_type": "code",
   "execution_count": 197,
   "id": "de04f497",
   "metadata": {},
   "outputs": [
    {
     "data": {
      "text/html": [
       "<div>\n",
       "<style scoped>\n",
       "    .dataframe tbody tr th:only-of-type {\n",
       "        vertical-align: middle;\n",
       "    }\n",
       "\n",
       "    .dataframe tbody tr th {\n",
       "        vertical-align: top;\n",
       "    }\n",
       "\n",
       "    .dataframe thead th {\n",
       "        text-align: right;\n",
       "    }\n",
       "</style>\n",
       "<table border=\"1\" class=\"dataframe\">\n",
       "  <thead>\n",
       "    <tr style=\"text-align: right;\">\n",
       "      <th></th>\n",
       "      <th>feature</th>\n",
       "      <th>score decrease</th>\n",
       "    </tr>\n",
       "  </thead>\n",
       "  <tbody>\n",
       "    <tr>\n",
       "      <th>10</th>\n",
       "      <td>Intake Condition_Feral</td>\n",
       "      <td>4.199552883369373e-05</td>\n",
       "    </tr>\n",
       "    <tr>\n",
       "      <th>0</th>\n",
       "      <td>age_upon_intake_months</td>\n",
       "      <td>0.22825846475636422</td>\n",
       "    </tr>\n",
       "    <tr>\n",
       "      <th>1</th>\n",
       "      <td>neutered_or_spayed_intake</td>\n",
       "      <td>0.1361776004859971</td>\n",
       "    </tr>\n",
       "    <tr>\n",
       "      <th>2</th>\n",
       "      <td>Animal Type</td>\n",
       "      <td>0.10223723189153144</td>\n",
       "    </tr>\n",
       "    <tr>\n",
       "      <th>20</th>\n",
       "      <td>Intake Type_Owner Surrender</td>\n",
       "      <td>0.050913007277750215</td>\n",
       "    </tr>\n",
       "    <tr>\n",
       "      <th>13</th>\n",
       "      <td>Intake Condition_Normal</td>\n",
       "      <td>0.03483724999841286</td>\n",
       "    </tr>\n",
       "    <tr>\n",
       "      <th>3</th>\n",
       "      <td>Breed</td>\n",
       "      <td>0.024350009875163694</td>\n",
       "    </tr>\n",
       "    <tr>\n",
       "      <th>22</th>\n",
       "      <td>Intake Type_Stray</td>\n",
       "      <td>0.013810688096898687</td>\n",
       "    </tr>\n",
       "    <tr>\n",
       "      <th>4</th>\n",
       "      <td>color_Bicolor</td>\n",
       "      <td>0.012149013039552622</td>\n",
       "    </tr>\n",
       "    <tr>\n",
       "      <th>11</th>\n",
       "      <td>Intake Condition_Injured</td>\n",
       "      <td>0.011798501049466259</td>\n",
       "    </tr>\n",
       "    <tr>\n",
       "      <th>14</th>\n",
       "      <td>Intake Condition_Nursing</td>\n",
       "      <td>0.01144694896604288</td>\n",
       "    </tr>\n",
       "    <tr>\n",
       "      <th>6</th>\n",
       "      <td>color_Light</td>\n",
       "      <td>0.009012039358587902</td>\n",
       "    </tr>\n",
       "    <tr>\n",
       "      <th>21</th>\n",
       "      <td>Intake Type_Public Assist</td>\n",
       "      <td>0.008406963319643738</td>\n",
       "    </tr>\n",
       "    <tr>\n",
       "      <th>5</th>\n",
       "      <td>color_Dark</td>\n",
       "      <td>0.008019150103585978</td>\n",
       "    </tr>\n",
       "    <tr>\n",
       "      <th>7</th>\n",
       "      <td>color_Tricolor</td>\n",
       "      <td>0.0061733925249914945</td>\n",
       "    </tr>\n",
       "    <tr>\n",
       "      <th>17</th>\n",
       "      <td>Intake Condition_Sick</td>\n",
       "      <td>0.006074276123906852</td>\n",
       "    </tr>\n",
       "    <tr>\n",
       "      <th>18</th>\n",
       "      <td>Intake Type_Abandoned</td>\n",
       "      <td>0.0019769739675211265</td>\n",
       "    </tr>\n",
       "    <tr>\n",
       "      <th>15</th>\n",
       "      <td>Intake Condition_Other</td>\n",
       "      <td>0.0008790316938933063</td>\n",
       "    </tr>\n",
       "    <tr>\n",
       "      <th>12</th>\n",
       "      <td>Intake Condition_Medical</td>\n",
       "      <td>0.0008053770560009036</td>\n",
       "    </tr>\n",
       "    <tr>\n",
       "      <th>19</th>\n",
       "      <td>Intake Type_Euthanasia Request</td>\n",
       "      <td>0.0007299530819948348</td>\n",
       "    </tr>\n",
       "    <tr>\n",
       "      <th>8</th>\n",
       "      <td>Intake Condition_Aged</td>\n",
       "      <td>0.000676545114926308</td>\n",
       "    </tr>\n",
       "    <tr>\n",
       "      <th>16</th>\n",
       "      <td>Intake Condition_Pregnant</td>\n",
       "      <td>0.0002949855752263512</td>\n",
       "    </tr>\n",
       "    <tr>\n",
       "      <th>9</th>\n",
       "      <td>Intake Condition_Behavior</td>\n",
       "      <td>0.0001834306422740258</td>\n",
       "    </tr>\n",
       "  </tbody>\n",
       "</table>\n",
       "</div>"
      ],
      "text/plain": [
       "                           feature         score decrease\n",
       "10          Intake Condition_Feral  4.199552883369373e-05\n",
       "0           age_upon_intake_months    0.22825846475636422\n",
       "1        neutered_or_spayed_intake     0.1361776004859971\n",
       "2                      Animal Type    0.10223723189153144\n",
       "20     Intake Type_Owner Surrender   0.050913007277750215\n",
       "13         Intake Condition_Normal    0.03483724999841286\n",
       "3                            Breed   0.024350009875163694\n",
       "22               Intake Type_Stray   0.013810688096898687\n",
       "4                    color_Bicolor   0.012149013039552622\n",
       "11        Intake Condition_Injured   0.011798501049466259\n",
       "14        Intake Condition_Nursing    0.01144694896604288\n",
       "6                      color_Light   0.009012039358587902\n",
       "21       Intake Type_Public Assist   0.008406963319643738\n",
       "5                       color_Dark   0.008019150103585978\n",
       "7                   color_Tricolor  0.0061733925249914945\n",
       "17           Intake Condition_Sick   0.006074276123906852\n",
       "18           Intake Type_Abandoned  0.0019769739675211265\n",
       "15          Intake Condition_Other  0.0008790316938933063\n",
       "12        Intake Condition_Medical  0.0008053770560009036\n",
       "19  Intake Type_Euthanasia Request  0.0007299530819948348\n",
       "8            Intake Condition_Aged   0.000676545114926308\n",
       "16       Intake Condition_Pregnant  0.0002949855752263512\n",
       "9        Intake Condition_Behavior  0.0001834306422740258"
      ]
     },
     "execution_count": 197,
     "metadata": {},
     "output_type": "execute_result"
    }
   ],
   "source": [
    "importance_df = pd.DataFrame(np.vstack((feature_names,\n",
    "                                        perm.importances_mean)).T) # Unstack results\n",
    "importance_df.columns=['feature','score decrease']\n",
    "\n",
    "importance_df.sort_values(by=\"score decrease\", ascending = False) # Order by importance"
   ]
  },
  {
   "cell_type": "markdown",
   "id": "c00da409",
   "metadata": {},
   "source": [
    "## Take some features and run again the model"
   ]
  },
  {
   "cell_type": "code",
   "execution_count": 199,
   "id": "5abf4d58",
   "metadata": {},
   "outputs": [],
   "source": [
    "df_X_train_transf_drop = df_X_train_transf.drop(columns =['Intake Condition_Behavior', 'Intake Condition_Pregnant', \n",
    "                                                          'Intake Condition_Aged', 'Intake Type_Euthanasia Request',\n",
    "                                                          'Intake Condition_Medical', 'Intake Condition_Other', \n",
    "                                                          'Intake Type_Abandoned', 'Intake Condition_Sick', \n",
    "                                                          'color_Tricolor', 'color_Dark', 'Intake Type_Public Assist',\n",
    "                                                          'color_Light'], axis=1)"
   ]
  },
  {
   "cell_type": "code",
   "execution_count": 201,
   "id": "7a3fd759",
   "metadata": {},
   "outputs": [
    {
     "data": {
      "text/plain": [
       "12.506679327411046"
      ]
     },
     "execution_count": 201,
     "metadata": {},
     "output_type": "execute_result"
    }
   ],
   "source": [
    "Cv = cross_validate(model, df_X_train_transf_drop, y_train, cv=5, scoring={'rmse_neg': rmse_neg, 'rmse': rmse})\n",
    "Cv['test_rmse'].mean() "
   ]
  },
  {
   "cell_type": "markdown",
   "id": "88e6228d",
   "metadata": {},
   "source": [
    "# Regression model is not better than a simple mean!!!!"
   ]
  }
 ],
 "metadata": {
  "kernelspec": {
   "display_name": "Python 3 (ipykernel)",
   "language": "python",
   "name": "python3"
  },
  "language_info": {
   "codemirror_mode": {
    "name": "ipython",
    "version": 3
   },
   "file_extension": ".py",
   "mimetype": "text/x-python",
   "name": "python",
   "nbconvert_exporter": "python",
   "pygments_lexer": "ipython3",
   "version": "3.8.6"
  },
  "toc": {
   "base_numbering": 1,
   "nav_menu": {},
   "number_sections": true,
   "sideBar": true,
   "skip_h1_title": false,
   "title_cell": "Table of Contents",
   "title_sidebar": "Contents",
   "toc_cell": false,
   "toc_position": {},
   "toc_section_display": true,
   "toc_window_display": false
  }
 },
 "nbformat": 4,
 "nbformat_minor": 5
}
