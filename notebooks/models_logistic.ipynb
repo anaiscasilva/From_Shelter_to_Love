{
 "cells": [
  {
   "cell_type": "code",
   "execution_count": 4,
   "metadata": {
    "colab": {
     "base_uri": "https://localhost:8080/"
    },
    "id": "bSLtCEwW_7tD",
    "outputId": "924c2c33-8f32-46a7-e337-fe31bf484cd2"
   },
   "outputs": [],
   "source": [
    "import numpy as np\n",
    "import pandas as pd\n",
    "import matplotlib.pyplot as plt\n",
    "import seaborn as sns\n",
    "from sklearn.model_selection import train_test_split\n",
    "from sklearn.preprocessing import StandardScaler\n",
    "from sklearn.model_selection import GridSearchCV\n",
    "from sklearn.model_selection import ShuffleSplit\n",
    "from imblearn.over_sampling import SMOTE\n",
    "from sklearn.linear_model import LogisticRegression\n",
    "from sklearn.tree import DecisionTreeClassifier\n",
    "from sklearn.ensemble import RandomForestClassifier\n",
    "from sklearn.neighbors import KNeighborsClassifier\n",
    "from sklearn.svm import SVC\n",
    "from sklearn.ensemble import GradientBoostingClassifier\n",
    "from sklearn.metrics import f1_score, accuracy_score, auc, roc_curve\n",
    "from sklearn.metrics import confusion_matrix\n"
   ]
  },
  {
   "cell_type": "code",
   "execution_count": 3,
   "metadata": {
    "colab": {
     "base_uri": "https://localhost:8080/",
     "height": 394
    },
    "id": "7mhYFk_FAgVw",
    "outputId": "cb4e47cb-6df6-47cd-feac-3a65a11eac6c"
   },
   "outputs": [
    {
     "data": {
      "text/html": [
       "<div>\n",
       "<style scoped>\n",
       "    .dataframe tbody tr th:only-of-type {\n",
       "        vertical-align: middle;\n",
       "    }\n",
       "\n",
       "    .dataframe tbody tr th {\n",
       "        vertical-align: top;\n",
       "    }\n",
       "\n",
       "    .dataframe thead th {\n",
       "        text-align: right;\n",
       "    }\n",
       "</style>\n",
       "<table border=\"1\" class=\"dataframe\">\n",
       "  <thead>\n",
       "    <tr style=\"text-align: right;\">\n",
       "      <th></th>\n",
       "      <th>Unnamed: 0</th>\n",
       "      <th>Animal ID</th>\n",
       "      <th>Intake Type</th>\n",
       "      <th>Intake Condition</th>\n",
       "      <th>Animal Type</th>\n",
       "      <th>Breed</th>\n",
       "      <th>Outcome Type</th>\n",
       "      <th>days_in_shelter</th>\n",
       "      <th>age_upon_intake_months</th>\n",
       "      <th>age_upon_intake_years</th>\n",
       "      <th>age_upon_outcome_months</th>\n",
       "      <th>age_upon_outcome_years</th>\n",
       "      <th>neutered_or_spayed_outcome</th>\n",
       "      <th>male_or_female_outcome</th>\n",
       "      <th>neutered_or_spayed_intake</th>\n",
       "      <th>male_or_female_intake</th>\n",
       "      <th>group_color</th>\n",
       "    </tr>\n",
       "  </thead>\n",
       "  <tbody>\n",
       "    <tr>\n",
       "      <th>0</th>\n",
       "      <td>0</td>\n",
       "      <td>A006100</td>\n",
       "      <td>Public Assist</td>\n",
       "      <td>Normal</td>\n",
       "      <td>Dog</td>\n",
       "      <td>Mixed</td>\n",
       "      <td>Return to Owner</td>\n",
       "      <td>2.0</td>\n",
       "      <td>72.0</td>\n",
       "      <td>6.0</td>\n",
       "      <td>72.0</td>\n",
       "      <td>6.0</td>\n",
       "      <td>1</td>\n",
       "      <td>1.0</td>\n",
       "      <td>1</td>\n",
       "      <td>1.0</td>\n",
       "      <td>Yellow</td>\n",
       "    </tr>\n",
       "    <tr>\n",
       "      <th>1</th>\n",
       "      <td>1</td>\n",
       "      <td>A047759</td>\n",
       "      <td>Owner Surrender</td>\n",
       "      <td>Normal</td>\n",
       "      <td>Dog</td>\n",
       "      <td>Dachshund</td>\n",
       "      <td>Transfer</td>\n",
       "      <td>5.0</td>\n",
       "      <td>120.0</td>\n",
       "      <td>10.0</td>\n",
       "      <td>120.0</td>\n",
       "      <td>10.0</td>\n",
       "      <td>1</td>\n",
       "      <td>1.0</td>\n",
       "      <td>1</td>\n",
       "      <td>1.0</td>\n",
       "      <td>Tricolor</td>\n",
       "    </tr>\n",
       "    <tr>\n",
       "      <th>2</th>\n",
       "      <td>2</td>\n",
       "      <td>A134067</td>\n",
       "      <td>Public Assist</td>\n",
       "      <td>Injured</td>\n",
       "      <td>Dog</td>\n",
       "      <td>Shetland Sheepdog</td>\n",
       "      <td>Return to Owner</td>\n",
       "      <td>1.0</td>\n",
       "      <td>192.0</td>\n",
       "      <td>16.0</td>\n",
       "      <td>192.0</td>\n",
       "      <td>16.0</td>\n",
       "      <td>1</td>\n",
       "      <td>1.0</td>\n",
       "      <td>1</td>\n",
       "      <td>1.0</td>\n",
       "      <td>Brown</td>\n",
       "    </tr>\n",
       "    <tr>\n",
       "      <th>3</th>\n",
       "      <td>3</td>\n",
       "      <td>A141142</td>\n",
       "      <td>Stray</td>\n",
       "      <td>Aged</td>\n",
       "      <td>Dog</td>\n",
       "      <td>Mixed</td>\n",
       "      <td>Return to Owner</td>\n",
       "      <td>1.0</td>\n",
       "      <td>180.0</td>\n",
       "      <td>15.0</td>\n",
       "      <td>180.0</td>\n",
       "      <td>15.0</td>\n",
       "      <td>1</td>\n",
       "      <td>0.0</td>\n",
       "      <td>1</td>\n",
       "      <td>0.0</td>\n",
       "      <td>Black</td>\n",
       "    </tr>\n",
       "    <tr>\n",
       "      <th>4</th>\n",
       "      <td>4</td>\n",
       "      <td>A163459</td>\n",
       "      <td>Stray</td>\n",
       "      <td>Normal</td>\n",
       "      <td>Dog</td>\n",
       "      <td>Mixed</td>\n",
       "      <td>Return to Owner</td>\n",
       "      <td>1.0</td>\n",
       "      <td>180.0</td>\n",
       "      <td>15.0</td>\n",
       "      <td>180.0</td>\n",
       "      <td>15.0</td>\n",
       "      <td>0</td>\n",
       "      <td>0.0</td>\n",
       "      <td>0</td>\n",
       "      <td>0.0</td>\n",
       "      <td>Black</td>\n",
       "    </tr>\n",
       "  </tbody>\n",
       "</table>\n",
       "</div>"
      ],
      "text/plain": [
       "   Unnamed: 0 Animal ID  ... male_or_female_intake group_color\n",
       "0           0   A006100  ...                   1.0      Yellow\n",
       "1           1   A047759  ...                   1.0    Tricolor\n",
       "2           2   A134067  ...                   1.0       Brown\n",
       "3           3   A141142  ...                   0.0       Black\n",
       "4           4   A163459  ...                   0.0       Black\n",
       "\n",
       "[5 rows x 17 columns]"
      ]
     },
     "execution_count": 3,
     "metadata": {},
     "output_type": "execute_result"
    }
   ],
   "source": [
    "data = pd.read_csv(\"df.csv\")\n",
    "data.head()"
   ]
  },
  {
   "cell_type": "code",
   "execution_count": null,
   "metadata": {
    "id": "zz0fO1VZ_Jko"
   },
   "outputs": [],
   "source": [
    "def classifier_y(df,column):\n",
    "    target = []\n",
    "    for days in df[column]:\n",
    "        if days<60:\n",
    "            target.append(1)\n",
    "        else :\n",
    "            target.append(0)\n",
    "    df['target'] = target\n",
    "    return df"
   ]
  },
  {
   "cell_type": "code",
   "execution_count": null,
   "metadata": {
    "colab": {
     "base_uri": "https://localhost:8080/",
     "height": 626
    },
    "id": "ZbcXFKF3_3Mw",
    "outputId": "88decdac-0e7e-47c9-eb33-d100629c73c3"
   },
   "outputs": [
    {
     "data": {
      "text/html": [
       "<div>\n",
       "<style scoped>\n",
       "    .dataframe tbody tr th:only-of-type {\n",
       "        vertical-align: middle;\n",
       "    }\n",
       "\n",
       "    .dataframe tbody tr th {\n",
       "        vertical-align: top;\n",
       "    }\n",
       "\n",
       "    .dataframe thead th {\n",
       "        text-align: right;\n",
       "    }\n",
       "</style>\n",
       "<table border=\"1\" class=\"dataframe\">\n",
       "  <thead>\n",
       "    <tr style=\"text-align: right;\">\n",
       "      <th></th>\n",
       "      <th>Unnamed: 0</th>\n",
       "      <th>Animal ID</th>\n",
       "      <th>Intake Type</th>\n",
       "      <th>Intake Condition</th>\n",
       "      <th>Animal Type</th>\n",
       "      <th>Breed</th>\n",
       "      <th>Outcome Type</th>\n",
       "      <th>days_in_shelter</th>\n",
       "      <th>age_upon_intake_months</th>\n",
       "      <th>age_upon_intake_years</th>\n",
       "      <th>age_upon_outcome_months</th>\n",
       "      <th>age_upon_outcome_years</th>\n",
       "      <th>neutered_or_spayed_outcome</th>\n",
       "      <th>male_or_female_outcome</th>\n",
       "      <th>neutered_or_spayed_intake</th>\n",
       "      <th>male_or_female_intake</th>\n",
       "      <th>group_color</th>\n",
       "      <th>target</th>\n",
       "    </tr>\n",
       "  </thead>\n",
       "  <tbody>\n",
       "    <tr>\n",
       "      <th>0</th>\n",
       "      <td>0</td>\n",
       "      <td>A006100</td>\n",
       "      <td>Public Assist</td>\n",
       "      <td>Normal</td>\n",
       "      <td>Dog</td>\n",
       "      <td>Mixed</td>\n",
       "      <td>Return to Owner</td>\n",
       "      <td>2.0</td>\n",
       "      <td>72.0</td>\n",
       "      <td>6.0</td>\n",
       "      <td>72.0</td>\n",
       "      <td>6.0</td>\n",
       "      <td>1</td>\n",
       "      <td>1.0</td>\n",
       "      <td>1</td>\n",
       "      <td>1.0</td>\n",
       "      <td>Yellow</td>\n",
       "      <td>1</td>\n",
       "    </tr>\n",
       "    <tr>\n",
       "      <th>1</th>\n",
       "      <td>1</td>\n",
       "      <td>A047759</td>\n",
       "      <td>Owner Surrender</td>\n",
       "      <td>Normal</td>\n",
       "      <td>Dog</td>\n",
       "      <td>Dachshund</td>\n",
       "      <td>Transfer</td>\n",
       "      <td>5.0</td>\n",
       "      <td>120.0</td>\n",
       "      <td>10.0</td>\n",
       "      <td>120.0</td>\n",
       "      <td>10.0</td>\n",
       "      <td>1</td>\n",
       "      <td>1.0</td>\n",
       "      <td>1</td>\n",
       "      <td>1.0</td>\n",
       "      <td>Tricolor</td>\n",
       "      <td>1</td>\n",
       "    </tr>\n",
       "    <tr>\n",
       "      <th>2</th>\n",
       "      <td>2</td>\n",
       "      <td>A134067</td>\n",
       "      <td>Public Assist</td>\n",
       "      <td>Injured</td>\n",
       "      <td>Dog</td>\n",
       "      <td>Shetland Sheepdog</td>\n",
       "      <td>Return to Owner</td>\n",
       "      <td>1.0</td>\n",
       "      <td>192.0</td>\n",
       "      <td>16.0</td>\n",
       "      <td>192.0</td>\n",
       "      <td>16.0</td>\n",
       "      <td>1</td>\n",
       "      <td>1.0</td>\n",
       "      <td>1</td>\n",
       "      <td>1.0</td>\n",
       "      <td>Brown</td>\n",
       "      <td>1</td>\n",
       "    </tr>\n",
       "    <tr>\n",
       "      <th>3</th>\n",
       "      <td>3</td>\n",
       "      <td>A141142</td>\n",
       "      <td>Stray</td>\n",
       "      <td>Aged</td>\n",
       "      <td>Dog</td>\n",
       "      <td>Mixed</td>\n",
       "      <td>Return to Owner</td>\n",
       "      <td>1.0</td>\n",
       "      <td>180.0</td>\n",
       "      <td>15.0</td>\n",
       "      <td>180.0</td>\n",
       "      <td>15.0</td>\n",
       "      <td>1</td>\n",
       "      <td>0.0</td>\n",
       "      <td>1</td>\n",
       "      <td>0.0</td>\n",
       "      <td>Black</td>\n",
       "      <td>1</td>\n",
       "    </tr>\n",
       "    <tr>\n",
       "      <th>4</th>\n",
       "      <td>4</td>\n",
       "      <td>A163459</td>\n",
       "      <td>Stray</td>\n",
       "      <td>Normal</td>\n",
       "      <td>Dog</td>\n",
       "      <td>Mixed</td>\n",
       "      <td>Return to Owner</td>\n",
       "      <td>1.0</td>\n",
       "      <td>180.0</td>\n",
       "      <td>15.0</td>\n",
       "      <td>180.0</td>\n",
       "      <td>15.0</td>\n",
       "      <td>0</td>\n",
       "      <td>0.0</td>\n",
       "      <td>0</td>\n",
       "      <td>0.0</td>\n",
       "      <td>Black</td>\n",
       "      <td>1</td>\n",
       "    </tr>\n",
       "    <tr>\n",
       "      <th>...</th>\n",
       "      <td>...</td>\n",
       "      <td>...</td>\n",
       "      <td>...</td>\n",
       "      <td>...</td>\n",
       "      <td>...</td>\n",
       "      <td>...</td>\n",
       "      <td>...</td>\n",
       "      <td>...</td>\n",
       "      <td>...</td>\n",
       "      <td>...</td>\n",
       "      <td>...</td>\n",
       "      <td>...</td>\n",
       "      <td>...</td>\n",
       "      <td>...</td>\n",
       "      <td>...</td>\n",
       "      <td>...</td>\n",
       "      <td>...</td>\n",
       "      <td>...</td>\n",
       "    </tr>\n",
       "    <tr>\n",
       "      <th>102720</th>\n",
       "      <td>110852</td>\n",
       "      <td>A829991</td>\n",
       "      <td>Stray</td>\n",
       "      <td>Normal</td>\n",
       "      <td>Dog</td>\n",
       "      <td>Mixed</td>\n",
       "      <td>Return to Owner</td>\n",
       "      <td>2.0</td>\n",
       "      <td>24.0</td>\n",
       "      <td>2.0</td>\n",
       "      <td>24.0</td>\n",
       "      <td>2.0</td>\n",
       "      <td>0</td>\n",
       "      <td>1.0</td>\n",
       "      <td>0</td>\n",
       "      <td>1.0</td>\n",
       "      <td>Black</td>\n",
       "      <td>1</td>\n",
       "    </tr>\n",
       "    <tr>\n",
       "      <th>102721</th>\n",
       "      <td>110853</td>\n",
       "      <td>A829992</td>\n",
       "      <td>Stray</td>\n",
       "      <td>Normal</td>\n",
       "      <td>Dog</td>\n",
       "      <td>Mixed</td>\n",
       "      <td>Return to Owner</td>\n",
       "      <td>2.0</td>\n",
       "      <td>24.0</td>\n",
       "      <td>2.0</td>\n",
       "      <td>24.0</td>\n",
       "      <td>2.0</td>\n",
       "      <td>1</td>\n",
       "      <td>0.0</td>\n",
       "      <td>1</td>\n",
       "      <td>0.0</td>\n",
       "      <td>White</td>\n",
       "      <td>1</td>\n",
       "    </tr>\n",
       "    <tr>\n",
       "      <th>102722</th>\n",
       "      <td>110861</td>\n",
       "      <td>A830034</td>\n",
       "      <td>Stray</td>\n",
       "      <td>Normal</td>\n",
       "      <td>Dog</td>\n",
       "      <td>Mixed</td>\n",
       "      <td>Return to Owner</td>\n",
       "      <td>1.0</td>\n",
       "      <td>24.0</td>\n",
       "      <td>2.0</td>\n",
       "      <td>24.0</td>\n",
       "      <td>2.0</td>\n",
       "      <td>1</td>\n",
       "      <td>1.0</td>\n",
       "      <td>1</td>\n",
       "      <td>1.0</td>\n",
       "      <td>Brown</td>\n",
       "      <td>1</td>\n",
       "    </tr>\n",
       "    <tr>\n",
       "      <th>102723</th>\n",
       "      <td>110874</td>\n",
       "      <td>A830080</td>\n",
       "      <td>Owner Surrender</td>\n",
       "      <td>Normal</td>\n",
       "      <td>Dog</td>\n",
       "      <td>Alaskan Husky</td>\n",
       "      <td>Rto-Adopt</td>\n",
       "      <td>2.0</td>\n",
       "      <td>12.0</td>\n",
       "      <td>1.0</td>\n",
       "      <td>12.0</td>\n",
       "      <td>1.0</td>\n",
       "      <td>1</td>\n",
       "      <td>1.0</td>\n",
       "      <td>0</td>\n",
       "      <td>1.0</td>\n",
       "      <td>Black</td>\n",
       "      <td>1</td>\n",
       "    </tr>\n",
       "    <tr>\n",
       "      <th>102724</th>\n",
       "      <td>110888</td>\n",
       "      <td>A830112</td>\n",
       "      <td>Owner Surrender</td>\n",
       "      <td>Injured</td>\n",
       "      <td>Dog</td>\n",
       "      <td>Pit Bull</td>\n",
       "      <td>Euthanasia</td>\n",
       "      <td>1.0</td>\n",
       "      <td>1.0</td>\n",
       "      <td>1.0</td>\n",
       "      <td>1.0</td>\n",
       "      <td>1.0</td>\n",
       "      <td>0</td>\n",
       "      <td>NaN</td>\n",
       "      <td>0</td>\n",
       "      <td>NaN</td>\n",
       "      <td>Tan</td>\n",
       "      <td>1</td>\n",
       "    </tr>\n",
       "  </tbody>\n",
       "</table>\n",
       "<p>102725 rows × 18 columns</p>\n",
       "</div>"
      ],
      "text/plain": [
       "        Unnamed: 0 Animal ID  ... group_color target\n",
       "0                0   A006100  ...      Yellow      1\n",
       "1                1   A047759  ...    Tricolor      1\n",
       "2                2   A134067  ...       Brown      1\n",
       "3                3   A141142  ...       Black      1\n",
       "4                4   A163459  ...       Black      1\n",
       "...            ...       ...  ...         ...    ...\n",
       "102720      110852   A829991  ...       Black      1\n",
       "102721      110853   A829992  ...       White      1\n",
       "102722      110861   A830034  ...       Brown      1\n",
       "102723      110874   A830080  ...       Black      1\n",
       "102724      110888   A830112  ...         Tan      1\n",
       "\n",
       "[102725 rows x 18 columns]"
      ]
     },
     "execution_count": 4,
     "metadata": {},
     "output_type": "execute_result"
    }
   ],
   "source": [
    "classifier_y(data,\"days_in_shelter\")"
   ]
  },
  {
   "cell_type": "code",
   "execution_count": null,
   "metadata": {
    "id": "pyHb23Yk_qIg"
   },
   "outputs": [],
   "source": [
    "# Creating X and y\n",
    "X = data[['Intake Type',\"Animal Type\",'Intake Condition','Breed','age_upon_intake_months','neutered_or_spayed_intake','male_or_female_intake','group_color']]\n",
    "y = data['target']"
   ]
  },
  {
   "cell_type": "code",
   "execution_count": null,
   "metadata": {
    "id": "Polx8WoVACSR"
   },
   "outputs": [],
   "source": [
    "# Importing the splitter, classification model, and the metric\n",
    "from sklearn.model_selection import train_test_split\n",
    "\n",
    "#Splitting the data with stratification\n",
    "X_train, X_test, y_train, y_test = train_test_split(X, y, test_size=0.3, random_state = 10)"
   ]
  },
  {
   "cell_type": "code",
   "execution_count": null,
   "metadata": {
    "id": "nJW7-rrQAE8Y"
   },
   "outputs": [],
   "source": [
    "#from sklearn import set_config ;set_config(display='diagram')\n",
    "from sklearn.pipeline import Pipeline\n",
    "from sklearn.impute import SimpleImputer\n",
    "from sklearn.preprocessing import MinMaxScaler , FunctionTransformer,OneHotEncoder\n",
    "from sklearn.compose import make_column_selector,ColumnTransformer\n",
    "\n",
    "# Impute then Scale for numerical variables\n",
    "num_transformer = Pipeline([\n",
    "    ('imputer', SimpleImputer()),\n",
    "    ('scaler', MinMaxScaler())])\n",
    "\n",
    "# Encode categorical varibles \n",
    "cat_transformer = OneHotEncoder(handle_unknown='ignore',sparse=False)\n",
    "\n",
    "# Apply transformations to desired features\n",
    "preprocessor = ColumnTransformer([\n",
    "    ('num_transformer', num_transformer, make_column_selector(dtype_include=['int64',\"float64\"])),\n",
    "    ('cat_transformer', cat_transformer, make_column_selector(dtype_include=[\"object\"]))])"
   ]
  },
  {
   "cell_type": "code",
   "execution_count": null,
   "metadata": {
    "colab": {
     "base_uri": "https://localhost:8080/"
    },
    "id": "hgu6k6J6AG73",
    "outputId": "4534bcca-4c0b-44e5-e88c-fd0be7258e23"
   },
   "outputs": [
    {
     "data": {
      "text/plain": [
       "ColumnTransformer(n_jobs=None, remainder='drop', sparse_threshold=0.3,\n",
       "                  transformer_weights=None,\n",
       "                  transformers=[('num_transformer',\n",
       "                                 Pipeline(memory=None,\n",
       "                                          steps=[('imputer',\n",
       "                                                  SimpleImputer(add_indicator=False,\n",
       "                                                                copy=True,\n",
       "                                                                fill_value=None,\n",
       "                                                                missing_values=nan,\n",
       "                                                                strategy='mean',\n",
       "                                                                verbose=0)),\n",
       "                                                 ('scaler',\n",
       "                                                  MinMaxScaler(copy=True,\n",
       "                                                               feature_range=(0,\n",
       "                                                                              1)))],\n",
       "                                          verbose=False),\n",
       "                                 <sklearn.compose._column_transformer.make_column_selector object at 0x7f7e189fefd0>),\n",
       "                                ('cat_transformer',\n",
       "                                 OneHotEncoder(categories='auto', drop=None,\n",
       "                                               dtype=<class 'numpy.float64'>,\n",
       "                                               handle_unknown='ignore',\n",
       "                                               sparse=False),\n",
       "                                 <sklearn.compose._column_transformer.make_column_selector object at 0x7f7e1ad68950>)],\n",
       "                  verbose=False)"
      ]
     },
     "execution_count": 8,
     "metadata": {},
     "output_type": "execute_result"
    }
   ],
   "source": [
    "preprocessor.fit(X_train, y_train)"
   ]
  },
  {
   "cell_type": "code",
   "execution_count": null,
   "metadata": {
    "id": "50MAHtYLAInk"
   },
   "outputs": [],
   "source": [
    "X_train_new = preprocessor.transform(X_train)\n",
    "X_test_new = preprocessor.transform(X_test)"
   ]
  },
  {
   "cell_type": "code",
   "execution_count": null,
   "metadata": {
    "colab": {
     "base_uri": "https://localhost:8080/"
    },
    "id": "7xhnBeYiUu2X",
    "outputId": "d03b72ec-57d3-4b73-f23b-2cdae9f6528b"
   },
   "outputs": [
    {
     "name": "stderr",
     "output_type": "stream",
     "text": [
      "/usr/local/lib/python3.7/dist-packages/sklearn/externals/six.py:31: FutureWarning: The module is deprecated in version 0.21 and will be removed in version 0.23 since we've dropped support for Python 2.7. Please rely on the official version of six (https://pypi.org/project/six/).\n",
      "  \"(https://pypi.org/project/six/).\", FutureWarning)\n",
      "/usr/local/lib/python3.7/dist-packages/sklearn/utils/deprecation.py:144: FutureWarning: The sklearn.neighbors.base module is  deprecated in version 0.22 and will be removed in version 0.24. The corresponding classes / functions should instead be imported from sklearn.neighbors. Anything that cannot be imported from sklearn.neighbors is now part of the private API.\n",
      "  warnings.warn(message, FutureWarning)\n",
      "/usr/local/lib/python3.7/dist-packages/sklearn/utils/deprecation.py:87: FutureWarning: Function safe_indexing is deprecated; safe_indexing is deprecated in version 0.22 and will be removed in version 0.24.\n",
      "  warnings.warn(msg, category=FutureWarning)\n"
     ]
    }
   ],
   "source": [
    "#Importing SMOTE\n",
    "from imblearn.over_sampling import SMOTE\n",
    "#Create an oversampled training data\n",
    "smote = SMOTE(random_state = 101)\n",
    "X_oversample, y_oversample = smote.fit_resample(X_train_new, y_train)"
   ]
  },
  {
   "cell_type": "code",
   "execution_count": null,
   "metadata": {
    "id": "FX6Q7nF7AU97"
   },
   "outputs": [],
   "source": [
    "from sklearn.preprocessing import StandardScaler\n",
    "from sklearn.model_selection import GridSearchCV\n",
    "from sklearn.model_selection import ShuffleSplit\n",
    "\n",
    "from sklearn.linear_model import LogisticRegression\n",
    "from sklearn.tree import DecisionTreeClassifier\n",
    "from sklearn.ensemble import RandomForestClassifier\n",
    "from sklearn.neighbors import KNeighborsClassifier\n",
    "from sklearn.svm import SVC\n",
    "from sklearn.ensemble import GradientBoostingClassifier"
   ]
  },
  {
   "cell_type": "code",
   "execution_count": null,
   "metadata": {
    "colab": {
     "base_uri": "https://localhost:8080/"
    },
    "id": "0z4yJjVkU5xI",
    "outputId": "c9dc2a63-ac2e-423e-b44d-fd3e1c33ceb2"
   },
   "outputs": [
    {
     "name": "stdout",
     "output_type": "stream",
     "text": [
      "---------------------------LR-----------------------------\n",
      "--------------------------- fit: LR-----------------------------\n",
      " \n",
      "--------------------------- scores-----------------------------\n",
      "[{'model': 'LR', 'best_parameters': {'C': 0.1}, 'score': 0.47795196544157453}]\n",
      "---------------------------DT-----------------------------\n",
      "--------------------------- fit: DT-----------------------------\n",
      " \n",
      "--------------------------- scores-----------------------------\n",
      "[{'model': 'LR', 'best_parameters': {'C': 0.1}, 'score': 0.47795196544157453}, {'model': 'DT', 'best_parameters': {'criterion': 'gini', 'max_depth': 15}, 'score': 0.5045880926110048}]\n"
     ]
    }
   ],
   "source": [
    "models = {\n",
    "    'LR': {\n",
    "        'model': LogisticRegression(solver='lbfgs', multi_class='auto',max_iter = 1000),\n",
    "        'parameters': {\n",
    "            'C': [0.1,0.5,1]\n",
    "           }\n",
    "    },\n",
    "\n",
    "    'DT': {\n",
    "        'model': DecisionTreeClassifier(splitter='best'),\n",
    "        'parameters': {\n",
    "            'criterion': ['gini', 'entropy'],\n",
    "            'max_depth': [10,15]\n",
    "        }\n",
    "    }\n",
    "}\n",
    "scores = [] \n",
    "cv_shuffle = ShuffleSplit(n_splits=5, test_size=0.20, random_state=0)\n",
    "\n",
    "for model_name, model_params in models.items():\n",
    "    print(f\"---------------------------{model_name}-----------------------------\")\n",
    "    gs = GridSearchCV(model_params['model'], model_params['parameters'],scoring= 'f1_macro',cv = cv_shuffle, return_train_score=False)\n",
    "    print(f\"--------------------------- fit: {model_name}-----------------------------\")\n",
    "    gs.fit(X_train_new, y_train)\n",
    "    scores.append({\n",
    "        'model': model_name,\n",
    "        'best_parameters': gs.best_params_,\n",
    "        'score': gs.best_score_\n",
    "    })\n",
    "    print(\" \")\n",
    "    print(f\"--------------------------- scores-----------------------------\")\n",
    "    print(scores)\n",
    "\n",
    "scores_df = pd.DataFrame(scores, columns=['model', 'best_parameters', 'score'])"
   ]
  },
  {
   "cell_type": "code",
   "execution_count": null,
   "metadata": {
    "colab": {
     "base_uri": "https://localhost:8080/"
    },
    "id": "-mvtdxQVAYLd",
    "outputId": "21d31e3f-402c-4bb6-fbdc-a47117ffb184"
   },
   "outputs": [
    {
     "name": "stdout",
     "output_type": "stream",
     "text": [
      "---------------------------LR-----------------------------\n",
      "--------------------------- fit: LR-----------------------------\n",
      " \n",
      "--------------------------- scores-----------------------------\n",
      "[{'model': 'LR', 'best_parameters': {'C': 1}, 'score': 0.47795196544157453}]\n",
      "---------------------------DT-----------------------------\n",
      "--------------------------- fit: DT-----------------------------\n",
      " \n",
      "--------------------------- scores-----------------------------\n",
      "[{'model': 'LR', 'best_parameters': {'C': 1}, 'score': 0.47795196544157453}, {'model': 'DT', 'best_parameters': {'criterion': 'gini', 'max_depth': 10}, 'score': 0.4971322768042901}]\n",
      "---------------------------RF-----------------------------\n",
      "--------------------------- fit: RF-----------------------------\n",
      " \n",
      "--------------------------- scores-----------------------------\n",
      "[{'model': 'LR', 'best_parameters': {'C': 1}, 'score': 0.47795196544157453}, {'model': 'DT', 'best_parameters': {'criterion': 'gini', 'max_depth': 10}, 'score': 0.4971322768042901}, {'model': 'RF', 'best_parameters': {'n_estimators': 3}, 'score': 0.5103605395275198}]\n",
      "---------------------------SVC-----------------------------\n",
      "--------------------------- fit: SVC-----------------------------\n"
     ]
    }
   ],
   "source": [
    "models = {\n",
    "    'LR': {\n",
    "        'model': LogisticRegression(solver='lbfgs', multi_class='auto',max_iter = 1000),\n",
    "        'parameters': {\n",
    "            'C': [1,5]\n",
    "           }\n",
    "    },\n",
    "\n",
    "    'DT': {\n",
    "        'model': DecisionTreeClassifier(splitter='best'),\n",
    "        'parameters': {\n",
    "            'criterion': ['gini', 'entropy'],\n",
    "            'max_depth': [5,10]\n",
    "        }\n",
    "    },\n",
    "\n",
    "    'RF': {\n",
    "        'model': RandomForestClassifier(criterion='gini'),\n",
    "        'parameters': {\n",
    "            'n_estimators': [3,10,50]\n",
    "        }\n",
    "    },\n",
    "        'SVC': {\n",
    "        'model': SVC(gamma='auto'),\n",
    "        'parameters': {\n",
    "            'C': [0.1,1,20],\n",
    "            'kernel': ['rbf','linear']\n",
    "        }\n",
    "    },\n",
    "\n",
    "    'GB': {\n",
    "        'model': GradientBoostingClassifier(criterion='friedman_mse'),\n",
    "        'parameters': {\n",
    "            'loss': ['deviance', 'exponential']\n",
    "           }\n",
    "    },\n",
    "\n",
    "    'KNN': {\n",
    "        'model': KNeighborsClassifier(algorithm='auto'),\n",
    "        'parameters': {\n",
    "            'n_neighbors': [5,10,25],\n",
    "            'weights' : ['uniform', 'distance'] \n",
    "           }\n",
    "    }\n",
    "    \n",
    "}\n",
    "\n",
    "scores = [] \n",
    "cv_shuffle = ShuffleSplit(n_splits=5, test_size=0.20, random_state=0)\n",
    "\n",
    "for model_name, model_params in models.items():\n",
    "    print(f\"---------------------------{model_name}-----------------------------\")\n",
    "    gs = GridSearchCV(model_params['model'], model_params['parameters'],scoring= 'f1_macro',cv = cv_shuffle, return_train_score=False)\n",
    "    print(f\"--------------------------- fit: {model_name}-----------------------------\")\n",
    "    gs.fit(X_train_new, y_train)\n",
    "    scores.append({\n",
    "        'model': model_name,\n",
    "        'best_parameters': gs.best_params_,\n",
    "        'score': gs.best_score_\n",
    "    })\n",
    "    print(\" \")\n",
    "    print(f\"--------------------------- scores-----------------------------\")\n",
    "    print(scores)\n",
    "\n",
    "scores_df = pd.DataFrame(scores, columns=['model', 'best_parameters', 'score'])"
   ]
  },
  {
   "cell_type": "code",
   "execution_count": null,
   "metadata": {
    "id": "8qLfuVdSAcAR"
   },
   "outputs": [],
   "source": [
    "scores_df"
   ]
  },
  {
   "cell_type": "code",
   "execution_count": null,
   "metadata": {
    "colab": {
     "base_uri": "https://localhost:8080/"
    },
    "id": "n9qW6nMsEPv9",
    "outputId": "64bc7d56-e3e9-4a9f-d8bd-5a20c37c5324"
   },
   "outputs": [
    {
     "name": "stdout",
     "output_type": "stream",
     "text": [
      "0.9572837542927713\n",
      "0.9180673632292816\n"
     ]
    },
    {
     "data": {
      "text/plain": [
       "array([[    0,  2525],\n",
       "       [    0, 28293]])"
      ]
     },
     "execution_count": 41,
     "metadata": {},
     "output_type": "execute_result"
    }
   ],
   "source": [
    "from sklearn.metrics import f1_score, accuracy_score, auc, roc_curve\n",
    "from sklearn.metrics import confusion_matrix\n",
    "\n",
    "classifier = LogisticRegression(C=1,max_iter = 1000)\n",
    "classifier.fit(X_train_new, y_train)"
   ]
  },
  {
   "cell_type": "code",
   "execution_count": null,
   "metadata": {
    "colab": {
     "base_uri": "https://localhost:8080/"
    },
    "id": "msVNg08LGbyO",
    "outputId": "39178892-f598-4079-a9e5-45f0b0381f30"
   },
   "outputs": [
    {
     "name": "stdout",
     "output_type": "stream",
     "text": [
      "0.4786418771463857\n",
      "0.9180673632292816\n"
     ]
    },
    {
     "data": {
      "text/plain": [
       "array([[    0,  2525],\n",
       "       [    0, 28293]])"
      ]
     },
     "execution_count": 48,
     "metadata": {},
     "output_type": "execute_result"
    }
   ],
   "source": [
    "\n",
    "\n",
    "y_pred = classifier.predict(X_test_new)\n",
    "print(f1_score(y_test, y_pred, average = 'macro'))\n",
    "print(accuracy_score(y_test, y_pred))\n",
    "#print(auc(y_test, classifier.predict_proba(X_test_new)))\n",
    "\n",
    "confusion_matrix(y_test, y_pred)"
   ]
  },
  {
   "cell_type": "code",
   "execution_count": null,
   "metadata": {
    "colab": {
     "base_uri": "https://localhost:8080/"
    },
    "id": "WUIQNVTnHu_g",
    "outputId": "bb15484b-bc7b-4caf-ebc5-d0eca1d96d6a"
   },
   "outputs": [
    {
     "name": "stdout",
     "output_type": "stream",
     "text": [
      "              precision    recall  f1-score   support\n",
      "\n",
      "           0       0.00      0.00      0.00      2525\n",
      "           1       0.92      1.00      0.96     28293\n",
      "\n",
      "    accuracy                           0.92     30818\n",
      "   macro avg       0.46      0.50      0.48     30818\n",
      "weighted avg       0.84      0.92      0.88     30818\n",
      "\n"
     ]
    },
    {
     "name": "stderr",
     "output_type": "stream",
     "text": [
      "/usr/local/lib/python3.7/dist-packages/sklearn/metrics/_classification.py:1272: UndefinedMetricWarning: Precision and F-score are ill-defined and being set to 0.0 in labels with no predicted samples. Use `zero_division` parameter to control this behavior.\n",
      "  _warn_prf(average, modifier, msg_start, len(result))\n"
     ]
    }
   ],
   "source": [
    "from sklearn.metrics import classification_report,plot_confusion_matrix\n",
    "\n",
    "print(classification_report(y_test, y_pred))"
   ]
  },
  {
   "cell_type": "code",
   "execution_count": null,
   "metadata": {
    "colab": {
     "base_uri": "https://localhost:8080/"
    },
    "id": "HvlOulbrZBso",
    "outputId": "bc2eba6e-77e3-40c5-b954-13ddcaa548f9"
   },
   "outputs": [
    {
     "name": "stdout",
     "output_type": "stream",
     "text": [
      "Fitting 5 folds for each of 100 candidates, totalling 500 fits\n"
     ]
    },
    {
     "name": "stderr",
     "output_type": "stream",
     "text": [
      "[Parallel(n_jobs=-1)]: Using backend LokyBackend with 2 concurrent workers.\n",
      "[Parallel(n_jobs=-1)]: Done  46 tasks      | elapsed:   10.2s\n",
      "[Parallel(n_jobs=-1)]: Done 196 tasks      | elapsed:  7.4min\n",
      "[Parallel(n_jobs=-1)]: Done 446 tasks      | elapsed: 31.5min\n",
      "[Parallel(n_jobs=-1)]: Done 500 out of 500 | elapsed: 37.8min finished\n"
     ]
    }
   ],
   "source": [
    "# Create first pipeline for base without reducing features.\n",
    "\n",
    "pipe = Pipeline([('classifier' , RandomForestClassifier())])\n",
    "# pipe = Pipeline([('classifier', RandomForestClassifier())])\n",
    "\n",
    "# Create param grid.\n",
    "\n",
    "param_grid = [\n",
    "    {'classifier' : [LogisticRegression()],\n",
    "     'classifier__penalty' : ['l1', 'l2'],\n",
    "    'classifier__C' : np.logspace(-4, 4, 20),\n",
    "    'classifier__solver' : ['liblinear']},\n",
    "    {'classifier' : [RandomForestClassifier()],\n",
    "    'classifier__n_estimators' : list(range(10,101,10)),\n",
    "    'classifier__max_features' : list(range(6,32,5))}\n",
    "]\n",
    "\n",
    "# Create grid search object\n",
    "\n",
    "clf = GridSearchCV(pipe, param_grid = param_grid, cv = 5, verbose=True, n_jobs=-1)\n",
    "\n",
    "# Fit on data\n",
    "\n",
    "best_clf = clf.fit(X_train_new, y_train)"
   ]
  },
  {
   "cell_type": "code",
   "execution_count": null,
   "metadata": {
    "colab": {
     "base_uri": "https://localhost:8080/"
    },
    "id": "SC0Qhr_8ZiGe",
    "outputId": "66ecec59-ad68-48a7-cd40-cb5282aaa162"
   },
   "outputs": [
    {
     "data": {
      "text/plain": [
       "{'classifier': LogisticRegression(C=0.0001, class_weight=None, dual=False, fit_intercept=True,\n",
       "                    intercept_scaling=1, l1_ratio=None, max_iter=100,\n",
       "                    multi_class='auto', n_jobs=None, penalty='l1',\n",
       "                    random_state=None, solver='liblinear', tol=0.0001, verbose=0,\n",
       "                    warm_start=False),\n",
       " 'classifier__C': 0.0001,\n",
       " 'classifier__penalty': 'l1',\n",
       " 'classifier__solver': 'liblinear'}"
      ]
     },
     "execution_count": 14,
     "metadata": {},
     "output_type": "execute_result"
    }
   ],
   "source": [
    " clf.best_params_"
   ]
  },
  {
   "cell_type": "code",
   "execution_count": null,
   "metadata": {
    "colab": {
     "base_uri": "https://localhost:8080/"
    },
    "id": "eQ6k87plZpTv",
    "outputId": "56dea0c3-18c3-4c56-af30-218b1ca79164"
   },
   "outputs": [
    {
     "data": {
      "text/plain": [
       "0.916252938885673"
      ]
     },
     "execution_count": 15,
     "metadata": {},
     "output_type": "execute_result"
    }
   ],
   "source": [
    "clf.best_score_"
   ]
  },
  {
   "cell_type": "code",
   "execution_count": null,
   "metadata": {
    "colab": {
     "base_uri": "https://localhost:8080/"
    },
    "id": "oMb7QnVqiV8y",
    "outputId": "a8cc83c9-f450-4a38-94d3-ca45373f79ca"
   },
   "outputs": [
    {
     "name": "stdout",
     "output_type": "stream",
     "text": [
      "0.4786418771463857\n"
     ]
    }
   ],
   "source": [
    "from sklearn.metrics import f1_score\n",
    "y_pred = best_clf.predict(X_test_new)\n",
    "print(f1_score(y_test, y_pred, average = 'macro'))"
   ]
  },
  {
   "cell_type": "code",
   "execution_count": null,
   "metadata": {
    "colab": {
     "base_uri": "https://localhost:8080/"
    },
    "id": "bjqR3CwDjA-3",
    "outputId": "f4286c79-6c8f-46c7-8238-c4e4ddd01c2b"
   },
   "outputs": [
    {
     "data": {
      "text/plain": [
       "array([1, 1, 1, ..., 1, 1, 1])"
      ]
     },
     "execution_count": 19,
     "metadata": {},
     "output_type": "execute_result"
    }
   ],
   "source": [
    "y_pred = best_clf.predict(X_test_new)\n",
    "y_pred"
   ]
  },
  {
   "cell_type": "code",
   "execution_count": null,
   "metadata": {
    "colab": {
     "base_uri": "https://localhost:8080/"
    },
    "id": "TPfXxgYXj5um",
    "outputId": "3857aa46-4898-422f-bb5f-0eb5d03a9f8c"
   },
   "outputs": [
    {
     "name": "stderr",
     "output_type": "stream",
     "text": [
      "/usr/local/lib/python3.7/dist-packages/sklearn/utils/deprecation.py:87: FutureWarning: Function safe_indexing is deprecated; safe_indexing is deprecated in version 0.22 and will be removed in version 0.24.\n",
      "  warnings.warn(msg, category=FutureWarning)\n"
     ]
    }
   ],
   "source": [
    "#Importing SMOTE\n",
    "from imblearn.over_sampling import SMOTE\n",
    "#Create an oversampled training data\n",
    "smote = SMOTE(random_state = 101)\n",
    "X_oversample, y_oversample = smote.fit_resample(X_train_new, y_train)"
   ]
  },
  {
   "cell_type": "code",
   "execution_count": null,
   "metadata": {
    "id": "8HODr1AKjveb"
   },
   "outputs": [],
   "source": [
    "from sklearn.metrics import f1_score\n",
    "from sklearn.metrics import classification_report\n",
    "from sklearn.linear_model import LogisticRegression\n",
    "from sklearn.tree import DecisionTreeClassifier\n",
    "from sklearn.ensemble import RandomForestClassifier\n",
    "from sklearn.neighbors import KNeighborsClassifier\n",
    "from sklearn.svm import SVC\n",
    "from sklearn.ensemble import GradientBoostingClassifier\n",
    "from imblearn.over_sampling import SMOTE\n",
    "\n",
    "LR = LogisticRegression(max_iter = 1000)\n",
    "DT = DecisionTreeClassifier()\n",
    "RF = RandomForestClassifier()\n",
    "KNN = KNeighborsClassifier()\n",
    "SVC = SVC()\n",
    "GB= GradientBoostingClassifier()\n",
    "models = [LR,DT,RF,KNN,SVC,GB]\n",
    "\n",
    "for model_SMOTE in models :\n",
    "    print(f\"---------------------------{model_SMOTE}-----------------------------\")    \n",
    "    print(f'########################### SMOTE ############################')\n",
    "    model_SMOTE.fit(X_oversample, y_oversample)\n",
    "    print(f\"---------------------------fim do model-----------------------------\")\n",
    "    print(f\"The f1:{f1_score(y_test, model_SMOTE.predict(X_test_new), average='macro')}\")\n",
    "    print(classification_report(y_test, model_SMOTE.predict(X_test_new)))"
   ]
  },
  {
   "cell_type": "markdown",
   "metadata": {
    "id": "bumfzgTOl6AU"
   },
   "source": [
    "data10k"
   ]
  },
  {
   "cell_type": "code",
   "execution_count": 4,
   "metadata": {
    "id": "AQ_JTQ4Elt6j"
   },
   "outputs": [],
   "source": [
    "data10k = data[:10000].copy()"
   ]
  },
  {
   "cell_type": "code",
   "execution_count": 6,
   "metadata": {
    "id": "mqdd-4Kyt71v"
   },
   "outputs": [],
   "source": [
    "def classifier_y(df,column):\n",
    "    target = []\n",
    "    for days in df[column]:\n",
    "        if days<60:\n",
    "            target.append(1)\n",
    "        else :\n",
    "            target.append(0)\n",
    "    df['target'] = target\n",
    "    return df\n"
   ]
  },
  {
   "cell_type": "code",
   "execution_count": 7,
   "metadata": {
    "colab": {
     "base_uri": "https://localhost:8080/",
     "height": 643
    },
    "id": "dLCJvRbTl47P",
    "outputId": "57077447-6fda-41c3-8067-4563f85f99b5"
   },
   "outputs": [
    {
     "data": {
      "text/html": [
       "<div>\n",
       "<style scoped>\n",
       "    .dataframe tbody tr th:only-of-type {\n",
       "        vertical-align: middle;\n",
       "    }\n",
       "\n",
       "    .dataframe tbody tr th {\n",
       "        vertical-align: top;\n",
       "    }\n",
       "\n",
       "    .dataframe thead th {\n",
       "        text-align: right;\n",
       "    }\n",
       "</style>\n",
       "<table border=\"1\" class=\"dataframe\">\n",
       "  <thead>\n",
       "    <tr style=\"text-align: right;\">\n",
       "      <th></th>\n",
       "      <th>Unnamed: 0</th>\n",
       "      <th>Animal ID</th>\n",
       "      <th>Intake Type</th>\n",
       "      <th>Intake Condition</th>\n",
       "      <th>Animal Type</th>\n",
       "      <th>Breed</th>\n",
       "      <th>Outcome Type</th>\n",
       "      <th>days_in_shelter</th>\n",
       "      <th>age_upon_intake_months</th>\n",
       "      <th>age_upon_intake_years</th>\n",
       "      <th>age_upon_outcome_months</th>\n",
       "      <th>age_upon_outcome_years</th>\n",
       "      <th>neutered_or_spayed_outcome</th>\n",
       "      <th>male_or_female_outcome</th>\n",
       "      <th>neutered_or_spayed_intake</th>\n",
       "      <th>male_or_female_intake</th>\n",
       "      <th>group_color</th>\n",
       "      <th>target</th>\n",
       "    </tr>\n",
       "  </thead>\n",
       "  <tbody>\n",
       "    <tr>\n",
       "      <th>0</th>\n",
       "      <td>0</td>\n",
       "      <td>A006100</td>\n",
       "      <td>Public Assist</td>\n",
       "      <td>Normal</td>\n",
       "      <td>Dog</td>\n",
       "      <td>Mixed</td>\n",
       "      <td>Return to Owner</td>\n",
       "      <td>2.0</td>\n",
       "      <td>72.0</td>\n",
       "      <td>6.0</td>\n",
       "      <td>72.0</td>\n",
       "      <td>6.0</td>\n",
       "      <td>1</td>\n",
       "      <td>1.0</td>\n",
       "      <td>1</td>\n",
       "      <td>1.0</td>\n",
       "      <td>Yellow</td>\n",
       "      <td>1</td>\n",
       "    </tr>\n",
       "    <tr>\n",
       "      <th>1</th>\n",
       "      <td>1</td>\n",
       "      <td>A047759</td>\n",
       "      <td>Owner Surrender</td>\n",
       "      <td>Normal</td>\n",
       "      <td>Dog</td>\n",
       "      <td>Dachshund</td>\n",
       "      <td>Transfer</td>\n",
       "      <td>5.0</td>\n",
       "      <td>120.0</td>\n",
       "      <td>10.0</td>\n",
       "      <td>120.0</td>\n",
       "      <td>10.0</td>\n",
       "      <td>1</td>\n",
       "      <td>1.0</td>\n",
       "      <td>1</td>\n",
       "      <td>1.0</td>\n",
       "      <td>Tricolor</td>\n",
       "      <td>1</td>\n",
       "    </tr>\n",
       "    <tr>\n",
       "      <th>2</th>\n",
       "      <td>2</td>\n",
       "      <td>A134067</td>\n",
       "      <td>Public Assist</td>\n",
       "      <td>Injured</td>\n",
       "      <td>Dog</td>\n",
       "      <td>Shetland Sheepdog</td>\n",
       "      <td>Return to Owner</td>\n",
       "      <td>1.0</td>\n",
       "      <td>192.0</td>\n",
       "      <td>16.0</td>\n",
       "      <td>192.0</td>\n",
       "      <td>16.0</td>\n",
       "      <td>1</td>\n",
       "      <td>1.0</td>\n",
       "      <td>1</td>\n",
       "      <td>1.0</td>\n",
       "      <td>Brown</td>\n",
       "      <td>1</td>\n",
       "    </tr>\n",
       "    <tr>\n",
       "      <th>3</th>\n",
       "      <td>3</td>\n",
       "      <td>A141142</td>\n",
       "      <td>Stray</td>\n",
       "      <td>Aged</td>\n",
       "      <td>Dog</td>\n",
       "      <td>Mixed</td>\n",
       "      <td>Return to Owner</td>\n",
       "      <td>1.0</td>\n",
       "      <td>180.0</td>\n",
       "      <td>15.0</td>\n",
       "      <td>180.0</td>\n",
       "      <td>15.0</td>\n",
       "      <td>1</td>\n",
       "      <td>0.0</td>\n",
       "      <td>1</td>\n",
       "      <td>0.0</td>\n",
       "      <td>Black</td>\n",
       "      <td>1</td>\n",
       "    </tr>\n",
       "    <tr>\n",
       "      <th>4</th>\n",
       "      <td>4</td>\n",
       "      <td>A163459</td>\n",
       "      <td>Stray</td>\n",
       "      <td>Normal</td>\n",
       "      <td>Dog</td>\n",
       "      <td>Mixed</td>\n",
       "      <td>Return to Owner</td>\n",
       "      <td>1.0</td>\n",
       "      <td>180.0</td>\n",
       "      <td>15.0</td>\n",
       "      <td>180.0</td>\n",
       "      <td>15.0</td>\n",
       "      <td>0</td>\n",
       "      <td>0.0</td>\n",
       "      <td>0</td>\n",
       "      <td>0.0</td>\n",
       "      <td>Black</td>\n",
       "      <td>1</td>\n",
       "    </tr>\n",
       "    <tr>\n",
       "      <th>...</th>\n",
       "      <td>...</td>\n",
       "      <td>...</td>\n",
       "      <td>...</td>\n",
       "      <td>...</td>\n",
       "      <td>...</td>\n",
       "      <td>...</td>\n",
       "      <td>...</td>\n",
       "      <td>...</td>\n",
       "      <td>...</td>\n",
       "      <td>...</td>\n",
       "      <td>...</td>\n",
       "      <td>...</td>\n",
       "      <td>...</td>\n",
       "      <td>...</td>\n",
       "      <td>...</td>\n",
       "      <td>...</td>\n",
       "      <td>...</td>\n",
       "      <td>...</td>\n",
       "    </tr>\n",
       "    <tr>\n",
       "      <th>9995</th>\n",
       "      <td>10691</td>\n",
       "      <td>A675115</td>\n",
       "      <td>Owner Surrender</td>\n",
       "      <td>Normal</td>\n",
       "      <td>Cat</td>\n",
       "      <td>Mixed</td>\n",
       "      <td>Adoption</td>\n",
       "      <td>2.0</td>\n",
       "      <td>5.0</td>\n",
       "      <td>1.0</td>\n",
       "      <td>5.0</td>\n",
       "      <td>1.0</td>\n",
       "      <td>1</td>\n",
       "      <td>0.0</td>\n",
       "      <td>0</td>\n",
       "      <td>0.0</td>\n",
       "      <td>Torbie</td>\n",
       "      <td>1</td>\n",
       "    </tr>\n",
       "    <tr>\n",
       "      <th>9996</th>\n",
       "      <td>10692</td>\n",
       "      <td>A675116</td>\n",
       "      <td>Owner Surrender</td>\n",
       "      <td>Normal</td>\n",
       "      <td>Cat</td>\n",
       "      <td>Mixed</td>\n",
       "      <td>Transfer</td>\n",
       "      <td>47.0</td>\n",
       "      <td>5.0</td>\n",
       "      <td>1.0</td>\n",
       "      <td>7.0</td>\n",
       "      <td>1.0</td>\n",
       "      <td>1</td>\n",
       "      <td>0.0</td>\n",
       "      <td>0</td>\n",
       "      <td>0.0</td>\n",
       "      <td>Tortie</td>\n",
       "      <td>1</td>\n",
       "    </tr>\n",
       "    <tr>\n",
       "      <th>9997</th>\n",
       "      <td>10693</td>\n",
       "      <td>A675117</td>\n",
       "      <td>Stray</td>\n",
       "      <td>Normal</td>\n",
       "      <td>Dog</td>\n",
       "      <td>Boxer</td>\n",
       "      <td>Adoption</td>\n",
       "      <td>34.0</td>\n",
       "      <td>36.0</td>\n",
       "      <td>3.0</td>\n",
       "      <td>36.0</td>\n",
       "      <td>3.0</td>\n",
       "      <td>1</td>\n",
       "      <td>1.0</td>\n",
       "      <td>0</td>\n",
       "      <td>1.0</td>\n",
       "      <td>Red</td>\n",
       "      <td>1</td>\n",
       "    </tr>\n",
       "    <tr>\n",
       "      <th>9998</th>\n",
       "      <td>10694</td>\n",
       "      <td>A675118</td>\n",
       "      <td>Stray</td>\n",
       "      <td>Normal</td>\n",
       "      <td>Dog</td>\n",
       "      <td>Boxer</td>\n",
       "      <td>Transfer</td>\n",
       "      <td>7.0</td>\n",
       "      <td>36.0</td>\n",
       "      <td>3.0</td>\n",
       "      <td>36.0</td>\n",
       "      <td>3.0</td>\n",
       "      <td>1</td>\n",
       "      <td>0.0</td>\n",
       "      <td>0</td>\n",
       "      <td>0.0</td>\n",
       "      <td>Red</td>\n",
       "      <td>1</td>\n",
       "    </tr>\n",
       "    <tr>\n",
       "      <th>9999</th>\n",
       "      <td>10695</td>\n",
       "      <td>A675119</td>\n",
       "      <td>Stray</td>\n",
       "      <td>Normal</td>\n",
       "      <td>Dog</td>\n",
       "      <td>Mixed</td>\n",
       "      <td>Transfer</td>\n",
       "      <td>4.0</td>\n",
       "      <td>1.0</td>\n",
       "      <td>1.0</td>\n",
       "      <td>1.0</td>\n",
       "      <td>1.0</td>\n",
       "      <td>0</td>\n",
       "      <td>1.0</td>\n",
       "      <td>0</td>\n",
       "      <td>1.0</td>\n",
       "      <td>White</td>\n",
       "      <td>1</td>\n",
       "    </tr>\n",
       "  </tbody>\n",
       "</table>\n",
       "<p>10000 rows × 18 columns</p>\n",
       "</div>"
      ],
      "text/plain": [
       "      Unnamed: 0 Animal ID  ... group_color target\n",
       "0              0   A006100  ...      Yellow      1\n",
       "1              1   A047759  ...    Tricolor      1\n",
       "2              2   A134067  ...       Brown      1\n",
       "3              3   A141142  ...       Black      1\n",
       "4              4   A163459  ...       Black      1\n",
       "...          ...       ...  ...         ...    ...\n",
       "9995       10691   A675115  ...      Torbie      1\n",
       "9996       10692   A675116  ...      Tortie      1\n",
       "9997       10693   A675117  ...         Red      1\n",
       "9998       10694   A675118  ...         Red      1\n",
       "9999       10695   A675119  ...       White      1\n",
       "\n",
       "[10000 rows x 18 columns]"
      ]
     },
     "execution_count": 7,
     "metadata": {},
     "output_type": "execute_result"
    }
   ],
   "source": [
    "classifier_y(data10k,\"days_in_shelter\")"
   ]
  },
  {
   "cell_type": "code",
   "execution_count": 8,
   "metadata": {
    "id": "bwBlR23smF9c"
   },
   "outputs": [],
   "source": [
    "# Creating X and y\n",
    "X = data10k[['Intake Type',\"Animal Type\",'Intake Condition','Breed','age_upon_intake_months','neutered_or_spayed_intake','male_or_female_intake','group_color']]\n",
    "y = data10k['target']"
   ]
  },
  {
   "cell_type": "code",
   "execution_count": 11,
   "metadata": {
    "id": "GoJUR2l-mOgs"
   },
   "outputs": [],
   "source": [
    "#Splitting the data with stratification\n",
    "X_train, X_test, y_train, y_test = train_test_split(X, y, test_size=0.3, random_state = 10)"
   ]
  },
  {
   "cell_type": "code",
   "execution_count": 13,
   "metadata": {
    "id": "Y0EUvmNphaty"
   },
   "outputs": [],
   "source": [
    "#from sklearn import set_config ;set_config(display='diagram')\n",
    "from sklearn.pipeline import Pipeline\n",
    "from sklearn.impute import SimpleImputer\n",
    "from sklearn.preprocessing import MinMaxScaler , FunctionTransformer,OneHotEncoder\n",
    "from sklearn.compose import make_column_selector,ColumnTransformer\n",
    "\n",
    "# Impute then Scale for numerical variables\n",
    "num_transformer = Pipeline([\n",
    "    ('imputer', SimpleImputer()),\n",
    "    ('scaler', MinMaxScaler())])\n",
    "\n",
    "# Encode categorical varibles \n",
    "cat_transformer = OneHotEncoder(handle_unknown='ignore',sparse=False)\n",
    "\n",
    "# Apply transformations to desired features\n",
    "preprocessor = ColumnTransformer([\n",
    "    ('num_transformer', num_transformer, make_column_selector(dtype_include=['int64',\"float64\"])),\n",
    "    ('cat_transformer', cat_transformer, make_column_selector(dtype_include=[\"object\"]))])"
   ]
  },
  {
   "cell_type": "code",
   "execution_count": 14,
   "metadata": {
    "colab": {
     "base_uri": "https://localhost:8080/"
    },
    "id": "iAoK9AEsmdui",
    "outputId": "170ece11-fd5f-4199-f1dc-1ae2d6c9a8d0"
   },
   "outputs": [
    {
     "data": {
      "text/plain": [
       "ColumnTransformer(n_jobs=None, remainder='drop', sparse_threshold=0.3,\n",
       "                  transformer_weights=None,\n",
       "                  transformers=[('num_transformer',\n",
       "                                 Pipeline(memory=None,\n",
       "                                          steps=[('imputer',\n",
       "                                                  SimpleImputer(add_indicator=False,\n",
       "                                                                copy=True,\n",
       "                                                                fill_value=None,\n",
       "                                                                missing_values=nan,\n",
       "                                                                strategy='mean',\n",
       "                                                                verbose=0)),\n",
       "                                                 ('scaler',\n",
       "                                                  MinMaxScaler(copy=True,\n",
       "                                                               feature_range=(0,\n",
       "                                                                              1)))],\n",
       "                                          verbose=False),\n",
       "                                 <sklearn.compose._column_transformer.make_column_selector object at 0x7f9e43dc7090>),\n",
       "                                ('cat_transformer',\n",
       "                                 OneHotEncoder(categories='auto', drop=None,\n",
       "                                               dtype=<class 'numpy.float64'>,\n",
       "                                               handle_unknown='ignore',\n",
       "                                               sparse=False),\n",
       "                                 <sklearn.compose._column_transformer.make_column_selector object at 0x7f9e43d9bb10>)],\n",
       "                  verbose=False)"
      ]
     },
     "execution_count": 14,
     "metadata": {},
     "output_type": "execute_result"
    }
   ],
   "source": [
    "preprocessor.fit(X_train, y_train)"
   ]
  },
  {
   "cell_type": "code",
   "execution_count": 15,
   "metadata": {
    "id": "ZxCPLGQUmkpI"
   },
   "outputs": [],
   "source": [
    "X_train_new = preprocessor.transform(X_train)\n",
    "X_test_new = preprocessor.transform(X_test)"
   ]
  },
  {
   "cell_type": "code",
   "execution_count": 16,
   "metadata": {
    "colab": {
     "base_uri": "https://localhost:8080/"
    },
    "id": "nZ3ni0mMmss4",
    "outputId": "092a9434-1d99-4146-c55b-78af61260932"
   },
   "outputs": [
    {
     "name": "stderr",
     "output_type": "stream",
     "text": [
      "/usr/local/lib/python3.7/dist-packages/sklearn/utils/deprecation.py:87: FutureWarning: Function safe_indexing is deprecated; safe_indexing is deprecated in version 0.22 and will be removed in version 0.24.\n",
      "  warnings.warn(msg, category=FutureWarning)\n"
     ]
    }
   ],
   "source": [
    "#Importing SMOTE\n",
    "from imblearn.over_sampling import SMOTE\n",
    "#Create an oversampled training data\n",
    "smote = SMOTE(random_state = 101)\n",
    "X_oversample, y_oversample = smote.fit_resample(X_train_new, y_train)"
   ]
  },
  {
   "cell_type": "code",
   "execution_count": null,
   "metadata": {
    "id": "0H73cQ_NnrjL"
   },
   "outputs": [],
   "source": [
    "from sklearn.svm import SVC\n",
    "models = {\n",
    "    'LR': {\n",
    "        'model': LogisticRegression(solver='lbfgs', multi_class='auto',max_iter = 1000),\n",
    "        'parameters': {\n",
    "            'C': [0.1,0.5,0.8]\n",
    "           }\n",
    "    },\n",
    "\n",
    "    'DT': {\n",
    "        'model': DecisionTreeClassifier(splitter='best'),\n",
    "        'parameters': {\n",
    "            'criterion': ['gini', 'entropy'],\n",
    "            'max_depth': [10,15,20]\n",
    "        }\n",
    "    },\n",
    "\n",
    "    'RF': {\n",
    "        'model': RandomForestClassifier(criterion='gini'),\n",
    "        'parameters': {\n",
    "            'n_estimators': [3,10,50]\n",
    "        }\n",
    "    },\n",
    "        'SVC': {\n",
    "        'model': SVC(gamma='auto'),\n",
    "        'parameters': {\n",
    "            'C': [0.1,0.2,0.3],\n",
    "            'kernel': ['rbf','linear']\n",
    "        }\n",
    "    },\n",
    "\n",
    "    'GB': {\n",
    "        'model': GradientBoostingClassifier(criterion='friedman_mse'),\n",
    "        'parameters': {\n",
    "            'loss': ['deviance', 'exponential']\n",
    "           }\n",
    "    },\n",
    "\n",
    "    'KNN': {\n",
    "        'model': KNeighborsClassifier(algorithm='auto'),\n",
    "        'parameters': {\n",
    "            'n_neighbors': [3,4,5],\n",
    "            'weights' : ['uniform', 'distance'] \n",
    "           }\n",
    "    }\n",
    "    \n",
    "}\n",
    "\n",
    "scores = [] \n",
    "cv_shuffle = ShuffleSplit(n_splits=5, test_size=0.20, random_state=0)\n",
    "\n",
    "for model_name, model_params in models.items():\n",
    "    print(f\"---------------------------{model_name}-----------------------------\")\n",
    "    gs = GridSearchCV(model_params['model'], model_params['parameters'],scoring= 'f1_macro',cv = cv_shuffle, return_train_score=False)\n",
    "    print(f\"--------------------------- fit: {model_name}-----------------------------\")\n",
    "    gs.fit(X_train_new, y_train)\n",
    "    scores.append({\n",
    "        'model': model_name,\n",
    "        'best_parameters': gs.best_params_,\n",
    "        'score': gs.best_score_\n",
    "    })\n",
    "    print(\" \")\n",
    "    print(f\"--------------------------- scores-----------------------------\")\n",
    "    print(scores)\n",
    "\n",
    "scores_df = pd.DataFrame(scores, columns=['model', 'best_parameters', 'score'])"
   ]
  },
  {
   "cell_type": "code",
   "execution_count": 18,
   "metadata": {
    "colab": {
     "base_uri": "https://localhost:8080/",
     "height": 235
    },
    "id": "M6NtHL12oJce",
    "outputId": "cefc2c6d-7cb5-4a66-ca17-59650ca62101"
   },
   "outputs": [
    {
     "data": {
      "text/html": [
       "<div>\n",
       "<style scoped>\n",
       "    .dataframe tbody tr th:only-of-type {\n",
       "        vertical-align: middle;\n",
       "    }\n",
       "\n",
       "    .dataframe tbody tr th {\n",
       "        vertical-align: top;\n",
       "    }\n",
       "\n",
       "    .dataframe thead th {\n",
       "        text-align: right;\n",
       "    }\n",
       "</style>\n",
       "<table border=\"1\" class=\"dataframe\">\n",
       "  <thead>\n",
       "    <tr style=\"text-align: right;\">\n",
       "      <th></th>\n",
       "      <th>model</th>\n",
       "      <th>best_parameters</th>\n",
       "      <th>score</th>\n",
       "    </tr>\n",
       "  </thead>\n",
       "  <tbody>\n",
       "    <tr>\n",
       "      <th>0</th>\n",
       "      <td>LR</td>\n",
       "      <td>{'C': 0.1}</td>\n",
       "      <td>0.484420</td>\n",
       "    </tr>\n",
       "    <tr>\n",
       "      <th>1</th>\n",
       "      <td>DT</td>\n",
       "      <td>{'criterion': 'gini', 'max_depth': 15}</td>\n",
       "      <td>0.514762</td>\n",
       "    </tr>\n",
       "    <tr>\n",
       "      <th>2</th>\n",
       "      <td>RF</td>\n",
       "      <td>{'n_estimators': 10}</td>\n",
       "      <td>0.508047</td>\n",
       "    </tr>\n",
       "    <tr>\n",
       "      <th>3</th>\n",
       "      <td>SVC</td>\n",
       "      <td>{'C': 0.1, 'kernel': 'rbf'}</td>\n",
       "      <td>0.484420</td>\n",
       "    </tr>\n",
       "    <tr>\n",
       "      <th>4</th>\n",
       "      <td>GB</td>\n",
       "      <td>{'loss': 'deviance'}</td>\n",
       "      <td>0.492865</td>\n",
       "    </tr>\n",
       "    <tr>\n",
       "      <th>5</th>\n",
       "      <td>KNN</td>\n",
       "      <td>{'n_neighbors': 4, 'weights': 'uniform'}</td>\n",
       "      <td>0.507682</td>\n",
       "    </tr>\n",
       "  </tbody>\n",
       "</table>\n",
       "</div>"
      ],
      "text/plain": [
       "  model                           best_parameters     score\n",
       "0    LR                                {'C': 0.1}  0.484420\n",
       "1    DT    {'criterion': 'gini', 'max_depth': 15}  0.514762\n",
       "2    RF                      {'n_estimators': 10}  0.508047\n",
       "3   SVC               {'C': 0.1, 'kernel': 'rbf'}  0.484420\n",
       "4    GB                      {'loss': 'deviance'}  0.492865\n",
       "5   KNN  {'n_neighbors': 4, 'weights': 'uniform'}  0.507682"
      ]
     },
     "execution_count": 18,
     "metadata": {},
     "output_type": "execute_result"
    }
   ],
   "source": [
    "scores_df"
   ]
  },
  {
   "cell_type": "code",
   "execution_count": null,
   "metadata": {
    "id": "fWgq7pM9hsXW"
   },
   "outputs": [],
   "source": [
    "from sklearn.svm import SVC\n",
    "models = {\n",
    "    'LR': {\n",
    "        'model': LogisticRegression(solver='lbfgs', multi_class='auto',max_iter = 1000),\n",
    "        'parameters': {\n",
    "            'C': [0.1,0.5,0.8]\n",
    "           }\n",
    "    },\n",
    "\n",
    "    'DT': {\n",
    "        'model': DecisionTreeClassifier(splitter='best'),\n",
    "        'parameters': {\n",
    "            'criterion': ['gini', 'entropy'],\n",
    "            'max_depth': [10,15,20]\n",
    "        }\n",
    "    },\n",
    "\n",
    "    'RF': {\n",
    "        'model': RandomForestClassifier(criterion='gini'),\n",
    "        'parameters': {\n",
    "            'n_estimators': [3,10,50]\n",
    "        }\n",
    "    },\n",
    "        'SVC': {\n",
    "        'model': SVC(gamma='auto'),\n",
    "        'parameters': {\n",
    "            'C': [0.1,0.2,0.3],\n",
    "            'kernel': ['rbf','linear']\n",
    "        }\n",
    "    },\n",
    "\n",
    "    'GB': {\n",
    "        'model': GradientBoostingClassifier(criterion='friedman_mse'),\n",
    "        'parameters': {\n",
    "            'loss': ['deviance', 'exponential']\n",
    "           }\n",
    "    },\n",
    "\n",
    "    'KNN': {\n",
    "        'model': KNeighborsClassifier(algorithm='auto'),\n",
    "        'parameters': {\n",
    "            'n_neighbors': [3,4,5],\n",
    "            'weights' : ['uniform', 'distance'] \n",
    "           }\n",
    "    }\n",
    "    \n",
    "}\n",
    "\n",
    "scores_oversample = [] \n",
    "cv_shuffle = ShuffleSplit(n_splits=5, test_size=0.20, random_state=0)\n",
    "\n",
    "for model_name, model_params in models.items():\n",
    "    print(f\"---------------------------{model_name}-----------------------------\")\n",
    "    gs = GridSearchCV(model_params['model'], model_params['parameters'],scoring= 'f1_macro',cv = cv_shuffle, return_train_score=False)\n",
    "    print(f\"--------------------------- fit: {model_name}-----------------------------\")\n",
    "    gs.fit(X_oversample, y_oversample)\n",
    "    scores_oversample.append({\n",
    "        'model': model_name,\n",
    "        'best_parameters': gs.best_params_,\n",
    "        'score': gs.best_score_\n",
    "    })\n",
    "    print(\" \")\n",
    "    print(f\"--------------------------- scores-----------------------------\")\n",
    "    print(scores)\n",
    "\n",
    "scores_df_oversample = pd.DataFrame(scores_oversample, columns=['model', 'best_parameters', 'score'])"
   ]
  },
  {
   "cell_type": "code",
   "execution_count": 20,
   "metadata": {
    "colab": {
     "base_uri": "https://localhost:8080/",
     "height": 235
    },
    "id": "lzc4-gYjhsEa",
    "outputId": "72beb5c0-2a81-4bfe-c284-c9ec1c403a22"
   },
   "outputs": [
    {
     "data": {
      "text/html": [
       "<div>\n",
       "<style scoped>\n",
       "    .dataframe tbody tr th:only-of-type {\n",
       "        vertical-align: middle;\n",
       "    }\n",
       "\n",
       "    .dataframe tbody tr th {\n",
       "        vertical-align: top;\n",
       "    }\n",
       "\n",
       "    .dataframe thead th {\n",
       "        text-align: right;\n",
       "    }\n",
       "</style>\n",
       "<table border=\"1\" class=\"dataframe\">\n",
       "  <thead>\n",
       "    <tr style=\"text-align: right;\">\n",
       "      <th></th>\n",
       "      <th>model</th>\n",
       "      <th>best_parameters</th>\n",
       "      <th>score</th>\n",
       "    </tr>\n",
       "  </thead>\n",
       "  <tbody>\n",
       "    <tr>\n",
       "      <th>0</th>\n",
       "      <td>LR</td>\n",
       "      <td>{'C': 0.8}</td>\n",
       "      <td>0.611983</td>\n",
       "    </tr>\n",
       "    <tr>\n",
       "      <th>1</th>\n",
       "      <td>DT</td>\n",
       "      <td>{'criterion': 'gini', 'max_depth': 20}</td>\n",
       "      <td>0.878904</td>\n",
       "    </tr>\n",
       "    <tr>\n",
       "      <th>2</th>\n",
       "      <td>RF</td>\n",
       "      <td>{'n_estimators': 50}</td>\n",
       "      <td>0.900607</td>\n",
       "    </tr>\n",
       "    <tr>\n",
       "      <th>3</th>\n",
       "      <td>SVC</td>\n",
       "      <td>{'C': 0.2, 'kernel': 'linear'}</td>\n",
       "      <td>0.587070</td>\n",
       "    </tr>\n",
       "    <tr>\n",
       "      <th>4</th>\n",
       "      <td>GB</td>\n",
       "      <td>{'loss': 'deviance'}</td>\n",
       "      <td>0.850841</td>\n",
       "    </tr>\n",
       "    <tr>\n",
       "      <th>5</th>\n",
       "      <td>KNN</td>\n",
       "      <td>{'n_neighbors': 4, 'weights': 'distance'}</td>\n",
       "      <td>0.856655</td>\n",
       "    </tr>\n",
       "  </tbody>\n",
       "</table>\n",
       "</div>"
      ],
      "text/plain": [
       "  model                            best_parameters     score\n",
       "0    LR                                 {'C': 0.8}  0.611983\n",
       "1    DT     {'criterion': 'gini', 'max_depth': 20}  0.878904\n",
       "2    RF                       {'n_estimators': 50}  0.900607\n",
       "3   SVC             {'C': 0.2, 'kernel': 'linear'}  0.587070\n",
       "4    GB                       {'loss': 'deviance'}  0.850841\n",
       "5   KNN  {'n_neighbors': 4, 'weights': 'distance'}  0.856655"
      ]
     },
     "execution_count": 20,
     "metadata": {},
     "output_type": "execute_result"
    }
   ],
   "source": [
    "scores_df_oversample"
   ]
  }
 ],
 "metadata": {
  "accelerator": "GPU",
  "colab": {
   "name": "models_logistic.ipynb",
   "provenance": []
  },
  "kernelspec": {
   "display_name": "Python 3 (ipykernel)",
   "language": "python",
   "name": "python3"
  },
  "language_info": {
   "codemirror_mode": {
    "name": "ipython",
    "version": 3
   },
   "file_extension": ".py",
   "mimetype": "text/x-python",
   "name": "python",
   "nbconvert_exporter": "python",
   "pygments_lexer": "ipython3",
   "version": "3.8.6"
  }
 },
 "nbformat": 4,
 "nbformat_minor": 4
}
