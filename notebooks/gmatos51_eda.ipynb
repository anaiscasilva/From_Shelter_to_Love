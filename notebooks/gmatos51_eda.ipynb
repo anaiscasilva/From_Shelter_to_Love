{
 "cells": [
  {
   "cell_type": "markdown",
   "id": "1dd0a663-f0ab-4188-b131-93fa3d037132",
   "metadata": {},
   "source": [
    "# EDA - Exploratory Data Analysis   \n",
    "- Distribution of the target variable (days_in_shelter)\n",
    "- Exploring and visualizing the other features distributions\n",
    "- Computing the correlation between target variable and the other variables"
   ]
  },
  {
   "cell_type": "code",
   "execution_count": 85,
   "id": "eed43821-f1df-460b-820a-e6109305533f",
   "metadata": {},
   "outputs": [
    {
     "name": "stdout",
     "output_type": "stream",
     "text": [
      "The autoreload extension is already loaded. To reload it, use:\n",
      "  %reload_ext autoreload\n"
     ]
    }
   ],
   "source": [
    "%load_ext autoreload\n",
    "%autoreload 2\n",
    "\n",
    "import pandas as pd\n",
    "import numpy as np\n",
    "import matplotlib.pyplot as plt\n",
    "import seaborn as sns\n",
    "import re\n"
   ]
  },
  {
   "cell_type": "code",
   "execution_count": 86,
   "id": "6903c62c-3e0f-4e7e-9033-3e4e33dd5134",
   "metadata": {},
   "outputs": [],
   "source": [
    "from From_Shelter_to_Love.data_provisoria import get_data"
   ]
  },
  {
   "cell_type": "code",
   "execution_count": 87,
   "id": "b3538f6d-fa4c-4017-bdbf-63f061f980a1",
   "metadata": {},
   "outputs": [
    {
     "data": {
      "text/html": [
       "<div>\n",
       "<style scoped>\n",
       "    .dataframe tbody tr th:only-of-type {\n",
       "        vertical-align: middle;\n",
       "    }\n",
       "\n",
       "    .dataframe tbody tr th {\n",
       "        vertical-align: top;\n",
       "    }\n",
       "\n",
       "    .dataframe thead th {\n",
       "        text-align: right;\n",
       "    }\n",
       "</style>\n",
       "<table border=\"1\" class=\"dataframe\">\n",
       "  <thead>\n",
       "    <tr style=\"text-align: right;\">\n",
       "      <th></th>\n",
       "      <th>Animal ID</th>\n",
       "      <th>Intake Type</th>\n",
       "      <th>Intake Condition</th>\n",
       "      <th>Animal Type</th>\n",
       "      <th>Breed</th>\n",
       "      <th>Outcome Type</th>\n",
       "      <th>days_in_shelter</th>\n",
       "      <th>age_upon_intake_months</th>\n",
       "      <th>age_upon_intake_years</th>\n",
       "      <th>age_upon_outcome_months</th>\n",
       "      <th>age_upon_outcome_years</th>\n",
       "      <th>neutered_or_spayed</th>\n",
       "      <th>male_or_female</th>\n",
       "      <th>group_color</th>\n",
       "    </tr>\n",
       "  </thead>\n",
       "  <tbody>\n",
       "    <tr>\n",
       "      <th>0</th>\n",
       "      <td>A006100</td>\n",
       "      <td>Public Assist</td>\n",
       "      <td>Normal</td>\n",
       "      <td>Dog</td>\n",
       "      <td>Mixed</td>\n",
       "      <td>Return to Owner</td>\n",
       "      <td>2.0</td>\n",
       "      <td>72.0</td>\n",
       "      <td>6.0</td>\n",
       "      <td>72.0</td>\n",
       "      <td>6.0</td>\n",
       "      <td>1</td>\n",
       "      <td>1.0</td>\n",
       "      <td>Yellow</td>\n",
       "    </tr>\n",
       "    <tr>\n",
       "      <th>1</th>\n",
       "      <td>A047759</td>\n",
       "      <td>Owner Surrender</td>\n",
       "      <td>Normal</td>\n",
       "      <td>Dog</td>\n",
       "      <td>Dachshund</td>\n",
       "      <td>Transfer</td>\n",
       "      <td>5.0</td>\n",
       "      <td>120.0</td>\n",
       "      <td>10.0</td>\n",
       "      <td>120.0</td>\n",
       "      <td>10.0</td>\n",
       "      <td>1</td>\n",
       "      <td>1.0</td>\n",
       "      <td>Tricolor</td>\n",
       "    </tr>\n",
       "  </tbody>\n",
       "</table>\n",
       "</div>"
      ],
      "text/plain": [
       "  Animal ID      Intake Type Intake Condition Animal Type      Breed  \\\n",
       "0   A006100    Public Assist           Normal         Dog      Mixed   \n",
       "1   A047759  Owner Surrender           Normal         Dog  Dachshund   \n",
       "\n",
       "      Outcome Type  days_in_shelter  age_upon_intake_months  \\\n",
       "0  Return to Owner              2.0                    72.0   \n",
       "1         Transfer              5.0                   120.0   \n",
       "\n",
       "   age_upon_intake_years  age_upon_outcome_months  age_upon_outcome_years  \\\n",
       "0                    6.0                     72.0                     6.0   \n",
       "1                   10.0                    120.0                    10.0   \n",
       "\n",
       "   neutered_or_spayed  male_or_female group_color  \n",
       "0                   1             1.0      Yellow  \n",
       "1                   1             1.0    Tricolor  "
      ]
     },
     "execution_count": 87,
     "metadata": {},
     "output_type": "execute_result"
    }
   ],
   "source": [
    "#Getting the data\n",
    "\n",
    "df = get_data()\n",
    "df.head(2)"
   ]
  },
  {
   "cell_type": "markdown",
   "id": "c826f7c3-0364-4bf1-aeda-89def6df4d73",
   "metadata": {},
   "source": [
    "## Exploring target variable (days_in_shelter)   \n",
    "- Compute simple statistics for the target variable (min, max, mean, std, etc)\n",
    "- Plot distributions"
   ]
  },
  {
   "cell_type": "code",
   "execution_count": 88,
   "id": "36e50e38-dbce-4a40-8e16-fd2c7bc38220",
   "metadata": {},
   "outputs": [
    {
     "data": {
      "text/plain": [
       "count    102725.000000\n",
       "mean         19.717089\n",
       "std          42.652623\n",
       "min           1.000000\n",
       "25%           3.000000\n",
       "50%           6.000000\n",
       "75%          18.000000\n",
       "max        1522.000000\n",
       "Name: days_in_shelter, dtype: float64"
      ]
     },
     "execution_count": 88,
     "metadata": {},
     "output_type": "execute_result"
    }
   ],
   "source": [
    "df.days_in_shelter.describe()"
   ]
  },
  {
   "cell_type": "code",
   "execution_count": 89,
   "id": "13422967-36b7-4fa5-970b-0eb7c60d040b",
   "metadata": {},
   "outputs": [
    {
     "data": {
      "image/png": "iVBORw0KGgoAAAANSUhEUgAAAnEAAAFOCAYAAADpSUvdAAAAOXRFWHRTb2Z0d2FyZQBNYXRwbG90bGliIHZlcnNpb24zLjQuMywgaHR0cHM6Ly9tYXRwbG90bGliLm9yZy/MnkTPAAAACXBIWXMAAAsTAAALEwEAmpwYAAAmvUlEQVR4nO3de7xddX3n/9c75yQBSbhJjCkBCRZ1UCtKVGrVcWpVvFSw4yiMU8CxUkft6K+OFevvNzqd+njYVmtLx+KgUKBV8K7RokjxQtWCoNwRJNyGZAKJIhC5mXPy+f2xv4ds01xOYO+zs05ez8djP87an3XZ37VYOefNd63vXqkqJEmS1C1zRt0ASZIk7ThDnCRJUgcZ4iRJkjrIECdJktRBhjhJkqQOMsRJkiR1kCFOkrYiyVeTHD+E7Z6Q5Dszva6k2cUQJ2mnk+SWJPcnWZ/kriTfS/KmJDP6O6uqXlpVZz6cdZM8t7X77iR3JvlukmcOuo1JKsmvDnq7knZ+hjhJO6vfrqqFwOOADwDvAk4bbZOmJ8mewFeAvwH2BfYH/gfw4Cjbtbkk46Nug6SHzxAnaadWVXdX1QrgtcDxSZ4CkOTlSS5Lck+S25K8b2qdJP+Y5A/6t5PkyiSvSs+Hk6xt6141tc3NJflWkt9r0yck+U6SDyb5WZKbk7x0K81+Qmv72VU1WVX3V9XXq+rKzba/xW0l2SvJaUnWJFmd5E+TjG2hfRe2ySuS/DzJa1v9FUku7+vF/LW+dW5J8q4kVwL3GuSk7jLESeqEqvo+sAp4XivdCxwH7A28HPgvSY5u884E/tPUukmeRq837B+BFwPPpxe09gJeA/x0ms14NnA9sB/w58BpSbKF5X4MTCY5M8lLk+yzg9s6A5gAfhV4emvz722+gap6fpt8WlUtqKpPJXk6cDrw+8Cjgf8NrEgyv2/VY+kds72ramKa+y5pJ2OIk9Ql/5fe5Umq6ltVdVVVbWw9XGcD/7YttwJ4QpJD2vvfBT5VVb8ANgALgScBqaofVdWaaX7+rVX1saqapBcUlwCLN1+oqu4BngsU8DFgXZIVSRZvb1ttmZcBb6+qe6tqLfBh4JhptvFE4H9X1cWtF/BMepdxj+hb5uSquq2q7p/mNiXthAxxkrpkf+BOgCTPTvLNJOuS3A28iV6vFlX1APAp4D+1wRDHAn/f5n0D+F/AR4C1SU5t97BNx+1TE1V1X5tcsKUFWzg8oaqWAk8BfgX4q2ls63HAXGBNuxx6F73etMdMs42PA94xtW5b/4D2+VNum+a2JO3EDHGSOqGN7NwfmPp6jU/S63E7oKr2Aj4K9F/aPBN4HfBC4L6q+pepGVV1clUdDhxK77LqO4fZ9qq6jt4l0i3ee7eZ2+j1nO1XVXu3155V9eRpftxtwPv71t27qh5VVWf3N2mHdkDSTskQJ2mnlmTPJK8AzgH+oaquarMWAndW1QNJngX8x/71WmjbCHyI1gvXtvfM1os3l959dQ+05QbZ5icleUeSpe39AfR6Ay/a3rrt0u7XgQ+1fZ+T5PFJ/u1WVrkDOLjv/ceAN7V9TJI92iCQhY9sryTtbAxxknZWX06ynl7P0nuAvwRe3zf/zcCftGX+O/DpLWzjLOCpwD/01fakF3R+BtxKb1DDXwy47evpDVy4OMm99MLb1cA7prn+ccA84NrWzs/Su2duS94HnNkunb6mqi4F3kjvkvHPgJXACQ9vNyTtzFJlr7qk2SnJccCJVfXcUbdFkgbNnjhJs1KSR9HrrTt11G2RpGEwxEmadZK8BFhH736xT464OZI0FF5OlSRJ6iB74iRJkjrIECdJktRBu9yDj4888sj62te+NupmSJIkTceWns8M7II9cT/5yU9G3QRJkqRHbJcLcZIkSbOBIU6SJKmDDHGSJEkdZIiTJEnqIEOcJElSBxniJEmSOsgQJ0mS1EGGOEmSpA4yxEmSJHWQIU6SJKmDDHEDVlVMTExQVaNuiiRJmsUMcQM2OTnJB8+9isnJyVE3RZIkzWKGuCGYMzY+6iZIkqRZzhAnSZLUQYY4SZKkDjLESZIkdZAhTpIkqYMMcZIkSR1kiJMkSeqgoYW4JKcnWZvk6r7ap5Jc3l63JLm81Q9Kcn/fvI/2rXN4kquSrExycpK0+r5Jzk9yQ/u5z7D2RZIkaWczzJ64M4Aj+wtV9dqqOqyqDgM+B3y+b/aNU/Oq6k199VOANwKHtNfUNk8CLqiqQ4AL2ntJkqRdwtBCXFVdCNy5pXmtN+01wNnb2kaSJcCeVXVR9Z5jdRZwdJt9FHBmmz6zry5JkjTrjeqeuOcBd1TVDX21ZUkuS/LtJM9rtf2BVX3LrGo1gMVVtaZN3w4s3tqHJTkxyaVJLl23bt2AdkGSJGl0RhXijuWXe+HWAAdW1dOBPwQ+mWTP6W6s9dJt9YnzVXVqVS2vquWLFi16uG2WJEnaacz4Qz6TjAO/Axw+VauqB4EH2/QPktwIPAFYDSztW31pqwHckWRJVa1pl13XzkT7JUmSdgaj6In7LeC6qnroMmmSRUnG2vTB9AYw3NQul96T5Ih2H91xwJfaaiuA49v08X11SZKkWW+YXzFyNvAvwBOTrEryhjbrGP71gIbnA1e2rxz5LPCmqpoaFPFm4OPASuBG4Kut/gHgRUluoBcMPzCsfZEkSdrZDO1yalUdu5X6CVuofY7eV45saflLgadsof5T4IWPrJWSJEnd5BMbJEmSOsgQJ0mS1EGGOEmSpA4yxEmSJHWQIU6SJKmDDHGSJEkdZIiTJEnqIEOcJElSBxniJEmSOsgQJ0mS1EGGOEmSpA4yxEmSJHWQIU6SJKmDDHGSJEkdZIiTJEnqIEOcJElSBxniJEmSOsgQJ0mS1EGGOEmSpA4yxEmSJHWQIU6SJKmDDHGSJEkdZIiTJEnqIEOcJElSBxniJEmSOsgQJ0mS1EFDC3FJTk+yNsnVfbX3JVmd5PL2elnfvHcnWZnk+iQv6asf2Work5zUV1+W5OJW/1SSecPaF0mSpJ3NMHvizgCO3EL9w1V1WHudC5DkUOAY4Mltnb9NMpZkDPgI8FLgUODYtizAn7Vt/SrwM+ANQ9wXSZKkncrQQlxVXQjcOc3FjwLOqaoHq+pmYCXwrPZaWVU3VdUvgHOAo5IE+E3gs239M4GjB9l+SZKkndko7ol7a5Ir2+XWfVptf+C2vmVWtdrW6o8G7qqqic3qkiRJu4SZDnGnAI8HDgPWAB+aiQ9NcmKSS5Ncum7dupn4SEmSpKGa0RBXVXdU1WRVbQQ+Ru9yKcBq4IC+RZe22tbqPwX2TjK+WX1rn3tqVS2vquWLFi0azM5IkiSN0IyGuCRL+t6+CpgauboCOCbJ/CTLgEOA7wOXAIe0kajz6A1+WFFVBXwTeHVb/3jgSzOxD5IkSTuD8e0v8vAkORt4AbBfklXAe4EXJDkMKOAW4PcBquqaJJ8GrgUmgLdU1WTbzluB84Ax4PSquqZ9xLuAc5L8KXAZcNqw9kWSJGlnM7QQV1XHbqG81aBVVe8H3r+F+rnAuVuo38Smy7GSJEm7FJ/YIEmS1EGGOEmSpA4yxEmSJHWQIU6SJKmDDHGSJEkdZIiTJEnqIEOcJElSBxniJEmSOsgQJ0mS1EGGOEmSpA4yxEmSJHWQIU6SJKmDDHGSJEkdZIiTJEnqIEOcJElSBxniJEmSOsgQJ0mS1EGGOEmSpA4yxEmSJHWQIU6SJKmDDHGSJEkdZIiTJEnqIEOcJElSBxniJEmSOsgQJ0mS1EGGOEmSpA4aWohLcnqStUmu7qv9RZLrklyZ5AtJ9m71g5Lcn+Ty9vpo3zqHJ7kqycokJydJq++b5PwkN7Sf+wxrXyRJknY2w+yJOwM4crPa+cBTqurXgB8D7+6bd2NVHdZeb+qrnwK8ETikvaa2eRJwQVUdAlzQ3kuSJO0ShhbiqupC4M7Nal+vqon29iJg6ba2kWQJsGdVXVRVBZwFHN1mHwWc2abP7KtLkiTNeqO8J+4/A1/te78syWVJvp3kea22P7Cqb5lVrQawuKrWtOnbgcVDba0kSdJOZHwUH5rkPcAE8IlWWgMcWFU/TXI48MUkT57u9qqqktQ2Pu9E4ESAAw888OE3XJIkaScx4z1xSU4AXgG8rl0ipaoerKqftukfADcCTwBW88uXXJe2GsAd7XLr1GXXtVv7zKo6taqWV9XyRYsWDXiPJEmSZt6MhrgkRwJ/BLyyqu7rqy9KMtamD6Y3gOGmdrn0niRHtFGpxwFfaqutAI5v08f31SVJkma9oV1OTXI28AJgvySrgPfSG406Hzi/fVPIRW0k6vOBP0myAdgIvKmqpgZFvJneSNfd6d1DN3Uf3QeATyd5A3Ar8Jph7YskSdLOZmghrqqO3UL5tK0s+zngc1uZdynwlC3Ufwq88JG0UZIkqat8YoMkSVIHGeIkSZI6yBAnSZLUQYY4SZKkDjLESZIkdZAhTpIkqYMMcZIkSR1kiJMkSeogQ9yQTExMMDExMepmSJKkWcoQJ0mS1EGGOEmSpA4yxEmSJHWQIU6SJKmDDHGSJEkdZIiTJEnqIEOcJElSBxniJEmSOsgQJ0mS1EGGOEmSpA4yxEmSJHWQIU6SJKmDDHGSJEkdZIiTJEnqoGmFuCS/MZ2aJEmSZsZ0e+L+Zpo1SZIkzYDxbc1M8uvAc4BFSf6wb9aewNgwGyZJkqSt22aIA+YBC9pyC/vq9wCvHlajJEmStG3bDHFV9W3g20nOqKpbd3TjSU4HXgGsraqntNq+wKeAg4BbgNdU1c+SBPhr4GXAfcAJVfXDts7xwP/bNvunVXVmqx8OnAHsDpwLvK2qakfbKUmS1DXTvSdufpJTk3w9yTemXtNY7wzgyM1qJwEXVNUhwAXtPcBLgUPa60TgFHgo9L0XeDbwLOC9SfZp65wCvLFvvc0/S5IkaVba3uXUKZ8BPgp8HJic7sar6sIkB21WPgp4QZs+E/gW8K5WP6v1pF2UZO8kS9qy51fVnQBJzgeOTPItYM+quqjVzwKOBr463fZJkiR11XRD3ERVnTKgz1xcVWva9O3A4ja9P3Bb33KrWm1b9VVbqP8rSU6k17vHgQce+AibL0mSNHrTvZz65SRvTrIkyb5Tr0f64a3Xbej3sFXVqVW1vKqWL1q0aNgfJ0mSNHTT7Yk7vv18Z1+tgIMfxmfekWRJVa1pl0vXtvpq4IC+5Za22mo2XX6dqn+r1ZduYXlJkqRZb1o9cVW1bAuvhxPgAFawKRQeD3ypr35ceo4A7m6XXc8DXpxknzag4cXAeW3ePUmOaCNbj+vbliRJ0qw2rZ64JMdtqV5VZ21nvbPp9aLtl2QVvVGmHwA+neQNwK3Aa9ri59L7epGV9L5i5PXtM+5M8j+BS9pyfzI1yAF4M5u+YuSrOKhBkiTtIqZ7OfWZfdO7AS8EfghsM8RV1bFbmfXCLSxbwFu2sp3TgdO3UL8UeMq22iBJkjQbTSvEVdUf9L9PsjdwzjAaJEmSpO2b7ujUzd0LLBtkQyRJkjR9070n7sts+iqQMeDfAJ8eVqMkSZK0bdO9J+6DfdMTwK1VtWprC0uSJGm4pvsVI98GrgMWAvsAvxhmoyRJkrRt0wpxSV4DfB/4D/S+EuTiJK8eZsMkSZK0ddO9nPoe4JlVtRYgySLgn4DPDqthkiRJ2rrpjk6dMxXgmp/uwLqSJEkasOn2xH0tyXnA2e39a+k9YUGSJEkjsM0Ql+RXgcVV9c4kvwM8t836F+ATw26cJEmStmx7PXF/BbwboKo+D3weIMlT27zfHmLbJEmStBXbu69tcVVdtXmx1Q4aSoskSZK0XdsLcXtvY97uA2yHJEmSdsD2QtylSd64eTHJ7wE/GE6TJEmStD3buyfu7cAXkryOTaFtOTAPeNUQ2yVJkqRt2GaIq6o7gOck+XfAU1r5H6vqG0NvmSRJkrZqWt8TV1XfBL455LZIkiRpmnzqgiRJUgcZ4iRJkjrIECdJktRBhjhJkqQOMsRJkiR1kCFOkiSpgwxxkiRJHWSIkyRJ6iBDnCRJUgfNeIhL8sQkl/e97kny9iTvS7K6r/6yvnXenWRlkuuTvKSvfmSrrUxy0kzviyRJ0qhM67Fbg1RV1wOHASQZA1YDXwBeD3y4qj7Yv3ySQ4FjgCcDvwL8U5IntNkfAV4ErAIuSbKiqq6dif2QJEkapRkPcZt5IXBjVd2aZGvLHAWcU1UPAjcnWQk8q81bWVU3ASQ5py1riJMkSbPeqO+JOwY4u+/9W5NcmeT0JPu02v7AbX3LrGq1rdUlSZJmvZGFuCTzgFcCn2mlU4DH07vUugb40AA/68Qklya5dN26dYParCRJ0siMsifupcAPq+oOgKq6o6omq2oj8DE2XTJdDRzQt97SVtta/V+pqlOranlVLV+0aNGAd0OSJGnmjTLEHUvfpdQkS/rmvQq4uk2vAI5JMj/JMuAQ4PvAJcAhSZa1Xr1j2rKSJEmz3kgGNiTZg96o0t/vK/95ksOAAm6ZmldV1yT5NL0BCxPAW6pqsm3nrcB5wBhwelVdM1P7IEmSNEojCXFVdS/w6M1qv7uN5d8PvH8L9XOBcwfeQEmSpJ3cqEenSpIk6WEwxEmSJHWQIU6SJKmDDHGSJEkdZIiTJEnqIEOcJElSBxnihmRiYoKJiYlRN0OSJM1ShjhJkqQOMsRJkiR1kCFOkiSpgwxxkiRJHWSIG4KqYmJigqoadVMkSdIsZYgbgo0bJ/mrr1/D5OTkqJsiSZJmKUPckMwZGx91EyRJ0ixmiJMkSeogQ9wQTE5OsHHjxlE3Q5IkzWKGOEmSpA4yxEmSJHWQIU6SJKmDDHGSJEkdZIiTJEnqIEOcJElSBxniJEmSOsgQJ0mS1EGGOEmSpA4yxEmSJHXQyEJckluSXJXk8iSXttq+Sc5PckP7uU+rJ8nJSVYmuTLJM/q2c3xb/oYkx49qfyRJkmbSqHvi/l1VHVZVy9v7k4ALquoQ4IL2HuClwCHtdSJwCvRCH/Be4NnAs4D3TgU/SZKk2WzUIW5zRwFntukzgaP76mdVz0XA3kmWAC8Bzq+qO6vqZ8D5wJEz3GZJkqQZN8oQV8DXk/wgyYmttriq1rTp24HFbXp/4La+dVe12tbqkiRJs9r4CD/7uVW1OsljgPOTXNc/s6oqSQ3ig1pIPBHgwAMPHMQmJUmSRmpkPXFVtbr9XAt8gd49bXe0y6S0n2vb4quBA/pWX9pqW6tv/lmnVtXyqlq+aNGiQe+KJEnSjBtJiEuyR5KFU9PAi4GrgRXA1AjT44EvtekVwHFtlOoRwN3tsut5wIuT7NMGNLy41SRJkma1UV1OXQx8IclUGz5ZVV9Lcgnw6SRvAG4FXtOWPxd4GbASuA94PUBV3ZnkfwKXtOX+pKrunLnd2LqqYmJigqqi7ackSdLApGogt511xvLly+vSSy8d2vYnJib4wJcv4xcPPsD4+Hz++OhnMD4+ylsPJUlSh221J2hn+4qRWWXO2NiomyBJkmYpQ9yATW4s7li/YdTNkCRJs5whbsD+7nu38uVrf8Y9D0yOuimSJGkWM8QN2NGHLWFO4Np1vxh1UyRJ0ixmiBuw/RbM5/H7zuPGOzfwwMTGUTdHkiTNUoa4ITh08W5MFly/9r5RN0WSJM1Shrgh2PdR4zx2wRjX3H4fGybtjZMkSYNniBuSJ+03l/s2bOSrV98+6qZIkqRZyBA3JPsvHGOPeXO44Lp1o26KJEmahQxxQ5KEPeaNcdd9fmecJEkaPEPcEM0bC+sfMMRJkqTBM8QN0fzxOdzzwMSomyFJkmYhQ9wQzRsLd99vT5wkSRo8Q9wQzRufw/oHJqiqUTdFkiTNMoa4IZqbYmJjcf8Gn6MqSZIGyxA3RPPGe4f3nvu9L06SJA2WIW6I5o0FwPviJEnSwBnihmgqxN3j14xIkqQBM8QN0bzxFuLsiZMkSQNmiBuieWPtnjh74iRJ0oAZ4oZo/tTlVAc2SJKkATPEDZEDGyRJ0rAY4oZozpzwqLlj3hMnSZIGzhA3RJOTEyzcbcx74iRJ0sAZ4oZs4W7j3hMnSZIGzhA3ZHvuNm5PnCRJGjhD3JAt3G3cgQ2SJGngZjzEJTkgyTeTXJvkmiRva/X3JVmd5PL2elnfOu9OsjLJ9Ule0lc/stVWJjlppvdlOhbOtydOkiQN3vgIPnMCeEdV/TDJQuAHSc5v8z5cVR/sXzjJocAxwJOBXwH+KckT2uyPAC8CVgGXJFlRVdfOyF5MQ1WxYN6Y98RJkqSBm/EQV1VrgDVten2SHwH7b2OVo4BzqupB4OYkK4FntXkrq+omgCTntGV3nhC3cZIf3XE36x/YwMaNxZw5GXWTJEnSLDHSe+KSHAQ8Hbi4ld6a5MokpyfZp9X2B27rW21Vq22tvlPZbe4YGwt+/gt74yRJ0uCMLMQlWQB8Dnh7Vd0DnAI8HjiMXk/dhwb4WScmuTTJpevWrRvUZqdl3kOP3vK+OEmSNDgjCXFJ5tILcJ+oqs8DVNUdVTVZVRuBj7Hpkulq4IC+1Ze22tbq/0pVnVpVy6tq+aJFiwa7M9sxb7x3iL0vTpIkDdIoRqcGOA34UVX9ZV99Sd9irwKubtMrgGOSzE+yDDgE+D5wCXBIkmVJ5tEb/LBiJvZhR8yf6olzhKokSRqgUYxO/Q3gd4Grklzean8MHJvkMKCAW4DfB6iqa5J8mt6AhQngLVU1CZDkrcB5wBhwelVdM3O7MT1jKcDLqZIkabBGMTr1O8CWhmmeu4113g+8fwv1c7e13s5g/nhvV/3CX0mSNEg+sWHIHhrY8ID3xEmSpMExxA3ZXEenSpKkITDEDdmchAXzxxzYIEmSBsoQN2STkxO956f6FSOSJGmADHEzYM/dxx3YIEmSBsoQNwMWzh/3cqokSRooQ9wM2HO3cQc2SJKkgTLEzYCFu42z3q8YkSRJA2SImwELd/OeOEmSNFiGuCGrKhbMm8PPH5xgYnLjqJsjSZJmCUPckNXGSS679U4Afv6gl1QlSdJgGOJmwPy5vUfU+l1xkiRpUAxxM2D+eO/RW2vXPzDilkiSpNnCEDcDHrNgLgD/cuNPR9wSSZI0WxjiZsBYbeDQJQv49o/XjbopkiRpljDEzZDfOHhfLrvtLp/cIEmSBsIQNwOqiiMetyeTG4vvrfzJqJsjSZJmAUPcDKiNk/zzdbezx/wxvv1jQ5wkSXrkDHEzJHPg15fty4U/XkdVjbo5kiSp4wxxM6Sq+PVle7P6rvu5cd29o26OJEnqOEPcDJnY8CDXrep9xciFjlKVJEmPkCFuBu02Nsnj9t2NM753M1fc9jMmJia8tCpJkh4WQ9wMqo2TPGHv8JP1D/I7f/s9Xv233+En6+8fdbMkSVIHGeJm2OIFY7zySQtYtvcYl//fe3nOn32Lt37yh/zzDevYuNFeOUmSND3jo27Armg8GznigN154n6T3HjnBBf+eC1fuXIN++81n39/+FKOfvpSDl60YNTNlCRJOzFD3Ajts/sYy/cfY2LDBLetn8NNd01w8jdu5ORv3Mjj93sULzx0Mc8+aB+euezR7Ln7vFE3V5Ik7UQ6H+KSHAn8NTAGfLyqPjDiJu2w8bnjLNt3nGX7ws8f2MCqezayav2DnPadmzn1wpuZEzh0yUKevWxfjjj40Rx+4N7ss2A3koy66ZIkaUQ6HeKSjAEfAV4ErAIuSbKiqq4dbcsevgW7zeVJu8GTHgMbNkzwkwfgjvUT3HHXvfzd99Zz2ndvBeDfPHYBT1u6F0967EKeuGQvHrvX7ixaOJ895o0Z7iRJ2gV0OsQBzwJWVtVNAEnOAY4COhvi+s2dO86SubBkYe8/08TG4ic/38Da++GO9ffx+ct+zi8mf3md3efOYdHC+ey3YD6LFsxjvwXz2XO3ceaPz2He1Gus93P++Bx2nz+X+XPHmN9q42NzGJ+T3vScMHdsDnPH5jA+FsYS5iQQmBOYk5D2E375/ZxgmJQkaYi6HuL2B27re78KePaI2vKQjZMT1OTk9hfcQWPA4j3GWLwHPHW/MaqK+yfg7vsnuH+iN/3ARHH/xIOs/skDrLy9V9uwceBNmbaW+R4KeJkKePR+MhUGN1sHestsXvvlbffN38Jyg46QwwilA9/iEHJzhrDRQR/KYfzvwuDbuPMfx2HoQhulhyMJX3vb89l93tjI2tD1EDctSU4ETmxvf57k+iF/5H6AT7rv8Vj0eBw28Vhs4rHo8Ths4rHYZKc/Fo/6oxn5mK9V1ZFbmtH1ELcaOKDv/dJW+yVVdSpw6kw1KsmlVbV8pj5vZ+ax6PE4bOKx2MRj0eNx2MRjsYnHYvu6/mW/lwCHJFmWZB5wDLBixG2SJEkauk73xFXVRJK3AufRu2Xs9Kq6ZsTNkiRJGrpOhziAqjoXOHfU7djMjF267QCPRY/HYROPxSYeix6PwyYei008FtuRKp/XKUmS1DVdvydOkiRpl2SIG7AkRya5PsnKJCeNuj3DlOSAJN9Mcm2Sa5K8rdX3TXJ+khvaz31aPUlObsfmyiTPGO0eDFaSsSSXJflKe78sycVtfz/VBt+QZH57v7LNP2ikDR+wJHsn+WyS65L8KMmv78LnxP/T/m1cneTsJLvtKudFktOTrE1ydV9th8+DJMe35W9Icvwo9uWR2Mpx+Iv27+PKJF9IsnffvHe343B9kpf01Tv/t2VLx6Jv3juSVJL92vtZe04MVFX5GtCL3uCKG4GDgXnAFcCho27XEPd3CfCMNr0Q+DFwKPDnwEmtfhLwZ236ZcBX6X036xHAxaPehwEfjz8EPgl8pb3/NHBMm/4o8F/a9JuBj7bpY4BPjbrtAz4OZwK/16bnAXvviucEvS8jvxnYve98OGFXOS+A5wPPAK7uq+3QeQDsC9zUfu7TpvcZ9b4N4Di8GBhv03/WdxwObX835gPL2t+Tsdnyt2VLx6LVD6A3QPFWYL/Zfk4M8mVP3GA99BiwqvoFMPUYsFmpqtZU1Q/b9HrgR/T+cB1F7w857efRbfoo4KzquQjYO8mSmW31cCRZCrwc+Hh7H+A3gc+2RTY/DlPH57PAC9vynZdkL3q/qE8DqKpfVNVd7ILnRDMO7J5kHHgUsIZd5LyoqguBOzcr7+h58BLg/Kq6s6p+BpwPbPFLT3dWWzoOVfX1qppoby+i9x2n0DsO51TVg1V1M7CS3t+VWfG3ZSvnBMCHgT8C+m/Sn7XnxCAZ4gZrS48B239EbZlR7dLP04GLgcVVtabNuh1Y3KZn8/H5K3q/hKYecvZo4K6+X9T9+/rQcWjz727LzwbLgHXA37VLyx9Psge74DlRVauBDwL/h154uxv4AbvmeTFlR8+DWXt+9PnP9HqcYBc8DkmOAlZX1RWbzdrljsXDYYjTI5ZkAfA54O1VdU//vOr1f8/qIdBJXgGsraofjLotO4FxepdLTqmqpwP30rts9pBd4ZwAaPd7HUUv2P4KsAe7cI/B5naV82BbkrwHmAA+Meq2jEKSRwF/DPz3UbelqwxxgzWtx4DNJknm0gtwn6iqz7fyHVOXxNrPta0+W4/PbwCvTHILvcscvwn8Nb3u/6nvYuzf14eOQ5u/F/DTmWzwEK0CVlXVxe39Z+mFul3tnAD4LeDmqlpXVRuAz9M7V3bF82LKjp4Hs/b8SHIC8ArgdS3Qwq53HB5P739yrmi/P5cCP0zyWHa9Y/GwGOIGa5d6DFi7X+c04EdV9Zd9s1YAUyOGjge+1Fc/ro06OgK4u+/SSmdV1buramlVHUTvv/k3qup1wDeBV7fFNj8OU8fn1W35WdEjUVW3A7cleWIrvRC4ll3snGj+D3BEkke1fytTx2KXOy/67Oh5cB7w4iT7tJ7NF7dapyU5kt7tF6+sqvv6Zq0AjmkjlZcBhwDfZ5b+bamqq6rqMVV1UPv9uYreYLnb2cXOiYdt1CMrZtuL3oiaH9MbSfSeUbdnyPv6XHqXQ64ELm+vl9G7j+cC4Abgn4B92/IBPtKOzVXA8lHvwxCOyQvYNDr1YHq/gFcCnwHmt/pu7f3KNv/gUbd7wMfgMODSdl58kd4Isl3ynAD+B3AdcDXw9/RGHe4S5wVwNr17ATfQ++P8hodzHtC7Z2xle71+1Ps1oOOwkt59XVO/Nz/at/x72nG4HnhpX73zf1u2dCw2m38Lm0anztpzYpAvn9ggSZLUQV5OlSRJ6iBDnCRJUgcZ4iRJkjrIECdJktRBhjhJkqQOMsRJkiR1kCFOUqcleV+S/zbE7b8yyUnbX3La2/v5Di5/QpL/1aaPTnLooNoiqdsMcZK0DVW1oqo+MOp2NEcDOxTi+h7xJWmWMcRJ6pwk70ny4yTfAZ7Yam9MckmSK5J8rj3uamGSm9szfkmy59T7JP81ybVJrkxyzjY+q78n7IwkJyf5XpKbkrx6G+stSXJhksuTXJ3keX3z3t/aeVGSxa22qLX7kvb6jc229xzglcBftG0+vr2+luQHSf45yZP62vnRJBcDf/5wj7OknZshTlKnJDmc3rMjD6P3KKJntlmfr6pnVtXTgB/Re6TPeuBbwMvbMse05TYAJwFPr6pfA960A01YQu+Rc68AttVD9x+B86rqMOBp9B6vBLAHcFFr54XAG1v9r4EPV9UzgX8PfLx/Y1X1PXrPk3xnVR1WVTcCpwJ/UFWHA/8N+Nu+VZYCz6mqP9yBfZPUIXazS+qa5wFfqPbg8CRTDwJ/SpI/BfYGFrDpodgfp/ew8S8Cr2dTaLoS+ESSL7Z50/XFqtoIXDvVi7YVlwCnt17AL1bV5a3+C+ArbfoHwIva9G8BhyaZWn/PJAu2tvE27znAZ/rWmd+3yGeqanJ6uySpiwxxkmaLM4Cjq+qKJCcALwCoqu8mOSjJC4Cxqrq6Lf9y4PnAbwPvSfLUqpqYxuc82DedrS1UVRcmeX77nDOS/GVVnQVsqE0PrZ5k0+/hOcARVfVA/3b6Atrm5gB3tZ6+Lbl3m3shqfO8nCqpay4Ejk6ye5KF9EIYwEJgTev5et1m65wFfBL4O4Akc4ADquqbwLuAvej13g1MkscBd1TVx+j1Bj5jO6t8HfiDvvUP28Iy6+ntJ1V1D3Bzkv/Qlk+Spw2g6ZI6whAnqVOq6ofAp4ArgK/Su2wJ8P8BFwPfBa7bbLVPAPsAZ7f3Y8A/JLkKuAw4uaruGnBTXwBckeQy4LX07nnblv8KLG8DLa5ly/fpnQO8M8llSR5PL6y+IckVwDXAUQNrvaSdXjb16kvS7NRGkR5VVb876rZI0qB4T5ykWS3J3wAvpTeSVZJmDXviJAlI8nrgbZuVv1tVb9nOek8F/n6z8oNV9exBtk+SNmeIkyRJ6iAHNkiSJHWQIU6SJKmDDHGSJEkdZIiTJEnqIEOcJElSB/3/cajTq9xMeBEAAAAASUVORK5CYII=\n",
      "text/plain": [
       "<Figure size 720x360 with 1 Axes>"
      ]
     },
     "metadata": {
      "needs_background": "light"
     },
     "output_type": "display_data"
    }
   ],
   "source": [
    "def plot_dist(series=df[\"days_in_shelter\"], title=\"Days in Shelter\"):\n",
    "    fig, axs = plt.subplots(figsize = [10,5])\n",
    "    sns.histplot(series, kde=True, discrete=True, ax = axs)\n",
    "    sns.despine()\n",
    "    plt.title(title);\n",
    "    plt.show()\n",
    "plot_dist()"
   ]
  },
  {
   "cell_type": "code",
   "execution_count": 90,
   "id": "e3c856d8-8a53-4dfe-968c-ffc4ed093921",
   "metadata": {},
   "outputs": [
    {
     "data": {
      "image/png": "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\n",
      "text/plain": [
       "<Figure size 720x360 with 1 Axes>"
      ]
     },
     "metadata": {
      "needs_background": "light"
     },
     "output_type": "display_data"
    }
   ],
   "source": [
    "# drop absurd values \n",
    "plot_dist(df[df.days_in_shelter.between(0, 60)]['days_in_shelter'])"
   ]
  },
  {
   "cell_type": "code",
<<<<<<< HEAD
   "execution_count": 91,
=======
   "execution_count": 94,
>>>>>>> 3d8745b8e3f17c0b898760874f6b0f63907a5cfe
   "id": "dc5a5113-88af-4de5-94ce-7dd63ccd2499",
   "metadata": {},
   "outputs": [],
   "source": [
    "#Let's visualize our target in bins\n",
    "\n",
    "def bins(df, column):\n",
    "    bins = []\n",
    "    for row in df[column]:\n",
    "        if row in range(0,16):\n",
    "            bins.append('[0,15]')\n",
    "        elif row in range(16,31):\n",
    "            bins.append('[16,30]')\n",
    "        elif row in range(31,61):\n",
    "            bins.append('[31,60]')\n",
    "        else:\n",
    "            bins.append('[+60]')\n",
<<<<<<< HEAD
    "    return bins"
   ]
  },
  {
   "cell_type": "code",
   "execution_count": 92,
   "id": "12a8afe1-f08f-4241-a661-16006afd3d98",
   "metadata": {},
   "outputs": [],
   "source": [
=======
    "    return bins\n",
    "\n",
>>>>>>> 3d8745b8e3f17c0b898760874f6b0f63907a5cfe
    "df['day_bins'] = bins(df,'days_in_shelter')"
   ]
  },
  {
   "cell_type": "code",
   "execution_count": 93,
   "id": "bb11baf4-826f-452d-890e-2f4d3537cee1",
   "metadata": {},
   "outputs": [
    {
     "data": {
      "text/html": [
       "<div>\n",
       "<style scoped>\n",
       "    .dataframe tbody tr th:only-of-type {\n",
       "        vertical-align: middle;\n",
       "    }\n",
       "\n",
       "    .dataframe tbody tr th {\n",
       "        vertical-align: top;\n",
       "    }\n",
       "\n",
       "    .dataframe thead th {\n",
       "        text-align: right;\n",
       "    }\n",
       "</style>\n",
       "<table border=\"1\" class=\"dataframe\">\n",
       "  <thead>\n",
       "    <tr style=\"text-align: right;\">\n",
       "      <th></th>\n",
       "      <th>Animal ID</th>\n",
       "      <th>Intake Type</th>\n",
       "      <th>Intake Condition</th>\n",
       "      <th>Animal Type</th>\n",
       "      <th>Breed</th>\n",
       "      <th>Outcome Type</th>\n",
       "      <th>days_in_shelter</th>\n",
       "      <th>age_upon_intake_months</th>\n",
       "      <th>age_upon_intake_years</th>\n",
       "      <th>age_upon_outcome_months</th>\n",
       "      <th>age_upon_outcome_years</th>\n",
       "      <th>neutered_or_spayed</th>\n",
       "      <th>male_or_female</th>\n",
       "      <th>group_color</th>\n",
       "      <th>day_bins</th>\n",
       "    </tr>\n",
       "  </thead>\n",
       "  <tbody>\n",
       "    <tr>\n",
       "      <th>0</th>\n",
       "      <td>A006100</td>\n",
       "      <td>Public Assist</td>\n",
       "      <td>Normal</td>\n",
       "      <td>Dog</td>\n",
       "      <td>Mixed</td>\n",
       "      <td>Return to Owner</td>\n",
       "      <td>2.0</td>\n",
       "      <td>72.0</td>\n",
       "      <td>6.0</td>\n",
       "      <td>72.0</td>\n",
       "      <td>6.0</td>\n",
       "      <td>1</td>\n",
       "      <td>1.0</td>\n",
       "      <td>Yellow</td>\n",
       "      <td>[0,15]</td>\n",
       "    </tr>\n",
       "    <tr>\n",
       "      <th>1</th>\n",
       "      <td>A047759</td>\n",
       "      <td>Owner Surrender</td>\n",
       "      <td>Normal</td>\n",
       "      <td>Dog</td>\n",
       "      <td>Dachshund</td>\n",
       "      <td>Transfer</td>\n",
       "      <td>5.0</td>\n",
       "      <td>120.0</td>\n",
       "      <td>10.0</td>\n",
       "      <td>120.0</td>\n",
       "      <td>10.0</td>\n",
       "      <td>1</td>\n",
       "      <td>1.0</td>\n",
       "      <td>Tricolor</td>\n",
       "      <td>[0,15]</td>\n",
       "    </tr>\n",
       "  </tbody>\n",
       "</table>\n",
       "</div>"
      ],
      "text/plain": [
       "  Animal ID      Intake Type Intake Condition Animal Type      Breed  \\\n",
       "0   A006100    Public Assist           Normal         Dog      Mixed   \n",
       "1   A047759  Owner Surrender           Normal         Dog  Dachshund   \n",
       "\n",
       "      Outcome Type  days_in_shelter  age_upon_intake_months  \\\n",
       "0  Return to Owner              2.0                    72.0   \n",
       "1         Transfer              5.0                   120.0   \n",
       "\n",
       "   age_upon_intake_years  age_upon_outcome_months  age_upon_outcome_years  \\\n",
       "0                    6.0                     72.0                     6.0   \n",
       "1                   10.0                    120.0                    10.0   \n",
       "\n",
       "   neutered_or_spayed  male_or_female group_color day_bins  \n",
       "0                   1             1.0      Yellow   [0,15]  \n",
       "1                   1             1.0    Tricolor   [0,15]  "
      ]
     },
     "execution_count": 93,
     "metadata": {},
     "output_type": "execute_result"
    }
   ],
   "source": [
    "df.head(2)"
   ]
  },
  {
   "cell_type": "code",
<<<<<<< HEAD
   "execution_count": 57,
   "id": "4a3209e1-5b61-4b92-8bed-5db87199f457",
=======
   "execution_count": 121,
   "id": "9a0f4f76-5f3e-44aa-bdb3-42e6a3197e28",
   "metadata": {},
   "outputs": [
    {
     "data": {
      "image/png": "iVBORw0KGgoAAAANSUhEUgAABDAAAAFgCAYAAABNIolGAAAAOXRFWHRTb2Z0d2FyZQBNYXRwbG90bGliIHZlcnNpb24zLjQuMywgaHR0cHM6Ly9tYXRwbG90bGliLm9yZy/MnkTPAAAACXBIWXMAAAsTAAALEwEAmpwYAAAhGUlEQVR4nO3df7RmdX0f+vcnjChJJIBOKWGwQkNsUSORE8RGE6MrMNg00NRavIlMKJG2atqs3qQlvesujLbrmpu0qSTGlioB0jSUmqjcVJ1Oicab3oAcFfkZLyPRy3BB0EGImqvBfO4fz3f0cTwzc2DmOWfPzOu11rOevT/7u/f+btbazxze67v3t7o7AAAAAFP2LevdAQAAAIB9EWAAAAAAkyfAAAAAACZPgAEAAABMngADAAAAmLwN692BtbZ58+Z+//vfv97dAAAAAFZWKxUPuxEYn/3sZ9e7CwAAAMDjdNgFGAAAAMDBR4ABAAAATJ4AAwAAAJg8AQYAAAAweQIMAAAAYPIEGAAAAMDkCTAAAACAyRNgAAAAAJMnwAAAAAAmT4ABAAAATJ4AAwAAAJg8AQYAAAAweQIMAAAAYPI2rHcHDkXL99y/3l2ASVs65YT17gIAAHCQMQIDAAAAmDwBBgAAADB5AgwAAABg8gQYAAAAwOQJMAAAAIDJE2AAAAAAkyfAAAAAACZPgAEAAABMngADAAAAmDwBBgAAADB5AgwAAABg8gQYAAAAwOQJMAAAAIDJE2AAAAAAkyfAAAAAACZPgAEAAABM3sICjKp6VlXdMvd5tKp+pqqOq6ptVXX3+D52tK+quryqtlfVrVX1/LljbRnt766qLXP1M6rqtrHP5VVVi7oeAAAAYP0sLMDo7k909+ndfXqSM5J8Kcm7klya5IbuPjXJDWM9Sc5Ncur4XJLkbUlSVccluSzJC5KcmeSyXaHHaPOauf02L+p6AAAAgPWzVo+QvCzJJ7v700nOS3L1qF+d5PyxfF6Sa3rmxiTHVNUJSc5Jsq27d3b3w0m2Jdk8th3d3Td2dye5Zu5YAAAAwCFkrQKMC5L89lg+vrvvH8sPJDl+LJ+Y5N65fXaM2t7qO1aoAwAAAIeYhQcYVXVkkh9N8l923zZGTvQa9OGSqlququWHHnpo0acDAAAADrC1GIFxbpKPdvdnxvpnxuMfGd8Pjvp9SU6a22/TqO2tvmmF+jfp7iu6e6m7lzZu3LiflwMAAACstbUIMF6Vrz8+kiTXJ9k1k8iWJO+Zq184ZiM5K8kj41GTrUnOrqpjx8s7z06ydWx7tKrOGrOPXDh3LAAAAOAQsmGRB6+qb0vyw0n+wVz5zUmuq6qLk3w6yStH/b1JXp5ke2YzllyUJN29s6relOTm0e6N3b1zLL82yVVJjkryvvEBAAAADjELDTC6+4tJnrZb7XOZzUqye9tO8ro9HOfKJFeuUF9O8pwD0lkAAABgstZqFhIAAACAJ0yAAQAAAEyeAAMAAACYPAEGAAAAMHkCDAAAAGDyBBgAAADA5AkwAAAAgMkTYAAAAACTJ8AAAAAAJk+AAQAAAEyeAAMAAACYPAEGAAAAMHkCDAAAAGDyBBgAAADA5AkwAAAAgMkTYAAAAACTJ8AAAAAAJk+AAQAAAEyeAAMAAACYPAEGAAAAMHkCDAAAAGDyBBgAAADA5AkwAAAAgMkTYAAAAACTJ8AAAAAAJk+AAQAAAEyeAAMAAACYPAEGAAAAMHkCDAAAAGDyBBgAAADA5C00wKiqY6rqnVX1x1V1V1W9sKqOq6ptVXX3+D52tK2quryqtlfVrVX1/LnjbBnt766qLXP1M6rqtrHP5VVVi7weAAAAYH0segTGW5K8v7v/WpLnJbkryaVJbujuU5PcMNaT5Nwkp47PJUneliRVdVySy5K8IMmZSS7bFXqMNq+Z22/zgq8HAAAAWAcLCzCq6juS/ECSdyRJd3+luz+f5LwkV49mVyc5fyyfl+SanrkxyTFVdUKSc5Js6+6d3f1wkm1JNo9tR3f3jd3dSa6ZOxYAAABwCFnkCIyTkzyU5Deq6mNV9faq+rYkx3f3/aPNA0mOH8snJrl3bv8do7a3+o4V6t+kqi6pquWqWn7ooYf287IAAACAtbbIAGNDkucneVt3f2+SL+brj4skScbIiV5gH3ad54ruXurupY0bNy76dAAAAMABtsgAY0eSHd1901h/Z2aBxmfG4x8Z3w+O7fclOWlu/02jtrf6phXqAAAAwCFmYQFGdz+Q5N6qetYovSzJnUmuT7JrJpEtSd4zlq9PcuGYjeSsJI+MR022Jjm7qo4dL+88O8nWse3RqjprzD5y4dyxAAAAgEPIhgUf/6eT/FZVHZnkniQXZRaaXFdVFyf5dJJXjrbvTfLyJNuTfGm0TXfvrKo3Jbl5tHtjd+8cy69NclWSo5K8b3wAAACAQ0zNXkNx+FhaWurl5eWFnmP5nvv33QgOY0unnLDeXQAAAKarViou8h0YAAAAAAeEAAMAAACYPAEGAAAAMHkCDAAAAGDyBBgAAADA5AkwAAAAgMkTYAAAAACTJ8AAAAAAJk+AAQAAAEyeAAMAAACYPAEGAAAAMHkCDAAAAGDyBBgAAADA5AkwAAAAgMkTYAAAAACTJ8AAAAAAJk+AAQAAAEyeAAMAAACYPAEGAAAAMHkCDAAAAGDyBBgAAADA5AkwAAAAgMkTYAAAAACTJ8AAAAAAJk+AAQAAAEyeAAMAAACYPAEGAAAAMHkCDAAAAGDyBBgAAADA5AkwAAAAgMlbaIBRVZ+qqtuq6paqWh6146pqW1XdPb6PHfWqqsurantV3VpVz587zpbR/u6q2jJXP2Mcf/vYtxZ5PQAAAMD6WIsRGD/U3ad399JYvzTJDd19apIbxnqSnJvk1PG5JMnbklngkeSyJC9IcmaSy3aFHqPNa+b227z4ywEAAADW2no8QnJekqvH8tVJzp+rX9MzNyY5pqpOSHJOkm3dvbO7H06yLcnmse3o7r6xuzvJNXPHAgAAAA4hiw4wOsl/q6qPVNUlo3Z8d98/lh9IcvxYPjHJvXP77hi1vdV3rFD/JlV1SVUtV9XyQw89tD/XAwAAAKyDDQs+/ou6+76q+ktJtlXVH89v7O6uql5wH9LdVyS5IkmWlpYWfj4AAADgwFroCIzuvm98P5jkXZm9w+Iz4/GPjO8HR/P7kpw0t/umUdtbfdMKdQAAAOAQs7AAo6q+raqeums5ydlJbk9yfZJdM4lsSfKesXx9kgvHbCRnJXlkPGqyNcnZVXXseHnn2Um2jm2PVtVZY/aRC+eOBQAAABxCFvkIyfFJ3jVmNt2Q5D919/ur6uYk11XVxUk+neSVo/17k7w8yfYkX0pyUZJ0986qelOSm0e7N3b3zrH82iRXJTkqyfvGBwAAADjE1GwCj8PH0tJSLy8vL/Qcy/fcv+9GcBhbOuWE9e4CAAAwXbVScT2mUQUAAAB4XAQYAAAAwOQJMAAAAIDJE2AAAAAAkyfAAAAAACZPgAEAAABMngADAAAAmDwBBgAAADB5AgwAAABg8gQYAAAAwOQJMAAAAIDJE2AAAAAAkyfAAAAAACZPgAEAAABMngADAAAAmDwBBgAAADB5AgwAAABg8gQYAAAAwOQJMAAAAIDJE2AAAAAAkyfAAAAAACZPgAEAAABMngADAAAAmDwBBgAAADB5qwowquqG1dQAAAAAFmHD3jZW1VOSfGuSp1fVsUlqbDo6yYkL7hsAAABAkn0EGEn+QZKfSfKdST6SrwcYjyb5tcV1CwAAAODr9hpgdPdbkrylqn66u391jfoEAAAA8A32NQIjSdLdv1pVfyPJM+f36e5rFtQvAAAAgK9ZVYBRVb+Z5K8muSXJV0e5kwgwAAAAgIVbVYCRZCnJad3dj/cEVXVEkuUk93X3j1TVyUmuTfK0zN6r8eru/kpVPTmzQOSMJJ9L8ve6+1PjGD+f5OLMwpN/3N1bR31zkrckOSLJ27v7zY+3fwAAAMD0rWoa1SS3J/nLT/Ac/yTJXXPrv5jkV7r7u5I8nFkwkfH98Kj/ymiXqjotyQVJnp1kc5Jfr6ojRjDy1iTnJjktyatGWwAAAOAQs9oA4+lJ7qyqrVV1/a7Pvnaqqk1J/maSt4/1SvLSJO8cTa5Ocv5YPm+sZ2x/2Wh/XpJru/vL3f0nSbYnOXN8tnf3Pd39lcxGdZy3yusBAAAADiKrfYTkDU/w+P82yT9L8tSx/rQkn+/ux8b6jiQnjuUTk9ybJN39WFU9MtqfmOTGuWPO73PvbvUXrNSJqrokySVJ8oxnPOMJXgoAAACwXlY7C8kfPN4DV9WPJHmwuz9SVS95vPsfSN19RZIrkmRpaelxv8cDAAAAWF+rnYXkTzObdSRJjkzypCRf7O6j97Lb9yf50ap6eZKnJDk6sxduHlNVG8YojE1J7hvt70tyUpIdVbUhyXdk9jLPXfVd5vfZUx0AAAA4hKzqHRjd/dTuPnoEFkcl+TtJfn0f+/x8d2/q7mdm9hLO3+/uH0/ygSSvGM22JHnPWL5+rGds//0x68n1SS6oqiePGUxOTfLhJDcnObWqTq6qI8c59vleDgAAAODgs9qXeH5Nz7w7yTlP8Jz/PMk/rartmb3j4h2j/o4kTxv1f5rk0nG+O5Jcl+TOJO9P8rru/uoYwfH6JFszm+XkutEWAAAAOMTUbJDDPhpV/djc6rckWUryg939wkV1bFGWlpZ6eXl5oedYvuf+hR4fDnZLp5yw3l0AAACmq1YqrnYWkr81t/xYkk/FlKUAAADAGlntLCQXLbojAAAAAHuyqndgVNWmqnpXVT04Pr9TVZsW3TkAAACAZPUv8fyNzGb4+M7x+T9GDQAAAGDhVhtgbOzu3+jux8bnqiQbF9gvAAAAgK9ZbYDxuar6iao6Ynx+IsnnFtkxAAAAgF1WG2D8/SSvTPJAkvuTvCLJTy6oTwAAAADfYLXTqL4xyZbufjhJquq4JL+cWbABAAAAsFCrHYHxPbvCiyTp7p1JvncxXQIAAAD4RqsNML6lqo7dtTJGYKx29AYAAADAflltCPGvk/xRVf2Xsf53k/yrxXQJAAAA4ButKsDo7muqajnJS0fpx7r7zsV1CwAAAODrVv0YyAgshBYAAADAmlvtOzAAAAAA1o0AAwAAAJg8AQYAAAAweQIMAAAAYPIEGAAAAMDkCTAAAACAyRNgAAAAAJMnwAAAAAAmT4ABAAAATJ4AAwAAAJg8AQYAAAAweQIMAAAAYPIEGAAAAMDkCTAAAACAyRNgAAAAAJMnwAAAAAAmb2EBRlU9pao+XFUfr6o7quoXRv3kqrqpqrZX1X+uqiNH/cljffvY/sy5Y/38qH+iqs6Zq28ete1VdemirgUAAABYX4scgfHlJC/t7uclOT3J5qo6K8kvJvmV7v6uJA8nuXi0vzjJw6P+K6Ndquq0JBckeXaSzUl+vaqOqKojkrw1yblJTkvyqtEWAAAAOMQsLMDomS+M1SeNTyd5aZJ3jvrVSc4fy+eN9YztL6uqGvVru/vL3f0nSbYnOXN8tnf3Pd39lSTXjrYAAADAIWah78AYIyVuSfJgkm1JPpnk89392GiyI8mJY/nEJPcmydj+SJKnzdd322dPdQAAAOAQs9AAo7u/2t2nJ9mU2YiJv7bI8+1JVV1SVctVtfzQQw+tRxcAAACA/bAms5B09+eTfCDJC5McU1UbxqZNSe4by/clOSlJxvbvSPK5+fpu++ypvtL5r+jupe5e2rhx44G4JAAAAGANLXIWko1VdcxYPirJDye5K7Mg4xWj2ZYk7xnL14/1jO2/39096heMWUpOTnJqkg8nuTnJqWNWkyMze9Hn9Yu6HgAAAGD9bNh3kyfshCRXj9lCviXJdd39e1V1Z5Jrq+pfJvlYkneM9u9I8ptVtT3JzswCiXT3HVV1XZI7kzyW5HXd/dUkqarXJ9ma5IgkV3b3HQu8HgAAAGCd1GyQw+FjaWmpl5eXF3qO5XvuX+jx4WC3dMoJ690FAABgumql4pq8AwMAAABgfwgwAAAAgMkTYAAAAACTJ8AAAAAAJk+AAQAAAEyeAAMAAACYPAEGAAAAMHkCDAAAAGDyBBgAAADA5AkwAAAAgMkTYAAAAACTJ8AAAAAAJk+AAQAAAEyeAAMAAACYPAEGAAAAMHkCDAAAAGDyBBgAAADA5AkwAAAAgMkTYAAAAACTJ8AAAAAAJk+AAQAAAEyeAAMAAACYPAEGAAAAMHkCDAAAAGDyBBgAAADA5AkwAAAAgMkTYAAAAACTJ8AAAAAAJk+AAQAAAEyeAAMAAACYvIUFGFV1UlV9oKrurKo7quqfjPpxVbWtqu4e38eOelXV5VW1vapurarnzx1ry2h/d1VtmaufUVW3jX0ur6pa1PUAAAAA62eRIzAeS/I/d/dpSc5K8rqqOi3JpUlu6O5Tk9ww1pPk3CSnjs8lSd6WzAKPJJcleUGSM5Nctiv0GG1eM7ff5gVeDwAAALBOFhZgdPf93f3RsfynSe5KcmKS85JcPZpdneT8sXxekmt65sYkx1TVCUnOSbKtu3d298NJtiXZPLYd3d03dncnuWbuWAAAAMAhZE3egVFVz0zyvUluSnJ8d98/Nj2Q5PixfGKSe+d22zFqe6vvWKG+0vkvqarlqlp+6KGH9u9iAAAAgDW38ACjqr49ye8k+ZnufnR+2xg50YvuQ3df0d1L3b20cePGRZ8OAAAAOMAWGmBU1ZMyCy9+q7t/d5Q/Mx7/yPh+cNTvS3LS3O6bRm1v9U0r1AEAAIBDzCJnIakk70hyV3f/m7lN1yfZNZPIliTvmatfOGYjOSvJI+NRk61Jzq6qY8fLO89OsnVse7SqzhrnunDuWAAAAMAhZMMCj/39SV6d5LaqumXU/kWSNye5rqouTvLpJK8c296b5OVJtif5UpKLkqS7d1bVm5LcPNq9sbt3juXXJrkqyVFJ3jc+AAAAwCGmZq+hOHwsLS318vLyQs+xfM/9+24Eh7GlU05Y7y4AAADTVSsV12QWEgAAAID9IcAAAAAAJk+AAQAAAEyeAAMAAACYPAEGAAAAMHkCDAAAAGDyBBgAAADA5AkwAAAAgMkTYAAAAACTJ8AAAAAAJk+AAQAAAEyeAAMAAACYPAEGAAAAMHkCDAAAAGDyBBgAAADA5AkwAAAAgMkTYAAAAACTJ8AAAAAAJk+AAQAAAEyeAAMAAACYPAEGAAAAMHkCDAAAAGDyBBgAAADA5AkwAAAAgMkTYAAAAACTJ8AAAAAAJk+AAQAAAEyeAAMAAACYPAEGAAAAMHkCDAAAAGDyFhZgVNWVVfVgVd0+VzuuqrZV1d3j+9hRr6q6vKq2V9WtVfX8uX22jPZ3V9WWufoZVXXb2OfyqqpFXQsAAACwvhY5AuOqJJt3q12a5IbuPjXJDWM9Sc5Ncur4XJLkbcks8EhyWZIXJDkzyWW7Qo/R5jVz++1+LgAAAOAQsbAAo7s/lGTnbuXzklw9lq9Ocv5c/ZqeuTHJMVV1QpJzkmzr7p3d/XCSbUk2j21Hd/eN3d1Jrpk7FgAAAHCI2bDG5zu+u+8fyw8kOX4sn5jk3rl2O0Ztb/UdK9RXVFWXZDayI894xjP2o/sAX/dvf/MP1rsLMGk/8+ofXO8uAACHkHV7iecYOdFrdK4runupu5c2bty4FqcEAAAADqC1DjA+Mx7/yPh+cNTvS3LSXLtNo7a3+qYV6gAAAMAhaK0DjOuT7JpJZEuS98zVLxyzkZyV5JHxqMnWJGdX1bHj5Z1nJ9k6tj1aVWeN2UcunDsWAAAAcIhZ2Dswquq3k7wkydOrakdms4m8Ocl1VXVxkk8neeVo/t4kL0+yPcmXklyUJN29s6relOTm0e6N3b3rxaCvzWymk6OSvG98AAAOuIt/6pfXuwswae94+8+udxeAw8DCAozuftUeNr1shbad5HV7OM6VSa5cob6c5Dn700cAAADg4LBuL/EEAAAAWK21nkYVAABgkp77XS9a7y7ApN22/Q/X9fxGYAAAAACTJ8AAAAAAJk+AAQAAAEyeAAMAAACYPAEGAAAAMHkCDAAAAGDyBBgAAADA5AkwAAAAgMkTYAAAAACTJ8AAAAAAJk+AAQAAAEyeAAMAAACYPAEGAAAAMHkCDAAAAGDyBBgAAADA5AkwAAAAgMkTYAAAAACTJ8AAAAAAJk+AAQAAAEyeAAMAAACYPAEGAAAAMHkCDAAAAGDyBBgAAADA5AkwAAAAgMkTYAAAAACTJ8AAAAAAJk+AAQAAAEyeAAMAAACYvIM+wKiqzVX1iaraXlWXrnd/AAAAgAPvoA4wquqIJG9Ncm6S05K8qqpOW99eAQAAAAfaQR1gJDkzyfbuvqe7v5Lk2iTnrXOfAAAAgAOsunu9+/CEVdUrkmzu7p8a669O8oLufv1u7S5JcslYfVaST6xpR1lvT0/y2fXuBLAm3O9weHCvw+HD/X54+mx3b969uGE9erLWuvuKJFesdz9YH1W13N1L690PYPHc73B4cK/D4cP9zryD/RGS+5KcNLe+adQAAACAQ8jBHmDcnOTUqjq5qo5MckGS69e5TwAAAMABdlA/QtLdj1XV65NsTXJEkiu7+4517hbT4/EhOHy43+Hw4F6Hw4f7na85qF/iCQAAABweDvZHSAAAAIDDgAADAAAAmDwBBgAAADB5AgwOGlX1zKr6s6q6ZaxvrqpPVNX2qrp0D/v83aq6o6r+oqqWVjrW+Py7uW0fqKovzLcHFm+3+/IpVfXhqvr4uId/Ya7d68d931X19L0c73uq6o/G/rdV1VNG/Yyxvr2qLq+qGvVfqqoHqupnF3+1cPha4d/zK6vqwaq6fYW2P11Vfzzu4/99he1/pao+On437qiqfzi3zb0OE7L7vb/KfVb8Daiqnx/39ieq6pxRO2r8Fnxlb38fcHA7qGch4bD0ye4+vaqOSPLWJD+cZEeSm6vq+u6+c7f2tyf5sST/fk/H2r3Y3T9UVR88sN0GVmnXPV5JXtrdX6iqJyX5w6p6X3ffmOR/JPm9JB/c00GqakOS/5jk1d398ap6WpI/H5vfluQ1SW5K8t4km5O8r7t/rqq+uLArA+bN/xt8VZJfS3LNfIOq+qEk5yV5Xnd/uar+0grHuT/JC8f2b09y+/h74P+Nex2m6Jv+/q6qlyT5ye7+yd3qK/4GVNVpSS5I8uwk35nkv1fVd3f3nyU5vao+teBrYB0ZgcHB6swk27v7nu7+SpJrM/uB+wbdfVd3f2LNewfsl575wlh90vj02Pax7v7UPg5xdpJbu/vjY5/PdfdXq+qEJEd39409m4brmiTnL+IagNXp7g8l2bnCpn+U5M3d/eXR7sEV9v3Kru1Jnpzxt617HQ4Je/oNOC/Jtd395e7+kyTbM/t/Aw4DAgwOVicmuXdufceoPR4nV9XHquoPqurFB65rwIFQVUeMYaYPJtnW3Tc9jt2/O0lX1dYxvPyfjfqJmf1e7PJEfjuAtfHdSV5cVTeNf6u/b6VGVXVSVd2a2d8FvzhGX7jX4eC3p9+AA/H/ARykPELC4er+JM/o7s9V1RlJ3l1Vz+7uR9e7Y8BMd381s6GgxyR5V1U9p7u/6Rn5PdiQ5EVJvi/Jl5LcUFUfSfLIQjoLLMKGJMclOSuze/m6qjpljKj4mu6+N8n3VNV3Zvbv+TvXvqvA41VVN2U2curbkxw3926Mf97dW7OH34D16CvTYQQGB6v7kpw0t75p1FZlDDn73Fj+SJJPZpbyAhPT3Z9P8oHMnl9frR1JPtTdn+3uL2X2/PvzM/ud2DTX7nH9dgBrakeS3x2PlH04yV8k2eOL+cbIi9uTvDjudZi87n7BeB/GTyW5vrtPH5+to8mefgP26/8DOLgJMDhY3Zzk1Ko6uaqOzOxFPtcnSVX9b1X1t/e2c1VtHC8CzUhyT01yz4L7DKzSuEePGctHZfbC3j/exz5nVtWulwBuTfLcqvrW8ULPH0xyZ3ffn+TRqjprvCj0wiTvWdR1APvl3Ul+KEmq6ruTHJnks1V1YlXdMOqbxm9EqurYzEZefcK9DoeEd2eF34DM/ua/oKqeXFUnZ/Z3/IfXq5OsLQEGB6XufizJ6zP7n5S7klzX3XeMzc9N8kCSVNXfrqodSV6Y5L9W1a5E9weS3DqGqr0zyT/s7pVeIAasjxOSfGA8135zZu/A+L0kqap/PO7rTZndx28f+zwjyZ8lSXc/nOTfjH1vSfLR7v6vo91rk7w9s5d+fTLJ+9bkioAVVdVvJ/mjJM+qqh1VdfHYdGWSU2o2veq1SbaMx0dOSPLYaPPXk9xUVR9P8gdJfrm7bxvb3OtwcFvxN2D8zX9dkjuTvD/J68ZjpxwGarfHCGGyquqZSX6vu5+zj3Zbu/uc/TzXB5P8bHcv789xgNVb7T2+l/1/Kclvdvet+9GHNyT5Qnf/8hM9BrB3B+Bef32S/6e7r9+PPrwh7nVYU/t77z+O83wqyVJ3f3aR52F9GIHBweSrSb5j7gU/KzoA4cUHkpyS5M/35zjA47aqe3xPuvvn9jO8+KUkP5Hki0/0GMCq7O+9/mv7GV6412F97Ne9vy9VddQ49pMye18GhyAjMAAAAIDJMwIDAAAAmDwBBgAAADB5AgwAAABg8gQYAMC6qKo3VNXPHqBjfbCqllao/2hVXXogzgEArK8N690BAIBFGbNVPOEZKwCA6TACAwBYM1X1v1TV/11Vf5jkWaP2mqq6uao+XlW/U1XfWlVPrao/qaonjTZHz6/vwaur6paqur2qzhz7/WRV/dpYvqqqLq+q/6uq7qmqV4z6CVX1obl9X7zY/woAwBMhwAAA1kRVnZHkgiSnJ3l5ku8bm363u7+vu5+X5K4kF3f3nyb5YJK/OdpcMNr9+V5O8a3dfXqS1ya5cg9tTkjyoiQ/kuTNo/Y/Jdk69n1eklse56UBAGtAgAEArJUXJ3lXd3+pux/N1x/teE5V/Z9VdVuSH0/y7FF/e5KLxvJFSX5jH8f/7STp7g8lObqqjlmhzbu7+y+6+84kx4/azUkuqqo3JHnuCE8AgIkRYAAA6+2qJK/v7ucm+YUkT0mS7v4fSZ5ZVS9JckR3376P4/Q+1pPky3PLNc7zoSQ/kOS+JFdV1YWPs/8AwBoQYAAAa+VDSc6vqqOq6qlJ/taoPzXJ/eP9Fj++2z7XJPlP2ffoiyT5e0lSVS9K8kh3P7KaTlXVX0nyme7+D5mN+nj+avYDANaWWUgAgDXR3R+tqv+c5ONJHszs0Y0k+V+T3JTkofH91LndfivJv8x4PGQf/r+q+liSJyX5+4+jay9J8nNV9edJvpDECAwAmKDqXml0JQDA+hszhZzX3a9e774AAOvLCAwAYJKq6leTnJvZjCUAwGHOCAwA4KBRVW9N8v27ld/S3at5RwYAcBATYAAAAACTZxYSAAAAYPIEGAAAAMDkCTAAAACAyRNgAAAAAJP3/wOKD3lYPHtpYgAAAABJRU5ErkJggg==\n",
      "text/plain": [
       "<Figure size 1080x360 with 1 Axes>"
      ]
     },
     "metadata": {
      "needs_background": "light"
     },
     "output_type": "display_data"
    }
   ],
   "source": [
    "sns.catplot(x=\"day_bins\", kind=\"count\", palette = \"ch:s=.25,rot=-.25\", data=df, height=5, aspect=3);\n",
    "plt.show()"
   ]
  },
  {
   "cell_type": "markdown",
   "id": "eef614b6-fea9-4750-ae14-0d1874eee23b",
   "metadata": {},
   "source": [
    "## Exploring other features   \n",
    "Exploring categorical features and numerical features and how they relate with target"
   ]
  },
  {
   "cell_type": "markdown",
   "id": "2b1ae767-ab0a-4a07-911d-dccd78483b32",
   "metadata": {},
   "source": [
    "### Categorical features   \n",
    "Categorical features in dataset:   \n",
    "- Intake Type\n",
    "- Intake Condition\n",
    "- Animal Type\n",
    "- Breed (too many breed, how to plot them visually?)\n",
    "- Outcome Type\n",
    "- Colors (too many colors, how to plot them visually?)   \n",
    "   \n",
    "(Missing some features (work in get_data))"
   ]
  },
  {
   "cell_type": "markdown",
   "id": "6e01c1a1-5a2c-4961-b268-695e2dbe905d",
   "metadata": {},
   "source": [
    "#### Intake Type"
   ]
  },
  {
   "cell_type": "code",
   "execution_count": 143,
   "id": "fca9a44e-ad77-4ee7-bdfd-8eb5aa3d89bd",
>>>>>>> 3d8745b8e3f17c0b898760874f6b0f63907a5cfe
   "metadata": {},
   "outputs": [
    {
     "data": {
      "text/plain": [
<<<<<<< HEAD
       "Animal ID                   object\n",
       "Intake Type                 object\n",
       "Intake Condition            object\n",
       "Animal Type                 object\n",
       "Breed                       object\n",
       "Outcome Type                object\n",
       "days_in_shelter            float64\n",
       "age_upon_intake_months     float64\n",
       "age_upon_intake_years      float64\n",
       "age_upon_outcome_months    float64\n",
       "age_upon_outcome_years     float64\n",
       "neutered_or_spayed           int64\n",
       "male_or_female             float64\n",
       "group_color                 object\n",
       "dis-bin                     object\n",
       "dtype: object"
      ]
     },
     "execution_count": 57,
=======
       "count     102725\n",
       "unique         5\n",
       "top        Stray\n",
       "freq       79318\n",
       "Name: Intake Type, dtype: object"
      ]
     },
     "execution_count": 143,
>>>>>>> 3d8745b8e3f17c0b898760874f6b0f63907a5cfe
     "metadata": {},
     "output_type": "execute_result"
    }
   ],
<<<<<<< HEAD
   "source": []
  },
  {
   "cell_type": "code",
   "execution_count": 52,
   "id": "9a0f4f76-5f3e-44aa-bdb3-42e6a3197e28",
=======
   "source": [
    "df['Intake Type'].describe()"
   ]
  },
  {
   "cell_type": "code",
   "execution_count": 163,
   "id": "c13ae4e9-8f9e-4cc2-a6f0-a2f5dd29aa21",
>>>>>>> 3d8745b8e3f17c0b898760874f6b0f63907a5cfe
   "metadata": {},
   "outputs": [
    {
     "data": {
<<<<<<< HEAD
      "image/png": "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\n",
=======
      "image/png": "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\n",
      "text/plain": [
       "<Figure size 1080x720 with 2 Axes>"
      ]
     },
     "metadata": {
      "needs_background": "light"
     },
     "output_type": "display_data"
    }
   ],
   "source": [
    "fig, axs = plt.subplots(2, 1, figsize=(15,10))\n",
    "\n",
    "sns.countplot(x=\"Intake Type\", data=df[df.days_in_shelter.between(0,60)], ax = axs[0]);\n",
    "\n",
    "sns.boxplot(x=\"Intake Type\", y = 'days_in_shelter', data=df[df.days_in_shelter.between(0,60)], ax = axs[1]);"
   ]
  },
  {
   "cell_type": "markdown",
   "id": "a56976e9-d88e-4b33-9f7b-0374561fd3d3",
   "metadata": {},
   "source": [
    "#### Intake Condition"
   ]
  },
  {
   "cell_type": "code",
   "execution_count": 164,
   "id": "22bc6026-6bfc-4565-8e8f-9eac457d024a",
   "metadata": {},
   "outputs": [
    {
     "data": {
      "text/plain": [
       "count     102725\n",
       "unique        10\n",
       "top       Normal\n",
       "freq       90036\n",
       "Name: Intake Condition, dtype: object"
      ]
     },
     "execution_count": 164,
     "metadata": {},
     "output_type": "execute_result"
    }
   ],
   "source": [
    "df['Intake Condition'].describe()"
   ]
  },
  {
   "cell_type": "code",
   "execution_count": 165,
   "id": "dcc05e80-4607-4b57-992e-f139e7ae6a03",
   "metadata": {},
   "outputs": [
    {
     "data": {
      "image/png": "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\n",
      "text/plain": [
       "<Figure size 1080x720 with 2 Axes>"
      ]
     },
     "metadata": {
      "needs_background": "light"
     },
     "output_type": "display_data"
    }
   ],
   "source": [
    "fig, axs = plt.subplots(2, 1, figsize=(15,10))\n",
    "\n",
    "sns.countplot(x=\"Intake Condition\", data=df[df.days_in_shelter.between(0,60)], ax = axs[0]);\n",
    "\n",
    "sns.boxplot(x=\"Intake Condition\", y = 'days_in_shelter', data=df[df.days_in_shelter.between(0,60)], ax = axs[1]);"
   ]
  },
  {
   "cell_type": "markdown",
   "id": "0b981bc1-8ceb-43ae-b81b-87ce15348cbc",
   "metadata": {},
   "source": [
    "#### Animal Type"
   ]
  },
  {
   "cell_type": "code",
   "execution_count": 162,
   "id": "a881454b-9f9f-41a1-9137-fd6b01953a73",
   "metadata": {},
   "outputs": [
    {
     "data": {
      "text/plain": [
       "count     102725\n",
       "unique         2\n",
       "top          Dog\n",
       "freq       58881\n",
       "Name: Animal Type, dtype: object"
      ]
     },
     "execution_count": 162,
     "metadata": {},
     "output_type": "execute_result"
    }
   ],
   "source": [
    "df['Animal Type'].describe()"
   ]
  },
  {
   "cell_type": "code",
   "execution_count": 166,
   "id": "a9100b2f-e060-4191-86ae-d2851298f72b",
   "metadata": {},
   "outputs": [
    {
     "data": {
      "image/png": "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\n",
      "text/plain": [
       "<Figure size 1080x720 with 2 Axes>"
      ]
     },
     "metadata": {
      "needs_background": "light"
     },
     "output_type": "display_data"
    }
   ],
   "source": [
    "fig, axs = plt.subplots(2, 1, figsize=(15,10))\n",
    "\n",
    "sns.countplot(x=\"Animal Type\", data=df[df.days_in_shelter.between(0,60)], ax = axs[0]);\n",
    "\n",
    "sns.boxplot(x=\"Animal Type\", y = 'days_in_shelter', data=df[df.days_in_shelter.between(0,60)], ax = axs[1]);"
   ]
  },
  {
   "cell_type": "markdown",
   "id": "c65232dd-f341-409e-b6c6-e283c5275d5f",
   "metadata": {},
   "source": [
    "#### Breed"
   ]
  },
  {
   "cell_type": "code",
   "execution_count": 140,
   "id": "4bb2cc97-e8b6-4c58-9662-f72f2b68f4ce",
   "metadata": {},
   "outputs": [],
   "source": [
    "#sns.catplot(x=\"Breed\", y = 'days_in_shelter', kind=\"box\", data=df[df.days_in_shelter.between(0,60)], height=5, aspect=3);"
   ]
  },
  {
   "cell_type": "markdown",
   "id": "4812a391-9831-4425-a2b1-fc564a1ece90",
   "metadata": {},
   "source": [
    "#### Outcome Type"
   ]
  },
  {
   "cell_type": "code",
   "execution_count": 138,
   "id": "6f2c6103-9707-4ddf-ba27-4859b8a60864",
   "metadata": {},
   "outputs": [
    {
     "data": {
      "image/png": "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\n",
>>>>>>> 3d8745b8e3f17c0b898760874f6b0f63907a5cfe
      "text/plain": [
       "<Figure size 1080x360 with 1 Axes>"
      ]
     },
     "metadata": {
      "needs_background": "light"
     },
     "output_type": "display_data"
    }
   ],
   "source": [
<<<<<<< HEAD
    "sns.catplot(x=\"dis-bin\", kind=\"count\", data=df, height=5, aspect=3);\n",
    "sns.despine()\n",
=======
    "sns.catplot(x=\"Outcome Type\", y = 'days_in_shelter', kind=\"box\", data=df[df.days_in_shelter.between(0,60)], height=5, aspect=3);\n",
>>>>>>> 3d8745b8e3f17c0b898760874f6b0f63907a5cfe
    "plt.show()"
   ]
  },
  {
<<<<<<< HEAD
   "cell_type": "code",
   "execution_count": null,
   "id": "9de7f015-b741-414f-b97d-36746f30de00",
=======
   "cell_type": "markdown",
   "id": "1a5161d8-1a15-441e-a967-f46d5af00016",
   "metadata": {},
   "source": [
    "#### Colors"
   ]
  },
  {
   "cell_type": "code",
   "execution_count": null,
   "id": "e47b09b9-df3e-43a1-af2e-03f5d1712855",
   "metadata": {},
   "outputs": [],
   "source": [
    "#sns.catplot(x=\"Breed\", y = 'days_in_shelter', kind=\"box\", data=df[df.days_in_shelter.between(0,60)], height=5, aspect=3);"
   ]
  },
  {
   "cell_type": "code",
   "execution_count": 142,
   "id": "a5556904-fb40-4202-87e2-c6660ed0cbaa",
   "metadata": {},
   "outputs": [
    {
     "data": {
      "text/html": [
       "<div>\n",
       "<style scoped>\n",
       "    .dataframe tbody tr th:only-of-type {\n",
       "        vertical-align: middle;\n",
       "    }\n",
       "\n",
       "    .dataframe tbody tr th {\n",
       "        vertical-align: top;\n",
       "    }\n",
       "\n",
       "    .dataframe thead th {\n",
       "        text-align: right;\n",
       "    }\n",
       "</style>\n",
       "<table border=\"1\" class=\"dataframe\">\n",
       "  <thead>\n",
       "    <tr style=\"text-align: right;\">\n",
       "      <th></th>\n",
       "      <th>Animal ID</th>\n",
       "      <th>Intake Type</th>\n",
       "      <th>Intake Condition</th>\n",
       "      <th>Animal Type</th>\n",
       "      <th>Breed</th>\n",
       "      <th>Outcome Type</th>\n",
       "      <th>days_in_shelter</th>\n",
       "      <th>age_upon_intake_months</th>\n",
       "      <th>age_upon_intake_years</th>\n",
       "      <th>age_upon_outcome_months</th>\n",
       "      <th>age_upon_outcome_years</th>\n",
       "      <th>neutered_or_spayed</th>\n",
       "      <th>male_or_female</th>\n",
       "      <th>group_color</th>\n",
       "      <th>day_bins</th>\n",
       "    </tr>\n",
       "  </thead>\n",
       "  <tbody>\n",
       "    <tr>\n",
       "      <th>0</th>\n",
       "      <td>A006100</td>\n",
       "      <td>Public Assist</td>\n",
       "      <td>Normal</td>\n",
       "      <td>Dog</td>\n",
       "      <td>Mixed</td>\n",
       "      <td>Return to Owner</td>\n",
       "      <td>2.0</td>\n",
       "      <td>72.0</td>\n",
       "      <td>6.0</td>\n",
       "      <td>72.0</td>\n",
       "      <td>6.0</td>\n",
       "      <td>1</td>\n",
       "      <td>1.0</td>\n",
       "      <td>Yellow</td>\n",
       "      <td>[0,15]</td>\n",
       "    </tr>\n",
       "  </tbody>\n",
       "</table>\n",
       "</div>"
      ],
      "text/plain": [
       "  Animal ID    Intake Type Intake Condition Animal Type  Breed  \\\n",
       "0   A006100  Public Assist           Normal         Dog  Mixed   \n",
       "\n",
       "      Outcome Type  days_in_shelter  age_upon_intake_months  \\\n",
       "0  Return to Owner              2.0                    72.0   \n",
       "\n",
       "   age_upon_intake_years  age_upon_outcome_months  age_upon_outcome_years  \\\n",
       "0                    6.0                     72.0                     6.0   \n",
       "\n",
       "   neutered_or_spayed  male_or_female group_color day_bins  \n",
       "0                   1             1.0      Yellow   [0,15]  "
      ]
     },
     "execution_count": 142,
     "metadata": {},
     "output_type": "execute_result"
    }
   ],
   "source": [
    "df.head(1)"
   ]
  },
  {
   "cell_type": "markdown",
   "id": "0380853e-ff3e-40d4-811a-996d0c0d9b31",
   "metadata": {},
   "source": [
    "### Numerical features   \n",
    "Categorical features in dataset:   \n",
    "- Age Upon Intake Months\n",
    "- Age upon Outcome Months\n",
    "- neutered_or_spayed\n",
    "- male_or_female\n",
    "   \n",
    "(Missing some features (work in get_data))???"
   ]
  },
  {
   "cell_type": "code",
   "execution_count": null,
   "id": "eb0c2e0b-43d3-4790-90dc-859b43b7ae6d",
>>>>>>> 3d8745b8e3f17c0b898760874f6b0f63907a5cfe
   "metadata": {},
   "outputs": [],
   "source": []
  },
  {
<<<<<<< HEAD
=======
   "cell_type": "code",
   "execution_count": null,
   "id": "6e7c3258-072a-4407-9c13-fd0382b3acf9",
   "metadata": {},
   "outputs": [],
   "source": [
    "corrs = data.corr()\n",
    "l = list(corrs)\n",
    "l.remove('Days in Shelter')\n",
    "corrs['Days in Shelter'][l].plot.bar(color = 'b');\n",
    "plt.title('Correlation with Days in Shelter');\n"
   ]
  },
  {
>>>>>>> 3d8745b8e3f17c0b898760874f6b0f63907a5cfe
   "cell_type": "markdown",
   "id": "77b0147c-93df-4ba3-8c39-07bd0db65ea5",
   "metadata": {},
   "source": [
    "## Evaluation Metric   \n",
    "At this moment, we are going to evaluate our model with RMSE."
   ]
  },
  {
   "cell_type": "code",
   "execution_count": 10,
   "id": "10f14849-0960-414a-bcde-849a169c3d1c",
   "metadata": {},
   "outputs": [],
   "source": [
    "def compute_rmse(y_pred, y_true):\n",
    "    return np.sqrt(((y_pred - y_true)**2).mean())"
   ]
  },
  {
   "cell_type": "markdown",
   "id": "da5454ef-e8c2-413f-bf96-731f7be13816",
   "metadata": {},
   "source": [
    "## Baseline Model   \n",
    "- Baseline Model with RMSE and utilizing the mean as prediction\n",
    "- Generate predictions based on a simple heuristic\n",
    "- Evaluate the RMSE for these predictions"
   ]
  },
  {
   "cell_type": "code",
   "execution_count": 11,
   "id": "2e6b98f5-6433-43ef-869a-b660ec03b934",
   "metadata": {},
   "outputs": [
    {
     "ename": "NameError",
     "evalue": "name 'df_cleaned' is not defined",
     "output_type": "error",
     "traceback": [
      "\u001b[0;31m---------------------------------------------------------------------------\u001b[0m",
      "\u001b[0;31mNameError\u001b[0m                                 Traceback (most recent call last)",
      "\u001b[0;32m/tmp/ipykernel_5057/1869318783.py\u001b[0m in \u001b[0;36m<module>\u001b[0;34m\u001b[0m\n\u001b[0;32m----> 1\u001b[0;31m \u001b[0mdf\u001b[0m\u001b[0;34m[\u001b[0m\u001b[0;34m'y_pred'\u001b[0m\u001b[0;34m]\u001b[0m \u001b[0;34m=\u001b[0m \u001b[0mdf_cleaned\u001b[0m\u001b[0;34m[\u001b[0m\u001b[0;34m'fare_amount'\u001b[0m\u001b[0;34m]\u001b[0m\u001b[0;34m.\u001b[0m\u001b[0mmean\u001b[0m\u001b[0;34m(\u001b[0m\u001b[0;34m)\u001b[0m\u001b[0;34m\u001b[0m\u001b[0;34m\u001b[0m\u001b[0m\n\u001b[0m\u001b[1;32m      2\u001b[0m \u001b[0;34m\u001b[0m\u001b[0m\n\u001b[1;32m      3\u001b[0m \u001b[0mcompute_rmse\u001b[0m\u001b[0;34m(\u001b[0m\u001b[0mdf\u001b[0m\u001b[0;34m[\u001b[0m\u001b[0;34m'y_pred'\u001b[0m\u001b[0;34m]\u001b[0m\u001b[0;34m,\u001b[0m \u001b[0mdf\u001b[0m\u001b[0;34m[\u001b[0m\u001b[0;34m'fare_amount'\u001b[0m\u001b[0;34m]\u001b[0m\u001b[0;34m)\u001b[0m\u001b[0;34m\u001b[0m\u001b[0;34m\u001b[0m\u001b[0m\n",
      "\u001b[0;31mNameError\u001b[0m: name 'df_cleaned' is not defined"
     ]
    }
   ],
   "source": [
    "df['y_pred'] = df_cleaned['fare_amount'].mean()\n",
    "\n",
    "compute_rmse(df['y_pred'], df['fare_amount'])"
   ]
  },
  {
   "cell_type": "code",
   "execution_count": null,
   "id": "6d495a29-0696-4dac-b820-a9f02b71e22a",
   "metadata": {},
   "outputs": [],
   "source": [
    "df['y_pred'] = df['days_in_shelter'].mean()\n",
    "\n",
    "#RMSE\n",
    "compute_rmse(df['y_pred'], df['days_in_shelter'])"
   ]
  },
  {
   "cell_type": "code",
   "execution_count": null,
   "id": "f424362f-64ad-4f06-b626-2f765a6d6bda",
   "metadata": {},
   "outputs": [],
   "source": []
  }
 ],
 "metadata": {
  "kernelspec": {
   "display_name": "Python 3 (ipykernel)",
   "language": "python",
   "name": "python3"
  },
  "language_info": {
   "codemirror_mode": {
    "name": "ipython",
    "version": 3
   },
   "file_extension": ".py",
   "mimetype": "text/x-python",
   "name": "python",
   "nbconvert_exporter": "python",
   "pygments_lexer": "ipython3",
   "version": "3.8.6"
  }
 },
 "nbformat": 4,
 "nbformat_minor": 5
}
