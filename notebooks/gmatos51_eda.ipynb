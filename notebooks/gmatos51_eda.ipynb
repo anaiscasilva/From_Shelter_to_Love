{
 "cells": [
  {
   "cell_type": "markdown",
   "id": "1dd0a663-f0ab-4188-b131-93fa3d037132",
   "metadata": {},
   "source": [
    "# EDA - Exploratory Data Analysis   \n",
    "- Distribution of the target variable (days_in_shelter)\n",
    "- Exploring and visualizing the other features distributions\n",
    "- Computing the correlation between target variable and the other variables"
   ]
  },
  {
   "cell_type": "code",
   "execution_count": 85,
   "id": "eed43821-f1df-460b-820a-e6109305533f",
   "metadata": {},
   "outputs": [
    {
     "name": "stdout",
     "output_type": "stream",
     "text": [
      "The autoreload extension is already loaded. To reload it, use:\n",
      "  %reload_ext autoreload\n"
     ]
    }
   ],
   "source": [
    "%load_ext autoreload\n",
    "%autoreload 2\n",
    "\n",
    "import pandas as pd\n",
    "import numpy as np\n",
    "import matplotlib.pyplot as plt\n",
    "import seaborn as sns\n",
    "import re\n"
   ]
  },
  {
   "cell_type": "code",
   "execution_count": 86,
   "id": "6903c62c-3e0f-4e7e-9033-3e4e33dd5134",
   "metadata": {},
   "outputs": [],
   "source": [
    "from From_Shelter_to_Love.data_provisoria import get_data"
   ]
  },
  {
   "cell_type": "code",
   "execution_count": 87,
   "id": "b3538f6d-fa4c-4017-bdbf-63f061f980a1",
   "metadata": {},
   "outputs": [
    {
     "data": {
      "text/html": [
       "<div>\n",
       "<style scoped>\n",
       "    .dataframe tbody tr th:only-of-type {\n",
       "        vertical-align: middle;\n",
       "    }\n",
       "\n",
       "    .dataframe tbody tr th {\n",
       "        vertical-align: top;\n",
       "    }\n",
       "\n",
       "    .dataframe thead th {\n",
       "        text-align: right;\n",
       "    }\n",
       "</style>\n",
       "<table border=\"1\" class=\"dataframe\">\n",
       "  <thead>\n",
       "    <tr style=\"text-align: right;\">\n",
       "      <th></th>\n",
       "      <th>Animal ID</th>\n",
       "      <th>Intake Type</th>\n",
       "      <th>Intake Condition</th>\n",
       "      <th>Animal Type</th>\n",
       "      <th>Breed</th>\n",
       "      <th>Outcome Type</th>\n",
       "      <th>days_in_shelter</th>\n",
       "      <th>age_upon_intake_months</th>\n",
       "      <th>age_upon_intake_years</th>\n",
       "      <th>age_upon_outcome_months</th>\n",
       "      <th>age_upon_outcome_years</th>\n",
       "      <th>neutered_or_spayed</th>\n",
       "      <th>male_or_female</th>\n",
       "      <th>group_color</th>\n",
       "    </tr>\n",
       "  </thead>\n",
       "  <tbody>\n",
       "    <tr>\n",
       "      <th>0</th>\n",
       "      <td>A006100</td>\n",
       "      <td>Public Assist</td>\n",
       "      <td>Normal</td>\n",
       "      <td>Dog</td>\n",
       "      <td>Mixed</td>\n",
       "      <td>Return to Owner</td>\n",
       "      <td>2.0</td>\n",
       "      <td>72.0</td>\n",
       "      <td>6.0</td>\n",
       "      <td>72.0</td>\n",
       "      <td>6.0</td>\n",
       "      <td>1</td>\n",
       "      <td>1.0</td>\n",
       "      <td>Yellow</td>\n",
       "    </tr>\n",
       "    <tr>\n",
       "      <th>1</th>\n",
       "      <td>A047759</td>\n",
       "      <td>Owner Surrender</td>\n",
       "      <td>Normal</td>\n",
       "      <td>Dog</td>\n",
       "      <td>Dachshund</td>\n",
       "      <td>Transfer</td>\n",
       "      <td>5.0</td>\n",
       "      <td>120.0</td>\n",
       "      <td>10.0</td>\n",
       "      <td>120.0</td>\n",
       "      <td>10.0</td>\n",
       "      <td>1</td>\n",
       "      <td>1.0</td>\n",
       "      <td>Tricolor</td>\n",
       "    </tr>\n",
       "  </tbody>\n",
       "</table>\n",
       "</div>"
      ],
      "text/plain": [
       "  Animal ID      Intake Type Intake Condition Animal Type      Breed  \\\n",
       "0   A006100    Public Assist           Normal         Dog      Mixed   \n",
       "1   A047759  Owner Surrender           Normal         Dog  Dachshund   \n",
       "\n",
       "      Outcome Type  days_in_shelter  age_upon_intake_months  \\\n",
       "0  Return to Owner              2.0                    72.0   \n",
       "1         Transfer              5.0                   120.0   \n",
       "\n",
       "   age_upon_intake_years  age_upon_outcome_months  age_upon_outcome_years  \\\n",
       "0                    6.0                     72.0                     6.0   \n",
       "1                   10.0                    120.0                    10.0   \n",
       "\n",
       "   neutered_or_spayed  male_or_female group_color  \n",
       "0                   1             1.0      Yellow  \n",
       "1                   1             1.0    Tricolor  "
      ]
     },
     "execution_count": 87,
     "metadata": {},
     "output_type": "execute_result"
    }
   ],
   "source": [
    "#Getting the data\n",
    "\n",
    "df = get_data()\n",
    "df.head(2)"
   ]
  },
  {
   "cell_type": "markdown",
   "id": "c826f7c3-0364-4bf1-aeda-89def6df4d73",
   "metadata": {},
   "source": [
    "## Exploring target variable (days_in_shelter)   \n",
    "- Compute simple statistics for the target variable (min, max, mean, std, etc)\n",
    "- Plot distributions"
   ]
  },
  {
   "cell_type": "code",
   "execution_count": 88,
   "id": "36e50e38-dbce-4a40-8e16-fd2c7bc38220",
   "metadata": {},
   "outputs": [
    {
     "data": {
      "text/plain": [
       "count    102725.000000\n",
       "mean         19.717089\n",
       "std          42.652623\n",
       "min           1.000000\n",
       "25%           3.000000\n",
       "50%           6.000000\n",
       "75%          18.000000\n",
       "max        1522.000000\n",
       "Name: days_in_shelter, dtype: float64"
      ]
     },
     "execution_count": 88,
     "metadata": {},
     "output_type": "execute_result"
    }
   ],
   "source": [
    "df.days_in_shelter.describe()"
   ]
  },
  {
   "cell_type": "code",
   "execution_count": 89,
   "id": "13422967-36b7-4fa5-970b-0eb7c60d040b",
   "metadata": {},
   "outputs": [
    {
     "data": {
      "image/png": "[encoded data removed]",
      "text/plain": [
       "<Figure size 720x360 with 1 Axes>"
      ]
     },
     "metadata": {
      "needs_background": "light"
     },
     "output_type": "display_data"
    }
   ],
   "source": [
    "def plot_dist(series=df[\"days_in_shelter\"], title=\"Days in Shelter\"):\n",
    "    fig, axs = plt.subplots(figsize = [10,5])\n",
    "    sns.histplot(series, kde=True, discrete=True, ax = axs)\n",
    "    sns.despine()\n",
    "    plt.title(title);\n",
    "    plt.show()\n",
    "plot_dist()"
   ]
  },
  {
   "cell_type": "code",
   "execution_count": 90,
   "id": "e3c856d8-8a53-4dfe-968c-ffc4ed093921",
   "metadata": {},
   "outputs": [
    {
     "data": {
      "image/png": "[encoded data removed]",
      "text/plain": [
       "<Figure size 720x360 with 1 Axes>"
      ]
     },
     "metadata": {
      "needs_background": "light"
     },
     "output_type": "display_data"
    }
   ],
   "source": [
    "# drop absurd values \n",
    "plot_dist(df[df.days_in_shelter.between(0, 60)]['days_in_shelter'])"
   ]
  },
  {
   "cell_type": "code",
   "execution_count": 91,
   "id": "dc5a5113-88af-4de5-94ce-7dd63ccd2499",
   "metadata": {},
   "outputs": [],
   "source": [
    "#Let's visualize our target in bins\n",
    "\n",
    "def bins(df, column):\n",
    "    bins = []\n",
    "    for row in df[column]:\n",
    "        if row in range(0,16):\n",
    "            bins.append('[0,15]')\n",
    "        elif row in range(16,31):\n",
    "            bins.append('[16,30]')\n",
    "        elif row in range(31,61):\n",
    "            bins.append('[31,60]')\n",
    "        else:\n",
    "            bins.append('[+60]')\n",
    "    return bins"
   ]
  },
  {
   "cell_type": "code",
   "execution_count": 92,
   "id": "12a8afe1-f08f-4241-a661-16006afd3d98",
   "metadata": {},
   "outputs": [],
   "source": [
    "df['day_bins'] = bins(df,'days_in_shelter')"
   ]
  },
  {
   "cell_type": "code",
   "execution_count": 93,
   "id": "bb11baf4-826f-452d-890e-2f4d3537cee1",
   "metadata": {},
   "outputs": [
    {
     "data": {
      "text/html": [
       "<div>\n",
       "<style scoped>\n",
       "    .dataframe tbody tr th:only-of-type {\n",
       "        vertical-align: middle;\n",
       "    }\n",
       "\n",
       "    .dataframe tbody tr th {\n",
       "        vertical-align: top;\n",
       "    }\n",
       "\n",
       "    .dataframe thead th {\n",
       "        text-align: right;\n",
       "    }\n",
       "</style>\n",
       "<table border=\"1\" class=\"dataframe\">\n",
       "  <thead>\n",
       "    <tr style=\"text-align: right;\">\n",
       "      <th></th>\n",
       "      <th>Animal ID</th>\n",
       "      <th>Intake Type</th>\n",
       "      <th>Intake Condition</th>\n",
       "      <th>Animal Type</th>\n",
       "      <th>Breed</th>\n",
       "      <th>Outcome Type</th>\n",
       "      <th>days_in_shelter</th>\n",
       "      <th>age_upon_intake_months</th>\n",
       "      <th>age_upon_intake_years</th>\n",
       "      <th>age_upon_outcome_months</th>\n",
       "      <th>age_upon_outcome_years</th>\n",
       "      <th>neutered_or_spayed</th>\n",
       "      <th>male_or_female</th>\n",
       "      <th>group_color</th>\n",
       "      <th>day_bins</th>\n",
       "    </tr>\n",
       "  </thead>\n",
       "  <tbody>\n",
       "    <tr>\n",
       "      <th>0</th>\n",
       "      <td>A006100</td>\n",
       "      <td>Public Assist</td>\n",
       "      <td>Normal</td>\n",
       "      <td>Dog</td>\n",
       "      <td>Mixed</td>\n",
       "      <td>Return to Owner</td>\n",
       "      <td>2.0</td>\n",
       "      <td>72.0</td>\n",
       "      <td>6.0</td>\n",
       "      <td>72.0</td>\n",
       "      <td>6.0</td>\n",
       "      <td>1</td>\n",
       "      <td>1.0</td>\n",
       "      <td>Yellow</td>\n",
       "      <td>[0,15]</td>\n",
       "    </tr>\n",
       "    <tr>\n",
       "      <th>1</th>\n",
       "      <td>A047759</td>\n",
       "      <td>Owner Surrender</td>\n",
       "      <td>Normal</td>\n",
       "      <td>Dog</td>\n",
       "      <td>Dachshund</td>\n",
       "      <td>Transfer</td>\n",
       "      <td>5.0</td>\n",
       "      <td>120.0</td>\n",
       "      <td>10.0</td>\n",
       "      <td>120.0</td>\n",
       "      <td>10.0</td>\n",
       "      <td>1</td>\n",
       "      <td>1.0</td>\n",
       "      <td>Tricolor</td>\n",
       "      <td>[0,15]</td>\n",
       "    </tr>\n",
       "  </tbody>\n",
       "</table>\n",
       "</div>"
      ],
      "text/plain": [
       "  Animal ID      Intake Type Intake Condition Animal Type      Breed  \\\n",
       "0   A006100    Public Assist           Normal         Dog      Mixed   \n",
       "1   A047759  Owner Surrender           Normal         Dog  Dachshund   \n",
       "\n",
       "      Outcome Type  days_in_shelter  age_upon_intake_months  \\\n",
       "0  Return to Owner              2.0                    72.0   \n",
       "1         Transfer              5.0                   120.0   \n",
       "\n",
       "   age_upon_intake_years  age_upon_outcome_months  age_upon_outcome_years  \\\n",
       "0                    6.0                     72.0                     6.0   \n",
       "1                   10.0                    120.0                    10.0   \n",
       "\n",
       "   neutered_or_spayed  male_or_female group_color day_bins  \n",
       "0                   1             1.0      Yellow   [0,15]  \n",
       "1                   1             1.0    Tricolor   [0,15]  "
      ]
     },
     "execution_count": 93,
     "metadata": {},
     "output_type": "execute_result"
    }
   ],
   "source": [
    "df.head(2)"
   ]
  },
  {
   "cell_type": "code",
   "execution_count": 57,
   "id": "4a3209e1-5b61-4b92-8bed-5db87199f457",
   "metadata": {},
   "outputs": [
    {
     "data": {
      "text/plain": [
       "Animal ID                   object\n",
       "Intake Type                 object\n",
       "Intake Condition            object\n",
       "Animal Type                 object\n",
       "Breed                       object\n",
       "Outcome Type                object\n",
       "days_in_shelter            float64\n",
       "age_upon_intake_months     float64\n",
       "age_upon_intake_years      float64\n",
       "age_upon_outcome_months    float64\n",
       "age_upon_outcome_years     float64\n",
       "neutered_or_spayed           int64\n",
       "male_or_female             float64\n",
       "group_color                 object\n",
       "dis-bin                     object\n",
       "dtype: object"
      ]
     },
     "execution_count": 57,
     "metadata": {},
     "output_type": "execute_result"
    }
   ],
   "source": []
  },
  {
   "cell_type": "code",
   "execution_count": 52,
   "id": "9a0f4f76-5f3e-44aa-bdb3-42e6a3197e28",
   "metadata": {},
   "outputs": [
    {
     "data": {
      "image/png": "[encoded data removed]",
      "text/plain": [
       "<Figure size 1080x360 with 1 Axes>"
      ]
     },
     "metadata": {
      "needs_background": "light"
     },
     "output_type": "display_data"
    }
   ],
   "source": [
    "sns.catplot(x=\"dis-bin\", kind=\"count\", data=df, height=5, aspect=3);\n",
    "sns.despine()\n",
    "plt.show()"
   ]
  },
  {
   "cell_type": "code",
   "execution_count": null,
   "id": "9de7f015-b741-414f-b97d-36746f30de00",
   "metadata": {},
   "outputs": [],
   "source": []
  },
  {
   "cell_type": "markdown",
   "id": "77b0147c-93df-4ba3-8c39-07bd0db65ea5",
   "metadata": {},
   "source": [
    "## Evaluation Metric   \n",
    "At this moment, we are going to evaluate our model with RMSE."
   ]
  },
  {
   "cell_type": "code",
   "execution_count": 10,
   "id": "10f14849-0960-414a-bcde-849a169c3d1c",
   "metadata": {},
   "outputs": [],
   "source": [
    "def compute_rmse(y_pred, y_true):\n",
    "    return np.sqrt(((y_pred - y_true)**2).mean())"
   ]
  },
  {
   "cell_type": "markdown",
   "id": "da5454ef-e8c2-413f-bf96-731f7be13816",
   "metadata": {},
   "source": [
    "## Baseline Model   \n",
    "- Baseline Model with RMSE and utilizing the mean as prediction\n",
    "- Generate predictions based on a simple heuristic\n",
    "- Evaluate the RMSE for these predictions"
   ]
  },
  {
   "cell_type": "code",
   "execution_count": 11,
   "id": "2e6b98f5-6433-43ef-869a-b660ec03b934",
   "metadata": {},
   "outputs": [
    {
     "ename": "NameError",
     "evalue": "name 'df_cleaned' is not defined",
     "output_type": "error",
     "traceback": [
      "\u001b[0;31m---------------------------------------------------------------------------\u001b[0m",
      "\u001b[0;31mNameError\u001b[0m                                 Traceback (most recent call last)",
      "\u001b[0;32m/tmp/ipykernel_5057/1869318783.py\u001b[0m in \u001b[0;36m<module>\u001b[0;34m\u001b[0m\n\u001b[0;32m----> 1\u001b[0;31m \u001b[0mdf\u001b[0m\u001b[0;34m[\u001b[0m\u001b[0;34m'y_pred'\u001b[0m\u001b[0;34m]\u001b[0m \u001b[0;34m=\u001b[0m \u001b[0mdf_cleaned\u001b[0m\u001b[0;34m[\u001b[0m\u001b[0;34m'fare_amount'\u001b[0m\u001b[0;34m]\u001b[0m\u001b[0;34m.\u001b[0m\u001b[0mmean\u001b[0m\u001b[0;34m(\u001b[0m\u001b[0;34m)\u001b[0m\u001b[0;34m\u001b[0m\u001b[0;34m\u001b[0m\u001b[0m\n\u001b[0m\u001b[1;32m      2\u001b[0m \u001b[0;34m\u001b[0m\u001b[0m\n\u001b[1;32m      3\u001b[0m \u001b[0mcompute_rmse\u001b[0m\u001b[0;34m(\u001b[0m\u001b[0mdf\u001b[0m\u001b[0;34m[\u001b[0m\u001b[0;34m'y_pred'\u001b[0m\u001b[0;34m]\u001b[0m\u001b[0;34m,\u001b[0m \u001b[0mdf\u001b[0m\u001b[0;34m[\u001b[0m\u001b[0;34m'fare_amount'\u001b[0m\u001b[0;34m]\u001b[0m\u001b[0;34m)\u001b[0m\u001b[0;34m\u001b[0m\u001b[0;34m\u001b[0m\u001b[0m\n",
      "\u001b[0;31mNameError\u001b[0m: name 'df_cleaned' is not defined"
     ]
    }
   ],
   "source": [
    "df['y_pred'] = df_cleaned['fare_amount'].mean()\n",
    "\n",
    "compute_rmse(df['y_pred'], df['fare_amount'])"
   ]
  },
  {
   "cell_type": "code",
   "execution_count": null,
   "id": "6d495a29-0696-4dac-b820-a9f02b71e22a",
   "metadata": {},
   "outputs": [],
   "source": [
    "df['y_pred'] = df['days_in_shelter'].mean()\n",
    "\n",
    "#RMSE\n",
    "compute_rmse(df['y_pred'], df['days_in_shelter'])"
   ]
  },
  {
   "cell_type": "code",
   "execution_count": null,
   "id": "f424362f-64ad-4f06-b626-2f765a6d6bda",
   "metadata": {},
   "outputs": [],
   "source": []
  }
 ],
 "metadata": {
  "kernelspec": {
   "display_name": "Python 3 (ipykernel)",
   "language": "python",
   "name": "python3"
  },
  "language_info": {
   "codemirror_mode": {
    "name": "ipython",
    "version": 3
   },
   "file_extension": ".py",
   "mimetype": "text/x-python",
   "name": "python",
   "nbconvert_exporter": "python",
   "pygments_lexer": "ipython3",
   "version": "3.8.6"
  }
 },
 "nbformat": 4,
 "nbformat_minor": 5
}
