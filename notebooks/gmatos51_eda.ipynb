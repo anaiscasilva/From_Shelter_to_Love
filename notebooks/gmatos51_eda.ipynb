{
 "cells": [
  {
   "cell_type": "markdown",
   "id": "1dd0a663-f0ab-4188-b131-93fa3d037132",
   "metadata": {},
   "source": [
    "# EDA - Exploratory Data Analysis   \n",
    "- Distribution of the target variable (days_in_shelter)\n",
    "- Exploring and visualizing the other features distributions\n",
    "- Computing the correlation between target variable and the other variables"
   ]
  },
  {
   "cell_type": "code",
   "execution_count": 2,
   "id": "eed43821-f1df-460b-820a-e6109305533f",
   "metadata": {},
   "outputs": [],
   "source": [
    "%load_ext autoreload\n",
    "%autoreload 2\n",
    "\n",
    "import pandas as pd\n",
    "import numpy as np\n",
    "import matplotlib.pyplot as plt\n",
    "import seaborn as sns\n",
    "import re\n"
   ]
  },
  {
   "cell_type": "code",
   "execution_count": 3,
   "id": "6903c62c-3e0f-4e7e-9033-3e4e33dd5134",
   "metadata": {},
   "outputs": [],
   "source": [
    "from From_Shelter_to_Love.data_provisoria import get_data"
   ]
  },
  {
   "cell_type": "code",
   "execution_count": 4,
   "id": "b3538f6d-fa4c-4017-bdbf-63f061f980a1",
   "metadata": {},
   "outputs": [
    {
     "data": {
      "text/html": [
       "<div>\n",
       "<style scoped>\n",
       "    .dataframe tbody tr th:only-of-type {\n",
       "        vertical-align: middle;\n",
       "    }\n",
       "\n",
       "    .dataframe tbody tr th {\n",
       "        vertical-align: top;\n",
       "    }\n",
       "\n",
       "    .dataframe thead th {\n",
       "        text-align: right;\n",
       "    }\n",
       "</style>\n",
       "<table border=\"1\" class=\"dataframe\">\n",
       "  <thead>\n",
       "    <tr style=\"text-align: right;\">\n",
       "      <th></th>\n",
       "      <th>Animal ID</th>\n",
       "      <th>Intake Type</th>\n",
       "      <th>Intake Condition</th>\n",
       "      <th>Animal Type</th>\n",
       "      <th>Breed</th>\n",
       "      <th>Outcome Type</th>\n",
       "      <th>days_in_shelter</th>\n",
       "      <th>age_upon_intake_months</th>\n",
       "      <th>age_upon_intake_years</th>\n",
       "      <th>age_upon_outcome_months</th>\n",
       "      <th>age_upon_outcome_years</th>\n",
       "      <th>neutered_or_spayed_outcome</th>\n",
       "      <th>male_or_female_outcome</th>\n",
       "      <th>neutered_or_spayed_intake</th>\n",
       "      <th>male_or_female_intake</th>\n",
       "      <th>group_color</th>\n",
       "    </tr>\n",
       "  </thead>\n",
       "  <tbody>\n",
       "    <tr>\n",
       "      <th>0</th>\n",
       "      <td>A006100</td>\n",
       "      <td>Public Assist</td>\n",
       "      <td>Normal</td>\n",
       "      <td>Dog</td>\n",
       "      <td>Mixed</td>\n",
       "      <td>Return to Owner</td>\n",
       "      <td>2.0</td>\n",
       "      <td>72.0</td>\n",
       "      <td>6.0</td>\n",
       "      <td>72.0</td>\n",
       "      <td>6.0</td>\n",
       "      <td>1</td>\n",
       "      <td>1.0</td>\n",
       "      <td>1</td>\n",
       "      <td>1.0</td>\n",
       "      <td>Yellow</td>\n",
       "    </tr>\n",
       "    <tr>\n",
       "      <th>1</th>\n",
       "      <td>A047759</td>\n",
       "      <td>Owner Surrender</td>\n",
       "      <td>Normal</td>\n",
       "      <td>Dog</td>\n",
       "      <td>Dachshund</td>\n",
       "      <td>Transfer</td>\n",
       "      <td>5.0</td>\n",
       "      <td>120.0</td>\n",
       "      <td>10.0</td>\n",
       "      <td>120.0</td>\n",
       "      <td>10.0</td>\n",
       "      <td>1</td>\n",
       "      <td>1.0</td>\n",
       "      <td>1</td>\n",
       "      <td>1.0</td>\n",
       "      <td>Tricolor</td>\n",
       "    </tr>\n",
       "  </tbody>\n",
       "</table>\n",
       "</div>"
      ],
      "text/plain": [
       "  Animal ID      Intake Type Intake Condition Animal Type      Breed  \\\n",
       "0   A006100    Public Assist           Normal         Dog      Mixed   \n",
       "1   A047759  Owner Surrender           Normal         Dog  Dachshund   \n",
       "\n",
       "      Outcome Type  days_in_shelter  age_upon_intake_months  \\\n",
       "0  Return to Owner              2.0                    72.0   \n",
       "1         Transfer              5.0                   120.0   \n",
       "\n",
       "   age_upon_intake_years  age_upon_outcome_months  age_upon_outcome_years  \\\n",
       "0                    6.0                     72.0                     6.0   \n",
       "1                   10.0                    120.0                    10.0   \n",
       "\n",
       "   neutered_or_spayed_outcome  male_or_female_outcome  \\\n",
       "0                           1                     1.0   \n",
       "1                           1                     1.0   \n",
       "\n",
       "   neutered_or_spayed_intake  male_or_female_intake group_color  \n",
       "0                          1                    1.0      Yellow  \n",
       "1                          1                    1.0    Tricolor  "
      ]
     },
     "execution_count": 4,
     "metadata": {},
     "output_type": "execute_result"
    }
   ],
   "source": [
    "#Getting the data\n",
    "\n",
    "df = get_data()\n",
    "df.head(2)"
   ]
  },
  {
   "cell_type": "code",
   "execution_count": 5,
   "id": "0439d560-e123-4453-af11-d37e2c3a2e2f",
   "metadata": {},
   "outputs": [],
   "source": [
    "df.drop(columns = ['Animal ID','age_upon_outcome_years','age_upon_intake_years'], inplace = True)"
   ]
  },
  {
   "cell_type": "markdown",
   "id": "c826f7c3-0364-4bf1-aeda-89def6df4d73",
   "metadata": {},
   "source": [
    "## Exploring target variable (days_in_shelter)   \n",
    "- Compute simple statistics for the target variable (min, max, mean, std, etc)\n",
    "- Plot distributions"
   ]
  },
  {
   "cell_type": "code",
   "execution_count": 6,
   "id": "36e50e38-dbce-4a40-8e16-fd2c7bc38220",
   "metadata": {},
   "outputs": [
    {
     "data": {
      "text/plain": [
       "count    102725.000000\n",
       "mean         19.717089\n",
       "std          42.652623\n",
       "min           1.000000\n",
       "25%           3.000000\n",
       "50%           6.000000\n",
       "75%          18.000000\n",
       "max        1522.000000\n",
       "Name: days_in_shelter, dtype: float64"
      ]
     },
     "execution_count": 6,
     "metadata": {},
     "output_type": "execute_result"
    }
   ],
   "source": [
    "df.days_in_shelter.describe()"
   ]
  },
  {
   "cell_type": "code",
   "execution_count": 7,
   "id": "348e8b10-9252-4c51-9176-37d9febe4a21",
   "metadata": {},
   "outputs": [
    {
     "data": {
      "text/plain": [
       "male_or_female_outcome        4.066196\n",
       "male_or_female_intake         4.066196\n",
       "age_upon_intake_months        0.002920\n",
       "age_upon_outcome_months       0.002920\n",
       "Intake Type                   0.000000\n",
       "Intake Condition              0.000000\n",
       "Animal Type                   0.000000\n",
       "Breed                         0.000000\n",
       "Outcome Type                  0.000000\n",
       "days_in_shelter               0.000000\n",
       "neutered_or_spayed_outcome    0.000000\n",
       "neutered_or_spayed_intake     0.000000\n",
       "group_color                   0.000000\n",
       "dtype: float64"
      ]
     },
     "execution_count": 7,
     "metadata": {},
     "output_type": "execute_result"
    }
   ],
   "source": [
    "(df.isnull().sum().sort_values(ascending=False) / len(df)) * 100"
   ]
  },
  {
   "cell_type": "code",
   "execution_count": 8,
   "id": "e6d8ca18-8130-469f-9eed-cae4a3d86aef",
   "metadata": {},
   "outputs": [
    {
     "data": {
      "text/html": [
       "<div>\n",
       "<style scoped>\n",
       "    .dataframe tbody tr th:only-of-type {\n",
       "        vertical-align: middle;\n",
       "    }\n",
       "\n",
       "    .dataframe tbody tr th {\n",
       "        vertical-align: top;\n",
       "    }\n",
       "\n",
       "    .dataframe thead th {\n",
       "        text-align: right;\n",
       "    }\n",
       "</style>\n",
       "<table border=\"1\" class=\"dataframe\">\n",
       "  <thead>\n",
       "    <tr style=\"text-align: right;\">\n",
       "      <th></th>\n",
       "      <th>Intake Type</th>\n",
       "      <th>Intake Condition</th>\n",
       "      <th>Animal Type</th>\n",
       "      <th>Breed</th>\n",
       "      <th>Outcome Type</th>\n",
       "      <th>days_in_shelter</th>\n",
       "      <th>age_upon_intake_months</th>\n",
       "      <th>age_upon_outcome_months</th>\n",
       "      <th>neutered_or_spayed_outcome</th>\n",
       "      <th>male_or_female_outcome</th>\n",
       "      <th>neutered_or_spayed_intake</th>\n",
       "      <th>male_or_female_intake</th>\n",
       "      <th>group_color</th>\n",
       "    </tr>\n",
       "  </thead>\n",
       "  <tbody>\n",
       "    <tr>\n",
       "      <th>0</th>\n",
       "      <td>Public Assist</td>\n",
       "      <td>Normal</td>\n",
       "      <td>Dog</td>\n",
       "      <td>Mixed</td>\n",
       "      <td>Return to Owner</td>\n",
       "      <td>2.0</td>\n",
       "      <td>72.0</td>\n",
       "      <td>72.0</td>\n",
       "      <td>1</td>\n",
       "      <td>1.0</td>\n",
       "      <td>1</td>\n",
       "      <td>1.0</td>\n",
       "      <td>Yellow</td>\n",
       "    </tr>\n",
       "    <tr>\n",
       "      <th>1</th>\n",
       "      <td>Owner Surrender</td>\n",
       "      <td>Normal</td>\n",
       "      <td>Dog</td>\n",
       "      <td>Dachshund</td>\n",
       "      <td>Transfer</td>\n",
       "      <td>5.0</td>\n",
       "      <td>120.0</td>\n",
       "      <td>120.0</td>\n",
       "      <td>1</td>\n",
       "      <td>1.0</td>\n",
       "      <td>1</td>\n",
       "      <td>1.0</td>\n",
       "      <td>Tricolor</td>\n",
       "    </tr>\n",
       "    <tr>\n",
       "      <th>2</th>\n",
       "      <td>Public Assist</td>\n",
       "      <td>Injured</td>\n",
       "      <td>Dog</td>\n",
       "      <td>Shetland Sheepdog</td>\n",
       "      <td>Return to Owner</td>\n",
       "      <td>1.0</td>\n",
       "      <td>192.0</td>\n",
       "      <td>192.0</td>\n",
       "      <td>1</td>\n",
       "      <td>1.0</td>\n",
       "      <td>1</td>\n",
       "      <td>1.0</td>\n",
       "      <td>Brown</td>\n",
       "    </tr>\n",
       "    <tr>\n",
       "      <th>3</th>\n",
       "      <td>Stray</td>\n",
       "      <td>Aged</td>\n",
       "      <td>Dog</td>\n",
       "      <td>Mixed</td>\n",
       "      <td>Return to Owner</td>\n",
       "      <td>1.0</td>\n",
       "      <td>180.0</td>\n",
       "      <td>180.0</td>\n",
       "      <td>1</td>\n",
       "      <td>0.0</td>\n",
       "      <td>1</td>\n",
       "      <td>0.0</td>\n",
       "      <td>Black</td>\n",
       "    </tr>\n",
       "    <tr>\n",
       "      <th>4</th>\n",
       "      <td>Stray</td>\n",
       "      <td>Normal</td>\n",
       "      <td>Dog</td>\n",
       "      <td>Mixed</td>\n",
       "      <td>Return to Owner</td>\n",
       "      <td>1.0</td>\n",
       "      <td>180.0</td>\n",
       "      <td>180.0</td>\n",
       "      <td>0</td>\n",
       "      <td>0.0</td>\n",
       "      <td>0</td>\n",
       "      <td>0.0</td>\n",
       "      <td>Black</td>\n",
       "    </tr>\n",
       "    <tr>\n",
       "      <th>...</th>\n",
       "      <td>...</td>\n",
       "      <td>...</td>\n",
       "      <td>...</td>\n",
       "      <td>...</td>\n",
       "      <td>...</td>\n",
       "      <td>...</td>\n",
       "      <td>...</td>\n",
       "      <td>...</td>\n",
       "      <td>...</td>\n",
       "      <td>...</td>\n",
       "      <td>...</td>\n",
       "      <td>...</td>\n",
       "      <td>...</td>\n",
       "    </tr>\n",
       "    <tr>\n",
       "      <th>110852</th>\n",
       "      <td>Stray</td>\n",
       "      <td>Normal</td>\n",
       "      <td>Dog</td>\n",
       "      <td>Mixed</td>\n",
       "      <td>Return to Owner</td>\n",
       "      <td>2.0</td>\n",
       "      <td>24.0</td>\n",
       "      <td>24.0</td>\n",
       "      <td>0</td>\n",
       "      <td>1.0</td>\n",
       "      <td>0</td>\n",
       "      <td>1.0</td>\n",
       "      <td>Black</td>\n",
       "    </tr>\n",
       "    <tr>\n",
       "      <th>110853</th>\n",
       "      <td>Stray</td>\n",
       "      <td>Normal</td>\n",
       "      <td>Dog</td>\n",
       "      <td>Mixed</td>\n",
       "      <td>Return to Owner</td>\n",
       "      <td>2.0</td>\n",
       "      <td>24.0</td>\n",
       "      <td>24.0</td>\n",
       "      <td>1</td>\n",
       "      <td>0.0</td>\n",
       "      <td>1</td>\n",
       "      <td>0.0</td>\n",
       "      <td>White</td>\n",
       "    </tr>\n",
       "    <tr>\n",
       "      <th>110861</th>\n",
       "      <td>Stray</td>\n",
       "      <td>Normal</td>\n",
       "      <td>Dog</td>\n",
       "      <td>Mixed</td>\n",
       "      <td>Return to Owner</td>\n",
       "      <td>1.0</td>\n",
       "      <td>24.0</td>\n",
       "      <td>24.0</td>\n",
       "      <td>1</td>\n",
       "      <td>1.0</td>\n",
       "      <td>1</td>\n",
       "      <td>1.0</td>\n",
       "      <td>Brown</td>\n",
       "    </tr>\n",
       "    <tr>\n",
       "      <th>110874</th>\n",
       "      <td>Owner Surrender</td>\n",
       "      <td>Normal</td>\n",
       "      <td>Dog</td>\n",
       "      <td>Alaskan Husky</td>\n",
       "      <td>Rto-Adopt</td>\n",
       "      <td>2.0</td>\n",
       "      <td>12.0</td>\n",
       "      <td>12.0</td>\n",
       "      <td>1</td>\n",
       "      <td>1.0</td>\n",
       "      <td>0</td>\n",
       "      <td>1.0</td>\n",
       "      <td>Black</td>\n",
       "    </tr>\n",
       "    <tr>\n",
       "      <th>110888</th>\n",
       "      <td>Owner Surrender</td>\n",
       "      <td>Injured</td>\n",
       "      <td>Dog</td>\n",
       "      <td>Pit Bull</td>\n",
       "      <td>Euthanasia</td>\n",
       "      <td>1.0</td>\n",
       "      <td>1.0</td>\n",
       "      <td>1.0</td>\n",
       "      <td>0</td>\n",
       "      <td>NaN</td>\n",
       "      <td>0</td>\n",
       "      <td>NaN</td>\n",
       "      <td>Tan</td>\n",
       "    </tr>\n",
       "  </tbody>\n",
       "</table>\n",
       "<p>102725 rows × 13 columns</p>\n",
       "</div>"
      ],
      "text/plain": [
       "            Intake Type Intake Condition Animal Type              Breed  \\\n",
       "0         Public Assist           Normal         Dog              Mixed   \n",
       "1       Owner Surrender           Normal         Dog          Dachshund   \n",
       "2         Public Assist          Injured         Dog  Shetland Sheepdog   \n",
       "3                 Stray             Aged         Dog              Mixed   \n",
       "4                 Stray           Normal         Dog              Mixed   \n",
       "...                 ...              ...         ...                ...   \n",
       "110852            Stray           Normal         Dog              Mixed   \n",
       "110853            Stray           Normal         Dog              Mixed   \n",
       "110861            Stray           Normal         Dog              Mixed   \n",
       "110874  Owner Surrender           Normal         Dog      Alaskan Husky   \n",
       "110888  Owner Surrender          Injured         Dog           Pit Bull   \n",
       "\n",
       "           Outcome Type  days_in_shelter  age_upon_intake_months  \\\n",
       "0       Return to Owner              2.0                    72.0   \n",
       "1              Transfer              5.0                   120.0   \n",
       "2       Return to Owner              1.0                   192.0   \n",
       "3       Return to Owner              1.0                   180.0   \n",
       "4       Return to Owner              1.0                   180.0   \n",
       "...                 ...              ...                     ...   \n",
       "110852  Return to Owner              2.0                    24.0   \n",
       "110853  Return to Owner              2.0                    24.0   \n",
       "110861  Return to Owner              1.0                    24.0   \n",
       "110874        Rto-Adopt              2.0                    12.0   \n",
       "110888       Euthanasia              1.0                     1.0   \n",
       "\n",
       "        age_upon_outcome_months  neutered_or_spayed_outcome  \\\n",
       "0                          72.0                           1   \n",
       "1                         120.0                           1   \n",
       "2                         192.0                           1   \n",
       "3                         180.0                           1   \n",
       "4                         180.0                           0   \n",
       "...                         ...                         ...   \n",
       "110852                     24.0                           0   \n",
       "110853                     24.0                           1   \n",
       "110861                     24.0                           1   \n",
       "110874                     12.0                           1   \n",
       "110888                      1.0                           0   \n",
       "\n",
       "        male_or_female_outcome  neutered_or_spayed_intake  \\\n",
       "0                          1.0                          1   \n",
       "1                          1.0                          1   \n",
       "2                          1.0                          1   \n",
       "3                          0.0                          1   \n",
       "4                          0.0                          0   \n",
       "...                        ...                        ...   \n",
       "110852                     1.0                          0   \n",
       "110853                     0.0                          1   \n",
       "110861                     1.0                          1   \n",
       "110874                     1.0                          0   \n",
       "110888                     NaN                          0   \n",
       "\n",
       "        male_or_female_intake group_color  \n",
       "0                         1.0      Yellow  \n",
       "1                         1.0    Tricolor  \n",
       "2                         1.0       Brown  \n",
       "3                         0.0       Black  \n",
       "4                         0.0       Black  \n",
       "...                       ...         ...  \n",
       "110852                    1.0       Black  \n",
       "110853                    0.0       White  \n",
       "110861                    1.0       Brown  \n",
       "110874                    1.0       Black  \n",
       "110888                    NaN         Tan  \n",
       "\n",
       "[102725 rows x 13 columns]"
      ]
     },
     "execution_count": 8,
     "metadata": {},
     "output_type": "execute_result"
    }
   ],
   "source": [
    "df[(df.male_or_female_outcome != 1) | (df.male_or_female_outcome != 0)]"
   ]
  },
  {
   "cell_type": "code",
   "execution_count": 9,
   "id": "13422967-36b7-4fa5-970b-0eb7c60d040b",
   "metadata": {},
   "outputs": [
    {
     "data": {
      "image/png": "[encoded data removed]",
      "text/plain": [
       "<Figure size 720x360 with 1 Axes>"
      ]
     },
     "metadata": {
      "needs_background": "light"
     },
     "output_type": "display_data"
    }
   ],
   "source": [
    "def plot_dist(series=df[\"days_in_shelter\"], title=\"Days in Shelter\"):\n",
    "    fig, axs = plt.subplots(figsize = [10,5])\n",
    "    sns.histplot(series, kde=True, discrete=True, ax = axs)\n",
    "    sns.despine()\n",
    "    plt.title(title);\n",
    "    plt.show()\n",
    "plot_dist()"
   ]
  },
  {
   "cell_type": "code",
   "execution_count": 10,
   "id": "e3c856d8-8a53-4dfe-968c-ffc4ed093921",
   "metadata": {},
   "outputs": [
    {
     "data": {
      "image/png": "[encoded data removed]",
      "text/plain": [
       "<Figure size 720x360 with 1 Axes>"
      ]
     },
     "metadata": {
      "needs_background": "light"
     },
     "output_type": "display_data"
    }
   ],
   "source": [
    "# drop absurd values \n",
    "plot_dist(df[df.days_in_shelter.between(0, 60)]['days_in_shelter'])"
   ]
  },
  {
   "cell_type": "code",
   "execution_count": 11,
   "id": "bc746d27-3798-4ae4-9310-8aebd2cc92b5",
   "metadata": {},
   "outputs": [
    {
     "data": {
      "text/plain": [
       "(35220, 13)"
      ]
     },
     "execution_count": 11,
     "metadata": {},
     "output_type": "execute_result"
    }
   ],
   "source": [
    "df[df.days_in_shelter > 10].shape"
   ]
  },
  {
   "cell_type": "code",
   "execution_count": 12,
   "id": "dc5a5113-88af-4de5-94ce-7dd63ccd2499",
   "metadata": {},
   "outputs": [],
   "source": [
    "#Let's visualize our target in bins\n",
    "\n",
    "def bins(df, column):\n",
    "    bins = []\n",
    "    for row in df[column]:\n",
    "        if row in range(0,16):\n",
    "            bins.append('[0,15]')\n",
    "        elif row in range(16,31):\n",
    "            bins.append('[16,30]')\n",
    "        elif row in range(31,61):\n",
    "            bins.append('[31,60]')\n",
    "        else:\n",
    "            bins.append('[+60]')\n",
    "    return bins\n",
    "\n",
    "df['day_bins'] = bins(df,'days_in_shelter')"
   ]
  },
  {
   "cell_type": "code",
   "execution_count": 13,
   "id": "bb11baf4-826f-452d-890e-2f4d3537cee1",
   "metadata": {},
   "outputs": [
    {
     "data": {
      "text/html": [
       "<div>\n",
       "<style scoped>\n",
       "    .dataframe tbody tr th:only-of-type {\n",
       "        vertical-align: middle;\n",
       "    }\n",
       "\n",
       "    .dataframe tbody tr th {\n",
       "        vertical-align: top;\n",
       "    }\n",
       "\n",
       "    .dataframe thead th {\n",
       "        text-align: right;\n",
       "    }\n",
       "</style>\n",
       "<table border=\"1\" class=\"dataframe\">\n",
       "  <thead>\n",
       "    <tr style=\"text-align: right;\">\n",
       "      <th></th>\n",
       "      <th>Intake Type</th>\n",
       "      <th>Intake Condition</th>\n",
       "      <th>Animal Type</th>\n",
       "      <th>Breed</th>\n",
       "      <th>Outcome Type</th>\n",
       "      <th>days_in_shelter</th>\n",
       "      <th>age_upon_intake_months</th>\n",
       "      <th>age_upon_outcome_months</th>\n",
       "      <th>neutered_or_spayed_outcome</th>\n",
       "      <th>male_or_female_outcome</th>\n",
       "      <th>neutered_or_spayed_intake</th>\n",
       "      <th>male_or_female_intake</th>\n",
       "      <th>group_color</th>\n",
       "      <th>day_bins</th>\n",
       "    </tr>\n",
       "  </thead>\n",
       "  <tbody>\n",
       "    <tr>\n",
       "      <th>0</th>\n",
       "      <td>Public Assist</td>\n",
       "      <td>Normal</td>\n",
       "      <td>Dog</td>\n",
       "      <td>Mixed</td>\n",
       "      <td>Return to Owner</td>\n",
       "      <td>2.0</td>\n",
       "      <td>72.0</td>\n",
       "      <td>72.0</td>\n",
       "      <td>1</td>\n",
       "      <td>1.0</td>\n",
       "      <td>1</td>\n",
       "      <td>1.0</td>\n",
       "      <td>Yellow</td>\n",
       "      <td>[0,15]</td>\n",
       "    </tr>\n",
       "    <tr>\n",
       "      <th>1</th>\n",
       "      <td>Owner Surrender</td>\n",
       "      <td>Normal</td>\n",
       "      <td>Dog</td>\n",
       "      <td>Dachshund</td>\n",
       "      <td>Transfer</td>\n",
       "      <td>5.0</td>\n",
       "      <td>120.0</td>\n",
       "      <td>120.0</td>\n",
       "      <td>1</td>\n",
       "      <td>1.0</td>\n",
       "      <td>1</td>\n",
       "      <td>1.0</td>\n",
       "      <td>Tricolor</td>\n",
       "      <td>[0,15]</td>\n",
       "    </tr>\n",
       "  </tbody>\n",
       "</table>\n",
       "</div>"
      ],
      "text/plain": [
       "       Intake Type Intake Condition Animal Type      Breed     Outcome Type  \\\n",
       "0    Public Assist           Normal         Dog      Mixed  Return to Owner   \n",
       "1  Owner Surrender           Normal         Dog  Dachshund         Transfer   \n",
       "\n",
       "   days_in_shelter  age_upon_intake_months  age_upon_outcome_months  \\\n",
       "0              2.0                    72.0                     72.0   \n",
       "1              5.0                   120.0                    120.0   \n",
       "\n",
       "   neutered_or_spayed_outcome  male_or_female_outcome  \\\n",
       "0                           1                     1.0   \n",
       "1                           1                     1.0   \n",
       "\n",
       "   neutered_or_spayed_intake  male_or_female_intake group_color day_bins  \n",
       "0                          1                    1.0      Yellow   [0,15]  \n",
       "1                          1                    1.0    Tricolor   [0,15]  "
      ]
     },
     "execution_count": 13,
     "metadata": {},
     "output_type": "execute_result"
    }
   ],
   "source": [
    "df.head(2)"
   ]
  },
  {
   "cell_type": "code",
   "execution_count": 14,
   "id": "9a0f4f76-5f3e-44aa-bdb3-42e6a3197e28",
   "metadata": {},
   "outputs": [
    {
     "data": {
      "image/png": "[encoded data removed]",
      "text/plain": [
       "<Figure size 1080x360 with 1 Axes>"
      ]
     },
     "metadata": {
      "needs_background": "light"
     },
     "output_type": "display_data"
    }
   ],
   "source": [
    "sns.catplot(x=\"day_bins\", kind=\"count\", palette = \"ch:s=.25,rot=-.25\", data=df, height=5, aspect=3);\n",
    "plt.show()"
   ]
  },
  {
   "cell_type": "markdown",
   "id": "eef614b6-fea9-4750-ae14-0d1874eee23b",
   "metadata": {},
   "source": [
    "## Exploring other features   \n",
    "Exploring categorical features and numerical features and how they relate with target"
   ]
  },
  {
   "cell_type": "markdown",
   "id": "2b1ae767-ab0a-4a07-911d-dccd78483b32",
   "metadata": {},
   "source": [
    "### Categorical features   \n",
    "Categorical features in dataset:   \n",
    "- Intake Type\n",
    "- Intake Condition\n",
    "- Animal Type\n",
    "- Breed (too many breed, how to plot them visually?)\n",
    "- Outcome Type\n",
    "- Colors (too many colors, how to plot them visually?)   \n",
    "- neutered_or_spayed_intake\n",
    "- male_or_female_intake\n",
    "- neutered_or_spayed_intake\n",
    "- male_or_female_outcome\n",
    "- neutered_or_spayed_outcome\n",
    "   \n",
    "(Missing some features (work in get_data))"
   ]
  },
  {
   "cell_type": "markdown",
   "id": "6e01c1a1-5a2c-4961-b268-695e2dbe905d",
   "metadata": {},
   "source": [
    "#### Intake Type"
   ]
  },
  {
   "cell_type": "code",
   "execution_count": 146,
   "id": "fca9a44e-ad77-4ee7-bdfd-8eb5aa3d89bd",
   "metadata": {},
   "outputs": [
    {
     "data": {
      "text/plain": [
       "count     102725\n",
       "unique         5\n",
       "top        Stray\n",
       "freq       79318\n",
       "Name: Intake Type, dtype: object"
      ]
     },
     "execution_count": 146,
     "metadata": {},
     "output_type": "execute_result"
    }
   ],
   "source": [
    "df['Intake Type'].describe()"
   ]
  },
  {
   "cell_type": "code",
   "execution_count": 147,
   "id": "c13ae4e9-8f9e-4cc2-a6f0-a2f5dd29aa21",
   "metadata": {},
   "outputs": [
    {
     "data": {
      "image/png": "[encoded data removed]",
      "text/plain": [
       "<Figure size 1080x720 with 2 Axes>"
      ]
     },
     "metadata": {
      "needs_background": "light"
     },
     "output_type": "display_data"
    }
   ],
   "source": [
    "fig, axs = plt.subplots(2, 1, figsize=(15,10))\n",
    "\n",
    "sns.countplot(x=\"Intake Type\", data=df[df.days_in_shelter.between(0,60)], ax = axs[0]);\n",
    "\n",
    "sns.boxplot(x=\"Intake Type\", y = 'days_in_shelter', data=df[df.days_in_shelter.between(0,60)], ax = axs[1]);"
   ]
  },
  {
   "cell_type": "markdown",
   "id": "a56976e9-d88e-4b33-9f7b-0374561fd3d3",
   "metadata": {},
   "source": [
    "#### Intake Condition"
   ]
  },
  {
   "cell_type": "code",
   "execution_count": 148,
   "id": "22bc6026-6bfc-4565-8e8f-9eac457d024a",
   "metadata": {},
   "outputs": [
    {
     "data": {
      "text/plain": [
       "count     102725\n",
       "unique        10\n",
       "top       Normal\n",
       "freq       90036\n",
       "Name: Intake Condition, dtype: object"
      ]
     },
     "execution_count": 148,
     "metadata": {},
     "output_type": "execute_result"
    }
   ],
   "source": [
    "df['Intake Condition'].describe()"
   ]
  },
  {
   "cell_type": "code",
   "execution_count": 149,
   "id": "dcc05e80-4607-4b57-992e-f139e7ae6a03",
   "metadata": {},
   "outputs": [
    {
     "data": {
      "image/png": "[encoded data removed]",
      "text/plain": [
       "<Figure size 1080x720 with 2 Axes>"
      ]
     },
     "metadata": {
      "needs_background": "light"
     },
     "output_type": "display_data"
    }
   ],
   "source": [
    "fig, axs = plt.subplots(2, 1, figsize=(15,10))\n",
    "\n",
    "sns.countplot(x=\"Intake Condition\", data=df[df.days_in_shelter.between(0,60)], ax = axs[0]);\n",
    "\n",
    "sns.boxplot(x=\"Intake Condition\", y = 'days_in_shelter', data=df[df.days_in_shelter.between(0,60)], ax = axs[1]);"
   ]
  },
  {
   "cell_type": "markdown",
   "id": "0b981bc1-8ceb-43ae-b81b-87ce15348cbc",
   "metadata": {},
   "source": [
    "#### Animal Type"
   ]
  },
  {
   "cell_type": "code",
   "execution_count": 150,
   "id": "a881454b-9f9f-41a1-9137-fd6b01953a73",
   "metadata": {},
   "outputs": [
    {
     "data": {
      "text/plain": [
       "count     102725\n",
       "unique         2\n",
       "top          Dog\n",
       "freq       58881\n",
       "Name: Animal Type, dtype: object"
      ]
     },
     "execution_count": 150,
     "metadata": {},
     "output_type": "execute_result"
    }
   ],
   "source": [
    "df['Animal Type'].describe()"
   ]
  },
  {
   "cell_type": "code",
   "execution_count": 151,
   "id": "a9100b2f-e060-4191-86ae-d2851298f72b",
   "metadata": {},
   "outputs": [
    {
     "data": {
      "image/png": "[encoded data removed]",
      "text/plain": [
       "<Figure size 1080x720 with 2 Axes>"
      ]
     },
     "metadata": {
      "needs_background": "light"
     },
     "output_type": "display_data"
    }
   ],
   "source": [
    "fig, axs = plt.subplots(2, 1, figsize=(15,10))\n",
    "\n",
    "sns.countplot(x=\"Animal Type\", data=df[df.days_in_shelter.between(0,60)], ax = axs[0]);\n",
    "\n",
    "sns.boxplot(x=\"Animal Type\", y = 'days_in_shelter', data=df[df.days_in_shelter.between(0,60)], ax = axs[1]);"
   ]
  },
  {
   "cell_type": "markdown",
   "id": "c65232dd-f341-409e-b6c6-e283c5275d5f",
   "metadata": {},
   "source": [
    "#### Breed"
   ]
  },
  {
   "cell_type": "code",
   "execution_count": 18,
   "id": "21977585-92fd-4410-b2d9-0f7063106390",
   "metadata": {},
   "outputs": [
    {
     "data": {
      "text/plain": [
       "array(['Mixed', 'Dachshund', 'Shetland Sheepdog', 'Chihuahua Shorthair',\n",
       "       'Pug', 'Queensland Heeler', 'Border Collie', 'Siamese',\n",
       "       'Rat Terrier', 'Labrador Retriever', 'Pit Bull',\n",
       "       'Bernese Mountain Dog', 'Greyhound', 'German Shepherd',\n",
       "       'Lhasa Apso', 'Boston Terrier', 'German Shorthair Pointer',\n",
       "       'American Eskimo', 'Jack Russell Terrier', 'Miniature Schnauzer',\n",
       "       'Miniature Pinscher', 'Shih Tzu', 'Pekingese',\n",
       "       'Australian Cattle Dog', 'Cairn Terrier', 'Cocker Spaniel',\n",
       "       'Rottweiler', 'Rhod Ridgeback', 'Maltese', 'Miniature Poodle',\n",
       "       'Siberian Husky', 'Basset Hound', 'Parson Russell Terrier',\n",
       "       'Chinese Sharpei', 'Doberman Pinsch', 'Beagle',\n",
       "       'Yorkshire Terrier', 'Tibetan Terrier', 'Basenji', 'Plott Hound',\n",
       "       'American Staffordshire Terrier', 'Boxer',\n",
       "       'Soft Coated Wheaten Terrier', 'Golden Retriever',\n",
       "       'Norwich Terrier', 'St. Bernard Rough Coat', 'Akita', 'Vizsla',\n",
       "       'Shiba Inu', 'Toy Poodle', 'Scottish Terrier',\n",
       "       'Australian Shepherd', 'Pembroke Welsh Corgi', 'Maine Coon',\n",
       "       'Pbgv', 'English Bulldog', 'West Highland', 'Silky Terrier',\n",
       "       'Staffordshire', 'American Bulldog', 'Brittany', 'Bruss Griffon',\n",
       "       'Great Pyrenees', 'Great Dane', 'American Pit Bull Terrier',\n",
       "       'Cardigan Welsh Corgi', 'Airedale Terrier', 'Dachshund Wirehair',\n",
       "       'Border Terrier', 'Carolina Dog', 'Mastiff', 'British Shorthair',\n",
       "       'Dandie Dinmont', 'Chihuahua Longhair', 'Blue Lacy',\n",
       "       'Belgian Malinois', 'Cavalier Span', 'English Springer Spaniel',\n",
       "       'Dachshund Longhair', 'Pomeranian', 'Bulldog', 'Bloodhound',\n",
       "       'Papillon', 'Redbone Hound', 'Black Mouth Cur', 'Bengal',\n",
       "       'Old English Sheepdog', 'Catahoula', 'Harrier',\n",
       "       'Standard Schnauzer', 'English Pointer', 'Picardy Sheepdog',\n",
       "       'Bichon Frise', 'Standard Poodle', 'Burmese', 'English Foxhound',\n",
       "       'Chow Chow', 'Coton De Tulear', 'Weimaraner', 'Bearded Collie',\n",
       "       'German Wirehaired Pointer', 'Dogo Argentino', 'Snowshoe',\n",
       "       'Cane Corso', 'Old English Bulldog', 'French Bulldog',\n",
       "       'Bull Terrier', 'Australian Kelpie', 'Flat Coat Retriever',\n",
       "       'Boykin Span', 'Russian Blue', 'Wire Hair Fox Terrier', 'Ragdoll',\n",
       "       'Beauceron', 'Himalayan', 'Anatol Shepherd', 'Norfolk Terrier',\n",
       "       'Persian', 'Nova Scotia Duck Tolling Retriever', 'Samoyed',\n",
       "       'Sphynx', 'Presa Canario', 'Dutch Shepherd', 'Alaskan Malamute',\n",
       "       'Japanese Chin', 'Bullmastiff', 'Bluetick Hound', 'Collie Rough',\n",
       "       'Devon Rex', 'Tibetan Spaniel', 'Pointer', 'Saluki',\n",
       "       'Greater Swiss Mountain Dog', 'Dalmatian', 'Belgian Sheepdog',\n",
       "       'Keeshond', 'Alaskan Husky', 'English Shepherd', 'Collie Smooth',\n",
       "       'Welsh Terrier', 'Finnish Spitz', 'Bull Terrier Miniature',\n",
       "       'Chesa Bay Retr', 'Treeing Walker Coonhound',\n",
       "       'St. Bernard Smooth Coat', 'Italian Greyhound', 'Havanese',\n",
       "       'Boerboel', 'Welsh Springer Spaniel', 'Pharaoh Hound', 'Manx',\n",
       "       'Leonberger', 'Treeing Tennesse Brindle', 'American Foxhound',\n",
       "       'English Coonhound', 'Jindo', 'Whippet', 'Hovawart', 'Landseer',\n",
       "       'Dogue De Bordeaux', 'Smooth Fox Terrier', 'Mexican Hairless',\n",
       "       'American Curl Shorthair', 'Manchester Terrier', 'Balinese',\n",
       "       'Australian Terrier', 'Turkish Angora', 'Chinese Crested',\n",
       "       'Schnauzer Giant', 'Irish Terrier', 'Briard',\n",
       "       'English Cocker Spaniel', 'American Shorthair', 'Swedish Vallhund',\n",
       "       'Abyssinian', 'Skye Terrier', 'Irish Wolfhound', 'Toy Fox Terrier',\n",
       "       'Havana Brown', 'Neapolitan Mastiff', 'Irish Setter',\n",
       "       'Spanish Water Dog', 'Port Water Dog', 'Cornish Rex',\n",
       "       'Ibizan Hound', 'Newfoundland', 'Alaskan Klee Kai', 'Tonkinese',\n",
       "       'Clumber Spaniel', 'Unknown', 'Treeing Cur', 'Affenpinscher',\n",
       "       'Dutch Sheepdog', 'Wirehaired Pointing Griffon', 'Oriental Sh',\n",
       "       'Pixiebob Shorthair'], dtype=object)"
      ]
     },
     "execution_count": 18,
     "metadata": {},
     "output_type": "execute_result"
    }
   ],
   "source": [
    "df.Breed.unique()"
   ]
  },
  {
   "cell_type": "code",
   "execution_count": 152,
   "id": "4bb2cc97-e8b6-4c58-9662-f72f2b68f4ce",
   "metadata": {},
   "outputs": [],
   "source": [
    "#sns.catplot(x=\"Breed\", y = 'days_in_shelter', kind=\"box\", data=df[df.days_in_shelter.between(0,60)], height=5, aspect=3);"
   ]
  },
  {
   "cell_type": "markdown",
   "id": "4812a391-9831-4425-a2b1-fc564a1ece90",
   "metadata": {},
   "source": [
    "#### Outcome Type"
   ]
  },
  {
   "cell_type": "code",
   "execution_count": 153,
   "id": "46036fc5-f40d-4f73-8808-20ab540652d9",
   "metadata": {},
   "outputs": [
    {
     "data": {
      "image/png": "[encoded data removed]",
      "text/plain": [
       "<Figure size 1080x720 with 2 Axes>"
      ]
     },
     "metadata": {
      "needs_background": "light"
     },
     "output_type": "display_data"
    }
   ],
   "source": [
    "fig, axs = plt.subplots(2, 1, figsize=(15,10))\n",
    "\n",
    "sns.countplot(x=\"Outcome Type\", data=df[df.days_in_shelter.between(0,60)], ax = axs[0]);\n",
    "\n",
    "sns.boxplot(x=\"Outcome Type\", y = 'days_in_shelter', data=df[df.days_in_shelter.between(0,60)], ax = axs[1]);"
   ]
  },
  {
   "cell_type": "markdown",
   "id": "1a5161d8-1a15-441e-a967-f46d5af00016",
   "metadata": {},
   "source": [
    "#### Colors"
   ]
  },
  {
   "cell_type": "code",
   "execution_count": 16,
   "id": "fbc8d61f-d8dc-4aa9-81b7-8d174bf9f210",
   "metadata": {},
   "outputs": [
    {
     "data": {
      "text/plain": [
       "array(['Yellow', 'Tricolor', 'Brown', 'Black', 'White', 'Brown Tabby',\n",
       "       'Tan', 'Gold', 'Tortie Point', 'Sable', 'Blue Merle', 'Gray',\n",
       "       'Cream', 'Red', 'Gray Tabby', 'Brown Merle', 'Tortie',\n",
       "       'Black Smoke', 'Calico', 'Orange Tabby', 'Blue Cream',\n",
       "       'Lynx Point', 'Red Merle', 'Torbie', 'Blue', 'Lilac Point',\n",
       "       'Black Brindle', 'Chocolate', 'Blue Point', 'Black Tabby',\n",
       "       'Silver Tabby', 'Brown Brindle', 'Seal Point', 'Flame Point',\n",
       "       'Blue Tick', 'Apricot', 'Blue Tabby', 'Buff', 'Chocolate Point',\n",
       "       'Fawn', 'Silver', 'Cream Tabby', 'Calico Point', 'Red Tick',\n",
       "       'Liver', 'Black Tiger', 'Orange', 'Blue Tiger', 'Yellow Brindle',\n",
       "       'Brown Tiger', 'Blue Smoke', 'Ruddy', 'Liver Tick', 'Agouti',\n",
       "       'Silver Lynx Point', 'Orange Tiger', 'Pink', 'Cream Tiger'],\n",
       "      dtype=object)"
      ]
     },
     "execution_count": 16,
     "metadata": {},
     "output_type": "execute_result"
    }
   ],
   "source": [
    "df.group_color.unique()"
   ]
  },
  {
   "cell_type": "code",
   "execution_count": null,
   "id": "1a0fad07-23ff-4ef1-b16e-19ac20937943",
   "metadata": {},
   "outputs": [],
   "source": []
  },
  {
   "cell_type": "code",
   "execution_count": 1,
   "id": "e47b09b9-df3e-43a1-af2e-03f5d1712855",
   "metadata": {},
   "outputs": [],
   "source": [
    "#sns.catplot(x=\"group_color\", y = 'days_in_shelter', kind=\"box\", data=df[df.days_in_shelter.between(0,60)], height=5, aspect=3);"
   ]
  },
  {
   "cell_type": "markdown",
   "id": "a6076b40-4172-4e0c-8802-430adf19ff2b",
   "metadata": {},
   "source": [
    "#### Neutered or not in Intake"
   ]
  },
  {
   "cell_type": "code",
   "execution_count": 188,
   "id": "7f26e99a-f716-4db1-88bc-9f01ecb14b36",
   "metadata": {},
   "outputs": [
    {
     "data": {
      "image/png": "[encoded data removed]",
      "text/plain": [
       "<Figure size 1080x720 with 2 Axes>"
      ]
     },
     "metadata": {
      "needs_background": "light"
     },
     "output_type": "display_data"
    }
   ],
   "source": [
    "fig, axs = plt.subplots(2, 1, figsize=(15,10))\n",
    "\n",
    "sns.countplot(x=\"neutered_or_spayed_intake\", data=df[df.days_in_shelter.between(0,60)], ax = axs[0]);\n",
    "\n",
    "sns.boxplot(x=\"neutered_or_spayed_intake\", y = 'days_in_shelter', data=df[df.days_in_shelter.between(0,60)], ax = axs[1]);"
   ]
  },
  {
   "cell_type": "markdown",
   "id": "6b5f99d1-f74a-49ec-8039-e9027de2e88f",
   "metadata": {},
   "source": [
    "#### Neutered or not in Outcome"
   ]
  },
  {
   "cell_type": "code",
   "execution_count": 187,
   "id": "ba980d00-63bd-42f0-91f9-da1e623f2cc0",
   "metadata": {},
   "outputs": [
    {
     "data": {
      "image/png": "[encoded data removed]",
      "text/plain": [
       "<Figure size 1080x720 with 2 Axes>"
      ]
     },
     "metadata": {
      "needs_background": "light"
     },
     "output_type": "display_data"
    }
   ],
   "source": [
    "fig, axs = plt.subplots(2, 1, figsize=(15,10))\n",
    "\n",
    "sns.countplot(x=\"neutered_or_spayed_outcome\", data=df[df.days_in_shelter.between(0,60)], ax = axs[0]);\n",
    "\n",
    "sns.boxplot(x=\"neutered_or_spayed_outcome\", y = 'days_in_shelter', data=df[df.days_in_shelter.between(0,60)], ax = axs[1]);"
   ]
  },
  {
   "cell_type": "markdown",
   "id": "dd13d4aa-dfbb-4cbf-999b-eaef3f6cf7e0",
   "metadata": {},
   "source": [
    "### Male or Female"
   ]
  },
  {
   "cell_type": "code",
   "execution_count": 189,
   "id": "e432a029-ec8e-4d82-8e9c-e473aebd8e66",
   "metadata": {},
   "outputs": [
    {
     "data": {
      "image/png": "[encoded data removed]",
      "text/plain": [
       "<Figure size 1080x720 with 2 Axes>"
      ]
     },
     "metadata": {
      "needs_background": "light"
     },
     "output_type": "display_data"
    }
   ],
   "source": [
    "fig, axs = plt.subplots(2, 1, figsize=(15,10))\n",
    "\n",
    "sns.countplot(x=\"male_or_female_intake\", data=df[df.days_in_shelter.between(0,60)], ax = axs[0]);\n",
    "\n",
    "sns.boxplot(x=\"male_or_female_intake\", y = 'days_in_shelter', data=df[df.days_in_shelter.between(0,60)], ax = axs[1]);"
   ]
  },
  {
   "cell_type": "markdown",
   "id": "0380853e-ff3e-40d4-811a-996d0c0d9b31",
   "metadata": {},
   "source": [
    "### Numerical features   \n",
    "Categorical features in dataset:   \n",
    "- Age Upon Intake Months\n",
    "- Age upon Outcome Months"
   ]
  },
  {
   "cell_type": "code",
   "execution_count": 192,
   "id": "eb0c2e0b-43d3-4790-90dc-859b43b7ae6d",
   "metadata": {},
   "outputs": [
    {
     "data": {
      "image/png": "[encoded data removed]",
      "text/plain": [
       "<Figure size 432x288 with 1 Axes>"
      ]
     },
     "metadata": {
      "needs_background": "light"
     },
     "output_type": "display_data"
    }
   ],
   "source": [
    "sns.scatterplot(x=\"age_upon_intake_months\", y=\"days_in_shelter\", data=df[df.days_in_shelter.between(0,60)])\n",
    "plt.show()"
   ]
  },
  {
   "cell_type": "code",
   "execution_count": 193,
   "id": "759a13b6-922a-4a34-bbdf-628a1d095dae",
   "metadata": {},
   "outputs": [
    {
     "data": {
      "image/png": "[encoded data removed]",
      "text/plain": [
       "<Figure size 432x288 with 1 Axes>"
      ]
     },
     "metadata": {
      "needs_background": "light"
     },
     "output_type": "display_data"
    }
   ],
   "source": [
    "sns.scatterplot(x=\"age_upon_outcome_months\", y=\"days_in_shelter\", data=df[df.days_in_shelter.between(0,60)])\n",
    "plt.show()"
   ]
  },
  {
   "cell_type": "markdown",
   "id": "8e845424-19be-43c9-a274-8e65d5407cf4",
   "metadata": {},
   "source": [
    "#### Encoding all categorical features   \n",
    "Categorical features in dataset:   \n",
    "- Intake Type\n",
    "- Intake Condition\n",
    "- Animal Type\n",
    "- Breed (too many breed, how to plot them visually?)\n",
    "- Outcome Type\n",
    "- Colors (too many colors, how to plot them visually?)  "
   ]
  },
  {
   "cell_type": "code",
   "execution_count": 199,
   "id": "6c987ace-05a4-4921-99f8-c0ab4a8a6441",
   "metadata": {},
   "outputs": [],
   "source": [
    "from sklearn.preprocessing import OneHotEncoder"
   ]
  },
  {
   "cell_type": "code",
   "execution_count": 163,
   "id": "328a2150-1932-47a4-a39e-638e9df9a2a7",
   "metadata": {},
   "outputs": [],
   "source": [
    "df_cat = df.select_dtypes(include=['object']).copy()"
   ]
  },
  {
   "cell_type": "code",
   "execution_count": 164,
   "id": "65157172-0af7-403f-9964-0219791c02c3",
   "metadata": {},
   "outputs": [],
   "source": [
    "df_cat.drop(columns = 'day_bins', inplace = True)"
   ]
  },
  {
   "cell_type": "code",
   "execution_count": 165,
   "id": "5b76d115-5a45-409b-a185-26f3c906f27a",
   "metadata": {},
   "outputs": [
    {
     "data": {
      "text/plain": [
       "Index(['Intake Type', 'Intake Condition', 'Animal Type', 'Breed',\n",
       "       'Outcome Type', 'group_color'],\n",
       "      dtype='object')"
      ]
     },
     "execution_count": 165,
     "metadata": {},
     "output_type": "execute_result"
    }
   ],
   "source": [
    "df_cat.columns"
   ]
  },
  {
   "cell_type": "code",
   "execution_count": 157,
   "id": "76976a72-7e10-47a2-94a3-32d8d5566cad",
   "metadata": {},
   "outputs": [],
   "source": [
    "df_ohe = df.select_dtypes(include=['float64','int64']).copy()"
   ]
  },
  {
   "cell_type": "code",
   "execution_count": 159,
   "id": "a3703168-60b8-4973-b447-ac69542d24d7",
   "metadata": {},
   "outputs": [
    {
     "name": "stderr",
     "output_type": "stream",
     "text": [
      "/tmp/ipykernel_15512/3536123997.py:8: PerformanceWarning: DataFrame is highly fragmented.  This is usually the result of calling `frame.insert` many times, which has poor performance.  Consider joining all columns at once using pd.concat(axis=1) instead.  To get a de-fragmented frame, use `newframe = frame.copy()`\n",
      "  df_ohe[ohe.get_feature_names()[i]] = column_encoded.T[i]\n",
      "/tmp/ipykernel_15512/3536123997.py:8: PerformanceWarning: DataFrame is highly fragmented.  This is usually the result of calling `frame.insert` many times, which has poor performance.  Consider joining all columns at once using pd.concat(axis=1) instead.  To get a de-fragmented frame, use `newframe = frame.copy()`\n",
      "  df_ohe[ohe.get_feature_names()[i]] = column_encoded.T[i]\n",
      "/tmp/ipykernel_15512/3536123997.py:8: PerformanceWarning: DataFrame is highly fragmented.  This is usually the result of calling `frame.insert` many times, which has poor performance.  Consider joining all columns at once using pd.concat(axis=1) instead.  To get a de-fragmented frame, use `newframe = frame.copy()`\n",
      "  df_ohe[ohe.get_feature_names()[i]] = column_encoded.T[i]\n"
     ]
    }
   ],
   "source": [
    "for column in df_cat.columns:\n",
    "    ohe = OneHotEncoder(sparse = False)\n",
    "    ohe.fit(df[[column]]) # Fit the encoder\n",
    "    \n",
    "    column_encoded = ohe.transform(df[[column]]) # Encode the feature\n",
    "    \n",
    "    for i in range(len(ohe.get_feature_names())):\n",
    "        df_ohe[ohe.get_feature_names()[i]] = column_encoded.T[i]"
   ]
  },
  {
   "cell_type": "code",
   "execution_count": 160,
   "id": "b89e1331-e8c7-4234-81dd-ebbb609845fe",
   "metadata": {},
   "outputs": [
    {
     "data": {
      "text/html": [
       "<div>\n",
       "<style scoped>\n",
       "    .dataframe tbody tr th:only-of-type {\n",
       "        vertical-align: middle;\n",
       "    }\n",
       "\n",
       "    .dataframe tbody tr th {\n",
       "        vertical-align: top;\n",
       "    }\n",
       "\n",
       "    .dataframe thead th {\n",
       "        text-align: right;\n",
       "    }\n",
       "</style>\n",
       "<table border=\"1\" class=\"dataframe\">\n",
       "  <thead>\n",
       "    <tr style=\"text-align: right;\">\n",
       "      <th></th>\n",
       "      <th>days_in_shelter</th>\n",
       "      <th>age_upon_intake_months</th>\n",
       "      <th>age_upon_outcome_months</th>\n",
       "      <th>neutered_or_spayed_outcome</th>\n",
       "      <th>male_or_female_outcome</th>\n",
       "      <th>neutered_or_spayed_intake</th>\n",
       "      <th>male_or_female_intake</th>\n",
       "      <th>x0_Abandoned</th>\n",
       "      <th>x0_Euthanasia Request</th>\n",
       "      <th>x0_Owner Surrender</th>\n",
       "      <th>...</th>\n",
       "      <th>x0_Silver Lynx Point</th>\n",
       "      <th>x0_Silver Tabby</th>\n",
       "      <th>x0_Tan</th>\n",
       "      <th>x0_Torbie</th>\n",
       "      <th>x0_Tortie</th>\n",
       "      <th>x0_Tortie Point</th>\n",
       "      <th>x0_Tricolor</th>\n",
       "      <th>x0_White</th>\n",
       "      <th>x0_Yellow</th>\n",
       "      <th>x0_Yellow Brindle</th>\n",
       "    </tr>\n",
       "  </thead>\n",
       "  <tbody>\n",
       "    <tr>\n",
       "      <th>0</th>\n",
       "      <td>2.0</td>\n",
       "      <td>72.0</td>\n",
       "      <td>72.0</td>\n",
       "      <td>1</td>\n",
       "      <td>1.0</td>\n",
       "      <td>1</td>\n",
       "      <td>1.0</td>\n",
       "      <td>0.0</td>\n",
       "      <td>0.0</td>\n",
       "      <td>0.0</td>\n",
       "      <td>...</td>\n",
       "      <td>0.0</td>\n",
       "      <td>0.0</td>\n",
       "      <td>0.0</td>\n",
       "      <td>0.0</td>\n",
       "      <td>0.0</td>\n",
       "      <td>0.0</td>\n",
       "      <td>0.0</td>\n",
       "      <td>0.0</td>\n",
       "      <td>1.0</td>\n",
       "      <td>0.0</td>\n",
       "    </tr>\n",
       "    <tr>\n",
       "      <th>1</th>\n",
       "      <td>5.0</td>\n",
       "      <td>120.0</td>\n",
       "      <td>120.0</td>\n",
       "      <td>1</td>\n",
       "      <td>1.0</td>\n",
       "      <td>1</td>\n",
       "      <td>1.0</td>\n",
       "      <td>0.0</td>\n",
       "      <td>0.0</td>\n",
       "      <td>1.0</td>\n",
       "      <td>...</td>\n",
       "      <td>0.0</td>\n",
       "      <td>0.0</td>\n",
       "      <td>0.0</td>\n",
       "      <td>0.0</td>\n",
       "      <td>0.0</td>\n",
       "      <td>0.0</td>\n",
       "      <td>1.0</td>\n",
       "      <td>0.0</td>\n",
       "      <td>0.0</td>\n",
       "      <td>0.0</td>\n",
       "    </tr>\n",
       "    <tr>\n",
       "      <th>2</th>\n",
       "      <td>1.0</td>\n",
       "      <td>192.0</td>\n",
       "      <td>192.0</td>\n",
       "      <td>1</td>\n",
       "      <td>1.0</td>\n",
       "      <td>1</td>\n",
       "      <td>1.0</td>\n",
       "      <td>0.0</td>\n",
       "      <td>0.0</td>\n",
       "      <td>0.0</td>\n",
       "      <td>...</td>\n",
       "      <td>0.0</td>\n",
       "      <td>0.0</td>\n",
       "      <td>0.0</td>\n",
       "      <td>0.0</td>\n",
       "      <td>0.0</td>\n",
       "      <td>0.0</td>\n",
       "      <td>0.0</td>\n",
       "      <td>0.0</td>\n",
       "      <td>0.0</td>\n",
       "      <td>0.0</td>\n",
       "    </tr>\n",
       "    <tr>\n",
       "      <th>3</th>\n",
       "      <td>1.0</td>\n",
       "      <td>180.0</td>\n",
       "      <td>180.0</td>\n",
       "      <td>1</td>\n",
       "      <td>0.0</td>\n",
       "      <td>1</td>\n",
       "      <td>0.0</td>\n",
       "      <td>0.0</td>\n",
       "      <td>0.0</td>\n",
       "      <td>0.0</td>\n",
       "      <td>...</td>\n",
       "      <td>0.0</td>\n",
       "      <td>0.0</td>\n",
       "      <td>0.0</td>\n",
       "      <td>0.0</td>\n",
       "      <td>0.0</td>\n",
       "      <td>0.0</td>\n",
       "      <td>0.0</td>\n",
       "      <td>0.0</td>\n",
       "      <td>0.0</td>\n",
       "      <td>0.0</td>\n",
       "    </tr>\n",
       "    <tr>\n",
       "      <th>4</th>\n",
       "      <td>1.0</td>\n",
       "      <td>180.0</td>\n",
       "      <td>180.0</td>\n",
       "      <td>0</td>\n",
       "      <td>0.0</td>\n",
       "      <td>0</td>\n",
       "      <td>0.0</td>\n",
       "      <td>0.0</td>\n",
       "      <td>0.0</td>\n",
       "      <td>0.0</td>\n",
       "      <td>...</td>\n",
       "      <td>0.0</td>\n",
       "      <td>0.0</td>\n",
       "      <td>0.0</td>\n",
       "      <td>0.0</td>\n",
       "      <td>0.0</td>\n",
       "      <td>0.0</td>\n",
       "      <td>0.0</td>\n",
       "      <td>0.0</td>\n",
       "      <td>0.0</td>\n",
       "      <td>0.0</td>\n",
       "    </tr>\n",
       "    <tr>\n",
       "      <th>...</th>\n",
       "      <td>...</td>\n",
       "      <td>...</td>\n",
       "      <td>...</td>\n",
       "      <td>...</td>\n",
       "      <td>...</td>\n",
       "      <td>...</td>\n",
       "      <td>...</td>\n",
       "      <td>...</td>\n",
       "      <td>...</td>\n",
       "      <td>...</td>\n",
       "      <td>...</td>\n",
       "      <td>...</td>\n",
       "      <td>...</td>\n",
       "      <td>...</td>\n",
       "      <td>...</td>\n",
       "      <td>...</td>\n",
       "      <td>...</td>\n",
       "      <td>...</td>\n",
       "      <td>...</td>\n",
       "      <td>...</td>\n",
       "      <td>...</td>\n",
       "    </tr>\n",
       "    <tr>\n",
       "      <th>110852</th>\n",
       "      <td>2.0</td>\n",
       "      <td>24.0</td>\n",
       "      <td>24.0</td>\n",
       "      <td>0</td>\n",
       "      <td>1.0</td>\n",
       "      <td>0</td>\n",
       "      <td>1.0</td>\n",
       "      <td>0.0</td>\n",
       "      <td>0.0</td>\n",
       "      <td>0.0</td>\n",
       "      <td>...</td>\n",
       "      <td>0.0</td>\n",
       "      <td>0.0</td>\n",
       "      <td>0.0</td>\n",
       "      <td>0.0</td>\n",
       "      <td>0.0</td>\n",
       "      <td>0.0</td>\n",
       "      <td>0.0</td>\n",
       "      <td>0.0</td>\n",
       "      <td>0.0</td>\n",
       "      <td>0.0</td>\n",
       "    </tr>\n",
       "    <tr>\n",
       "      <th>110853</th>\n",
       "      <td>2.0</td>\n",
       "      <td>24.0</td>\n",
       "      <td>24.0</td>\n",
       "      <td>1</td>\n",
       "      <td>0.0</td>\n",
       "      <td>1</td>\n",
       "      <td>0.0</td>\n",
       "      <td>0.0</td>\n",
       "      <td>0.0</td>\n",
       "      <td>0.0</td>\n",
       "      <td>...</td>\n",
       "      <td>0.0</td>\n",
       "      <td>0.0</td>\n",
       "      <td>0.0</td>\n",
       "      <td>0.0</td>\n",
       "      <td>0.0</td>\n",
       "      <td>0.0</td>\n",
       "      <td>0.0</td>\n",
       "      <td>1.0</td>\n",
       "      <td>0.0</td>\n",
       "      <td>0.0</td>\n",
       "    </tr>\n",
       "    <tr>\n",
       "      <th>110861</th>\n",
       "      <td>1.0</td>\n",
       "      <td>24.0</td>\n",
       "      <td>24.0</td>\n",
       "      <td>1</td>\n",
       "      <td>1.0</td>\n",
       "      <td>1</td>\n",
       "      <td>1.0</td>\n",
       "      <td>0.0</td>\n",
       "      <td>0.0</td>\n",
       "      <td>0.0</td>\n",
       "      <td>...</td>\n",
       "      <td>0.0</td>\n",
       "      <td>0.0</td>\n",
       "      <td>0.0</td>\n",
       "      <td>0.0</td>\n",
       "      <td>0.0</td>\n",
       "      <td>0.0</td>\n",
       "      <td>0.0</td>\n",
       "      <td>0.0</td>\n",
       "      <td>0.0</td>\n",
       "      <td>0.0</td>\n",
       "    </tr>\n",
       "    <tr>\n",
       "      <th>110874</th>\n",
       "      <td>2.0</td>\n",
       "      <td>12.0</td>\n",
       "      <td>12.0</td>\n",
       "      <td>1</td>\n",
       "      <td>1.0</td>\n",
       "      <td>0</td>\n",
       "      <td>1.0</td>\n",
       "      <td>0.0</td>\n",
       "      <td>0.0</td>\n",
       "      <td>1.0</td>\n",
       "      <td>...</td>\n",
       "      <td>0.0</td>\n",
       "      <td>0.0</td>\n",
       "      <td>0.0</td>\n",
       "      <td>0.0</td>\n",
       "      <td>0.0</td>\n",
       "      <td>0.0</td>\n",
       "      <td>0.0</td>\n",
       "      <td>0.0</td>\n",
       "      <td>0.0</td>\n",
       "      <td>0.0</td>\n",
       "    </tr>\n",
       "    <tr>\n",
       "      <th>110888</th>\n",
       "      <td>1.0</td>\n",
       "      <td>1.0</td>\n",
       "      <td>1.0</td>\n",
       "      <td>0</td>\n",
       "      <td>NaN</td>\n",
       "      <td>0</td>\n",
       "      <td>NaN</td>\n",
       "      <td>0.0</td>\n",
       "      <td>0.0</td>\n",
       "      <td>1.0</td>\n",
       "      <td>...</td>\n",
       "      <td>0.0</td>\n",
       "      <td>0.0</td>\n",
       "      <td>1.0</td>\n",
       "      <td>0.0</td>\n",
       "      <td>0.0</td>\n",
       "      <td>0.0</td>\n",
       "      <td>0.0</td>\n",
       "      <td>0.0</td>\n",
       "      <td>0.0</td>\n",
       "      <td>0.0</td>\n",
       "    </tr>\n",
       "  </tbody>\n",
       "</table>\n",
       "<p>102725 rows × 287 columns</p>\n",
       "</div>"
      ],
      "text/plain": [
       "        days_in_shelter  age_upon_intake_months  age_upon_outcome_months  \\\n",
       "0                   2.0                    72.0                     72.0   \n",
       "1                   5.0                   120.0                    120.0   \n",
       "2                   1.0                   192.0                    192.0   \n",
       "3                   1.0                   180.0                    180.0   \n",
       "4                   1.0                   180.0                    180.0   \n",
       "...                 ...                     ...                      ...   \n",
       "110852              2.0                    24.0                     24.0   \n",
       "110853              2.0                    24.0                     24.0   \n",
       "110861              1.0                    24.0                     24.0   \n",
       "110874              2.0                    12.0                     12.0   \n",
       "110888              1.0                     1.0                      1.0   \n",
       "\n",
       "        neutered_or_spayed_outcome  male_or_female_outcome  \\\n",
       "0                                1                     1.0   \n",
       "1                                1                     1.0   \n",
       "2                                1                     1.0   \n",
       "3                                1                     0.0   \n",
       "4                                0                     0.0   \n",
       "...                            ...                     ...   \n",
       "110852                           0                     1.0   \n",
       "110853                           1                     0.0   \n",
       "110861                           1                     1.0   \n",
       "110874                           1                     1.0   \n",
       "110888                           0                     NaN   \n",
       "\n",
       "        neutered_or_spayed_intake  male_or_female_intake  x0_Abandoned  \\\n",
       "0                               1                    1.0           0.0   \n",
       "1                               1                    1.0           0.0   \n",
       "2                               1                    1.0           0.0   \n",
       "3                               1                    0.0           0.0   \n",
       "4                               0                    0.0           0.0   \n",
       "...                           ...                    ...           ...   \n",
       "110852                          0                    1.0           0.0   \n",
       "110853                          1                    0.0           0.0   \n",
       "110861                          1                    1.0           0.0   \n",
       "110874                          0                    1.0           0.0   \n",
       "110888                          0                    NaN           0.0   \n",
       "\n",
       "        x0_Euthanasia Request  x0_Owner Surrender  ...  x0_Silver Lynx Point  \\\n",
       "0                         0.0                 0.0  ...                   0.0   \n",
       "1                         0.0                 1.0  ...                   0.0   \n",
       "2                         0.0                 0.0  ...                   0.0   \n",
       "3                         0.0                 0.0  ...                   0.0   \n",
       "4                         0.0                 0.0  ...                   0.0   \n",
       "...                       ...                 ...  ...                   ...   \n",
       "110852                    0.0                 0.0  ...                   0.0   \n",
       "110853                    0.0                 0.0  ...                   0.0   \n",
       "110861                    0.0                 0.0  ...                   0.0   \n",
       "110874                    0.0                 1.0  ...                   0.0   \n",
       "110888                    0.0                 1.0  ...                   0.0   \n",
       "\n",
       "        x0_Silver Tabby  x0_Tan  x0_Torbie  x0_Tortie  x0_Tortie Point  \\\n",
       "0                   0.0     0.0        0.0        0.0              0.0   \n",
       "1                   0.0     0.0        0.0        0.0              0.0   \n",
       "2                   0.0     0.0        0.0        0.0              0.0   \n",
       "3                   0.0     0.0        0.0        0.0              0.0   \n",
       "4                   0.0     0.0        0.0        0.0              0.0   \n",
       "...                 ...     ...        ...        ...              ...   \n",
       "110852              0.0     0.0        0.0        0.0              0.0   \n",
       "110853              0.0     0.0        0.0        0.0              0.0   \n",
       "110861              0.0     0.0        0.0        0.0              0.0   \n",
       "110874              0.0     0.0        0.0        0.0              0.0   \n",
       "110888              0.0     1.0        0.0        0.0              0.0   \n",
       "\n",
       "        x0_Tricolor  x0_White  x0_Yellow  x0_Yellow Brindle  \n",
       "0               0.0       0.0        1.0                0.0  \n",
       "1               1.0       0.0        0.0                0.0  \n",
       "2               0.0       0.0        0.0                0.0  \n",
       "3               0.0       0.0        0.0                0.0  \n",
       "4               0.0       0.0        0.0                0.0  \n",
       "...             ...       ...        ...                ...  \n",
       "110852          0.0       0.0        0.0                0.0  \n",
       "110853          0.0       1.0        0.0                0.0  \n",
       "110861          0.0       0.0        0.0                0.0  \n",
       "110874          0.0       0.0        0.0                0.0  \n",
       "110888          0.0       0.0        0.0                0.0  \n",
       "\n",
       "[102725 rows x 287 columns]"
      ]
     },
     "execution_count": 160,
     "metadata": {},
     "output_type": "execute_result"
    }
   ],
   "source": [
    "df_ohe"
   ]
  },
  {
   "cell_type": "markdown",
   "id": "68986275-d831-4fd6-be86-e161cdbba9ef",
   "metadata": {},
   "source": [
    "#### Correlation between numerical features and target"
   ]
  },
  {
   "cell_type": "code",
   "execution_count": 181,
   "id": "6ec3f08f-a7bd-4f28-92ef-0091e438c279",
   "metadata": {},
   "outputs": [],
   "source": [
    "df_num = df.select_dtypes(include=['float64','int64']).copy()"
   ]
  },
  {
   "cell_type": "code",
   "execution_count": 182,
   "id": "6e7c3258-072a-4407-9c13-fd0382b3acf9",
   "metadata": {},
   "outputs": [
    {
     "data": {
      "image/png": "[encoded data removed]",
      "text/plain": [
       "<Figure size 432x288 with 1 Axes>"
      ]
     },
     "metadata": {
      "needs_background": "light"
     },
     "output_type": "display_data"
    }
   ],
   "source": [
    "corrs = df_num.corr()\n",
    "l = list(df_num)\n",
    "l.remove('days_in_shelter')\n",
    "corrs['days_in_shelter'][l].plot.bar(color = 'b');\n",
    "plt.title('Correlation with Days in Shelter');\n"
   ]
  },
  {
   "cell_type": "code",
   "execution_count": 183,
   "id": "091834a7-97ea-4b82-bbd6-4387b486aa8c",
   "metadata": {},
   "outputs": [
    {
     "data": {
      "text/html": [
       "<div>\n",
       "<style scoped>\n",
       "    .dataframe tbody tr th:only-of-type {\n",
       "        vertical-align: middle;\n",
       "    }\n",
       "\n",
       "    .dataframe tbody tr th {\n",
       "        vertical-align: top;\n",
       "    }\n",
       "\n",
       "    .dataframe thead th {\n",
       "        text-align: right;\n",
       "    }\n",
       "</style>\n",
       "<table border=\"1\" class=\"dataframe\">\n",
       "  <thead>\n",
       "    <tr style=\"text-align: right;\">\n",
       "      <th></th>\n",
       "      <th>days_in_shelter</th>\n",
       "      <th>age_upon_intake_months</th>\n",
       "      <th>age_upon_outcome_months</th>\n",
       "      <th>neutered_or_spayed_outcome</th>\n",
       "      <th>male_or_female_outcome</th>\n",
       "      <th>neutered_or_spayed_intake</th>\n",
       "      <th>male_or_female_intake</th>\n",
       "    </tr>\n",
       "  </thead>\n",
       "  <tbody>\n",
       "    <tr>\n",
       "      <th>days_in_shelter</th>\n",
       "      <td>1.000000</td>\n",
       "      <td>0.021341</td>\n",
       "      <td>0.045186</td>\n",
       "      <td>0.213529</td>\n",
       "      <td>-0.018016</td>\n",
       "      <td>0.003054</td>\n",
       "      <td>-0.018016</td>\n",
       "    </tr>\n",
       "    <tr>\n",
       "      <th>age_upon_intake_months</th>\n",
       "      <td>0.021341</td>\n",
       "      <td>1.000000</td>\n",
       "      <td>0.998769</td>\n",
       "      <td>0.149238</td>\n",
       "      <td>0.012892</td>\n",
       "      <td>0.524019</td>\n",
       "      <td>0.012892</td>\n",
       "    </tr>\n",
       "    <tr>\n",
       "      <th>age_upon_outcome_months</th>\n",
       "      <td>0.045186</td>\n",
       "      <td>0.998769</td>\n",
       "      <td>1.000000</td>\n",
       "      <td>0.154282</td>\n",
       "      <td>0.012337</td>\n",
       "      <td>0.522983</td>\n",
       "      <td>0.012337</td>\n",
       "    </tr>\n",
       "    <tr>\n",
       "      <th>neutered_or_spayed_outcome</th>\n",
       "      <td>0.213529</td>\n",
       "      <td>0.149238</td>\n",
       "      <td>0.154282</td>\n",
       "      <td>1.000000</td>\n",
       "      <td>0.018932</td>\n",
       "      <td>0.375758</td>\n",
       "      <td>0.018932</td>\n",
       "    </tr>\n",
       "  </tbody>\n",
       "</table>\n",
       "</div>"
      ],
      "text/plain": [
       "                            days_in_shelter  age_upon_intake_months  \\\n",
       "days_in_shelter                    1.000000                0.021341   \n",
       "age_upon_intake_months             0.021341                1.000000   \n",
       "age_upon_outcome_months            0.045186                0.998769   \n",
       "neutered_or_spayed_outcome         0.213529                0.149238   \n",
       "\n",
       "                            age_upon_outcome_months  \\\n",
       "days_in_shelter                            0.045186   \n",
       "age_upon_intake_months                     0.998769   \n",
       "age_upon_outcome_months                    1.000000   \n",
       "neutered_or_spayed_outcome                 0.154282   \n",
       "\n",
       "                            neutered_or_spayed_outcome  \\\n",
       "days_in_shelter                               0.213529   \n",
       "age_upon_intake_months                        0.149238   \n",
       "age_upon_outcome_months                       0.154282   \n",
       "neutered_or_spayed_outcome                    1.000000   \n",
       "\n",
       "                            male_or_female_outcome  neutered_or_spayed_intake  \\\n",
       "days_in_shelter                          -0.018016                   0.003054   \n",
       "age_upon_intake_months                    0.012892                   0.524019   \n",
       "age_upon_outcome_months                   0.012337                   0.522983   \n",
       "neutered_or_spayed_outcome                0.018932                   0.375758   \n",
       "\n",
       "                            male_or_female_intake  \n",
       "days_in_shelter                         -0.018016  \n",
       "age_upon_intake_months                   0.012892  \n",
       "age_upon_outcome_months                  0.012337  \n",
       "neutered_or_spayed_outcome               0.018932  "
      ]
     },
     "execution_count": 183,
     "metadata": {},
     "output_type": "execute_result"
    }
   ],
   "source": [
    "corrs[(corrs.days_in_shelter > 0.02) | (corrs.days_in_shelter < -0.02)]"
   ]
  },
  {
   "cell_type": "markdown",
   "id": "77b0147c-93df-4ba3-8c39-07bd0db65ea5",
   "metadata": {},
   "source": [
    "## Evaluation Metric   \n",
    "At this moment, we are going to evaluate our model with RMSE."
   ]
  },
  {
   "cell_type": "code",
   "execution_count": 196,
   "id": "10f14849-0960-414a-bcde-849a169c3d1c",
   "metadata": {},
   "outputs": [],
   "source": [
    "def compute_rmse(y_pred, y_true):\n",
    "    return np.sqrt(((y_pred - y_true)**2).mean())"
   ]
  },
  {
   "cell_type": "markdown",
   "id": "da5454ef-e8c2-413f-bf96-731f7be13816",
   "metadata": {},
   "source": [
    "## Baseline Model   \n",
    "- Baseline Model with RMSE and utilizing the mean as prediction\n",
    "- Generate predictions based on a simple heuristic\n",
    "- Evaluate the RMSE for these predictions"
   ]
  },
  {
   "cell_type": "code",
   "execution_count": 198,
   "id": "6d495a29-0696-4dac-b820-a9f02b71e22a",
   "metadata": {},
   "outputs": [
    {
     "data": {
      "text/plain": [
       "42.65241520991277"
      ]
     },
     "execution_count": 198,
     "metadata": {},
     "output_type": "execute_result"
    }
   ],
   "source": [
    "df['y_pred'] = df['days_in_shelter'].mean()\n",
    "\n",
    "#RMSE\n",
    "compute_rmse(df['y_pred'], df['days_in_shelter'])"
   ]
  }
 ],
 "metadata": {
  "kernelspec": {
   "display_name": "Python 3 (ipykernel)",
   "language": "python",
   "name": "python3"
  },
  "language_info": {
   "codemirror_mode": {
    "name": "ipython",
    "version": 3
   },
   "file_extension": ".py",
   "mimetype": "text/x-python",
   "name": "python",
   "nbconvert_exporter": "python",
   "pygments_lexer": "ipython3",
   "version": "3.8.6"
  }
 },
 "nbformat": 4,
 "nbformat_minor": 5
}
