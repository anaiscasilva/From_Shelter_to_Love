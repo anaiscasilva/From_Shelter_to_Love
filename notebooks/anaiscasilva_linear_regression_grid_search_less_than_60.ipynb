{
 "cells": [
  {
   "cell_type": "code",
   "execution_count": 33,
   "id": "ae1cf7ab",
   "metadata": {},
   "outputs": [
    {
     "name": "stdout",
     "output_type": "stream",
     "text": [
      "The autoreload extension is already loaded. To reload it, use:\n",
      "  %reload_ext autoreload\n"
     ]
    }
   ],
   "source": [
    "%load_ext autoreload\n",
    "%autoreload 2"
   ]
  },
  {
   "cell_type": "code",
   "execution_count": 16,
   "id": "801e2da3",
   "metadata": {},
   "outputs": [],
   "source": [
    "import pandas as pd\n",
    "import numpy as np"
   ]
  },
  {
   "cell_type": "code",
   "execution_count": 10,
   "id": "f404f208",
   "metadata": {},
   "outputs": [],
   "source": [
    "from sklearn.linear_model import SGDRegressor\n",
    "from sklearn.pipeline import Pipeline\n",
    "from sklearn.impute import SimpleImputer\n",
    "from sklearn.preprocessing import MinMaxScaler , FunctionTransformer,OneHotEncoder\n",
    "from sklearn.compose import make_column_selector,ColumnTransformer\n",
    "from sklearn.linear_model import LinearRegression, Ridge, Lasso, ElasticNet\n",
    "from sklearn.ensemble import RandomForestRegressor\n",
    "from sklearn.model_selection import GridSearchCV\n",
    "from sklearn.model_selection import ShuffleSplit"
   ]
  },
  {
   "cell_type": "markdown",
   "id": "5d66e8ed",
   "metadata": {},
   "source": [
    "## Load the data"
   ]
  },
  {
   "cell_type": "code",
   "execution_count": 5,
   "id": "edd761a1",
   "metadata": {},
   "outputs": [],
   "source": [
    "from From_Shelter_to_Love.data_provisoria import get_data"
   ]
  },
  {
   "cell_type": "code",
   "execution_count": 6,
   "id": "cd1614c2",
   "metadata": {},
   "outputs": [],
   "source": [
    "df_all = get_data()"
   ]
  },
  {
   "cell_type": "markdown",
   "id": "c5857606",
   "metadata": {},
   "source": [
    "Drop outcome features and more than 60 days in shelter"
   ]
  },
  {
   "cell_type": "code",
   "execution_count": 7,
   "id": "8a4d5039",
   "metadata": {},
   "outputs": [],
   "source": [
    "df = df_all.drop(columns =['Animal ID','age_upon_intake_years', 'age_upon_outcome_years', 'Outcome Type', 'age_upon_outcome_months', 'neutered_or_spayed_outcome', 'male_or_female_outcome'], axis=1)\n",
    "df_less_60 = df[df['days_in_shelter'] < 60]\n"
   ]
  },
  {
   "cell_type": "markdown",
   "id": "bc23fc0f",
   "metadata": {},
   "source": [
    "## Baseline to less than 60 days in Shelter - RMSE"
   ]
  },
  {
   "cell_type": "code",
   "execution_count": 38,
   "id": "de8f0520",
   "metadata": {},
   "outputs": [
    {
     "data": {
      "text/plain": [
       "12.985501995602426"
      ]
     },
     "execution_count": 38,
     "metadata": {},
     "output_type": "execute_result"
    }
   ],
   "source": [
    "y_pred = df_less_60['days_in_shelter'].mean()\n",
    "#RMSE\n",
    "np.sqrt(np.mean((y_pred - df_less_60['days_in_shelter'])**2))"
   ]
  },
  {
   "cell_type": "markdown",
   "id": "4062bda0",
   "metadata": {},
   "source": [
    "Split the data "
   ]
  },
  {
   "cell_type": "code",
   "execution_count": 8,
   "id": "fffa20aa",
   "metadata": {},
   "outputs": [],
   "source": [
    "from sklearn.model_selection import train_test_split\n",
    "\n",
    "y = df_less_60[\"days_in_shelter\"]\n",
    "X = df_less_60.drop(columns = [\"days_in_shelter\"] , axis=1)\n",
    "\n",
    "X_train, X_test, y_train, y_test = train_test_split(X, y, test_size=0.3, random_state = 10)"
   ]
  },
  {
   "cell_type": "markdown",
   "id": "48bbdf25",
   "metadata": {},
   "source": [
    "## Preprocessing"
   ]
  },
  {
   "cell_type": "code",
   "execution_count": 11,
   "id": "f0fe6ced",
   "metadata": {},
   "outputs": [],
   "source": [
    "# Impute then Scale for numerical variables\n",
    "num_transformer = Pipeline([\n",
    "    ('imputer', SimpleImputer()),\n",
    "    ('scaler', MinMaxScaler())])\n",
    "\n",
    "# Encode categorical varibles \n",
    "cat_transformer = OneHotEncoder(handle_unknown='ignore',sparse=False)\n",
    "\n",
    "# Apply transformations to desired features\n",
    "preprocessor = ColumnTransformer([\n",
    "    ('num_transformer', num_transformer, make_column_selector(dtype_include=['int64',\"float64\"])),\n",
    "    ('cat_transformer', cat_transformer, make_column_selector(dtype_include=[\"object\"]))])"
   ]
  },
  {
   "cell_type": "code",
   "execution_count": 12,
   "id": "ea499bcb",
   "metadata": {},
   "outputs": [],
   "source": [
    "X_train_transf = preprocessor.fit_transform(X_train)"
   ]
  },
  {
   "cell_type": "markdown",
   "id": "4dc18864",
   "metadata": {},
   "source": [
    "## GridSearch"
   ]
  },
  {
   "cell_type": "code",
   "execution_count": 45,
   "id": "2cc2f295",
   "metadata": {},
   "outputs": [],
   "source": [
    "models = {\n",
    "    'Lasso': {\n",
    "        'model': Lasso(max_iter = 500),\n",
    "        'parameters': {\n",
    "            'alpha': [0.01, 0.1, 1, 10]\n",
    "           }},\n",
    "\n",
    "    'Ridge': {\n",
    "        'model': Ridge(max_iter = 100),\n",
    "        'parameters': {\n",
    "            'alpha': [0.01, 0.1, 1],\n",
    "            'solver': ['auto', 'lsqr','sag']\n",
    "        }}\n",
    "}\n",
    "#'solver': ['auto', 'svd', 'cholesky', 'lsqr', 'sparse_cg', 'sag', 'saga']\n",
    "\n",
    "scores = [] \n",
    "#cv_shuffle = ShuffleSplit(n_splits=5, test_size=0.20, random_state=0)\n",
    "\n",
    "for model_name, model_params in models.items():\n",
    "    gs = GridSearchCV(model_params['model'], model_params['parameters'], cv = 5, return_train_score=False, scoring = 'neg_mean_squared_error')\n",
    "    gs.fit(X_train_transf, y_train)\n",
    "    scores.append({\n",
    "        'model': model_name,\n",
    "        'best_parameters': gs.best_params_,\n",
    "        'score': gs.best_score_\n",
    "    })\n",
    "\n",
    "scores_df_2 = pd.DataFrame(scores, columns=['model', 'best_parameters', 'score'])"
   ]
  },
  {
   "cell_type": "code",
   "execution_count": 47,
   "id": "f3ac62d2",
   "metadata": {},
   "outputs": [
    {
     "data": {
      "text/html": [
       "<div>\n",
       "<style scoped>\n",
       "    .dataframe tbody tr th:only-of-type {\n",
       "        vertical-align: middle;\n",
       "    }\n",
       "\n",
       "    .dataframe tbody tr th {\n",
       "        vertical-align: top;\n",
       "    }\n",
       "\n",
       "    .dataframe thead th {\n",
       "        text-align: right;\n",
       "    }\n",
       "</style>\n",
       "<table border=\"1\" class=\"dataframe\">\n",
       "  <thead>\n",
       "    <tr style=\"text-align: right;\">\n",
       "      <th></th>\n",
       "      <th>model</th>\n",
       "      <th>best_parameters</th>\n",
       "      <th>score</th>\n",
       "    </tr>\n",
       "  </thead>\n",
       "  <tbody>\n",
       "    <tr>\n",
       "      <th>0</th>\n",
       "      <td>Lasso</td>\n",
       "      <td>{'alpha': 0.01}</td>\n",
       "      <td>-162.059565</td>\n",
       "    </tr>\n",
       "    <tr>\n",
       "      <th>1</th>\n",
       "      <td>Ridge</td>\n",
       "      <td>{'alpha': 1, 'solver': 'lsqr'}</td>\n",
       "      <td>-161.783598</td>\n",
       "    </tr>\n",
       "  </tbody>\n",
       "</table>\n",
       "</div>"
      ],
      "text/plain": [
       "   model                 best_parameters       score\n",
       "0  Lasso                 {'alpha': 0.01} -162.059565\n",
       "1  Ridge  {'alpha': 1, 'solver': 'lsqr'} -161.783598"
      ]
     },
     "execution_count": 47,
     "metadata": {},
     "output_type": "execute_result"
    }
   ],
   "source": [
    "scores_df_2"
   ]
  },
  {
   "cell_type": "code",
   "execution_count": 54,
   "id": "30084d42",
   "metadata": {},
   "outputs": [],
   "source": [
    "models = {\n",
    "    'Ridge': {\n",
    "        'model': Ridge(max_iter = 100),\n",
    "        'parameters': {\n",
    "            'alpha': [0.01, 0.1, 1],\n",
    "            'solver': ['auto', 'lsqr','sag']\n",
    "        }},\n",
    "\n",
    "    'RF': {\n",
    "        'model': RandomForestRegressor(max_samples=2000),\n",
    "        'parameters': {\n",
    "            'n_jobs': [None, -1],\n",
    "            'max_depth': [10, 20, 30], \n",
    "            'max_features':['auto', 'sqrt', 'log2']\n",
    "        }}\n",
    "}\n",
    "\n",
    "scores = [] \n",
    "#cv_shuffle = ShuffleSplit(n_splits=5, test_size=0.20, random_state=0)\n",
    "\n",
    "for model_name, model_params in models.items():\n",
    "    gs = GridSearchCV(model_params['model'], model_params['parameters'], cv = 5, return_train_score=False, scoring = 'neg_mean_squared_error')\n",
    "    gs.fit(X_train_transf, y_train)\n",
    "    scores.append({\n",
    "        'model': model_name,\n",
    "        'best_parameters': gs.best_params_,\n",
    "        'score': gs.best_score_\n",
    "    })\n",
    "\n",
    "scores_df = pd.DataFrame(scores, columns=['model', 'best_parameters', 'score'])"
   ]
  },
  {
   "cell_type": "code",
   "execution_count": 55,
   "id": "c4cc7258",
   "metadata": {},
   "outputs": [
    {
     "data": {
      "text/plain": [
       "{'max_depth': 20, 'max_features': 'auto', 'n_jobs': None}"
      ]
     },
     "execution_count": 55,
     "metadata": {},
     "output_type": "execute_result"
    }
   ],
   "source": [
    "scores_df['best_parameters'][1]"
   ]
  },
  {
   "cell_type": "code",
   "execution_count": 48,
   "id": "4d4401e6",
   "metadata": {},
   "outputs": [],
   "source": [
    "models = {\n",
    "    'Elastic': {\n",
    "        'model': ElasticNet(max_iter=100),\n",
    "        'parameters': {\n",
    "            'alpha': [0.01, 0.1],\n",
    "            'l1_ratio' : [0.5, 0.25] \n",
    "           }},\n",
    "\n",
    "    'SGD': {\n",
    "        'model': SGDRegressor(max_iter=100),\n",
    "        'parameters': {\n",
    "            'loss': ['squared_loss', 'huber'],\n",
    "            'penalty': ['l2', 'l1', 'elasticnet'],\n",
    "            'alpha': [0.0001, 0.001, 0.01],\n",
    "            'l1_ratio' : [0.15, 0.25]\n",
    "        }}\n",
    "\n",
    "}\n",
    "\n",
    "scores = [] \n",
    "#cv_shuffle = ShuffleSplit(n_splits=5, test_size=0.20, random_state=0)\n",
    "\n",
    "for model_name, model_params in models.items():\n",
    "    gs = GridSearchCV(model_params['model'], model_params['parameters'], cv = 5, return_train_score=False, scoring = 'neg_mean_squared_error')\n",
    "    gs.fit(X_train_transf, y_train)\n",
    "    scores.append({\n",
    "        'model': model_name,\n",
    "        'best_parameters': gs.best_params_,\n",
    "        'score': gs.best_score_\n",
    "    })\n",
    "\n",
    "scores_df_3 = pd.DataFrame(scores, columns=['model', 'best_parameters', 'score'])"
   ]
  },
  {
   "cell_type": "code",
   "execution_count": 49,
   "id": "2a143cb4",
   "metadata": {},
   "outputs": [
    {
     "data": {
      "text/html": [
       "<div>\n",
       "<style scoped>\n",
       "    .dataframe tbody tr th:only-of-type {\n",
       "        vertical-align: middle;\n",
       "    }\n",
       "\n",
       "    .dataframe tbody tr th {\n",
       "        vertical-align: top;\n",
       "    }\n",
       "\n",
       "    .dataframe thead th {\n",
       "        text-align: right;\n",
       "    }\n",
       "</style>\n",
       "<table border=\"1\" class=\"dataframe\">\n",
       "  <thead>\n",
       "    <tr style=\"text-align: right;\">\n",
       "      <th></th>\n",
       "      <th>model</th>\n",
       "      <th>best_parameters</th>\n",
       "      <th>score</th>\n",
       "    </tr>\n",
       "  </thead>\n",
       "  <tbody>\n",
       "    <tr>\n",
       "      <th>0</th>\n",
       "      <td>Elastic</td>\n",
       "      <td>{'alpha': 0.01, 'l1_ratio': 0.5}</td>\n",
       "      <td>-162.125886</td>\n",
       "    </tr>\n",
       "    <tr>\n",
       "      <th>1</th>\n",
       "      <td>SGD</td>\n",
       "      <td>{'alpha': 0.0001, 'l1_ratio': 0.25, 'loss': 's...</td>\n",
       "      <td>-161.766443</td>\n",
       "    </tr>\n",
       "  </tbody>\n",
       "</table>\n",
       "</div>"
      ],
      "text/plain": [
       "     model                                    best_parameters       score\n",
       "0  Elastic                   {'alpha': 0.01, 'l1_ratio': 0.5} -162.125886\n",
       "1      SGD  {'alpha': 0.0001, 'l1_ratio': 0.25, 'loss': 's... -161.766443"
      ]
     },
     "execution_count": 49,
     "metadata": {},
     "output_type": "execute_result"
    }
   ],
   "source": [
    "scores_df_3 "
   ]
  },
  {
   "cell_type": "markdown",
   "id": "e9e64926",
   "metadata": {},
   "source": [
    "## Cross validate RandomForestRegressor"
   ]
  },
  {
   "cell_type": "code",
   "execution_count": 17,
   "id": "6861483b",
   "metadata": {},
   "outputs": [],
   "source": [
    "from sklearn.metrics import mean_squared_error\n",
    "from sklearn.metrics import make_scorer\n",
    "\n",
    "def rmse(y_true, y_pred):\n",
    "    return np.sqrt(mean_squared_error(y_true, y_pred))\n",
    "\n",
    "def rmse_neg(y_true, y_pred):\n",
    "    return 0 - np.sqrt(mean_squared_error(y_true, y_pred))\n",
    " \n",
    "rmse = make_scorer(rmse)\n",
    "rmse_neg = make_scorer(rmse_neg)"
   ]
  },
  {
   "cell_type": "code",
   "execution_count": 18,
   "id": "2494f24e",
   "metadata": {},
   "outputs": [],
   "source": [
    "model = RandomForestRegressor(max_samples=2000, max_depth=200,n_jobs = -1)"
   ]
  },
  {
   "cell_type": "code",
   "execution_count": 19,
   "id": "ea0132f7",
   "metadata": {
    "scrolled": true
   },
   "outputs": [
    {
     "data": {
      "text/plain": [
       "{'fit_time': array([2.08453321, 1.94508195, 1.91597891, 1.63928819, 1.88549733]),\n",
       " 'score_time': array([0.25677276, 0.18576145, 0.24244666, 0.26426482, 0.25204611]),\n",
       " 'test_rmse_neg': array([-12.11977893, -12.19492098, -12.32385564, -12.19551041,\n",
       "        -12.06742723]),\n",
       " 'test_rmse': array([12.11977893, 12.19492098, 12.32385564, 12.19551041, 12.06742723])}"
      ]
     },
     "execution_count": 19,
     "metadata": {},
     "output_type": "execute_result"
    }
   ],
   "source": [
    "from sklearn.model_selection import cross_validate, cross_val_score\n",
    "\n",
    "# Cross validate pipeline\n",
    "cross_validate(model, X_train_transf, y_train, cv=5, scoring={'rmse_neg': rmse_neg, 'rmse': rmse})"
   ]
  },
  {
   "cell_type": "code",
   "execution_count": 53,
   "id": "c6ce46af",
   "metadata": {},
   "outputs": [
    {
     "data": {
      "text/plain": [
       "12.165525060596439"
      ]
     },
     "execution_count": 53,
     "metadata": {},
     "output_type": "execute_result"
    }
   ],
   "source": [
    "import numpy as np\n",
    "np.sqrt(148)"
   ]
  },
  {
   "cell_type": "code",
   "execution_count": null,
   "id": "5febc01e",
   "metadata": {},
   "outputs": [],
   "source": []
  }
 ],
 "metadata": {
  "kernelspec": {
   "display_name": "Python 3 (ipykernel)",
   "language": "python",
   "name": "python3"
  },
  "language_info": {
   "codemirror_mode": {
    "name": "ipython",
    "version": 3
   },
   "file_extension": ".py",
   "mimetype": "text/x-python",
   "name": "python",
   "nbconvert_exporter": "python",
   "pygments_lexer": "ipython3",
   "version": "3.8.6"
  },
  "toc": {
   "base_numbering": 1,
   "nav_menu": {},
   "number_sections": true,
   "sideBar": true,
   "skip_h1_title": false,
   "title_cell": "Table of Contents",
   "title_sidebar": "Contents",
   "toc_cell": false,
   "toc_position": {},
   "toc_section_display": true,
   "toc_window_display": false
  }
 },
 "nbformat": 4,
 "nbformat_minor": 5
}
