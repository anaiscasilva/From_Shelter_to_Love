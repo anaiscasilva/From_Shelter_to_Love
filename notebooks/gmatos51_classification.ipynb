{
 "cells": [
  {
   "cell_type": "markdown",
   "id": "feef07cc-f881-4857-8aac-7e34a25b731a",
   "metadata": {},
   "source": [
    "# Days in shelter Classification"
   ]
  },
  {
   "cell_type": "markdown",
   "id": "906c7ead-1f3f-4254-93ea-deaa3b0a2933",
   "metadata": {
    "tags": []
   },
   "source": [
    "## Import Data"
   ]
  },
  {
   "cell_type": "code",
   "execution_count": 20,
   "id": "fef9c7b2-c79c-405b-b2de-f67ad60bc05b",
   "metadata": {},
   "outputs": [
    {
     "name": "stdout",
     "output_type": "stream",
     "text": [
      "The autoreload extension is already loaded. To reload it, use:\n",
      "  %reload_ext autoreload\n"
     ]
    }
   ],
   "source": [
    "%load_ext autoreload\n",
    "%autoreload 2\n",
    "\n",
    "import pandas as pd\n",
    "import numpy as np\n",
    "import matplotlib.pyplot as plt\n",
    "import seaborn as sns\n",
    "import re\n",
    "\n",
    "from sklearn.model_selection import train_test_split\n",
    "from sklearn.model_selection import cross_validate\n",
    "from sklearn.model_selection import GridSearchCV\n",
    "from imblearn.over_sampling import SMOTE\n",
    "from sklearn.linear_model import LogisticRegression\n",
    "from sklearn.tree import DecisionTreeClassifier\n",
    "from sklearn.ensemble import RandomForestClassifier\n",
    "\n",
    "from sklearn.pipeline import Pipeline\n",
    "from sklearn.impute import SimpleImputer\n",
    "from sklearn.preprocessing import MinMaxScaler , FunctionTransformer,OneHotEncoder, LabelEncoder\n",
    "from sklearn.compose import make_column_selector,ColumnTransformer"
   ]
  },
  {
   "cell_type": "code",
   "execution_count": 21,
   "id": "19d60e34-1542-4376-ac1d-3d8ef1608e9b",
   "metadata": {},
   "outputs": [],
   "source": [
    "from From_Shelter_to_Love.data_provisoria_v2 import get_data"
   ]
  },
  {
   "cell_type": "code",
   "execution_count": 22,
   "id": "7e0032a9-1884-4650-a7e6-54645d5468f4",
   "metadata": {},
   "outputs": [
    {
     "data": {
      "text/html": [
       "<div>\n",
       "<style scoped>\n",
       "    .dataframe tbody tr th:only-of-type {\n",
       "        vertical-align: middle;\n",
       "    }\n",
       "\n",
       "    .dataframe tbody tr th {\n",
       "        vertical-align: top;\n",
       "    }\n",
       "\n",
       "    .dataframe thead th {\n",
       "        text-align: right;\n",
       "    }\n",
       "</style>\n",
       "<table border=\"1\" class=\"dataframe\">\n",
       "  <thead>\n",
       "    <tr style=\"text-align: right;\">\n",
       "      <th></th>\n",
       "      <th>Animal ID</th>\n",
       "      <th>Intake Type</th>\n",
       "      <th>Intake Condition</th>\n",
       "      <th>Animal Type</th>\n",
       "      <th>Breed</th>\n",
       "      <th>Outcome Type</th>\n",
       "      <th>days_in_shelter</th>\n",
       "      <th>age_upon_intake_months</th>\n",
       "      <th>age_upon_intake_years</th>\n",
       "      <th>age_upon_outcome_months</th>\n",
       "      <th>age_upon_outcome_years</th>\n",
       "      <th>neutered_or_spayed_outcome</th>\n",
       "      <th>male_or_female_outcome</th>\n",
       "      <th>neutered_or_spayed_intake</th>\n",
       "      <th>male_or_female_intake</th>\n",
       "      <th>color</th>\n",
       "    </tr>\n",
       "  </thead>\n",
       "  <tbody>\n",
       "    <tr>\n",
       "      <th>0</th>\n",
       "      <td>A006100</td>\n",
       "      <td>Public Assist</td>\n",
       "      <td>Normal</td>\n",
       "      <td>Dog</td>\n",
       "      <td>Mixed</td>\n",
       "      <td>Return to Owner</td>\n",
       "      <td>2.0</td>\n",
       "      <td>72.0</td>\n",
       "      <td>6.0</td>\n",
       "      <td>72.0</td>\n",
       "      <td>6.0</td>\n",
       "      <td>1</td>\n",
       "      <td>1.0</td>\n",
       "      <td>1</td>\n",
       "      <td>1.0</td>\n",
       "      <td>Bicolor</td>\n",
       "    </tr>\n",
       "    <tr>\n",
       "      <th>1</th>\n",
       "      <td>A047759</td>\n",
       "      <td>Owner Surrender</td>\n",
       "      <td>Normal</td>\n",
       "      <td>Dog</td>\n",
       "      <td>Pure</td>\n",
       "      <td>Transfer</td>\n",
       "      <td>5.0</td>\n",
       "      <td>120.0</td>\n",
       "      <td>10.0</td>\n",
       "      <td>120.0</td>\n",
       "      <td>10.0</td>\n",
       "      <td>1</td>\n",
       "      <td>1.0</td>\n",
       "      <td>1</td>\n",
       "      <td>1.0</td>\n",
       "      <td>Tricolor</td>\n",
       "    </tr>\n",
       "  </tbody>\n",
       "</table>\n",
       "</div>"
      ],
      "text/plain": [
       "  Animal ID      Intake Type Intake Condition Animal Type  Breed  \\\n",
       "0   A006100    Public Assist           Normal         Dog  Mixed   \n",
       "1   A047759  Owner Surrender           Normal         Dog   Pure   \n",
       "\n",
       "      Outcome Type  days_in_shelter  age_upon_intake_months  \\\n",
       "0  Return to Owner              2.0                    72.0   \n",
       "1         Transfer              5.0                   120.0   \n",
       "\n",
       "   age_upon_intake_years  age_upon_outcome_months  age_upon_outcome_years  \\\n",
       "0                    6.0                     72.0                     6.0   \n",
       "1                   10.0                    120.0                    10.0   \n",
       "\n",
       "   neutered_or_spayed_outcome  male_or_female_outcome  \\\n",
       "0                           1                     1.0   \n",
       "1                           1                     1.0   \n",
       "\n",
       "   neutered_or_spayed_intake  male_or_female_intake     color  \n",
       "0                          1                    1.0   Bicolor  \n",
       "1                          1                    1.0  Tricolor  "
      ]
     },
     "execution_count": 22,
     "metadata": {},
     "output_type": "execute_result"
    }
   ],
   "source": [
    "#Getting the data\n",
    "\n",
    "df = get_data()\n",
    "df.dropna(inplace=True)\n",
    "df.head(2)"
   ]
  },
  {
   "cell_type": "code",
   "execution_count": 23,
   "id": "aa994015-8b34-4de0-9a4c-c89b6a250a41",
   "metadata": {},
   "outputs": [
    {
     "data": {
      "text/html": [
       "<div>\n",
       "<style scoped>\n",
       "    .dataframe tbody tr th:only-of-type {\n",
       "        vertical-align: middle;\n",
       "    }\n",
       "\n",
       "    .dataframe tbody tr th {\n",
       "        vertical-align: top;\n",
       "    }\n",
       "\n",
       "    .dataframe thead th {\n",
       "        text-align: right;\n",
       "    }\n",
       "</style>\n",
       "<table border=\"1\" class=\"dataframe\">\n",
       "  <thead>\n",
       "    <tr style=\"text-align: right;\">\n",
       "      <th></th>\n",
       "      <th>Intake Type</th>\n",
       "      <th>Intake Condition</th>\n",
       "      <th>Animal Type</th>\n",
       "      <th>Breed</th>\n",
       "      <th>Outcome Type</th>\n",
       "      <th>days_in_shelter</th>\n",
       "      <th>age_upon_intake_months</th>\n",
       "      <th>neutered_or_spayed_intake</th>\n",
       "      <th>male_or_female_intake</th>\n",
       "      <th>color</th>\n",
       "    </tr>\n",
       "  </thead>\n",
       "  <tbody>\n",
       "    <tr>\n",
       "      <th>0</th>\n",
       "      <td>Public Assist</td>\n",
       "      <td>Normal</td>\n",
       "      <td>Dog</td>\n",
       "      <td>Mixed</td>\n",
       "      <td>Return to Owner</td>\n",
       "      <td>2.0</td>\n",
       "      <td>72.0</td>\n",
       "      <td>1</td>\n",
       "      <td>1.0</td>\n",
       "      <td>Bicolor</td>\n",
       "    </tr>\n",
       "    <tr>\n",
       "      <th>1</th>\n",
       "      <td>Owner Surrender</td>\n",
       "      <td>Normal</td>\n",
       "      <td>Dog</td>\n",
       "      <td>Pure</td>\n",
       "      <td>Transfer</td>\n",
       "      <td>5.0</td>\n",
       "      <td>120.0</td>\n",
       "      <td>1</td>\n",
       "      <td>1.0</td>\n",
       "      <td>Tricolor</td>\n",
       "    </tr>\n",
       "  </tbody>\n",
       "</table>\n",
       "</div>"
      ],
      "text/plain": [
       "       Intake Type Intake Condition Animal Type  Breed     Outcome Type  \\\n",
       "0    Public Assist           Normal         Dog  Mixed  Return to Owner   \n",
       "1  Owner Surrender           Normal         Dog   Pure         Transfer   \n",
       "\n",
       "   days_in_shelter  age_upon_intake_months  neutered_or_spayed_intake  \\\n",
       "0              2.0                    72.0                          1   \n",
       "1              5.0                   120.0                          1   \n",
       "\n",
       "   male_or_female_intake     color  \n",
       "0                    1.0   Bicolor  \n",
       "1                    1.0  Tricolor  "
      ]
     },
     "execution_count": 23,
     "metadata": {},
     "output_type": "execute_result"
    }
   ],
   "source": [
    "df.drop(columns = ['Animal ID','age_upon_outcome_years','age_upon_intake_years',\\\n",
    "                   'age_upon_outcome_months','male_or_female_outcome',\\\n",
    "                   'neutered_or_spayed_outcome'], inplace = True)\n",
    "df.head(2)"
   ]
  },
  {
   "cell_type": "code",
   "execution_count": 24,
   "id": "f2a92fdb-8078-4354-8e0d-5f3771f2f106",
   "metadata": {},
   "outputs": [],
   "source": [
    "df_dogs = df[df['Animal Type'] == 'Dog'].copy()\n",
    "df_dogs.drop(columns = 'Animal Type', inplace = True)"
   ]
  },
  {
   "cell_type": "markdown",
   "id": "e26646e6-ac40-4279-b5aa-949c585dccb1",
   "metadata": {
    "tags": []
   },
   "source": [
    "## 1st Approach"
   ]
  },
  {
   "cell_type": "code",
   "execution_count": 27,
   "id": "900144ad-72d3-4d80-8c3a-0a246d33adaf",
   "metadata": {
    "tags": []
   },
   "outputs": [
    {
     "data": {
      "text/html": [
       "<div>\n",
       "<style scoped>\n",
       "    .dataframe tbody tr th:only-of-type {\n",
       "        vertical-align: middle;\n",
       "    }\n",
       "\n",
       "    .dataframe tbody tr th {\n",
       "        vertical-align: top;\n",
       "    }\n",
       "\n",
       "    .dataframe thead th {\n",
       "        text-align: right;\n",
       "    }\n",
       "</style>\n",
       "<table border=\"1\" class=\"dataframe\">\n",
       "  <thead>\n",
       "    <tr style=\"text-align: right;\">\n",
       "      <th></th>\n",
       "      <th>Intake Type</th>\n",
       "      <th>Intake Condition</th>\n",
       "      <th>Breed</th>\n",
       "      <th>Outcome Type</th>\n",
       "      <th>days_in_shelter</th>\n",
       "      <th>age_upon_intake_months</th>\n",
       "      <th>neutered_or_spayed_intake</th>\n",
       "      <th>male_or_female_intake</th>\n",
       "      <th>color</th>\n",
       "      <th>target</th>\n",
       "    </tr>\n",
       "  </thead>\n",
       "  <tbody>\n",
       "    <tr>\n",
       "      <th>0</th>\n",
       "      <td>Public Assist</td>\n",
       "      <td>Normal</td>\n",
       "      <td>Mixed</td>\n",
       "      <td>Return to Owner</td>\n",
       "      <td>2.0</td>\n",
       "      <td>72.0</td>\n",
       "      <td>1</td>\n",
       "      <td>1.0</td>\n",
       "      <td>Bicolor</td>\n",
       "      <td>1</td>\n",
       "    </tr>\n",
       "    <tr>\n",
       "      <th>1</th>\n",
       "      <td>Owner Surrender</td>\n",
       "      <td>Normal</td>\n",
       "      <td>Pure</td>\n",
       "      <td>Transfer</td>\n",
       "      <td>5.0</td>\n",
       "      <td>120.0</td>\n",
       "      <td>1</td>\n",
       "      <td>1.0</td>\n",
       "      <td>Tricolor</td>\n",
       "      <td>1</td>\n",
       "    </tr>\n",
       "  </tbody>\n",
       "</table>\n",
       "</div>"
      ],
      "text/plain": [
       "       Intake Type Intake Condition  Breed     Outcome Type  days_in_shelter  \\\n",
       "0    Public Assist           Normal  Mixed  Return to Owner              2.0   \n",
       "1  Owner Surrender           Normal   Pure         Transfer              5.0   \n",
       "\n",
       "   age_upon_intake_months  neutered_or_spayed_intake  male_or_female_intake  \\\n",
       "0                    72.0                          1                    1.0   \n",
       "1                   120.0                          1                    1.0   \n",
       "\n",
       "      color  target  \n",
       "0   Bicolor       1  \n",
       "1  Tricolor       1  "
      ]
     },
     "execution_count": 27,
     "metadata": {},
     "output_type": "execute_result"
    }
   ],
   "source": [
    "def classes(df,column):\n",
    "    target = []\n",
    "    for days in df[column]:\n",
    "        if days < 2:\n",
    "            target.append(0)\n",
    "        elif 2 <= days < 8:\n",
    "            target.append(1)\n",
    "        else:\n",
    "            target.append(2)\n",
    "    df['target'] = target\n",
    "    return df\n",
    "\n",
    "classes(df_dogs,\"days_in_shelter\").head(2)"
   ]
  },
  {
   "cell_type": "code",
   "execution_count": 496,
   "id": "7bc930cc-167c-42e9-bb03-6cfae01d9ad1",
   "metadata": {},
   "outputs": [
    {
     "data": {
      "text/plain": [
       "0    35242\n",
       "1    23215\n",
       "Name: target, dtype: int64"
      ]
     },
     "execution_count": 496,
     "metadata": {},
     "output_type": "execute_result"
    }
   ],
   "source": [
    "#Checking the balance of target\n",
    "df_dogs.target.value_counts()"
   ]
  },
  {
   "cell_type": "markdown",
   "id": "ee4c97af-56be-4e07-a0da-ffa819b80edf",
   "metadata": {
    "tags": []
   },
   "source": [
    "### Creating variables for features and target"
   ]
  },
  {
   "cell_type": "code",
   "execution_count": 28,
   "id": "58c524ba-3f89-4a95-a875-a71aea1832b9",
   "metadata": {},
   "outputs": [],
   "source": [
    "X = df_dogs.drop(columns = ['days_in_shelter', 'target', 'Outcome Type']).copy()\n",
    "y = df_dogs['target'].copy()"
   ]
  },
  {
   "cell_type": "code",
   "execution_count": 285,
   "id": "fb7fba2d-e338-4769-9882-9f2aa7b048ee",
   "metadata": {},
   "outputs": [],
   "source": [
    "X_train, X_test, y_train, y_test = train_test_split(X,y,test_size = 0.3, random_state = 10)"
   ]
  },
  {
   "cell_type": "code",
   "execution_count": 286,
   "id": "fdd1ded4-55f9-4930-86eb-bc3b29f35363",
   "metadata": {},
   "outputs": [
    {
     "data": {
      "text/plain": [
       "(40919, 7)"
      ]
     },
     "execution_count": 286,
     "metadata": {},
     "output_type": "execute_result"
    }
   ],
   "source": [
    "X_train.shape"
   ]
  },
  {
   "cell_type": "markdown",
   "id": "9176a4a1-41b9-4fa3-806b-4c783226e78e",
   "metadata": {
    "tags": []
   },
   "source": [
    "### Pre-processing Pipeline"
   ]
  },
  {
   "cell_type": "code",
   "execution_count": 316,
   "id": "c3276f28-ed85-4f32-b327-1ceda80d0b63",
   "metadata": {},
   "outputs": [],
   "source": [
    "# Impute then Scale for numerical variables\n",
    "num_transformer = MinMaxScaler()\n",
    "\n",
    "# Encode categorical varibles \n",
    "cat_transformer = OneHotEncoder(handle_unknown='ignore',sparse=False)\n",
    "\n",
    "# Apply transformations to desired features\n",
    "preprocessor = ColumnTransformer([\n",
    "    ('num_transformer', num_transformer, make_column_selector(dtype_include=['int64',\"float64\"])),\n",
    "    ('cat_transformer', cat_transformer, make_column_selector(dtype_include=[\"object\"]))])"
   ]
  },
  {
   "cell_type": "code",
   "execution_count": 317,
   "id": "d8059154-f9fb-440e-a458-a47bf283eacd",
   "metadata": {},
   "outputs": [
    {
     "data": {
      "text/html": [
       "<style>#sk-de7691c7-8359-4f4d-b308-5c3af851c30b {color: black;background-color: white;}#sk-de7691c7-8359-4f4d-b308-5c3af851c30b pre{padding: 0;}#sk-de7691c7-8359-4f4d-b308-5c3af851c30b div.sk-toggleable {background-color: white;}#sk-de7691c7-8359-4f4d-b308-5c3af851c30b label.sk-toggleable__label {cursor: pointer;display: block;width: 100%;margin-bottom: 0;padding: 0.2em 0.3em;box-sizing: border-box;text-align: center;}#sk-de7691c7-8359-4f4d-b308-5c3af851c30b div.sk-toggleable__content {max-height: 0;max-width: 0;overflow: hidden;text-align: left;background-color: #f0f8ff;}#sk-de7691c7-8359-4f4d-b308-5c3af851c30b div.sk-toggleable__content pre {margin: 0.2em;color: black;border-radius: 0.25em;background-color: #f0f8ff;}#sk-de7691c7-8359-4f4d-b308-5c3af851c30b input.sk-toggleable__control:checked~div.sk-toggleable__content {max-height: 200px;max-width: 100%;overflow: auto;}#sk-de7691c7-8359-4f4d-b308-5c3af851c30b div.sk-estimator input.sk-toggleable__control:checked~label.sk-toggleable__label {background-color: #d4ebff;}#sk-de7691c7-8359-4f4d-b308-5c3af851c30b div.sk-label input.sk-toggleable__control:checked~label.sk-toggleable__label {background-color: #d4ebff;}#sk-de7691c7-8359-4f4d-b308-5c3af851c30b input.sk-hidden--visually {border: 0;clip: rect(1px 1px 1px 1px);clip: rect(1px, 1px, 1px, 1px);height: 1px;margin: -1px;overflow: hidden;padding: 0;position: absolute;width: 1px;}#sk-de7691c7-8359-4f4d-b308-5c3af851c30b div.sk-estimator {font-family: monospace;background-color: #f0f8ff;margin: 0.25em 0.25em;border: 1px dotted black;border-radius: 0.25em;box-sizing: border-box;}#sk-de7691c7-8359-4f4d-b308-5c3af851c30b div.sk-estimator:hover {background-color: #d4ebff;}#sk-de7691c7-8359-4f4d-b308-5c3af851c30b div.sk-parallel-item::after {content: \"\";width: 100%;border-bottom: 1px solid gray;flex-grow: 1;}#sk-de7691c7-8359-4f4d-b308-5c3af851c30b div.sk-label:hover label.sk-toggleable__label {background-color: #d4ebff;}#sk-de7691c7-8359-4f4d-b308-5c3af851c30b div.sk-serial::before {content: \"\";position: absolute;border-left: 1px solid gray;box-sizing: border-box;top: 2em;bottom: 0;left: 50%;}#sk-de7691c7-8359-4f4d-b308-5c3af851c30b div.sk-serial {display: flex;flex-direction: column;align-items: center;background-color: white;}#sk-de7691c7-8359-4f4d-b308-5c3af851c30b div.sk-item {z-index: 1;}#sk-de7691c7-8359-4f4d-b308-5c3af851c30b div.sk-parallel {display: flex;align-items: stretch;justify-content: center;background-color: white;}#sk-de7691c7-8359-4f4d-b308-5c3af851c30b div.sk-parallel-item {display: flex;flex-direction: column;position: relative;background-color: white;}#sk-de7691c7-8359-4f4d-b308-5c3af851c30b div.sk-parallel-item:first-child::after {align-self: flex-end;width: 50%;}#sk-de7691c7-8359-4f4d-b308-5c3af851c30b div.sk-parallel-item:last-child::after {align-self: flex-start;width: 50%;}#sk-de7691c7-8359-4f4d-b308-5c3af851c30b div.sk-parallel-item:only-child::after {width: 0;}#sk-de7691c7-8359-4f4d-b308-5c3af851c30b div.sk-dashed-wrapped {border: 1px dashed gray;margin: 0.2em;box-sizing: border-box;padding-bottom: 0.1em;background-color: white;position: relative;}#sk-de7691c7-8359-4f4d-b308-5c3af851c30b div.sk-label label {font-family: monospace;font-weight: bold;background-color: white;display: inline-block;line-height: 1.2em;}#sk-de7691c7-8359-4f4d-b308-5c3af851c30b div.sk-label-container {position: relative;z-index: 2;text-align: center;}#sk-de7691c7-8359-4f4d-b308-5c3af851c30b div.sk-container {display: inline-block;position: relative;}</style><div id=\"sk-de7691c7-8359-4f4d-b308-5c3af851c30b\" class\"sk-top-container\"><div class=\"sk-container\"><div class=\"sk-item sk-dashed-wrapped\"><div class=\"sk-label-container\"><div class=\"sk-label sk-toggleable\"><input class=\"sk-toggleable__control sk-hidden--visually\" id=\"3f0cf9fc-fb10-42a2-8298-633fe82e158f\" type=\"checkbox\" ><label class=\"sk-toggleable__label\" for=\"3f0cf9fc-fb10-42a2-8298-633fe82e158f\">ColumnTransformer</label><div class=\"sk-toggleable__content\"><pre>ColumnTransformer(transformers=[('num_transformer', MinMaxScaler(),\n",
       "                                 <sklearn.compose._column_transformer.make_column_selector object at 0x7faefebe88b0>),\n",
       "                                ('cat_transformer',\n",
       "                                 OneHotEncoder(handle_unknown='ignore',\n",
       "                                               sparse=False),\n",
       "                                 <sklearn.compose._column_transformer.make_column_selector object at 0x7faefa8e8fd0>)])</pre></div></div></div><div class=\"sk-parallel\"><div class=\"sk-parallel-item\"><div class=\"sk-item\"><div class=\"sk-label-container\"><div class=\"sk-label sk-toggleable\"><input class=\"sk-toggleable__control sk-hidden--visually\" id=\"a58175d5-efd6-4487-b537-2f874a906319\" type=\"checkbox\" ><label class=\"sk-toggleable__label\" for=\"a58175d5-efd6-4487-b537-2f874a906319\">num_transformer</label><div class=\"sk-toggleable__content\"><pre><sklearn.compose._column_transformer.make_column_selector object at 0x7faefebe88b0></pre></div></div></div><div class=\"sk-serial\"><div class=\"sk-item\"><div class=\"sk-estimator sk-toggleable\"><input class=\"sk-toggleable__control sk-hidden--visually\" id=\"3dd1dbac-0b9b-473c-b237-e100296737dd\" type=\"checkbox\" ><label class=\"sk-toggleable__label\" for=\"3dd1dbac-0b9b-473c-b237-e100296737dd\">MinMaxScaler</label><div class=\"sk-toggleable__content\"><pre>MinMaxScaler()</pre></div></div></div></div></div></div><div class=\"sk-parallel-item\"><div class=\"sk-item\"><div class=\"sk-label-container\"><div class=\"sk-label sk-toggleable\"><input class=\"sk-toggleable__control sk-hidden--visually\" id=\"7ad4a32b-cef3-4340-82c8-e9585eab3d1f\" type=\"checkbox\" ><label class=\"sk-toggleable__label\" for=\"7ad4a32b-cef3-4340-82c8-e9585eab3d1f\">cat_transformer</label><div class=\"sk-toggleable__content\"><pre><sklearn.compose._column_transformer.make_column_selector object at 0x7faefa8e8fd0></pre></div></div></div><div class=\"sk-serial\"><div class=\"sk-item\"><div class=\"sk-estimator sk-toggleable\"><input class=\"sk-toggleable__control sk-hidden--visually\" id=\"161aad13-1a2d-4266-84a1-90bd4d988256\" type=\"checkbox\" ><label class=\"sk-toggleable__label\" for=\"161aad13-1a2d-4266-84a1-90bd4d988256\">OneHotEncoder</label><div class=\"sk-toggleable__content\"><pre>OneHotEncoder(handle_unknown='ignore', sparse=False)</pre></div></div></div></div></div></div></div></div></div></div>"
      ],
      "text/plain": [
       "ColumnTransformer(transformers=[('num_transformer', MinMaxScaler(),\n",
       "                                 <sklearn.compose._column_transformer.make_column_selector object at 0x7faefebe88b0>),\n",
       "                                ('cat_transformer',\n",
       "                                 OneHotEncoder(handle_unknown='ignore',\n",
       "                                               sparse=False),\n",
       "                                 <sklearn.compose._column_transformer.make_column_selector object at 0x7faefa8e8fd0>)])"
      ]
     },
     "execution_count": 317,
     "metadata": {},
     "output_type": "execute_result"
    }
   ],
   "source": [
    "from sklearn import set_config; set_config(display='diagram')\n",
    "preprocessor.fit(X_train)"
   ]
  },
  {
   "cell_type": "code",
   "execution_count": 318,
   "id": "305b35ae-2337-45fc-95e3-35a7f32dcebc",
   "metadata": {},
   "outputs": [],
   "source": [
    "X_train_new = preprocessor.transform(X_train)\n",
    "X_test_new = preprocessor.transform(X_test)"
   ]
  },
  {
   "cell_type": "code",
   "execution_count": 319,
   "id": "fcf7d2b3-2339-49ff-9977-9384d3d7cc7d",
   "metadata": {},
   "outputs": [],
   "source": [
    "from imblearn.over_sampling import SMOTE\n",
    "#Create an oversampled training data\n",
    "smote = SMOTE(random_state = 101)\n",
    "X_oversample, y_oversample = smote.fit_resample(X_train_new, y_train)"
   ]
  },
  {
   "cell_type": "markdown",
   "id": "8c8426a9-fbaf-4fb0-ad60-225ee29bf889",
   "metadata": {
    "tags": []
   },
   "source": [
    "### Grid Search"
   ]
  },
  {
   "cell_type": "code",
   "execution_count": 320,
   "id": "91a4327f-9207-4056-bdfe-9889dabab139",
   "metadata": {},
   "outputs": [
    {
     "data": {
      "text/html": [
       "<style>#sk-8fab9979-ce8f-4b46-a509-6e5f2c9fe8a3 {color: black;background-color: white;}#sk-8fab9979-ce8f-4b46-a509-6e5f2c9fe8a3 pre{padding: 0;}#sk-8fab9979-ce8f-4b46-a509-6e5f2c9fe8a3 div.sk-toggleable {background-color: white;}#sk-8fab9979-ce8f-4b46-a509-6e5f2c9fe8a3 label.sk-toggleable__label {cursor: pointer;display: block;width: 100%;margin-bottom: 0;padding: 0.2em 0.3em;box-sizing: border-box;text-align: center;}#sk-8fab9979-ce8f-4b46-a509-6e5f2c9fe8a3 div.sk-toggleable__content {max-height: 0;max-width: 0;overflow: hidden;text-align: left;background-color: #f0f8ff;}#sk-8fab9979-ce8f-4b46-a509-6e5f2c9fe8a3 div.sk-toggleable__content pre {margin: 0.2em;color: black;border-radius: 0.25em;background-color: #f0f8ff;}#sk-8fab9979-ce8f-4b46-a509-6e5f2c9fe8a3 input.sk-toggleable__control:checked~div.sk-toggleable__content {max-height: 200px;max-width: 100%;overflow: auto;}#sk-8fab9979-ce8f-4b46-a509-6e5f2c9fe8a3 div.sk-estimator input.sk-toggleable__control:checked~label.sk-toggleable__label {background-color: #d4ebff;}#sk-8fab9979-ce8f-4b46-a509-6e5f2c9fe8a3 div.sk-label input.sk-toggleable__control:checked~label.sk-toggleable__label {background-color: #d4ebff;}#sk-8fab9979-ce8f-4b46-a509-6e5f2c9fe8a3 input.sk-hidden--visually {border: 0;clip: rect(1px 1px 1px 1px);clip: rect(1px, 1px, 1px, 1px);height: 1px;margin: -1px;overflow: hidden;padding: 0;position: absolute;width: 1px;}#sk-8fab9979-ce8f-4b46-a509-6e5f2c9fe8a3 div.sk-estimator {font-family: monospace;background-color: #f0f8ff;margin: 0.25em 0.25em;border: 1px dotted black;border-radius: 0.25em;box-sizing: border-box;}#sk-8fab9979-ce8f-4b46-a509-6e5f2c9fe8a3 div.sk-estimator:hover {background-color: #d4ebff;}#sk-8fab9979-ce8f-4b46-a509-6e5f2c9fe8a3 div.sk-parallel-item::after {content: \"\";width: 100%;border-bottom: 1px solid gray;flex-grow: 1;}#sk-8fab9979-ce8f-4b46-a509-6e5f2c9fe8a3 div.sk-label:hover label.sk-toggleable__label {background-color: #d4ebff;}#sk-8fab9979-ce8f-4b46-a509-6e5f2c9fe8a3 div.sk-serial::before {content: \"\";position: absolute;border-left: 1px solid gray;box-sizing: border-box;top: 2em;bottom: 0;left: 50%;}#sk-8fab9979-ce8f-4b46-a509-6e5f2c9fe8a3 div.sk-serial {display: flex;flex-direction: column;align-items: center;background-color: white;}#sk-8fab9979-ce8f-4b46-a509-6e5f2c9fe8a3 div.sk-item {z-index: 1;}#sk-8fab9979-ce8f-4b46-a509-6e5f2c9fe8a3 div.sk-parallel {display: flex;align-items: stretch;justify-content: center;background-color: white;}#sk-8fab9979-ce8f-4b46-a509-6e5f2c9fe8a3 div.sk-parallel-item {display: flex;flex-direction: column;position: relative;background-color: white;}#sk-8fab9979-ce8f-4b46-a509-6e5f2c9fe8a3 div.sk-parallel-item:first-child::after {align-self: flex-end;width: 50%;}#sk-8fab9979-ce8f-4b46-a509-6e5f2c9fe8a3 div.sk-parallel-item:last-child::after {align-self: flex-start;width: 50%;}#sk-8fab9979-ce8f-4b46-a509-6e5f2c9fe8a3 div.sk-parallel-item:only-child::after {width: 0;}#sk-8fab9979-ce8f-4b46-a509-6e5f2c9fe8a3 div.sk-dashed-wrapped {border: 1px dashed gray;margin: 0.2em;box-sizing: border-box;padding-bottom: 0.1em;background-color: white;position: relative;}#sk-8fab9979-ce8f-4b46-a509-6e5f2c9fe8a3 div.sk-label label {font-family: monospace;font-weight: bold;background-color: white;display: inline-block;line-height: 1.2em;}#sk-8fab9979-ce8f-4b46-a509-6e5f2c9fe8a3 div.sk-label-container {position: relative;z-index: 2;text-align: center;}#sk-8fab9979-ce8f-4b46-a509-6e5f2c9fe8a3 div.sk-container {display: inline-block;position: relative;}</style><div id=\"sk-8fab9979-ce8f-4b46-a509-6e5f2c9fe8a3\" class\"sk-top-container\"><div class=\"sk-container\"><div class=\"sk-item sk-dashed-wrapped\"><div class=\"sk-label-container\"><div class=\"sk-label sk-toggleable\"><input class=\"sk-toggleable__control sk-hidden--visually\" id=\"b137655a-a101-42fc-8893-1a22abfc1f37\" type=\"checkbox\" ><label class=\"sk-toggleable__label\" for=\"b137655a-a101-42fc-8893-1a22abfc1f37\">GridSearchCV</label><div class=\"sk-toggleable__content\"><pre>GridSearchCV(cv=5, estimator=RandomForestClassifier(), n_jobs=-1,\n",
       "             param_grid={'max_depth': [5, 10, 20],\n",
       "                         'n_estimators': [25, 50, 100]},\n",
       "             scoring='f1_macro')</pre></div></div></div><div class=\"sk-parallel\"><div class=\"sk-parallel-item\"><div class=\"sk-item\"><div class=\"sk-serial\"><div class=\"sk-item\"><div class=\"sk-estimator sk-toggleable\"><input class=\"sk-toggleable__control sk-hidden--visually\" id=\"170dd22e-fa81-41d6-878d-37edd1d1314e\" type=\"checkbox\" ><label class=\"sk-toggleable__label\" for=\"170dd22e-fa81-41d6-878d-37edd1d1314e\">RandomForestClassifier</label><div class=\"sk-toggleable__content\"><pre>RandomForestClassifier()</pre></div></div></div></div></div></div></div></div></div></div>"
      ],
      "text/plain": [
       "GridSearchCV(cv=5, estimator=RandomForestClassifier(), n_jobs=-1,\n",
       "             param_grid={'max_depth': [5, 10, 20],\n",
       "                         'n_estimators': [25, 50, 100]},\n",
       "             scoring='f1_macro')"
      ]
     },
     "execution_count": 320,
     "metadata": {},
     "output_type": "execute_result"
    }
   ],
   "source": [
    "from imblearn.over_sampling import SMOTE\n",
    "from sklearn.metrics import make_scorer\n",
    "\n",
    "# Model\n",
    "forest = RandomForestClassifier()\n",
    "\n",
    "#GridSearch\n",
    "\n",
    "grid_params = {'n_estimators': [25,50,100],\n",
    "               'max_depth': [5,10,20],\n",
    "              }\n",
    "\n",
    "grid_search = GridSearchCV(forest, grid_params,\n",
    "                           scoring = 'f1_macro',\n",
    "                           cv = 5,\n",
    "                           n_jobs=-1 # paralellize computation\n",
    "                          )\n",
    "\n",
    "# Fit data to Grid Search\n",
    "grid_search.fit(X_oversample, y_oversample)"
   ]
  },
  {
   "cell_type": "code",
   "execution_count": 321,
   "id": "dc4a1d15-2417-47f2-835f-388a8544c978",
   "metadata": {},
   "outputs": [
    {
     "data": {
      "text/plain": [
       "0.7409502778466456"
      ]
     },
     "execution_count": 321,
     "metadata": {},
     "output_type": "execute_result"
    }
   ],
   "source": [
    "# Best score\n",
    "grid_search.best_score_"
   ]
  },
  {
   "cell_type": "code",
   "execution_count": 322,
   "id": "9eadac66-5732-4add-81ba-ebb0bc50456e",
   "metadata": {},
   "outputs": [
    {
     "data": {
      "text/plain": [
       "{'max_depth': 20, 'n_estimators': 50}"
      ]
     },
     "execution_count": 322,
     "metadata": {},
     "output_type": "execute_result"
    }
   ],
   "source": [
    "# Best Params\n",
    "grid_search.best_params_"
   ]
  },
  {
   "cell_type": "code",
   "execution_count": 323,
   "id": "7d49fe1c-00de-454d-ba75-5a05a2ba58b8",
   "metadata": {},
   "outputs": [
    {
     "data": {
      "text/html": [
       "<style>#sk-162eeff9-863d-4d08-906e-b948429aa067 {color: black;background-color: white;}#sk-162eeff9-863d-4d08-906e-b948429aa067 pre{padding: 0;}#sk-162eeff9-863d-4d08-906e-b948429aa067 div.sk-toggleable {background-color: white;}#sk-162eeff9-863d-4d08-906e-b948429aa067 label.sk-toggleable__label {cursor: pointer;display: block;width: 100%;margin-bottom: 0;padding: 0.2em 0.3em;box-sizing: border-box;text-align: center;}#sk-162eeff9-863d-4d08-906e-b948429aa067 div.sk-toggleable__content {max-height: 0;max-width: 0;overflow: hidden;text-align: left;background-color: #f0f8ff;}#sk-162eeff9-863d-4d08-906e-b948429aa067 div.sk-toggleable__content pre {margin: 0.2em;color: black;border-radius: 0.25em;background-color: #f0f8ff;}#sk-162eeff9-863d-4d08-906e-b948429aa067 input.sk-toggleable__control:checked~div.sk-toggleable__content {max-height: 200px;max-width: 100%;overflow: auto;}#sk-162eeff9-863d-4d08-906e-b948429aa067 div.sk-estimator input.sk-toggleable__control:checked~label.sk-toggleable__label {background-color: #d4ebff;}#sk-162eeff9-863d-4d08-906e-b948429aa067 div.sk-label input.sk-toggleable__control:checked~label.sk-toggleable__label {background-color: #d4ebff;}#sk-162eeff9-863d-4d08-906e-b948429aa067 input.sk-hidden--visually {border: 0;clip: rect(1px 1px 1px 1px);clip: rect(1px, 1px, 1px, 1px);height: 1px;margin: -1px;overflow: hidden;padding: 0;position: absolute;width: 1px;}#sk-162eeff9-863d-4d08-906e-b948429aa067 div.sk-estimator {font-family: monospace;background-color: #f0f8ff;margin: 0.25em 0.25em;border: 1px dotted black;border-radius: 0.25em;box-sizing: border-box;}#sk-162eeff9-863d-4d08-906e-b948429aa067 div.sk-estimator:hover {background-color: #d4ebff;}#sk-162eeff9-863d-4d08-906e-b948429aa067 div.sk-parallel-item::after {content: \"\";width: 100%;border-bottom: 1px solid gray;flex-grow: 1;}#sk-162eeff9-863d-4d08-906e-b948429aa067 div.sk-label:hover label.sk-toggleable__label {background-color: #d4ebff;}#sk-162eeff9-863d-4d08-906e-b948429aa067 div.sk-serial::before {content: \"\";position: absolute;border-left: 1px solid gray;box-sizing: border-box;top: 2em;bottom: 0;left: 50%;}#sk-162eeff9-863d-4d08-906e-b948429aa067 div.sk-serial {display: flex;flex-direction: column;align-items: center;background-color: white;}#sk-162eeff9-863d-4d08-906e-b948429aa067 div.sk-item {z-index: 1;}#sk-162eeff9-863d-4d08-906e-b948429aa067 div.sk-parallel {display: flex;align-items: stretch;justify-content: center;background-color: white;}#sk-162eeff9-863d-4d08-906e-b948429aa067 div.sk-parallel-item {display: flex;flex-direction: column;position: relative;background-color: white;}#sk-162eeff9-863d-4d08-906e-b948429aa067 div.sk-parallel-item:first-child::after {align-self: flex-end;width: 50%;}#sk-162eeff9-863d-4d08-906e-b948429aa067 div.sk-parallel-item:last-child::after {align-self: flex-start;width: 50%;}#sk-162eeff9-863d-4d08-906e-b948429aa067 div.sk-parallel-item:only-child::after {width: 0;}#sk-162eeff9-863d-4d08-906e-b948429aa067 div.sk-dashed-wrapped {border: 1px dashed gray;margin: 0.2em;box-sizing: border-box;padding-bottom: 0.1em;background-color: white;position: relative;}#sk-162eeff9-863d-4d08-906e-b948429aa067 div.sk-label label {font-family: monospace;font-weight: bold;background-color: white;display: inline-block;line-height: 1.2em;}#sk-162eeff9-863d-4d08-906e-b948429aa067 div.sk-label-container {position: relative;z-index: 2;text-align: center;}#sk-162eeff9-863d-4d08-906e-b948429aa067 div.sk-container {display: inline-block;position: relative;}</style><div id=\"sk-162eeff9-863d-4d08-906e-b948429aa067\" class\"sk-top-container\"><div class=\"sk-container\"><div class=\"sk-item\"><div class=\"sk-estimator sk-toggleable\"><input class=\"sk-toggleable__control sk-hidden--visually\" id=\"2d6ada0b-f434-4164-a71f-8f6c8a71667d\" type=\"checkbox\" checked><label class=\"sk-toggleable__label\" for=\"2d6ada0b-f434-4164-a71f-8f6c8a71667d\">RandomForestClassifier</label><div class=\"sk-toggleable__content\"><pre>RandomForestClassifier(max_depth=20, n_estimators=50)</pre></div></div></div></div></div>"
      ],
      "text/plain": [
       "RandomForestClassifier(max_depth=20, n_estimators=50)"
      ]
     },
     "execution_count": 323,
     "metadata": {},
     "output_type": "execute_result"
    }
   ],
   "source": [
    "# Best estimator\n",
    "grid_search.best_estimator_"
   ]
  },
  {
   "cell_type": "markdown",
   "id": "2b821ab8-40b1-4fa7-a80a-2c44650db5c6",
   "metadata": {
    "tags": []
   },
   "source": [
    "### Model"
   ]
  },
  {
   "cell_type": "code",
   "execution_count": 325,
   "id": "1813044f-08f6-4f94-b9f6-3717058dfa56",
   "metadata": {},
   "outputs": [],
   "source": [
    "forest = RandomForestClassifier(n_estimators = 100, max_depth = 10)\n",
    "\n",
    "forest.fit(X_oversample, y_oversample)\n",
    "\n",
    "preds = forest.predict(X_test_new)"
   ]
  },
  {
   "cell_type": "code",
   "execution_count": 326,
   "id": "00982dbf-ca5d-414e-938f-b6f35d6b6757",
   "metadata": {},
   "outputs": [
    {
     "data": {
      "text/plain": [
       "array([0.41061331, 0.85574364])"
      ]
     },
     "execution_count": 326,
     "metadata": {},
     "output_type": "execute_result"
    }
   ],
   "source": [
    "from sklearn.metrics import f1_score\n",
    "\n",
    "f1_score(y_test,preds,average = None)"
   ]
  },
  {
   "cell_type": "markdown",
   "id": "09357ed9-e481-4bf2-b182-f55b649f3042",
   "metadata": {
    "jp-MarkdownHeadingCollapsed": true,
    "tags": []
   },
   "source": [
    "### Confusion Matrix"
   ]
  },
  {
   "cell_type": "code",
   "execution_count": 300,
   "id": "5c9a9436-2f01-45ae-b9b2-cc7547696c00",
   "metadata": {},
   "outputs": [],
   "source": [
    "results_df = pd.DataFrame({\"actual\": y_test,\n",
    "                           \"predicted\": preds}) #Store results in dataframe\n",
    "\n",
    "confusion_matrix = pd.crosstab(index= results_df['actual'],\n",
    "                               columns = results_df['predicted'])"
   ]
  },
  {
   "cell_type": "code",
   "execution_count": 301,
   "id": "58cef61e-583f-4b75-b510-469396354562",
   "metadata": {},
   "outputs": [
    {
     "data": {
      "image/png": "[encoded data removed]",
      "text/plain": [
       "<Figure size 432x288 with 2 Axes>"
      ]
     },
     "metadata": {
      "needs_background": "light"
     },
     "output_type": "display_data"
    }
   ],
   "source": [
    "from sklearn.metrics import plot_confusion_matrix\n",
    "\n",
    "plot_confusion_matrix(forest, X_test_new, y_test)  #Not normalized\n",
    "plt.show()  "
   ]
  },
  {
   "cell_type": "code",
   "execution_count": 302,
   "id": "23d98959-aee9-4921-8421-8e7e2426fae3",
   "metadata": {},
   "outputs": [
    {
     "data": {
      "image/png": "[encoded data removed]",
      "text/plain": [
       "<Figure size 432x288 with 2 Axes>"
      ]
     },
     "metadata": {
      "needs_background": "light"
     },
     "output_type": "display_data"
    }
   ],
   "source": [
    "plot_confusion_matrix(forest, X_test_new, y_test, normalize = 'true')  #Rows\n",
    "plt.show()  "
   ]
  },
  {
   "cell_type": "code",
   "execution_count": 303,
   "id": "cdb63923-59f7-49f4-89e8-8fbc47270df7",
   "metadata": {},
   "outputs": [
    {
     "data": {
      "image/png": "[encoded data removed]",
      "text/plain": [
       "<Figure size 432x288 with 2 Axes>"
      ]
     },
     "metadata": {
      "needs_background": "light"
     },
     "output_type": "display_data"
    }
   ],
   "source": [
    "plot_confusion_matrix(forest, X_test_new, y_test, normalize = 'pred')  #Columns\n",
    "plt.show()  "
   ]
  },
  {
   "cell_type": "code",
   "execution_count": 304,
   "id": "073830eb-8c7d-48fa-a741-f8487bf02224",
   "metadata": {},
   "outputs": [
    {
     "data": {
      "image/png": "[encoded data removed]",
      "text/plain": [
       "<Figure size 432x288 with 2 Axes>"
      ]
     },
     "metadata": {
      "needs_background": "light"
     },
     "output_type": "display_data"
    }
   ],
   "source": [
    "plot_confusion_matrix(forest, X_test_new, y_test, normalize = 'all')  #All\n",
    "plt.show()  "
   ]
  },
  {
   "cell_type": "code",
   "execution_count": null,
   "id": "2341386c-9bc5-40a9-bd54-4258bd8eb964",
   "metadata": {},
   "outputs": [],
   "source": []
  },
  {
   "cell_type": "markdown",
   "id": "557cbbea-597a-41ff-9c4c-2125778a725e",
   "metadata": {},
   "source": [
    "## 2nd Approach"
   ]
  },
  {
   "cell_type": "markdown",
   "id": "54e81d06-aed5-4d22-83b2-c0f14d7a5a41",
   "metadata": {},
   "source": [
    "1 day or more than 1 day"
   ]
  },
  {
   "cell_type": "code",
   "execution_count": 124,
   "id": "0693b857-e6c5-440a-a8b4-2f6b350a6354",
   "metadata": {},
   "outputs": [
    {
     "data": {
      "text/html": [
       "<div>\n",
       "<style scoped>\n",
       "    .dataframe tbody tr th:only-of-type {\n",
       "        vertical-align: middle;\n",
       "    }\n",
       "\n",
       "    .dataframe tbody tr th {\n",
       "        vertical-align: top;\n",
       "    }\n",
       "\n",
       "    .dataframe thead th {\n",
       "        text-align: right;\n",
       "    }\n",
       "</style>\n",
       "<table border=\"1\" class=\"dataframe\">\n",
       "  <thead>\n",
       "    <tr style=\"text-align: right;\">\n",
       "      <th></th>\n",
       "      <th>Intake Type</th>\n",
       "      <th>Intake Condition</th>\n",
       "      <th>Breed</th>\n",
       "      <th>Outcome Type</th>\n",
       "      <th>days_in_shelter</th>\n",
       "      <th>age_upon_intake_months</th>\n",
       "      <th>neutered_or_spayed_intake</th>\n",
       "      <th>male_or_female_intake</th>\n",
       "      <th>color</th>\n",
       "      <th>target</th>\n",
       "    </tr>\n",
       "  </thead>\n",
       "  <tbody>\n",
       "    <tr>\n",
       "      <th>0</th>\n",
       "      <td>Public Assist</td>\n",
       "      <td>Normal</td>\n",
       "      <td>Mixed</td>\n",
       "      <td>Return to Owner</td>\n",
       "      <td>2.0</td>\n",
       "      <td>72.0</td>\n",
       "      <td>1</td>\n",
       "      <td>1.0</td>\n",
       "      <td>Bicolor</td>\n",
       "      <td>0</td>\n",
       "    </tr>\n",
       "    <tr>\n",
       "      <th>1</th>\n",
       "      <td>Owner Surrender</td>\n",
       "      <td>Normal</td>\n",
       "      <td>Pure</td>\n",
       "      <td>Transfer</td>\n",
       "      <td>5.0</td>\n",
       "      <td>120.0</td>\n",
       "      <td>1</td>\n",
       "      <td>1.0</td>\n",
       "      <td>Tricolor</td>\n",
       "      <td>0</td>\n",
       "    </tr>\n",
       "  </tbody>\n",
       "</table>\n",
       "</div>"
      ],
      "text/plain": [
       "       Intake Type Intake Condition  Breed     Outcome Type  days_in_shelter  \\\n",
       "0    Public Assist           Normal  Mixed  Return to Owner              2.0   \n",
       "1  Owner Surrender           Normal   Pure         Transfer              5.0   \n",
       "\n",
       "   age_upon_intake_months  neutered_or_spayed_intake  male_or_female_intake  \\\n",
       "0                    72.0                          1                    1.0   \n",
       "1                   120.0                          1                    1.0   \n",
       "\n",
       "      color  target  \n",
       "0   Bicolor       0  \n",
       "1  Tricolor       0  "
      ]
     },
     "execution_count": 124,
     "metadata": {},
     "output_type": "execute_result"
    }
   ],
   "source": [
    "def classes(df,column):\n",
    "    target = []\n",
    "    for days in df[column]:\n",
    "        if days <= 31:\n",
    "            target.append(0)\n",
    "        else:\n",
    "            target.append(1)\n",
    "    df['target'] = target\n",
    "    return df\n",
    "\n",
    "classes(df_dogs,\"days_in_shelter\").head(2)"
   ]
  },
  {
   "cell_type": "code",
   "execution_count": 125,
   "id": "a3056dcb-2000-4270-890f-9944158810bf",
   "metadata": {},
   "outputs": [],
   "source": [
    "X = df_dogs.drop(columns = ['days_in_shelter', 'target', 'Outcome Type']).copy()\n",
    "y = df_dogs['target'].copy()"
   ]
  },
  {
   "cell_type": "code",
   "execution_count": 126,
   "id": "4ce3f1ef-2889-4058-acd8-ec427861a29c",
   "metadata": {},
   "outputs": [],
   "source": [
    "X_train, X_test, y_train, y_test = train_test_split(X,y,test_size = 0.3, random_state = 10)"
   ]
  },
  {
   "cell_type": "markdown",
   "id": "23d82fb7-028a-4774-9ef2-51825af319b0",
   "metadata": {
    "tags": []
   },
   "source": [
    "### Pre-processing Pipeline"
   ]
  },
  {
   "cell_type": "code",
   "execution_count": 127,
   "id": "49d0ff85-e416-439c-85fb-5ef9615d73f7",
   "metadata": {},
   "outputs": [],
   "source": [
    "# Impute then Scale for numerical variables\n",
    "num_transformer = MinMaxScaler()\n",
    "\n",
    "# Encode categorical varibles \n",
    "cat_transformer = OneHotEncoder(handle_unknown='ignore',sparse=False)\n",
    "\n",
    "# Apply transformations to desired features\n",
    "preprocessor = ColumnTransformer([\n",
    "    ('num_transformer', num_transformer, make_column_selector(dtype_include=['int64',\"float64\"])),\n",
    "    ('cat_transformer', cat_transformer, make_column_selector(dtype_include=[\"object\"]))])"
   ]
  },
  {
   "cell_type": "code",
   "execution_count": 128,
   "id": "32938b4e-fe48-4c5d-b895-628ec5942b39",
   "metadata": {},
   "outputs": [
    {
     "data": {
      "text/html": [
       "<style>#sk-16801ab8-bf07-47cd-bb21-90b394d8fa23 {color: black;background-color: white;}#sk-16801ab8-bf07-47cd-bb21-90b394d8fa23 pre{padding: 0;}#sk-16801ab8-bf07-47cd-bb21-90b394d8fa23 div.sk-toggleable {background-color: white;}#sk-16801ab8-bf07-47cd-bb21-90b394d8fa23 label.sk-toggleable__label {cursor: pointer;display: block;width: 100%;margin-bottom: 0;padding: 0.2em 0.3em;box-sizing: border-box;text-align: center;}#sk-16801ab8-bf07-47cd-bb21-90b394d8fa23 div.sk-toggleable__content {max-height: 0;max-width: 0;overflow: hidden;text-align: left;background-color: #f0f8ff;}#sk-16801ab8-bf07-47cd-bb21-90b394d8fa23 div.sk-toggleable__content pre {margin: 0.2em;color: black;border-radius: 0.25em;background-color: #f0f8ff;}#sk-16801ab8-bf07-47cd-bb21-90b394d8fa23 input.sk-toggleable__control:checked~div.sk-toggleable__content {max-height: 200px;max-width: 100%;overflow: auto;}#sk-16801ab8-bf07-47cd-bb21-90b394d8fa23 div.sk-estimator input.sk-toggleable__control:checked~label.sk-toggleable__label {background-color: #d4ebff;}#sk-16801ab8-bf07-47cd-bb21-90b394d8fa23 div.sk-label input.sk-toggleable__control:checked~label.sk-toggleable__label {background-color: #d4ebff;}#sk-16801ab8-bf07-47cd-bb21-90b394d8fa23 input.sk-hidden--visually {border: 0;clip: rect(1px 1px 1px 1px);clip: rect(1px, 1px, 1px, 1px);height: 1px;margin: -1px;overflow: hidden;padding: 0;position: absolute;width: 1px;}#sk-16801ab8-bf07-47cd-bb21-90b394d8fa23 div.sk-estimator {font-family: monospace;background-color: #f0f8ff;margin: 0.25em 0.25em;border: 1px dotted black;border-radius: 0.25em;box-sizing: border-box;}#sk-16801ab8-bf07-47cd-bb21-90b394d8fa23 div.sk-estimator:hover {background-color: #d4ebff;}#sk-16801ab8-bf07-47cd-bb21-90b394d8fa23 div.sk-parallel-item::after {content: \"\";width: 100%;border-bottom: 1px solid gray;flex-grow: 1;}#sk-16801ab8-bf07-47cd-bb21-90b394d8fa23 div.sk-label:hover label.sk-toggleable__label {background-color: #d4ebff;}#sk-16801ab8-bf07-47cd-bb21-90b394d8fa23 div.sk-serial::before {content: \"\";position: absolute;border-left: 1px solid gray;box-sizing: border-box;top: 2em;bottom: 0;left: 50%;}#sk-16801ab8-bf07-47cd-bb21-90b394d8fa23 div.sk-serial {display: flex;flex-direction: column;align-items: center;background-color: white;}#sk-16801ab8-bf07-47cd-bb21-90b394d8fa23 div.sk-item {z-index: 1;}#sk-16801ab8-bf07-47cd-bb21-90b394d8fa23 div.sk-parallel {display: flex;align-items: stretch;justify-content: center;background-color: white;}#sk-16801ab8-bf07-47cd-bb21-90b394d8fa23 div.sk-parallel-item {display: flex;flex-direction: column;position: relative;background-color: white;}#sk-16801ab8-bf07-47cd-bb21-90b394d8fa23 div.sk-parallel-item:first-child::after {align-self: flex-end;width: 50%;}#sk-16801ab8-bf07-47cd-bb21-90b394d8fa23 div.sk-parallel-item:last-child::after {align-self: flex-start;width: 50%;}#sk-16801ab8-bf07-47cd-bb21-90b394d8fa23 div.sk-parallel-item:only-child::after {width: 0;}#sk-16801ab8-bf07-47cd-bb21-90b394d8fa23 div.sk-dashed-wrapped {border: 1px dashed gray;margin: 0.2em;box-sizing: border-box;padding-bottom: 0.1em;background-color: white;position: relative;}#sk-16801ab8-bf07-47cd-bb21-90b394d8fa23 div.sk-label label {font-family: monospace;font-weight: bold;background-color: white;display: inline-block;line-height: 1.2em;}#sk-16801ab8-bf07-47cd-bb21-90b394d8fa23 div.sk-label-container {position: relative;z-index: 2;text-align: center;}#sk-16801ab8-bf07-47cd-bb21-90b394d8fa23 div.sk-container {display: inline-block;position: relative;}</style><div id=\"sk-16801ab8-bf07-47cd-bb21-90b394d8fa23\" class\"sk-top-container\"><div class=\"sk-container\"><div class=\"sk-item sk-dashed-wrapped\"><div class=\"sk-label-container\"><div class=\"sk-label sk-toggleable\"><input class=\"sk-toggleable__control sk-hidden--visually\" id=\"702f4596-06b9-4fa8-8751-4df2ddf120cd\" type=\"checkbox\" ><label class=\"sk-toggleable__label\" for=\"702f4596-06b9-4fa8-8751-4df2ddf120cd\">ColumnTransformer</label><div class=\"sk-toggleable__content\"><pre>ColumnTransformer(transformers=[('num_transformer', MinMaxScaler(),\n",
       "                                 <sklearn.compose._column_transformer.make_column_selector object at 0x7fba421f2100>),\n",
       "                                ('cat_transformer',\n",
       "                                 OneHotEncoder(handle_unknown='ignore',\n",
       "                                               sparse=False),\n",
       "                                 <sklearn.compose._column_transformer.make_column_selector object at 0x7fba421f24f0>)])</pre></div></div></div><div class=\"sk-parallel\"><div class=\"sk-parallel-item\"><div class=\"sk-item\"><div class=\"sk-label-container\"><div class=\"sk-label sk-toggleable\"><input class=\"sk-toggleable__control sk-hidden--visually\" id=\"4feedc3e-70a2-48bd-8e96-b7385af58ba3\" type=\"checkbox\" ><label class=\"sk-toggleable__label\" for=\"4feedc3e-70a2-48bd-8e96-b7385af58ba3\">num_transformer</label><div class=\"sk-toggleable__content\"><pre><sklearn.compose._column_transformer.make_column_selector object at 0x7fba421f2100></pre></div></div></div><div class=\"sk-serial\"><div class=\"sk-item\"><div class=\"sk-estimator sk-toggleable\"><input class=\"sk-toggleable__control sk-hidden--visually\" id=\"69c2863f-bee3-4026-af90-ab27c04e4c7e\" type=\"checkbox\" ><label class=\"sk-toggleable__label\" for=\"69c2863f-bee3-4026-af90-ab27c04e4c7e\">MinMaxScaler</label><div class=\"sk-toggleable__content\"><pre>MinMaxScaler()</pre></div></div></div></div></div></div><div class=\"sk-parallel-item\"><div class=\"sk-item\"><div class=\"sk-label-container\"><div class=\"sk-label sk-toggleable\"><input class=\"sk-toggleable__control sk-hidden--visually\" id=\"63621982-8690-4a50-aed8-04dd4af125fd\" type=\"checkbox\" ><label class=\"sk-toggleable__label\" for=\"63621982-8690-4a50-aed8-04dd4af125fd\">cat_transformer</label><div class=\"sk-toggleable__content\"><pre><sklearn.compose._column_transformer.make_column_selector object at 0x7fba421f24f0></pre></div></div></div><div class=\"sk-serial\"><div class=\"sk-item\"><div class=\"sk-estimator sk-toggleable\"><input class=\"sk-toggleable__control sk-hidden--visually\" id=\"490f48e5-a884-4529-9320-28f5eeb11ed9\" type=\"checkbox\" ><label class=\"sk-toggleable__label\" for=\"490f48e5-a884-4529-9320-28f5eeb11ed9\">OneHotEncoder</label><div class=\"sk-toggleable__content\"><pre>OneHotEncoder(handle_unknown='ignore', sparse=False)</pre></div></div></div></div></div></div></div></div></div></div>"
      ],
      "text/plain": [
       "ColumnTransformer(transformers=[('num_transformer', MinMaxScaler(),\n",
       "                                 <sklearn.compose._column_transformer.make_column_selector object at 0x7fba421f2100>),\n",
       "                                ('cat_transformer',\n",
       "                                 OneHotEncoder(handle_unknown='ignore',\n",
       "                                               sparse=False),\n",
       "                                 <sklearn.compose._column_transformer.make_column_selector object at 0x7fba421f24f0>)])"
      ]
     },
     "execution_count": 128,
     "metadata": {},
     "output_type": "execute_result"
    }
   ],
   "source": [
    "from sklearn import set_config; set_config(display='diagram')\n",
    "preprocessor.fit(X_train)"
   ]
  },
  {
   "cell_type": "code",
   "execution_count": 129,
   "id": "69b14836-3daf-4dc1-8c6e-df2faa31948e",
   "metadata": {},
   "outputs": [],
   "source": [
    "X_train_new = preprocessor.transform(X_train)\n",
    "X_test_new = preprocessor.transform(X_test)"
   ]
  },
  {
   "cell_type": "code",
   "execution_count": 130,
   "id": "cee9148e-c0ed-4194-a851-772a3116b178",
   "metadata": {},
   "outputs": [],
   "source": [
    "from imblearn.over_sampling import SMOTE\n",
    "#Create an oversampled training data\n",
    "smote = SMOTE(random_state = 101)\n",
    "X_oversample, y_oversample = smote.fit_resample(X_train_new, y_train)"
   ]
  },
  {
   "cell_type": "markdown",
   "id": "8fe3834f-288a-4e8e-9d69-e5ad196586e3",
   "metadata": {
    "tags": []
   },
   "source": [
    "### Grid Search"
   ]
  },
  {
   "cell_type": "code",
   "execution_count": 131,
   "id": "01d26831-527e-43b6-9781-31a9b8d59c3b",
   "metadata": {},
   "outputs": [
    {
     "data": {
      "text/html": [
       "<style>#sk-0b3e1013-b1bf-409d-b649-cb2af239c20b {color: black;background-color: white;}#sk-0b3e1013-b1bf-409d-b649-cb2af239c20b pre{padding: 0;}#sk-0b3e1013-b1bf-409d-b649-cb2af239c20b div.sk-toggleable {background-color: white;}#sk-0b3e1013-b1bf-409d-b649-cb2af239c20b label.sk-toggleable__label {cursor: pointer;display: block;width: 100%;margin-bottom: 0;padding: 0.2em 0.3em;box-sizing: border-box;text-align: center;}#sk-0b3e1013-b1bf-409d-b649-cb2af239c20b div.sk-toggleable__content {max-height: 0;max-width: 0;overflow: hidden;text-align: left;background-color: #f0f8ff;}#sk-0b3e1013-b1bf-409d-b649-cb2af239c20b div.sk-toggleable__content pre {margin: 0.2em;color: black;border-radius: 0.25em;background-color: #f0f8ff;}#sk-0b3e1013-b1bf-409d-b649-cb2af239c20b input.sk-toggleable__control:checked~div.sk-toggleable__content {max-height: 200px;max-width: 100%;overflow: auto;}#sk-0b3e1013-b1bf-409d-b649-cb2af239c20b div.sk-estimator input.sk-toggleable__control:checked~label.sk-toggleable__label {background-color: #d4ebff;}#sk-0b3e1013-b1bf-409d-b649-cb2af239c20b div.sk-label input.sk-toggleable__control:checked~label.sk-toggleable__label {background-color: #d4ebff;}#sk-0b3e1013-b1bf-409d-b649-cb2af239c20b input.sk-hidden--visually {border: 0;clip: rect(1px 1px 1px 1px);clip: rect(1px, 1px, 1px, 1px);height: 1px;margin: -1px;overflow: hidden;padding: 0;position: absolute;width: 1px;}#sk-0b3e1013-b1bf-409d-b649-cb2af239c20b div.sk-estimator {font-family: monospace;background-color: #f0f8ff;margin: 0.25em 0.25em;border: 1px dotted black;border-radius: 0.25em;box-sizing: border-box;}#sk-0b3e1013-b1bf-409d-b649-cb2af239c20b div.sk-estimator:hover {background-color: #d4ebff;}#sk-0b3e1013-b1bf-409d-b649-cb2af239c20b div.sk-parallel-item::after {content: \"\";width: 100%;border-bottom: 1px solid gray;flex-grow: 1;}#sk-0b3e1013-b1bf-409d-b649-cb2af239c20b div.sk-label:hover label.sk-toggleable__label {background-color: #d4ebff;}#sk-0b3e1013-b1bf-409d-b649-cb2af239c20b div.sk-serial::before {content: \"\";position: absolute;border-left: 1px solid gray;box-sizing: border-box;top: 2em;bottom: 0;left: 50%;}#sk-0b3e1013-b1bf-409d-b649-cb2af239c20b div.sk-serial {display: flex;flex-direction: column;align-items: center;background-color: white;}#sk-0b3e1013-b1bf-409d-b649-cb2af239c20b div.sk-item {z-index: 1;}#sk-0b3e1013-b1bf-409d-b649-cb2af239c20b div.sk-parallel {display: flex;align-items: stretch;justify-content: center;background-color: white;}#sk-0b3e1013-b1bf-409d-b649-cb2af239c20b div.sk-parallel-item {display: flex;flex-direction: column;position: relative;background-color: white;}#sk-0b3e1013-b1bf-409d-b649-cb2af239c20b div.sk-parallel-item:first-child::after {align-self: flex-end;width: 50%;}#sk-0b3e1013-b1bf-409d-b649-cb2af239c20b div.sk-parallel-item:last-child::after {align-self: flex-start;width: 50%;}#sk-0b3e1013-b1bf-409d-b649-cb2af239c20b div.sk-parallel-item:only-child::after {width: 0;}#sk-0b3e1013-b1bf-409d-b649-cb2af239c20b div.sk-dashed-wrapped {border: 1px dashed gray;margin: 0.2em;box-sizing: border-box;padding-bottom: 0.1em;background-color: white;position: relative;}#sk-0b3e1013-b1bf-409d-b649-cb2af239c20b div.sk-label label {font-family: monospace;font-weight: bold;background-color: white;display: inline-block;line-height: 1.2em;}#sk-0b3e1013-b1bf-409d-b649-cb2af239c20b div.sk-label-container {position: relative;z-index: 2;text-align: center;}#sk-0b3e1013-b1bf-409d-b649-cb2af239c20b div.sk-container {display: inline-block;position: relative;}</style><div id=\"sk-0b3e1013-b1bf-409d-b649-cb2af239c20b\" class\"sk-top-container\"><div class=\"sk-container\"><div class=\"sk-item sk-dashed-wrapped\"><div class=\"sk-label-container\"><div class=\"sk-label sk-toggleable\"><input class=\"sk-toggleable__control sk-hidden--visually\" id=\"37763bee-72c3-43ba-ad60-6fac2bb9f74f\" type=\"checkbox\" ><label class=\"sk-toggleable__label\" for=\"37763bee-72c3-43ba-ad60-6fac2bb9f74f\">GridSearchCV</label><div class=\"sk-toggleable__content\"><pre>GridSearchCV(cv=5, estimator=RandomForestClassifier(),\n",
       "             param_grid={'max_depth': [5, 10, 20],\n",
       "                         'n_estimators': [25, 50, 100]},\n",
       "             scoring='f1_macro')</pre></div></div></div><div class=\"sk-parallel\"><div class=\"sk-parallel-item\"><div class=\"sk-item\"><div class=\"sk-serial\"><div class=\"sk-item\"><div class=\"sk-estimator sk-toggleable\"><input class=\"sk-toggleable__control sk-hidden--visually\" id=\"664f39f0-d758-458e-9394-aaa8ee0503bc\" type=\"checkbox\" ><label class=\"sk-toggleable__label\" for=\"664f39f0-d758-458e-9394-aaa8ee0503bc\">RandomForestClassifier</label><div class=\"sk-toggleable__content\"><pre>RandomForestClassifier()</pre></div></div></div></div></div></div></div></div></div></div>"
      ],
      "text/plain": [
       "GridSearchCV(cv=5, estimator=RandomForestClassifier(),\n",
       "             param_grid={'max_depth': [5, 10, 20],\n",
       "                         'n_estimators': [25, 50, 100]},\n",
       "             scoring='f1_macro')"
      ]
     },
     "execution_count": 131,
     "metadata": {},
     "output_type": "execute_result"
    }
   ],
   "source": [
    "from imblearn.over_sampling import SMOTE\n",
    "from sklearn.metrics import make_scorer\n",
    "\n",
    "# Model\n",
    "forest = RandomForestClassifier()\n",
    "\n",
    "#GridSearch\n",
    "\n",
    "grid_params = {'n_estimators': [25,50,100],\n",
    "               'max_depth': [5,10,20],\n",
    "              }\n",
    "\n",
    "grid_search = GridSearchCV(forest, grid_params,\n",
    "                           scoring = 'f1_macro',\n",
    "                           cv = 5,\n",
    "                          )\n",
    "\n",
    "# Fit data to Grid Search\n",
    "grid_search.fit(X_oversample, y_oversample)"
   ]
  },
  {
   "cell_type": "code",
   "execution_count": 132,
   "id": "106a21a5-c67f-416b-98f1-f22253c67d70",
   "metadata": {},
   "outputs": [
    {
     "data": {
      "text/plain": [
       "0.704942608852006"
      ]
     },
     "execution_count": 132,
     "metadata": {},
     "output_type": "execute_result"
    }
   ],
   "source": [
    "# Best score\n",
    "grid_search.best_score_"
   ]
  },
  {
   "cell_type": "code",
   "execution_count": 133,
   "id": "0772b48b-b823-43f2-86e1-89babe0fb21c",
   "metadata": {},
   "outputs": [
    {
     "data": {
      "text/plain": [
       "{'max_depth': 20, 'n_estimators': 50}"
      ]
     },
     "execution_count": 133,
     "metadata": {},
     "output_type": "execute_result"
    }
   ],
   "source": [
    "# Best Params\n",
    "grid_search.best_params_"
   ]
  },
  {
   "cell_type": "markdown",
   "id": "b76269a8-d5db-4657-8efe-7e57bb8b5e20",
   "metadata": {
    "tags": []
   },
   "source": [
    "### Model"
   ]
  },
  {
   "cell_type": "code",
   "execution_count": 141,
   "id": "5d519770-6b65-42a7-a343-37f596f927d4",
   "metadata": {},
   "outputs": [],
   "source": [
    "forest = RandomForestClassifier(n_estimators = 50, max_depth = 20)\n",
    "\n",
    "forest.fit(X_oversample, y_oversample)\n",
    "\n",
    "preds = forest.predict(X_test_new)"
   ]
  },
  {
   "cell_type": "code",
   "execution_count": 142,
   "id": "5abebd24-005b-4fca-af3d-2777e989d178",
   "metadata": {},
   "outputs": [
    {
     "data": {
      "text/plain": [
       "array([0.75362764, 0.28894305])"
      ]
     },
     "execution_count": 142,
     "metadata": {},
     "output_type": "execute_result"
    }
   ],
   "source": [
    "from sklearn.metrics import f1_score\n",
    "\n",
    "f1_score(y_test,preds,average = None)"
   ]
  },
  {
   "cell_type": "code",
   "execution_count": 143,
   "id": "c66e3112-4a2c-4697-b027-7f32076f83ae",
   "metadata": {},
   "outputs": [
    {
     "data": {
      "text/plain": [
       "0.6340517732922796"
      ]
     },
     "execution_count": 143,
     "metadata": {},
     "output_type": "execute_result"
    }
   ],
   "source": [
    "from sklearn.metrics import accuracy_score\n",
    "\n",
    "accuracy_score(y_test,preds)"
   ]
  },
  {
   "cell_type": "markdown",
   "id": "56e908a8-1c99-498e-9265-6c10f54af672",
   "metadata": {
    "tags": []
   },
   "source": [
    "### Confusion Matrix"
   ]
  },
  {
   "cell_type": "code",
   "execution_count": 144,
   "id": "ee23ef88-7998-4098-bb8a-5aa62810af01",
   "metadata": {},
   "outputs": [],
   "source": [
    "results_df = pd.DataFrame({\"actual\": y_test,\n",
    "                           \"predicted\": preds}) #Store results in dataframe\n",
    "\n",
    "confusion_matrix = pd.crosstab(index= results_df['actual'],\n",
    "                               columns = results_df['predicted'])"
   ]
  },
  {
   "cell_type": "code",
   "execution_count": 145,
   "id": "b3de30c7-67cd-451f-ac45-30a7400cb35f",
   "metadata": {},
   "outputs": [
    {
     "data": {
      "image/png": "[encoded data removed]",
      "text/plain": [
       "<Figure size 432x288 with 2 Axes>"
      ]
     },
     "metadata": {
      "needs_background": "light"
     },
     "output_type": "display_data"
    }
   ],
   "source": [
    "from sklearn.metrics import plot_confusion_matrix\n",
    "\n",
    "plot_confusion_matrix(forest, X_test_new, y_test)  #Not normalized\n",
    "plt.show()  "
   ]
  },
  {
   "cell_type": "markdown",
   "id": "0c409cf0-8b0f-4a64-bc54-879a5f39a2c7",
   "metadata": {},
   "source": [
    "## 3rd Approach"
   ]
  },
  {
   "cell_type": "markdown",
   "id": "4ed2ddd5-7a46-4dee-9a20-b6f68b9c8ce6",
   "metadata": {},
   "source": [
    "Dropping all the dogs who found home in 1st week"
   ]
  },
  {
   "cell_type": "code",
   "execution_count": 6,
   "id": "d4fc88ac-2216-46e6-b519-d29c43daede2",
   "metadata": {},
   "outputs": [
    {
     "data": {
      "text/html": [
       "<div>\n",
       "<style scoped>\n",
       "    .dataframe tbody tr th:only-of-type {\n",
       "        vertical-align: middle;\n",
       "    }\n",
       "\n",
       "    .dataframe tbody tr th {\n",
       "        vertical-align: top;\n",
       "    }\n",
       "\n",
       "    .dataframe thead th {\n",
       "        text-align: right;\n",
       "    }\n",
       "</style>\n",
       "<table border=\"1\" class=\"dataframe\">\n",
       "  <thead>\n",
       "    <tr style=\"text-align: right;\">\n",
       "      <th></th>\n",
       "      <th>Intake Type</th>\n",
       "      <th>Intake Condition</th>\n",
       "      <th>Breed</th>\n",
       "      <th>Outcome Type</th>\n",
       "      <th>days_in_shelter</th>\n",
       "      <th>age_upon_intake_months</th>\n",
       "      <th>neutered_or_spayed_intake</th>\n",
       "      <th>male_or_female_intake</th>\n",
       "      <th>color</th>\n",
       "      <th>target</th>\n",
       "    </tr>\n",
       "  </thead>\n",
       "  <tbody>\n",
       "    <tr>\n",
       "      <th>0</th>\n",
       "      <td>Public Assist</td>\n",
       "      <td>Normal</td>\n",
       "      <td>Mixed</td>\n",
       "      <td>Return to Owner</td>\n",
       "      <td>2.0</td>\n",
       "      <td>72.0</td>\n",
       "      <td>1</td>\n",
       "      <td>1.0</td>\n",
       "      <td>Bicolor</td>\n",
       "      <td>0</td>\n",
       "    </tr>\n",
       "    <tr>\n",
       "      <th>1</th>\n",
       "      <td>Owner Surrender</td>\n",
       "      <td>Normal</td>\n",
       "      <td>Pure</td>\n",
       "      <td>Transfer</td>\n",
       "      <td>5.0</td>\n",
       "      <td>120.0</td>\n",
       "      <td>1</td>\n",
       "      <td>1.0</td>\n",
       "      <td>Tricolor</td>\n",
       "      <td>0</td>\n",
       "    </tr>\n",
       "  </tbody>\n",
       "</table>\n",
       "</div>"
      ],
      "text/plain": [
       "       Intake Type Intake Condition  Breed     Outcome Type  days_in_shelter  \\\n",
       "0    Public Assist           Normal  Mixed  Return to Owner              2.0   \n",
       "1  Owner Surrender           Normal   Pure         Transfer              5.0   \n",
       "\n",
       "   age_upon_intake_months  neutered_or_spayed_intake  male_or_female_intake  \\\n",
       "0                    72.0                          1                    1.0   \n",
       "1                   120.0                          1                    1.0   \n",
       "\n",
       "      color  target  \n",
       "0   Bicolor       0  \n",
       "1  Tricolor       0  "
      ]
     },
     "execution_count": 6,
     "metadata": {},
     "output_type": "execute_result"
    }
   ],
   "source": [
    "def classes(df,column):\n",
    "    target = []\n",
    "    for days in df[column]:\n",
    "        if days <= 7:\n",
    "            target.append(0)\n",
    "        else:\n",
    "            target.append(1)\n",
    "    df['target'] = target\n",
    "    return df\n",
    "\n",
    "classes(df_dogs,\"days_in_shelter\").head(2)"
   ]
  },
  {
   "cell_type": "code",
   "execution_count": null,
   "id": "f8957e9d-1b6b-42d3-b96b-a4b4d6fe28a2",
   "metadata": {},
   "outputs": [],
   "source": []
  }
 ],
 "metadata": {
  "kernelspec": {
   "display_name": "Python 3 (ipykernel)",
   "language": "python",
   "name": "python3"
  },
  "language_info": {
   "codemirror_mode": {
    "name": "ipython",
    "version": 3
   },
   "file_extension": ".py",
   "mimetype": "text/x-python",
   "name": "python",
   "nbconvert_exporter": "python",
   "pygments_lexer": "ipython3",
   "version": "3.8.6"
  }
 },
 "nbformat": 4,
 "nbformat_minor": 5
}
