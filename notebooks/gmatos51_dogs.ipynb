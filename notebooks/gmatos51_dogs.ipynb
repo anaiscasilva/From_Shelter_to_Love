{
 "cells": [
  {
   "cell_type": "markdown",
   "id": "d10bc261-b047-4017-ac82-42a050e29450",
   "metadata": {},
   "source": [
    "# Days in shelter Classification (For Dogs)"
   ]
  },
  {
   "cell_type": "code",
   "execution_count": 2,
   "id": "981bfb02-fe2b-49bb-b833-e6f813786e1b",
   "metadata": {},
   "outputs": [
    {
     "name": "stdout",
     "output_type": "stream",
     "text": [
      "The autoreload extension is already loaded. To reload it, use:\n",
      "  %reload_ext autoreload\n"
     ]
    }
   ],
   "source": [
    "%load_ext autoreload\n",
    "%autoreload 2\n",
    "\n",
    "import pandas as pd\n",
    "import numpy as np\n",
    "import matplotlib.pyplot as plt\n",
    "import seaborn as sns\n",
    "import re\n",
    "\n",
    "from sklearn.model_selection import train_test_split, cross_validate, GridSearchCV\n",
    "from imblearn.over_sampling import SMOTE\n",
    "from sklearn.linear_model import LogisticRegression\n",
    "from sklearn.tree import DecisionTreeClassifier\n",
    "from sklearn.ensemble import RandomForestClassifier\n",
    "\n",
    "from sklearn.pipeline import Pipeline\n",
    "from sklearn.impute import SimpleImputer\n",
    "from sklearn.preprocessing import MinMaxScaler , FunctionTransformer,OneHotEncoder, LabelEncoder\n",
    "from sklearn.compose import make_column_selector,ColumnTransformer"
   ]
  },
  {
   "cell_type": "markdown",
   "id": "ff6f1f70-9d7e-42b8-bd09-47523863d0af",
   "metadata": {},
   "source": [
    "### Getting the data"
   ]
  },
  {
   "cell_type": "code",
   "execution_count": 88,
   "id": "a458e882-25e7-4b6e-a2f5-cc4de1881cd7",
   "metadata": {
    "tags": []
   },
   "outputs": [],
   "source": [
    "from From_Shelter_to_Love.data_provisoria_v2 import get_data\n",
    "\n",
    "#Getting the data\n",
    "\n",
    "df = get_data()"
   ]
  },
  {
   "cell_type": "code",
   "execution_count": 89,
   "id": "e39f7b51-dfca-44d8-875f-ef7444b99e91",
   "metadata": {},
   "outputs": [
    {
     "data": {
      "text/html": [
       "<div>\n",
       "<style scoped>\n",
       "    .dataframe tbody tr th:only-of-type {\n",
       "        vertical-align: middle;\n",
       "    }\n",
       "\n",
       "    .dataframe tbody tr th {\n",
       "        vertical-align: top;\n",
       "    }\n",
       "\n",
       "    .dataframe thead th {\n",
       "        text-align: right;\n",
       "    }\n",
       "</style>\n",
       "<table border=\"1\" class=\"dataframe\">\n",
       "  <thead>\n",
       "    <tr style=\"text-align: right;\">\n",
       "      <th></th>\n",
       "      <th>Intake Type</th>\n",
       "      <th>Intake Condition</th>\n",
       "      <th>Animal Type</th>\n",
       "      <th>Breed</th>\n",
       "      <th>Outcome Type</th>\n",
       "      <th>days_in_shelter</th>\n",
       "      <th>age_upon_intake_months</th>\n",
       "      <th>neutered_or_spayed_intake</th>\n",
       "      <th>male_or_female_intake</th>\n",
       "      <th>color</th>\n",
       "    </tr>\n",
       "  </thead>\n",
       "  <tbody>\n",
       "    <tr>\n",
       "      <th>0</th>\n",
       "      <td>Public Assist</td>\n",
       "      <td>Normal</td>\n",
       "      <td>Dog</td>\n",
       "      <td>Mixed</td>\n",
       "      <td>Return to Owner</td>\n",
       "      <td>2.0</td>\n",
       "      <td>72.0</td>\n",
       "      <td>1</td>\n",
       "      <td>1.0</td>\n",
       "      <td>Bicolor</td>\n",
       "    </tr>\n",
       "    <tr>\n",
       "      <th>1</th>\n",
       "      <td>Owner Surrender</td>\n",
       "      <td>Normal</td>\n",
       "      <td>Dog</td>\n",
       "      <td>Pure</td>\n",
       "      <td>Transfer</td>\n",
       "      <td>5.0</td>\n",
       "      <td>120.0</td>\n",
       "      <td>1</td>\n",
       "      <td>1.0</td>\n",
       "      <td>Tricolor</td>\n",
       "    </tr>\n",
       "  </tbody>\n",
       "</table>\n",
       "</div>"
      ],
      "text/plain": [
       "       Intake Type Intake Condition Animal Type  Breed     Outcome Type  \\\n",
       "0    Public Assist           Normal         Dog  Mixed  Return to Owner   \n",
       "1  Owner Surrender           Normal         Dog   Pure         Transfer   \n",
       "\n",
       "   days_in_shelter  age_upon_intake_months  neutered_or_spayed_intake  \\\n",
       "0              2.0                    72.0                          1   \n",
       "1              5.0                   120.0                          1   \n",
       "\n",
       "   male_or_female_intake     color  \n",
       "0                    1.0   Bicolor  \n",
       "1                    1.0  Tricolor  "
      ]
     },
     "execution_count": 141,
     "metadata": {},
     "output_type": "execute_result"
    }
   ],
   "source": [
    "df.drop(columns = ['Animal ID','age_upon_outcome_years','age_upon_intake_years',\\\n",
    "                   'age_upon_outcome_months','male_or_female_outcome',\\\n",
    "                   'neutered_or_spayed_outcome'], inplace = True)\n",
    "df.head(2)"
   ]
  },
  {
   "cell_type": "code",
   "execution_count": 99,
   "id": "0e2b5cc6-c698-40fd-b269-197e0dac76bc",
   "metadata": {},
   "outputs": [],
   "source": [
    "df_dogs = df[df['Animal Type'] == 'Dog'].copy()\n",
    "df_dogs.drop(columns = 'Animal Type', inplace = True)"
   ]
  },
  {
   "cell_type": "markdown",
   "id": "ea292fe0-0b54-4dba-89c8-981190502753",
   "metadata": {},
   "source": [
    "### Defining Target"
   ]
  },
  {
   "cell_type": "code",
   "execution_count": 100,
   "id": "5a286ee3-d619-46a2-aec9-fdd84e97049a",
   "metadata": {},
   "outputs": [
    {
     "data": {
      "text/html": [
       "<div>\n",
       "<style scoped>\n",
       "    .dataframe tbody tr th:only-of-type {\n",
       "        vertical-align: middle;\n",
       "    }\n",
       "\n",
       "    .dataframe tbody tr th {\n",
       "        vertical-align: top;\n",
       "    }\n",
       "\n",
       "    .dataframe thead th {\n",
       "        text-align: right;\n",
       "    }\n",
       "</style>\n",
       "<table border=\"1\" class=\"dataframe\">\n",
       "  <thead>\n",
       "    <tr style=\"text-align: right;\">\n",
       "      <th></th>\n",
       "      <th>Intake Type</th>\n",
       "      <th>Intake Condition</th>\n",
       "      <th>Breed</th>\n",
       "      <th>Outcome Type</th>\n",
       "      <th>days_in_shelter</th>\n",
       "      <th>age_upon_intake_months</th>\n",
       "      <th>neutered_or_spayed_intake</th>\n",
       "      <th>male_or_female_intake</th>\n",
       "      <th>color</th>\n",
       "      <th>target</th>\n",
       "    </tr>\n",
       "  </thead>\n",
       "  <tbody>\n",
       "    <tr>\n",
       "      <th>0</th>\n",
       "      <td>Public Assist</td>\n",
       "      <td>Normal</td>\n",
       "      <td>Mixed</td>\n",
       "      <td>Return to Owner</td>\n",
       "      <td>2.0</td>\n",
       "      <td>72.0</td>\n",
       "      <td>1</td>\n",
       "      <td>1.0</td>\n",
       "      <td>Bicolor</td>\n",
       "      <td>0</td>\n",
       "    </tr>\n",
       "    <tr>\n",
       "      <th>1</th>\n",
       "      <td>Owner Surrender</td>\n",
       "      <td>Normal</td>\n",
       "      <td>Pure</td>\n",
       "      <td>Transfer</td>\n",
       "      <td>5.0</td>\n",
       "      <td>120.0</td>\n",
       "      <td>1</td>\n",
       "      <td>1.0</td>\n",
       "      <td>Tricolor</td>\n",
       "      <td>0</td>\n",
       "    </tr>\n",
       "  </tbody>\n",
       "</table>\n",
       "</div>"
      ],
      "text/plain": [
       "       Intake Type Intake Condition  Breed     Outcome Type  days_in_shelter  \\\n",
       "0    Public Assist           Normal  Mixed  Return to Owner              2.0   \n",
       "1  Owner Surrender           Normal   Pure         Transfer              5.0   \n",
       "\n",
       "   age_upon_intake_months  neutered_or_spayed_intake  male_or_female_intake  \\\n",
       "0                    72.0                          1                    1.0   \n",
       "1                   120.0                          1                    1.0   \n",
       "\n",
       "      color  target  \n",
       "0   Bicolor       0  \n",
       "1  Tricolor       0  "
      ]
     },
     "execution_count": 143,
     "metadata": {},
     "output_type": "execute_result"
    }
   ],
   "source": [
    "def classes(df,column):\n",
    "    target = []\n",
    "    for days in df[column]:\n",
    "        if days <= 7:\n",
    "            target.append(0)\n",
    "        else:\n",
    "            target.append(1)\n",
    "    df['target'] = target\n",
    "    return df\n",
    "\n",
    "classes(df_dogs,\"days_in_shelter\").head(2)"
   ]
  },
  {
   "cell_type": "code",
   "execution_count": 101,
   "id": "53024794-5cd4-4994-b617-544855b11847",
   "metadata": {},
   "outputs": [],
   "source": [
    "X = df_dogs.drop(columns = ['days_in_shelter', 'target', 'Outcome Type']).copy()\n",
    "y = df_dogs['target'].copy()"
   ]
  },
  {
   "cell_type": "code",
   "execution_count": 102,
   "id": "49b68219-cd48-413b-a93d-92d3dd8e549b",
   "metadata": {},
   "outputs": [],
   "source": [
    "X_train, X_test, y_train, y_test = train_test_split(X,y,test_size = 0.3, random_state = 10)"
   ]
  },
  {
   "cell_type": "code",
   "execution_count": 103,
   "id": "12ed5562-f2a5-4eee-9a18-dad28c9e743c",
   "metadata": {},
   "outputs": [],
   "source": [
    "# Impute then Scale for numerical variables\n",
    "num_transformer = Pipeline([\n",
    "    ('imputer', SimpleImputer()),\n",
    "    ('scaler', MinMaxScaler())])\n",
    "\n",
    "# Encode categorical varibles \n",
    "cat_transformer = OneHotEncoder(handle_unknown='ignore',sparse=False)\n",
    "\n",
    "# Apply transformations to desired features\n",
    "preprocessor = ColumnTransformer([\n",
    "    ('num_transformer', num_transformer, make_column_selector(dtype_include=['int64',\"float64\"])),\n",
    "    ('cat_transformer', cat_transformer, make_column_selector(dtype_include=[\"object\"]))])"
   ]
  },
  {
   "cell_type": "code",
   "execution_count": 104,
   "id": "296d2e22-a1b6-4d3e-8e00-5e3a2409d550",
   "metadata": {},
   "outputs": [
    {
     "data": {
      "text/html": [
       "<style>#sk-14c277dc-1d3e-453d-baf0-8ea75a130aec {color: black;background-color: white;}#sk-14c277dc-1d3e-453d-baf0-8ea75a130aec pre{padding: 0;}#sk-14c277dc-1d3e-453d-baf0-8ea75a130aec div.sk-toggleable {background-color: white;}#sk-14c277dc-1d3e-453d-baf0-8ea75a130aec label.sk-toggleable__label {cursor: pointer;display: block;width: 100%;margin-bottom: 0;padding: 0.2em 0.3em;box-sizing: border-box;text-align: center;}#sk-14c277dc-1d3e-453d-baf0-8ea75a130aec div.sk-toggleable__content {max-height: 0;max-width: 0;overflow: hidden;text-align: left;background-color: #f0f8ff;}#sk-14c277dc-1d3e-453d-baf0-8ea75a130aec div.sk-toggleable__content pre {margin: 0.2em;color: black;border-radius: 0.25em;background-color: #f0f8ff;}#sk-14c277dc-1d3e-453d-baf0-8ea75a130aec input.sk-toggleable__control:checked~div.sk-toggleable__content {max-height: 200px;max-width: 100%;overflow: auto;}#sk-14c277dc-1d3e-453d-baf0-8ea75a130aec div.sk-estimator input.sk-toggleable__control:checked~label.sk-toggleable__label {background-color: #d4ebff;}#sk-14c277dc-1d3e-453d-baf0-8ea75a130aec div.sk-label input.sk-toggleable__control:checked~label.sk-toggleable__label {background-color: #d4ebff;}#sk-14c277dc-1d3e-453d-baf0-8ea75a130aec input.sk-hidden--visually {border: 0;clip: rect(1px 1px 1px 1px);clip: rect(1px, 1px, 1px, 1px);height: 1px;margin: -1px;overflow: hidden;padding: 0;position: absolute;width: 1px;}#sk-14c277dc-1d3e-453d-baf0-8ea75a130aec div.sk-estimator {font-family: monospace;background-color: #f0f8ff;margin: 0.25em 0.25em;border: 1px dotted black;border-radius: 0.25em;box-sizing: border-box;}#sk-14c277dc-1d3e-453d-baf0-8ea75a130aec div.sk-estimator:hover {background-color: #d4ebff;}#sk-14c277dc-1d3e-453d-baf0-8ea75a130aec div.sk-parallel-item::after {content: \"\";width: 100%;border-bottom: 1px solid gray;flex-grow: 1;}#sk-14c277dc-1d3e-453d-baf0-8ea75a130aec div.sk-label:hover label.sk-toggleable__label {background-color: #d4ebff;}#sk-14c277dc-1d3e-453d-baf0-8ea75a130aec div.sk-serial::before {content: \"\";position: absolute;border-left: 1px solid gray;box-sizing: border-box;top: 2em;bottom: 0;left: 50%;}#sk-14c277dc-1d3e-453d-baf0-8ea75a130aec div.sk-serial {display: flex;flex-direction: column;align-items: center;background-color: white;}#sk-14c277dc-1d3e-453d-baf0-8ea75a130aec div.sk-item {z-index: 1;}#sk-14c277dc-1d3e-453d-baf0-8ea75a130aec div.sk-parallel {display: flex;align-items: stretch;justify-content: center;background-color: white;}#sk-14c277dc-1d3e-453d-baf0-8ea75a130aec div.sk-parallel-item {display: flex;flex-direction: column;position: relative;background-color: white;}#sk-14c277dc-1d3e-453d-baf0-8ea75a130aec div.sk-parallel-item:first-child::after {align-self: flex-end;width: 50%;}#sk-14c277dc-1d3e-453d-baf0-8ea75a130aec div.sk-parallel-item:last-child::after {align-self: flex-start;width: 50%;}#sk-14c277dc-1d3e-453d-baf0-8ea75a130aec div.sk-parallel-item:only-child::after {width: 0;}#sk-14c277dc-1d3e-453d-baf0-8ea75a130aec div.sk-dashed-wrapped {border: 1px dashed gray;margin: 0.2em;box-sizing: border-box;padding-bottom: 0.1em;background-color: white;position: relative;}#sk-14c277dc-1d3e-453d-baf0-8ea75a130aec div.sk-label label {font-family: monospace;font-weight: bold;background-color: white;display: inline-block;line-height: 1.2em;}#sk-14c277dc-1d3e-453d-baf0-8ea75a130aec div.sk-label-container {position: relative;z-index: 2;text-align: center;}#sk-14c277dc-1d3e-453d-baf0-8ea75a130aec div.sk-container {display: inline-block;position: relative;}</style><div id=\"sk-14c277dc-1d3e-453d-baf0-8ea75a130aec\" class\"sk-top-container\"><div class=\"sk-container\"><div class=\"sk-item sk-dashed-wrapped\"><div class=\"sk-label-container\"><div class=\"sk-label sk-toggleable\"><input class=\"sk-toggleable__control sk-hidden--visually\" id=\"31bb6de5-2068-4e94-be67-4aafc27c697b\" type=\"checkbox\" ><label class=\"sk-toggleable__label\" for=\"31bb6de5-2068-4e94-be67-4aafc27c697b\">ColumnTransformer</label><div class=\"sk-toggleable__content\"><pre>ColumnTransformer(transformers=[('num_transformer',\n",
       "                                 Pipeline(steps=[('imputer', SimpleImputer()),\n",
       "                                                 ('scaler', MinMaxScaler())]),\n",
       "                                 <sklearn.compose._column_transformer.make_column_selector object at 0x7f07ff2fcdf0>),\n",
       "                                ('cat_transformer',\n",
       "                                 OneHotEncoder(handle_unknown='ignore',\n",
       "                                               sparse=False),\n",
       "                                 <sklearn.compose._column_transformer.make_column_selector object at 0x7f07ff2fceb0>)])</pre></div></div></div><div class=\"sk-parallel\"><div class=\"sk-parallel-item\"><div class=\"sk-item\"><div class=\"sk-label-container\"><div class=\"sk-label sk-toggleable\"><input class=\"sk-toggleable__control sk-hidden--visually\" id=\"f421a102-6278-4a1a-87ba-c23724fd8f42\" type=\"checkbox\" ><label class=\"sk-toggleable__label\" for=\"f421a102-6278-4a1a-87ba-c23724fd8f42\">num_transformer</label><div class=\"sk-toggleable__content\"><pre><sklearn.compose._column_transformer.make_column_selector object at 0x7f07ff2fcdf0></pre></div></div></div><div class=\"sk-serial\"><div class=\"sk-item\"><div class=\"sk-serial\"><div class=\"sk-item\"><div class=\"sk-estimator sk-toggleable\"><input class=\"sk-toggleable__control sk-hidden--visually\" id=\"5fc823ce-6402-4f17-85a8-096fa62261c0\" type=\"checkbox\" ><label class=\"sk-toggleable__label\" for=\"5fc823ce-6402-4f17-85a8-096fa62261c0\">SimpleImputer</label><div class=\"sk-toggleable__content\"><pre>SimpleImputer()</pre></div></div></div><div class=\"sk-item\"><div class=\"sk-estimator sk-toggleable\"><input class=\"sk-toggleable__control sk-hidden--visually\" id=\"3322ddd8-65a6-4f32-89f0-27ee0eead8d0\" type=\"checkbox\" ><label class=\"sk-toggleable__label\" for=\"3322ddd8-65a6-4f32-89f0-27ee0eead8d0\">MinMaxScaler</label><div class=\"sk-toggleable__content\"><pre>MinMaxScaler()</pre></div></div></div></div></div></div></div></div><div class=\"sk-parallel-item\"><div class=\"sk-item\"><div class=\"sk-label-container\"><div class=\"sk-label sk-toggleable\"><input class=\"sk-toggleable__control sk-hidden--visually\" id=\"15c85d95-73a4-4741-9326-82e87f9d7190\" type=\"checkbox\" ><label class=\"sk-toggleable__label\" for=\"15c85d95-73a4-4741-9326-82e87f9d7190\">cat_transformer</label><div class=\"sk-toggleable__content\"><pre><sklearn.compose._column_transformer.make_column_selector object at 0x7f07ff2fceb0></pre></div></div></div><div class=\"sk-serial\"><div class=\"sk-item\"><div class=\"sk-estimator sk-toggleable\"><input class=\"sk-toggleable__control sk-hidden--visually\" id=\"26bb2815-b4cd-4cbf-99b9-976f2c3f024f\" type=\"checkbox\" ><label class=\"sk-toggleable__label\" for=\"26bb2815-b4cd-4cbf-99b9-976f2c3f024f\">OneHotEncoder</label><div class=\"sk-toggleable__content\"><pre>OneHotEncoder(handle_unknown='ignore', sparse=False)</pre></div></div></div></div></div></div></div></div></div></div>"
      ],
      "text/plain": [
       "ColumnTransformer(transformers=[('num_transformer',\n",
       "                                 Pipeline(steps=[('imputer', SimpleImputer()),\n",
       "                                                 ('scaler', MinMaxScaler())]),\n",
       "                                 <sklearn.compose._column_transformer.make_column_selector object at 0x7f07ff2fcdf0>),\n",
       "                                ('cat_transformer',\n",
       "                                 OneHotEncoder(handle_unknown='ignore',\n",
       "                                               sparse=False),\n",
       "                                 <sklearn.compose._column_transformer.make_column_selector object at 0x7f07ff2fceb0>)])"
      ]
     },
     "execution_count": 147,
     "metadata": {},
     "output_type": "execute_result"
    }
   ],
   "source": [
    "from sklearn import set_config; set_config(display='diagram')\n",
    "preprocessor.fit(X_train)"
   ]
  },
  {
   "cell_type": "code",
   "execution_count": 105,
   "id": "45a54819-ab2a-42bf-947a-3922bb6bb636",
   "metadata": {},
   "outputs": [],
   "source": [
    "X_train_new = preprocessor.transform(X_train)\n",
    "X_test_new = preprocessor.transform(X_test)"
   ]
  },
  {
   "cell_type": "markdown",
   "id": "604cdd04-1acf-4842-8327-4e06c3c20749",
   "metadata": {},
   "source": [
    "### Oversample and Undersample"
   ]
  },
  {
   "cell_type": "code",
   "execution_count": 106,
   "id": "232e6bf9-5fd1-4974-88a4-fb95fbdc12ad",
   "metadata": {},
   "outputs": [],
   "source": [
    "from imblearn.over_sampling import SMOTE\n",
    "#Create an oversampled training data\n",
    "smote = SMOTE(random_state = 101)\n",
    "X_oversample, y_oversample = smote.fit_resample(X_train_new, y_train)"
   ]
  },
  {
   "cell_type": "code",
   "execution_count": 124,
   "id": "d4be91bd-910b-4aac-9a88-e6e2e96c4100",
   "metadata": {},
   "outputs": [],
   "source": [
    "from imblearn.under_sampling import RandomUnderSampler\n",
    "\n",
    "under = RandomUnderSampler(random_state = 101)\n",
    "X_undersample, y_undersample = under.fit_resample(X_train_new, y_train)"
   ]
  },
  {
   "cell_type": "markdown",
   "id": "2e45fa1a-57b4-41d8-8b70-c15a87d9bfc8",
   "metadata": {
    "tags": []
   },
   "source": [
    "### Grid Search GBClassifier"
   ]
  },
  {
   "cell_type": "code",
   "execution_count": 19,
   "id": "063f7d8d-889d-42e4-8fd1-9819b1733c69",
   "metadata": {},
   "outputs": [
    {
     "data": {
      "text/html": [
       "<style>#sk-aeb501dc-ee94-4617-829f-9fedac00b806 {color: black;background-color: white;}#sk-aeb501dc-ee94-4617-829f-9fedac00b806 pre{padding: 0;}#sk-aeb501dc-ee94-4617-829f-9fedac00b806 div.sk-toggleable {background-color: white;}#sk-aeb501dc-ee94-4617-829f-9fedac00b806 label.sk-toggleable__label {cursor: pointer;display: block;width: 100%;margin-bottom: 0;padding: 0.2em 0.3em;box-sizing: border-box;text-align: center;}#sk-aeb501dc-ee94-4617-829f-9fedac00b806 div.sk-toggleable__content {max-height: 0;max-width: 0;overflow: hidden;text-align: left;background-color: #f0f8ff;}#sk-aeb501dc-ee94-4617-829f-9fedac00b806 div.sk-toggleable__content pre {margin: 0.2em;color: black;border-radius: 0.25em;background-color: #f0f8ff;}#sk-aeb501dc-ee94-4617-829f-9fedac00b806 input.sk-toggleable__control:checked~div.sk-toggleable__content {max-height: 200px;max-width: 100%;overflow: auto;}#sk-aeb501dc-ee94-4617-829f-9fedac00b806 div.sk-estimator input.sk-toggleable__control:checked~label.sk-toggleable__label {background-color: #d4ebff;}#sk-aeb501dc-ee94-4617-829f-9fedac00b806 div.sk-label input.sk-toggleable__control:checked~label.sk-toggleable__label {background-color: #d4ebff;}#sk-aeb501dc-ee94-4617-829f-9fedac00b806 input.sk-hidden--visually {border: 0;clip: rect(1px 1px 1px 1px);clip: rect(1px, 1px, 1px, 1px);height: 1px;margin: -1px;overflow: hidden;padding: 0;position: absolute;width: 1px;}#sk-aeb501dc-ee94-4617-829f-9fedac00b806 div.sk-estimator {font-family: monospace;background-color: #f0f8ff;margin: 0.25em 0.25em;border: 1px dotted black;border-radius: 0.25em;box-sizing: border-box;}#sk-aeb501dc-ee94-4617-829f-9fedac00b806 div.sk-estimator:hover {background-color: #d4ebff;}#sk-aeb501dc-ee94-4617-829f-9fedac00b806 div.sk-parallel-item::after {content: \"\";width: 100%;border-bottom: 1px solid gray;flex-grow: 1;}#sk-aeb501dc-ee94-4617-829f-9fedac00b806 div.sk-label:hover label.sk-toggleable__label {background-color: #d4ebff;}#sk-aeb501dc-ee94-4617-829f-9fedac00b806 div.sk-serial::before {content: \"\";position: absolute;border-left: 1px solid gray;box-sizing: border-box;top: 2em;bottom: 0;left: 50%;}#sk-aeb501dc-ee94-4617-829f-9fedac00b806 div.sk-serial {display: flex;flex-direction: column;align-items: center;background-color: white;}#sk-aeb501dc-ee94-4617-829f-9fedac00b806 div.sk-item {z-index: 1;}#sk-aeb501dc-ee94-4617-829f-9fedac00b806 div.sk-parallel {display: flex;align-items: stretch;justify-content: center;background-color: white;}#sk-aeb501dc-ee94-4617-829f-9fedac00b806 div.sk-parallel-item {display: flex;flex-direction: column;position: relative;background-color: white;}#sk-aeb501dc-ee94-4617-829f-9fedac00b806 div.sk-parallel-item:first-child::after {align-self: flex-end;width: 50%;}#sk-aeb501dc-ee94-4617-829f-9fedac00b806 div.sk-parallel-item:last-child::after {align-self: flex-start;width: 50%;}#sk-aeb501dc-ee94-4617-829f-9fedac00b806 div.sk-parallel-item:only-child::after {width: 0;}#sk-aeb501dc-ee94-4617-829f-9fedac00b806 div.sk-dashed-wrapped {border: 1px dashed gray;margin: 0.2em;box-sizing: border-box;padding-bottom: 0.1em;background-color: white;position: relative;}#sk-aeb501dc-ee94-4617-829f-9fedac00b806 div.sk-label label {font-family: monospace;font-weight: bold;background-color: white;display: inline-block;line-height: 1.2em;}#sk-aeb501dc-ee94-4617-829f-9fedac00b806 div.sk-label-container {position: relative;z-index: 2;text-align: center;}#sk-aeb501dc-ee94-4617-829f-9fedac00b806 div.sk-container {display: inline-block;position: relative;}</style><div id=\"sk-aeb501dc-ee94-4617-829f-9fedac00b806\" class\"sk-top-container\"><div class=\"sk-container\"><div class=\"sk-item sk-dashed-wrapped\"><div class=\"sk-label-container\"><div class=\"sk-label sk-toggleable\"><input class=\"sk-toggleable__control sk-hidden--visually\" id=\"49b9208d-08ca-4679-b27d-d63144d5532e\" type=\"checkbox\" ><label class=\"sk-toggleable__label\" for=\"49b9208d-08ca-4679-b27d-d63144d5532e\">GridSearchCV</label><div class=\"sk-toggleable__content\"><pre>GridSearchCV(cv=5, estimator=GradientBoostingClassifier(), n_jobs=-1,\n",
       "             param_grid={'max_depth': [5, 10, 20],\n",
       "                         'n_estimators': [25, 50, 100]},\n",
       "             scoring='f1_macro')</pre></div></div></div><div class=\"sk-parallel\"><div class=\"sk-parallel-item\"><div class=\"sk-item\"><div class=\"sk-serial\"><div class=\"sk-item\"><div class=\"sk-estimator sk-toggleable\"><input class=\"sk-toggleable__control sk-hidden--visually\" id=\"946c8720-a931-4241-93f2-ddde01b012a6\" type=\"checkbox\" ><label class=\"sk-toggleable__label\" for=\"946c8720-a931-4241-93f2-ddde01b012a6\">GradientBoostingClassifier</label><div class=\"sk-toggleable__content\"><pre>GradientBoostingClassifier()</pre></div></div></div></div></div></div></div></div></div></div>"
      ],
      "text/plain": [
       "GridSearchCV(cv=5, estimator=GradientBoostingClassifier(), n_jobs=-1,\n",
       "             param_grid={'max_depth': [5, 10, 20],\n",
       "                         'n_estimators': [25, 50, 100]},\n",
       "             scoring='f1_macro')"
      ]
     },
     "execution_count": 19,
     "metadata": {},
     "output_type": "execute_result"
    }
   ],
   "source": [
    "from imblearn.over_sampling import SMOTE\n",
    "from sklearn.metrics import make_scorer\n",
    "from sklearn.ensemble import GradientBoostingClassifier\n",
    "\n",
    "\n",
    "# Model\n",
    "gradboost = GradientBoostingClassifier()\n",
    "\n",
    "#GridSearch\n",
    "\n",
    "grid_params = {'n_estimators': [25,50,100],\n",
    "               'max_depth': [5,10,20],\n",
    "              }\n",
    "\n",
    "grid_search = GridSearchCV(gradboost, grid_params,\n",
    "                           scoring = 'f1_macro',\n",
    "                           cv = 5,\n",
    "                           n_jobs=-1 # paralellize computation\n",
    "                          )\n",
    "\n",
    "# Fit data to Grid Search\n",
    "grid_search.fit(X_train_new, y_train)"
   ]
  },
  {
   "cell_type": "code",
   "execution_count": 20,
   "id": "fbd2bc78-04ae-46e3-9915-ab798cb9fd74",
   "metadata": {},
   "outputs": [
    {
     "data": {
      "text/plain": [
       "0.5829906628171239"
      ]
     },
     "execution_count": 20,
     "metadata": {},
     "output_type": "execute_result"
    }
   ],
   "source": [
    "# Best score\n",
    "grid_search.best_score_"
   ]
  },
  {
   "cell_type": "code",
   "execution_count": 17,
   "id": "75c5a4f1-c572-4bc5-a951-caeabf158440",
   "metadata": {},
   "outputs": [
    {
     "data": {
      "text/plain": [
       "{'max_depth': 10, 'n_estimators': 100}"
      ]
     },
     "execution_count": 17,
     "metadata": {},
     "output_type": "execute_result"
    }
   ],
   "source": [
    "# Best Params\n",
    "grid_search.best_params_"
   ]
  },
  {
   "cell_type": "code",
   "execution_count": 18,
   "id": "4f084d2c-3da0-4864-9597-406d4853d6ab",
   "metadata": {},
   "outputs": [
    {
     "data": {
      "text/html": [
       "<style>#sk-ce19dac5-4547-47b0-826a-43544597c451 {color: black;background-color: white;}#sk-ce19dac5-4547-47b0-826a-43544597c451 pre{padding: 0;}#sk-ce19dac5-4547-47b0-826a-43544597c451 div.sk-toggleable {background-color: white;}#sk-ce19dac5-4547-47b0-826a-43544597c451 label.sk-toggleable__label {cursor: pointer;display: block;width: 100%;margin-bottom: 0;padding: 0.2em 0.3em;box-sizing: border-box;text-align: center;}#sk-ce19dac5-4547-47b0-826a-43544597c451 div.sk-toggleable__content {max-height: 0;max-width: 0;overflow: hidden;text-align: left;background-color: #f0f8ff;}#sk-ce19dac5-4547-47b0-826a-43544597c451 div.sk-toggleable__content pre {margin: 0.2em;color: black;border-radius: 0.25em;background-color: #f0f8ff;}#sk-ce19dac5-4547-47b0-826a-43544597c451 input.sk-toggleable__control:checked~div.sk-toggleable__content {max-height: 200px;max-width: 100%;overflow: auto;}#sk-ce19dac5-4547-47b0-826a-43544597c451 div.sk-estimator input.sk-toggleable__control:checked~label.sk-toggleable__label {background-color: #d4ebff;}#sk-ce19dac5-4547-47b0-826a-43544597c451 div.sk-label input.sk-toggleable__control:checked~label.sk-toggleable__label {background-color: #d4ebff;}#sk-ce19dac5-4547-47b0-826a-43544597c451 input.sk-hidden--visually {border: 0;clip: rect(1px 1px 1px 1px);clip: rect(1px, 1px, 1px, 1px);height: 1px;margin: -1px;overflow: hidden;padding: 0;position: absolute;width: 1px;}#sk-ce19dac5-4547-47b0-826a-43544597c451 div.sk-estimator {font-family: monospace;background-color: #f0f8ff;margin: 0.25em 0.25em;border: 1px dotted black;border-radius: 0.25em;box-sizing: border-box;}#sk-ce19dac5-4547-47b0-826a-43544597c451 div.sk-estimator:hover {background-color: #d4ebff;}#sk-ce19dac5-4547-47b0-826a-43544597c451 div.sk-parallel-item::after {content: \"\";width: 100%;border-bottom: 1px solid gray;flex-grow: 1;}#sk-ce19dac5-4547-47b0-826a-43544597c451 div.sk-label:hover label.sk-toggleable__label {background-color: #d4ebff;}#sk-ce19dac5-4547-47b0-826a-43544597c451 div.sk-serial::before {content: \"\";position: absolute;border-left: 1px solid gray;box-sizing: border-box;top: 2em;bottom: 0;left: 50%;}#sk-ce19dac5-4547-47b0-826a-43544597c451 div.sk-serial {display: flex;flex-direction: column;align-items: center;background-color: white;}#sk-ce19dac5-4547-47b0-826a-43544597c451 div.sk-item {z-index: 1;}#sk-ce19dac5-4547-47b0-826a-43544597c451 div.sk-parallel {display: flex;align-items: stretch;justify-content: center;background-color: white;}#sk-ce19dac5-4547-47b0-826a-43544597c451 div.sk-parallel-item {display: flex;flex-direction: column;position: relative;background-color: white;}#sk-ce19dac5-4547-47b0-826a-43544597c451 div.sk-parallel-item:first-child::after {align-self: flex-end;width: 50%;}#sk-ce19dac5-4547-47b0-826a-43544597c451 div.sk-parallel-item:last-child::after {align-self: flex-start;width: 50%;}#sk-ce19dac5-4547-47b0-826a-43544597c451 div.sk-parallel-item:only-child::after {width: 0;}#sk-ce19dac5-4547-47b0-826a-43544597c451 div.sk-dashed-wrapped {border: 1px dashed gray;margin: 0.2em;box-sizing: border-box;padding-bottom: 0.1em;background-color: white;position: relative;}#sk-ce19dac5-4547-47b0-826a-43544597c451 div.sk-label label {font-family: monospace;font-weight: bold;background-color: white;display: inline-block;line-height: 1.2em;}#sk-ce19dac5-4547-47b0-826a-43544597c451 div.sk-label-container {position: relative;z-index: 2;text-align: center;}#sk-ce19dac5-4547-47b0-826a-43544597c451 div.sk-container {display: inline-block;position: relative;}</style><div id=\"sk-ce19dac5-4547-47b0-826a-43544597c451\" class\"sk-top-container\"><div class=\"sk-container\"><div class=\"sk-item\"><div class=\"sk-estimator sk-toggleable\"><input class=\"sk-toggleable__control sk-hidden--visually\" id=\"75a4abee-6d28-4f00-8f73-64659c26b66c\" type=\"checkbox\" checked><label class=\"sk-toggleable__label\" for=\"75a4abee-6d28-4f00-8f73-64659c26b66c\">GradientBoostingClassifier</label><div class=\"sk-toggleable__content\"><pre>GradientBoostingClassifier(max_depth=10)</pre></div></div></div></div></div>"
      ],
      "text/plain": [
       "GradientBoostingClassifier(max_depth=10)"
      ]
     },
     "execution_count": 18,
     "metadata": {},
     "output_type": "execute_result"
    }
   ],
   "source": [
    "# Best estimator\n",
    "grid_search.best_estimator_"
   ]
  },
  {
   "cell_type": "markdown",
   "id": "4db33772-42e8-4281-ab2a-bbfd4c457ec0",
   "metadata": {},
   "source": [
    "### Model"
   ]
  },
  {
   "cell_type": "code",
   "execution_count": 26,
   "id": "4ecc1444-c290-47b1-8f53-230a57f6e623",
   "metadata": {},
   "outputs": [],
   "source": [
    "# Model\n",
    "gradboost = GradientBoostingClassifier(max_depth = 10, n_estimators = 100)\n",
    "\n",
    "gradboost.fit(X_oversample, y_oversample)\n",
    "\n",
    "preds = gradboost.predict(X_test_new)"
   ]
  },
  {
   "cell_type": "code",
   "execution_count": 27,
   "id": "3c7d80c1-e036-419c-8914-36e5963974ff",
   "metadata": {},
   "outputs": [
    {
     "data": {
      "text/plain": [
       "0.6078039678616383"
      ]
     },
     "execution_count": 27,
     "metadata": {},
     "output_type": "execute_result"
    }
   ],
   "source": [
    "from sklearn.metrics import f1_score\n",
    "\n",
    "f1_score(y_test,preds,average = 'macro')"
   ]
  },
  {
   "cell_type": "code",
   "execution_count": null,
   "id": "31f1ae93-26f5-40df-bb40-dba8c3a25a56",
   "metadata": {},
   "outputs": [],
   "source": []
  },
  {
   "cell_type": "markdown",
   "id": "ce5b3722-3e64-415d-bdcc-a647425b908a",
   "metadata": {},
   "source": [
    "### Grid Search Random Forest"
   ]
  },
  {
   "cell_type": "code",
   "execution_count": 109,
   "id": "49b1fb3a-d70b-472d-bda7-9963b433a181",
   "metadata": {},
   "outputs": [
    {
     "data": {
      "text/html": [
       "<style>#sk-d88bd6da-3a90-4b79-9eae-476c935a581d {color: black;background-color: white;}#sk-d88bd6da-3a90-4b79-9eae-476c935a581d pre{padding: 0;}#sk-d88bd6da-3a90-4b79-9eae-476c935a581d div.sk-toggleable {background-color: white;}#sk-d88bd6da-3a90-4b79-9eae-476c935a581d label.sk-toggleable__label {cursor: pointer;display: block;width: 100%;margin-bottom: 0;padding: 0.2em 0.3em;box-sizing: border-box;text-align: center;}#sk-d88bd6da-3a90-4b79-9eae-476c935a581d div.sk-toggleable__content {max-height: 0;max-width: 0;overflow: hidden;text-align: left;background-color: #f0f8ff;}#sk-d88bd6da-3a90-4b79-9eae-476c935a581d div.sk-toggleable__content pre {margin: 0.2em;color: black;border-radius: 0.25em;background-color: #f0f8ff;}#sk-d88bd6da-3a90-4b79-9eae-476c935a581d input.sk-toggleable__control:checked~div.sk-toggleable__content {max-height: 200px;max-width: 100%;overflow: auto;}#sk-d88bd6da-3a90-4b79-9eae-476c935a581d div.sk-estimator input.sk-toggleable__control:checked~label.sk-toggleable__label {background-color: #d4ebff;}#sk-d88bd6da-3a90-4b79-9eae-476c935a581d div.sk-label input.sk-toggleable__control:checked~label.sk-toggleable__label {background-color: #d4ebff;}#sk-d88bd6da-3a90-4b79-9eae-476c935a581d input.sk-hidden--visually {border: 0;clip: rect(1px 1px 1px 1px);clip: rect(1px, 1px, 1px, 1px);height: 1px;margin: -1px;overflow: hidden;padding: 0;position: absolute;width: 1px;}#sk-d88bd6da-3a90-4b79-9eae-476c935a581d div.sk-estimator {font-family: monospace;background-color: #f0f8ff;margin: 0.25em 0.25em;border: 1px dotted black;border-radius: 0.25em;box-sizing: border-box;}#sk-d88bd6da-3a90-4b79-9eae-476c935a581d div.sk-estimator:hover {background-color: #d4ebff;}#sk-d88bd6da-3a90-4b79-9eae-476c935a581d div.sk-parallel-item::after {content: \"\";width: 100%;border-bottom: 1px solid gray;flex-grow: 1;}#sk-d88bd6da-3a90-4b79-9eae-476c935a581d div.sk-label:hover label.sk-toggleable__label {background-color: #d4ebff;}#sk-d88bd6da-3a90-4b79-9eae-476c935a581d div.sk-serial::before {content: \"\";position: absolute;border-left: 1px solid gray;box-sizing: border-box;top: 2em;bottom: 0;left: 50%;}#sk-d88bd6da-3a90-4b79-9eae-476c935a581d div.sk-serial {display: flex;flex-direction: column;align-items: center;background-color: white;}#sk-d88bd6da-3a90-4b79-9eae-476c935a581d div.sk-item {z-index: 1;}#sk-d88bd6da-3a90-4b79-9eae-476c935a581d div.sk-parallel {display: flex;align-items: stretch;justify-content: center;background-color: white;}#sk-d88bd6da-3a90-4b79-9eae-476c935a581d div.sk-parallel-item {display: flex;flex-direction: column;position: relative;background-color: white;}#sk-d88bd6da-3a90-4b79-9eae-476c935a581d div.sk-parallel-item:first-child::after {align-self: flex-end;width: 50%;}#sk-d88bd6da-3a90-4b79-9eae-476c935a581d div.sk-parallel-item:last-child::after {align-self: flex-start;width: 50%;}#sk-d88bd6da-3a90-4b79-9eae-476c935a581d div.sk-parallel-item:only-child::after {width: 0;}#sk-d88bd6da-3a90-4b79-9eae-476c935a581d div.sk-dashed-wrapped {border: 1px dashed gray;margin: 0.2em;box-sizing: border-box;padding-bottom: 0.1em;background-color: white;position: relative;}#sk-d88bd6da-3a90-4b79-9eae-476c935a581d div.sk-label label {font-family: monospace;font-weight: bold;background-color: white;display: inline-block;line-height: 1.2em;}#sk-d88bd6da-3a90-4b79-9eae-476c935a581d div.sk-label-container {position: relative;z-index: 2;text-align: center;}#sk-d88bd6da-3a90-4b79-9eae-476c935a581d div.sk-container {display: inline-block;position: relative;}</style><div id=\"sk-d88bd6da-3a90-4b79-9eae-476c935a581d\" class\"sk-top-container\"><div class=\"sk-container\"><div class=\"sk-item sk-dashed-wrapped\"><div class=\"sk-label-container\"><div class=\"sk-label sk-toggleable\"><input class=\"sk-toggleable__control sk-hidden--visually\" id=\"b2d8f74f-88ee-4c5d-96b5-d370358379e6\" type=\"checkbox\" ><label class=\"sk-toggleable__label\" for=\"b2d8f74f-88ee-4c5d-96b5-d370358379e6\">GridSearchCV</label><div class=\"sk-toggleable__content\"><pre>GridSearchCV(cv=5, estimator=RandomForestClassifier(), n_jobs=-1,\n",
       "             param_grid={'max_depth': [5, 10, 20],\n",
       "                         'n_estimators': [25, 50, 100]},\n",
       "             scoring='f1_macro')</pre></div></div></div><div class=\"sk-parallel\"><div class=\"sk-parallel-item\"><div class=\"sk-item\"><div class=\"sk-serial\"><div class=\"sk-item\"><div class=\"sk-estimator sk-toggleable\"><input class=\"sk-toggleable__control sk-hidden--visually\" id=\"0253c878-eab3-44cb-baf6-682b50b6c3cf\" type=\"checkbox\" ><label class=\"sk-toggleable__label\" for=\"0253c878-eab3-44cb-baf6-682b50b6c3cf\">RandomForestClassifier</label><div class=\"sk-toggleable__content\"><pre>RandomForestClassifier()</pre></div></div></div></div></div></div></div></div></div></div>"
      ],
      "text/plain": [
       "GridSearchCV(cv=5, estimator=RandomForestClassifier(), n_jobs=-1,\n",
       "             param_grid={'max_depth': [5, 10, 20],\n",
       "                         'n_estimators': [25, 50, 100]},\n",
       "             scoring='f1_macro')"
      ]
     },
     "execution_count": 109,
     "metadata": {},
     "output_type": "execute_result"
    }
   ],
   "source": [
    "from imblearn.over_sampling import SMOTE\n",
    "from sklearn.metrics import make_scorer\n",
    "\n",
    "# Model\n",
    "forest = RandomForestClassifier()\n",
    "\n",
    "#GridSearch\n",
    "\n",
    "grid_params = {'n_estimators': [25,50,100],\n",
    "               'max_depth': [5,10,20],\n",
    "              }\n",
    "\n",
    "grid_search = GridSearchCV(forest, grid_params,\n",
    "                           scoring = 'f1_macro',\n",
    "                           cv = 5,\n",
    "                           n_jobs=-1 # paralellize computation\n",
    "                          )\n",
    "\n",
    "# Fit data to Grid Search\n",
    "grid_search.fit(X_oversample, y_oversample)"
   ]
  },
  {
   "cell_type": "code",
   "execution_count": 110,
   "id": "8118f739-474b-431e-b35b-fcd078eaa387",
   "metadata": {},
   "outputs": [
    {
     "data": {
      "text/plain": [
       "0.6215677590287887"
      ]
     },
     "execution_count": 110,
     "metadata": {},
     "output_type": "execute_result"
    }
   ],
   "source": [
    "# Best score\n",
    "grid_search.best_score_"
   ]
  },
  {
   "cell_type": "code",
   "execution_count": 111,
   "id": "2696c89a-9c4f-4f74-906a-e6e917ae9678",
   "metadata": {},
   "outputs": [
    {
     "data": {
      "text/plain": [
       "{'max_depth': 10, 'n_estimators': 100}"
      ]
     },
     "execution_count": 111,
     "metadata": {},
     "output_type": "execute_result"
    }
   ],
   "source": [
    "# Best Params\n",
    "grid_search.best_params_"
   ]
  },
  {
   "cell_type": "code",
   "execution_count": 112,
   "id": "c686a282-62ac-48d3-b5c4-fb3a26b8b90e",
   "metadata": {},
   "outputs": [
    {
     "data": {
      "text/html": [
       "<style>#sk-a7ba6df9-9756-45cf-9fad-71bde0f47618 {color: black;background-color: white;}#sk-a7ba6df9-9756-45cf-9fad-71bde0f47618 pre{padding: 0;}#sk-a7ba6df9-9756-45cf-9fad-71bde0f47618 div.sk-toggleable {background-color: white;}#sk-a7ba6df9-9756-45cf-9fad-71bde0f47618 label.sk-toggleable__label {cursor: pointer;display: block;width: 100%;margin-bottom: 0;padding: 0.2em 0.3em;box-sizing: border-box;text-align: center;}#sk-a7ba6df9-9756-45cf-9fad-71bde0f47618 div.sk-toggleable__content {max-height: 0;max-width: 0;overflow: hidden;text-align: left;background-color: #f0f8ff;}#sk-a7ba6df9-9756-45cf-9fad-71bde0f47618 div.sk-toggleable__content pre {margin: 0.2em;color: black;border-radius: 0.25em;background-color: #f0f8ff;}#sk-a7ba6df9-9756-45cf-9fad-71bde0f47618 input.sk-toggleable__control:checked~div.sk-toggleable__content {max-height: 200px;max-width: 100%;overflow: auto;}#sk-a7ba6df9-9756-45cf-9fad-71bde0f47618 div.sk-estimator input.sk-toggleable__control:checked~label.sk-toggleable__label {background-color: #d4ebff;}#sk-a7ba6df9-9756-45cf-9fad-71bde0f47618 div.sk-label input.sk-toggleable__control:checked~label.sk-toggleable__label {background-color: #d4ebff;}#sk-a7ba6df9-9756-45cf-9fad-71bde0f47618 input.sk-hidden--visually {border: 0;clip: rect(1px 1px 1px 1px);clip: rect(1px, 1px, 1px, 1px);height: 1px;margin: -1px;overflow: hidden;padding: 0;position: absolute;width: 1px;}#sk-a7ba6df9-9756-45cf-9fad-71bde0f47618 div.sk-estimator {font-family: monospace;background-color: #f0f8ff;margin: 0.25em 0.25em;border: 1px dotted black;border-radius: 0.25em;box-sizing: border-box;}#sk-a7ba6df9-9756-45cf-9fad-71bde0f47618 div.sk-estimator:hover {background-color: #d4ebff;}#sk-a7ba6df9-9756-45cf-9fad-71bde0f47618 div.sk-parallel-item::after {content: \"\";width: 100%;border-bottom: 1px solid gray;flex-grow: 1;}#sk-a7ba6df9-9756-45cf-9fad-71bde0f47618 div.sk-label:hover label.sk-toggleable__label {background-color: #d4ebff;}#sk-a7ba6df9-9756-45cf-9fad-71bde0f47618 div.sk-serial::before {content: \"\";position: absolute;border-left: 1px solid gray;box-sizing: border-box;top: 2em;bottom: 0;left: 50%;}#sk-a7ba6df9-9756-45cf-9fad-71bde0f47618 div.sk-serial {display: flex;flex-direction: column;align-items: center;background-color: white;}#sk-a7ba6df9-9756-45cf-9fad-71bde0f47618 div.sk-item {z-index: 1;}#sk-a7ba6df9-9756-45cf-9fad-71bde0f47618 div.sk-parallel {display: flex;align-items: stretch;justify-content: center;background-color: white;}#sk-a7ba6df9-9756-45cf-9fad-71bde0f47618 div.sk-parallel-item {display: flex;flex-direction: column;position: relative;background-color: white;}#sk-a7ba6df9-9756-45cf-9fad-71bde0f47618 div.sk-parallel-item:first-child::after {align-self: flex-end;width: 50%;}#sk-a7ba6df9-9756-45cf-9fad-71bde0f47618 div.sk-parallel-item:last-child::after {align-self: flex-start;width: 50%;}#sk-a7ba6df9-9756-45cf-9fad-71bde0f47618 div.sk-parallel-item:only-child::after {width: 0;}#sk-a7ba6df9-9756-45cf-9fad-71bde0f47618 div.sk-dashed-wrapped {border: 1px dashed gray;margin: 0.2em;box-sizing: border-box;padding-bottom: 0.1em;background-color: white;position: relative;}#sk-a7ba6df9-9756-45cf-9fad-71bde0f47618 div.sk-label label {font-family: monospace;font-weight: bold;background-color: white;display: inline-block;line-height: 1.2em;}#sk-a7ba6df9-9756-45cf-9fad-71bde0f47618 div.sk-label-container {position: relative;z-index: 2;text-align: center;}#sk-a7ba6df9-9756-45cf-9fad-71bde0f47618 div.sk-container {display: inline-block;position: relative;}</style><div id=\"sk-a7ba6df9-9756-45cf-9fad-71bde0f47618\" class\"sk-top-container\"><div class=\"sk-container\"><div class=\"sk-item\"><div class=\"sk-estimator sk-toggleable\"><input class=\"sk-toggleable__control sk-hidden--visually\" id=\"a6479103-fb37-4441-bf36-3e326ad80077\" type=\"checkbox\" checked><label class=\"sk-toggleable__label\" for=\"a6479103-fb37-4441-bf36-3e326ad80077\">RandomForestClassifier</label><div class=\"sk-toggleable__content\"><pre>RandomForestClassifier(max_depth=10)</pre></div></div></div></div></div>"
      ],
      "text/plain": [
       "RandomForestClassifier(max_depth=10)"
      ]
     },
     "execution_count": 112,
     "metadata": {},
     "output_type": "execute_result"
    }
   ],
   "source": [
    "# Best estimator\n",
    "grid_search.best_estimator_"
   ]
  },
  {
   "cell_type": "code",
   "execution_count": 129,
   "id": "5af184ec-647e-4b8c-a1f7-0214fc7bd5d7",
   "metadata": {},
   "outputs": [],
   "source": [
    "forest = RandomForestClassifier(n_estimators = 100, max_depth = 10)\n",
    "\n",
    "forest.fit(X_undersample, y_undersample)\n",
    "\n",
    "preds = forest.predict(X_test_new)"
   ]
  },
  {
   "cell_type": "code",
   "execution_count": 131,
   "id": "cb03db88-bafc-45c8-b413-e63344e32df7",
   "metadata": {},
   "outputs": [
    {
     "data": {
      "text/plain": [
       "0.620693999816949"
      ]
     },
     "execution_count": 163,
     "metadata": {},
     "output_type": "execute_result"
    }
   ],
   "source": [
    "f1_score(y_test,preds,average = None)"
   ]
  },
  {
   "cell_type": "markdown",
   "id": "b0c02faa-8f78-4945-9b98-c93474bac817",
   "metadata": {},
   "source": [
    "### Big interation"
   ]
  },
  {
   "cell_type": "code",
   "execution_count": null,
   "id": "db86400d-227e-4cbf-8212-8f052047af60",
   "metadata": {},
   "outputs": [],
   "source": [
    "RF = RandomForestClassifier()\n",
    "param_grid = { \n",
    "    'n_estimators': [90,100, 120],\n",
    "    'criterion' :['gini', 'entropy'],\n",
    "    'max_depth' : [10,15,20],\n",
    "    'min_samples_split' : [2,5,8],\n",
    "    'min_samples_leaf' : [1,2,3],\n",
    "    'class_weight' : ['balanced','balanced_subsample'],\n",
    "    'max_features': ['auto', 'sqrt', 'log2'],\n",
    "    'n_jobs' : [-1,1 ] \n",
    "}\n",
    "\n",
    "CV_rfc = GridSearchCV(estimator=RF, param_grid=param_grid, cv= 5,scoring='f1_macro')\n",
    "CV_rfc.fit(X_oversample, y_oversample)\n",
    "print(f\"The f1:{f1_score(y_test, CV_rfc.best_estimator_.predict(X_test_new), average='macro')}\")\n",
    "print(f\"CV_rfc.best_params_\" ,CV_rfc.best_params_)"
   ]
  },
  {
   "cell_type": "code",
   "execution_count": 135,
   "id": "566c3a56-fe14-404a-add2-fd8b6b7cf8cf",
   "metadata": {},
   "outputs": [
    {
     "data": {
      "text/plain": [
       "0.6141620411522406"
      ]
     },
     "execution_count": 139,
     "metadata": {},
     "output_type": "execute_result"
    }
   ],
   "source": [
    "rforest = RandomForestClassifier(class_weight = 'balanced', criterion = 'gini', max_depth = 10,\\\n",
    "                                  max_features = 'sqrt', min_samples_leaf = 2,\\\n",
    "                                  min_samples_split = 2, n_estimators = 90, n_jobs = 1)\n",
    "\n",
    "rforest.fit(X_oversample, y_oversample)\n",
    "\n",
    "preds = rforest.predict(X_test_new)\n",
    "\n",
    "f1_score(y_test,preds,average = 'macro')"
   ]
  },
  {
   "cell_type": "markdown",
   "id": "ef888a9c-b484-42ad-8a92-b6d8f4ab2630",
   "metadata": {},
   "source": [
    "### XGB Classifier"
   ]
  },
  {
   "cell_type": "code",
   "execution_count": 134,
   "id": "370ce074-801e-45bb-b728-13d905f8c40e",
   "metadata": {},
   "outputs": [
    {
     "name": "stderr",
     "output_type": "stream",
     "text": [
      "/home/gmatos/.pyenv/versions/3.8.6/envs/from_shelter_to_love/lib/python3.8/site-packages/xgboost/sklearn.py:1146: UserWarning: The use of label encoder in XGBClassifier is deprecated and will be removed in a future release. To remove this warning, do the following: 1) Pass option use_label_encoder=False when constructing XGBClassifier object; and 2) Encode your labels (y) as integers starting with 0, i.e. 0, 1, 2, ..., [num_class - 1].\n",
      "  warnings.warn(label_encoder_deprecation_msg, UserWarning)\n"
     ]
    },
    {
     "name": "stdout",
     "output_type": "stream",
     "text": [
      "[14:25:15] WARNING: ../src/learner.cc:1095: Starting in XGBoost 1.3.0, the default evaluation metric used with the objective 'binary:logistic' was changed from 'error' to 'logloss'. Explicitly set eval_metric if you'd like to restore the old behavior.\n",
      "The f1:0.6228879731653673\n"
     ]
    }
   ],
   "source": [
    "from xgboost import XGBClassifier\n",
    "\n",
    "xgb_model = XGBClassifier(\n",
    "    objective= 'binary:logistic',\n",
    "    learning_rate=0.1,\n",
    "    max_depth=5,\n",
    "    n_estimators= 180)\n",
    "\n",
    "xgb_model.fit(X_oversample, y_oversample,verbose=True)\n",
    "print(f\"The f1:{f1_score(y_test, xgb_model.predict(X_test_new), average='macro')}\")"
   ]
  },
  {
   "cell_type": "code",
   "execution_count": 123,
   "id": "290ba148-3068-4b8e-b791-5e3749d56891",
   "metadata": {},
   "outputs": [
    {
     "data": {
      "text/plain": [
       "<AxesSubplot:>"
      ]
     },
     "execution_count": 155,
     "metadata": {},
     "output_type": "execute_result"
    },
    {
     "data": {
      "image/png": "[encoded data removed]",
      "text/plain": [
       "<Figure size 432x288 with 1 Axes>"
      ]
     },
     "metadata": {
      "needs_background": "light"
     },
     "output_type": "display_data"
    }
   ],
   "source": [
    "df_dogs[\"target\"].value_counts().plot(kind='barh')"
   ]
  },
  {
   "cell_type": "code",
   "execution_count": 122,
   "id": "f9d59e9d-b1e3-4519-b561-cbef8ab178f5",
   "metadata": {},
   "outputs": [
    {
     "data": {
      "text/plain": [
       "<AxesSubplot:>"
      ]
     },
     "execution_count": 156,
     "metadata": {},
     "output_type": "execute_result"
    },
    {
     "data": {
      "image/png": "[encoded data removed]",
      "text/plain": [
       "<Figure size 432x288 with 1 Axes>"
      ]
     },
     "metadata": {
      "needs_background": "light"
     },
     "output_type": "display_data"
    }
   ],
   "source": [
    "y_oversample.value_counts().plot(kind='barh')"
   ]
  },
  {
   "cell_type": "code",
   "execution_count": 125,
   "id": "c4615113-39e1-4505-a921-7d0f5f165d22",
   "metadata": {},
   "outputs": [
    {
     "data": {
      "text/plain": [
       "<AxesSubplot:>"
      ]
     },
     "execution_count": 157,
     "metadata": {},
     "output_type": "execute_result"
    },
    {
     "data": {
      "image/png": "[encoded data removed]",
      "text/plain": [
       "<Figure size 432x288 with 1 Axes>"
      ]
     },
     "metadata": {
      "needs_background": "light"
     },
     "output_type": "display_data"
    }
   ],
   "source": [
    "y_undersample.value_counts().plot(kind='barh')"
   ]
  },
  {
   "cell_type": "code",
   "execution_count": null,
   "id": "344dacc9-ae71-4435-8c04-140a0dcab52b",
   "metadata": {},
   "outputs": [],
   "source": []
  }
 ],
 "metadata": {
  "kernelspec": {
   "display_name": "Python 3 (ipykernel)",
   "language": "python",
   "name": "python3"
  },
  "language_info": {
   "codemirror_mode": {
    "name": "ipython",
    "version": 3
   },
   "file_extension": ".py",
   "mimetype": "text/x-python",
   "name": "python",
   "nbconvert_exporter": "python",
   "pygments_lexer": "ipython3",
   "version": "3.8.6"
  }
 },
 "nbformat": 4,
 "nbformat_minor": 5
}
