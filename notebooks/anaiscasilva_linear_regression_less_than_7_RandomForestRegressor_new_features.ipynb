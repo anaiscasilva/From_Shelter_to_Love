{
 "cells": [
  {
   "cell_type": "code",
   "execution_count": 1,
   "id": "ae1cf7ab",
   "metadata": {},
   "outputs": [],
   "source": [
    "%load_ext autoreload\n",
    "%autoreload 2"
   ]
  },
  {
   "cell_type": "code",
   "execution_count": 2,
   "id": "801e2da3",
   "metadata": {},
   "outputs": [],
   "source": [
    "import pandas as pd\n",
    "import numpy as np"
   ]
  },
  {
   "cell_type": "code",
   "execution_count": 3,
   "id": "f404f208",
   "metadata": {},
   "outputs": [],
   "source": [
    "from sklearn.pipeline import Pipeline\n",
    "from sklearn.impute import SimpleImputer\n",
    "from sklearn.preprocessing import MinMaxScaler , FunctionTransformer,OneHotEncoder\n",
    "from sklearn.compose import make_column_selector,ColumnTransformer\n",
    "from sklearn.ensemble import RandomForestRegressor\n",
    "from sklearn.model_selection import GridSearchCV\n",
    "from sklearn.model_selection import ShuffleSplit"
   ]
  },
  {
   "cell_type": "markdown",
   "id": "8a17135b",
   "metadata": {},
   "source": [
    "## Load the data"
   ]
  },
  {
   "cell_type": "code",
   "execution_count": 4,
   "id": "edd761a1",
   "metadata": {},
   "outputs": [],
   "source": [
    "from From_Shelter_to_Love.data_provisoria_v2 import get_data"
   ]
  },
  {
   "cell_type": "code",
   "execution_count": 5,
   "id": "cd1614c2",
   "metadata": {},
   "outputs": [],
   "source": [
    "df_all_2 = get_data()"
   ]
  },
  {
   "cell_type": "markdown",
   "id": "42d226ed",
   "metadata": {},
   "source": [
    "## Drop the outcome features and the data with more than 60 days in shelter "
   ]
  },
  {
   "cell_type": "code",
   "execution_count": 60,
   "id": "8a4d5039",
   "metadata": {},
   "outputs": [],
   "source": [
    "df_2 = df_all_2.drop(columns =['Animal ID','age_upon_intake_years', 'age_upon_outcome_years', 'Outcome Type', 'age_upon_outcome_months', 'neutered_or_spayed_outcome', 'male_or_female_outcome', 'male_or_female_intake'], axis=1)\n",
    "df_less_60_2 = df_2[df_2['days_in_shelter'] > 7]"
   ]
  },
  {
   "cell_type": "code",
   "execution_count": 61,
   "id": "4cfa8ddd",
   "metadata": {},
   "outputs": [],
   "source": [
    "df_22 = df_2[df_2['Animal Type']=='Dog']"
   ]
  },
  {
   "cell_type": "code",
   "execution_count": 62,
   "id": "94915979",
   "metadata": {},
   "outputs": [
    {
     "data": {
      "text/html": [
       "<div>\n",
       "<style scoped>\n",
       "    .dataframe tbody tr th:only-of-type {\n",
       "        vertical-align: middle;\n",
       "    }\n",
       "\n",
       "    .dataframe tbody tr th {\n",
       "        vertical-align: top;\n",
       "    }\n",
       "\n",
       "    .dataframe thead th {\n",
       "        text-align: right;\n",
       "    }\n",
       "</style>\n",
       "<table border=\"1\" class=\"dataframe\">\n",
       "  <thead>\n",
       "    <tr style=\"text-align: right;\">\n",
       "      <th></th>\n",
       "      <th>Intake Type</th>\n",
       "      <th>Intake Condition</th>\n",
       "      <th>Animal Type</th>\n",
       "      <th>Breed</th>\n",
       "      <th>Date of Birth</th>\n",
       "      <th>days_in_shelter</th>\n",
       "      <th>age_upon_intake_number_months</th>\n",
       "      <th>age_upon_intake_months</th>\n",
       "      <th>neutered_or_spayed_intake</th>\n",
       "      <th>color</th>\n",
       "    </tr>\n",
       "  </thead>\n",
       "  <tbody>\n",
       "    <tr>\n",
       "      <th>10</th>\n",
       "      <td>Stray</td>\n",
       "      <td>Normal</td>\n",
       "      <td>Cat</td>\n",
       "      <td>Mixed</td>\n",
       "      <td>2000-01-21</td>\n",
       "      <td>15.0</td>\n",
       "      <td>178.583407</td>\n",
       "      <td>168</td>\n",
       "      <td>1</td>\n",
       "      <td>Bicolor</td>\n",
       "    </tr>\n",
       "    <tr>\n",
       "      <th>11</th>\n",
       "      <td>Owner Surrender</td>\n",
       "      <td>Normal</td>\n",
       "      <td>Dog</td>\n",
       "      <td>Mixed</td>\n",
       "      <td>1997-10-03</td>\n",
       "      <td>50.0</td>\n",
       "      <td>192.025549</td>\n",
       "      <td>192</td>\n",
       "      <td>1</td>\n",
       "      <td>Bicolor</td>\n",
       "    </tr>\n",
       "    <tr>\n",
       "      <th>13</th>\n",
       "      <td>Public Assist</td>\n",
       "      <td>Not-Normal</td>\n",
       "      <td>Dog</td>\n",
       "      <td>Pure</td>\n",
       "      <td>1999-06-01</td>\n",
       "      <td>10.0</td>\n",
       "      <td>207.955103</td>\n",
       "      <td>204</td>\n",
       "      <td>1</td>\n",
       "      <td>Bicolor</td>\n",
       "    </tr>\n",
       "    <tr>\n",
       "      <th>14</th>\n",
       "      <td>Stray</td>\n",
       "      <td>Normal</td>\n",
       "      <td>Dog</td>\n",
       "      <td>Mixed</td>\n",
       "      <td>2000-03-05</td>\n",
       "      <td>11.0</td>\n",
       "      <td>164.725217</td>\n",
       "      <td>156</td>\n",
       "      <td>0</td>\n",
       "      <td>Bicolor</td>\n",
       "    </tr>\n",
       "    <tr>\n",
       "      <th>19</th>\n",
       "      <td>Owner Surrender</td>\n",
       "      <td>Normal</td>\n",
       "      <td>Cat</td>\n",
       "      <td>Mixed</td>\n",
       "      <td>2000-05-01</td>\n",
       "      <td>10.0</td>\n",
       "      <td>216.266020</td>\n",
       "      <td>216</td>\n",
       "      <td>1</td>\n",
       "      <td>Tricolor</td>\n",
       "    </tr>\n",
       "  </tbody>\n",
       "</table>\n",
       "</div>"
      ],
      "text/plain": [
       "        Intake Type Intake Condition Animal Type  Breed Date of Birth  \\\n",
       "10            Stray           Normal         Cat  Mixed    2000-01-21   \n",
       "11  Owner Surrender           Normal         Dog  Mixed    1997-10-03   \n",
       "13    Public Assist       Not-Normal         Dog   Pure    1999-06-01   \n",
       "14            Stray           Normal         Dog  Mixed    2000-03-05   \n",
       "19  Owner Surrender           Normal         Cat  Mixed    2000-05-01   \n",
       "\n",
       "    days_in_shelter  age_upon_intake_number_months  age_upon_intake_months  \\\n",
       "10             15.0                     178.583407                     168   \n",
       "11             50.0                     192.025549                     192   \n",
       "13             10.0                     207.955103                     204   \n",
       "14             11.0                     164.725217                     156   \n",
       "19             10.0                     216.266020                     216   \n",
       "\n",
       "    neutered_or_spayed_intake     color  \n",
       "10                          1   Bicolor  \n",
       "11                          1   Bicolor  \n",
       "13                          1   Bicolor  \n",
       "14                          0   Bicolor  \n",
       "19                          1  Tricolor  "
      ]
     },
     "execution_count": 62,
     "metadata": {},
     "output_type": "execute_result"
    }
   ],
   "source": [
    "df_less_60_2.head(5)"
   ]
  },
  {
   "cell_type": "markdown",
   "id": "cd9433ae",
   "metadata": {},
   "source": [
    "## Baseline to less than 60 days in Shelter - RMSE"
   ]
  },
  {
   "cell_type": "code",
   "execution_count": 63,
   "id": "8a15ddec",
   "metadata": {},
   "outputs": [
    {
     "data": {
      "text/plain": [
       "58.28091490784098"
      ]
     },
     "execution_count": 63,
     "metadata": {},
     "output_type": "execute_result"
    }
   ],
   "source": [
    "y_pred_2 = df_less_60_2['days_in_shelter'].mean()\n",
    "#RMSE\n",
    "np.sqrt(np.mean((y_pred_2 - df_less_60_2['days_in_shelter'])**2))"
   ]
  },
  {
   "cell_type": "markdown",
   "id": "7b5e05c9",
   "metadata": {},
   "source": [
    "### Split the data"
   ]
  },
  {
   "cell_type": "code",
   "execution_count": 64,
   "id": "fffa20aa",
   "metadata": {},
   "outputs": [],
   "source": [
    "from sklearn.model_selection import train_test_split\n",
    "\n",
    "y = df_less_60_2[\"days_in_shelter\"]\n",
    "X = df_less_60_2.drop(columns = [\"days_in_shelter\"] , axis=1)\n",
    "\n",
    "X_train, X_test, y_train, y_test = train_test_split(X, y, test_size=0.3, random_state = 10)"
   ]
  },
  {
   "cell_type": "markdown",
   "id": "6b587ada",
   "metadata": {},
   "source": [
    "## Preprocessing "
   ]
  },
  {
   "cell_type": "code",
   "execution_count": 65,
   "id": "67f88b76",
   "metadata": {},
   "outputs": [
    {
     "data": {
      "text/plain": [
       "Intake Type                              object\n",
       "Intake Condition                         object\n",
       "Animal Type                              object\n",
       "Breed                                    object\n",
       "Date of Birth                    datetime64[ns]\n",
       "age_upon_intake_number_months           float64\n",
       "age_upon_intake_months                    int64\n",
       "neutered_or_spayed_intake                 int64\n",
       "color                                    object\n",
       "dtype: object"
      ]
     },
     "execution_count": 65,
     "metadata": {},
     "output_type": "execute_result"
    }
   ],
   "source": [
    "X_train.dtypes"
   ]
  },
  {
   "cell_type": "code",
   "execution_count": 66,
   "id": "f0fe6ced",
   "metadata": {},
   "outputs": [],
   "source": [
    "# Impute then Scale for numerical variables\n",
    "num_transformer = Pipeline([\n",
    "    ('imputer', SimpleImputer()),\n",
    "    ('scaler', MinMaxScaler())])\n",
    "\n",
    "# Encode categorical varibles \n",
    "cat_transformer = Pipeline([('onehot', OneHotEncoder(handle_unknown='ignore',sparse=False))])\n",
    "\n",
    "cat_bi_transformer = OneHotEncoder(drop='if_binary', sparse = False)\n",
    "\n",
    "\n",
    "# Apply transformations to desired features\n",
    "preprocessor = ColumnTransformer([\n",
    "    ('num_transformer', num_transformer, ['age_upon_intake_months', 'neutered_or_spayed_intake']),\n",
    "    ('cat_bi_transformer', cat_bi_transformer, ['Animal Type', 'Breed']),\n",
    "    ('cat_transformer', cat_transformer, ['color', 'Intake Condition', 'Intake Type'])])\n"
   ]
  },
  {
   "cell_type": "code",
   "execution_count": 67,
   "id": "ea499bcb",
   "metadata": {},
   "outputs": [],
   "source": [
    "X_train_transf = preprocessor.fit_transform(X_train)"
   ]
  },
  {
   "cell_type": "markdown",
   "id": "b1501021",
   "metadata": {},
   "source": [
    "## X_train_transf to a dataframe with the columns names "
   ]
  },
  {
   "cell_type": "code",
   "execution_count": 68,
   "id": "75bbe7f8",
   "metadata": {},
   "outputs": [],
   "source": [
    "cat_names = preprocessor.transformers_[2][1].steps[0][1].get_feature_names(['color', 'Intake Condition', 'Intake Type'])"
   ]
  },
  {
   "cell_type": "code",
   "execution_count": 69,
   "id": "2a16fe67",
   "metadata": {},
   "outputs": [
    {
     "data": {
      "text/plain": [
       "array(['color_Bicolor', 'color_Dark', 'color_Light', 'color_Tricolor',\n",
       "       'Intake Condition_Normal', 'Intake Condition_Not-Normal',\n",
       "       'Intake Type_Abandoned', 'Intake Type_Euthanasia Request',\n",
       "       'Intake Type_Owner Surrender', 'Intake Type_Public Assist',\n",
       "       'Intake Type_Stray'], dtype=object)"
      ]
     },
     "execution_count": 69,
     "metadata": {},
     "output_type": "execute_result"
    }
   ],
   "source": [
    "cat_names"
   ]
  },
  {
   "cell_type": "code",
   "execution_count": 70,
   "id": "35c330ad",
   "metadata": {},
   "outputs": [],
   "source": [
    "columns = ['age_upon_intake_months', 'neutered_or_spayed_intake', \n",
    "           'Animal Type', 'Breed', 'color_Bicolor', 'color_Dark', 'color_Light', 'color_Tricolor',\n",
    "       'Intake Condition_Normal', 'Intake Condition_Not-Normal',\n",
    "       'Intake Type_Abandoned', 'Intake Type_Euthanasia Request',\n",
    "       'Intake Type_Owner Surrender', 'Intake Type_Public Assist',\n",
    "       'Intake Type_Stray']\n",
    "df_X_train_transf = pd.DataFrame(X_train_transf, columns = columns)"
   ]
  },
  {
   "cell_type": "code",
   "execution_count": 71,
   "id": "7cb1fdfc",
   "metadata": {},
   "outputs": [
    {
     "data": {
      "text/html": [
       "<div>\n",
       "<style scoped>\n",
       "    .dataframe tbody tr th:only-of-type {\n",
       "        vertical-align: middle;\n",
       "    }\n",
       "\n",
       "    .dataframe tbody tr th {\n",
       "        vertical-align: top;\n",
       "    }\n",
       "\n",
       "    .dataframe thead th {\n",
       "        text-align: right;\n",
       "    }\n",
       "</style>\n",
       "<table border=\"1\" class=\"dataframe\">\n",
       "  <thead>\n",
       "    <tr style=\"text-align: right;\">\n",
       "      <th></th>\n",
       "      <th>age_upon_intake_months</th>\n",
       "      <th>neutered_or_spayed_intake</th>\n",
       "      <th>Animal Type</th>\n",
       "      <th>Breed</th>\n",
       "      <th>color_Bicolor</th>\n",
       "      <th>color_Dark</th>\n",
       "      <th>color_Light</th>\n",
       "      <th>color_Tricolor</th>\n",
       "      <th>Intake Condition_Normal</th>\n",
       "      <th>Intake Condition_Not-Normal</th>\n",
       "      <th>Intake Type_Abandoned</th>\n",
       "      <th>Intake Type_Euthanasia Request</th>\n",
       "      <th>Intake Type_Owner Surrender</th>\n",
       "      <th>Intake Type_Public Assist</th>\n",
       "      <th>Intake Type_Stray</th>\n",
       "    </tr>\n",
       "  </thead>\n",
       "  <tbody>\n",
       "    <tr>\n",
       "      <th>0</th>\n",
       "      <td>0.263158</td>\n",
       "      <td>1.0</td>\n",
       "      <td>1.0</td>\n",
       "      <td>0.0</td>\n",
       "      <td>1.0</td>\n",
       "      <td>0.0</td>\n",
       "      <td>0.0</td>\n",
       "      <td>0.0</td>\n",
       "      <td>1.0</td>\n",
       "      <td>0.0</td>\n",
       "      <td>0.0</td>\n",
       "      <td>0.0</td>\n",
       "      <td>0.0</td>\n",
       "      <td>1.0</td>\n",
       "      <td>0.0</td>\n",
       "    </tr>\n",
       "    <tr>\n",
       "      <th>1</th>\n",
       "      <td>0.008772</td>\n",
       "      <td>0.0</td>\n",
       "      <td>0.0</td>\n",
       "      <td>0.0</td>\n",
       "      <td>0.0</td>\n",
       "      <td>1.0</td>\n",
       "      <td>0.0</td>\n",
       "      <td>0.0</td>\n",
       "      <td>1.0</td>\n",
       "      <td>0.0</td>\n",
       "      <td>0.0</td>\n",
       "      <td>0.0</td>\n",
       "      <td>0.0</td>\n",
       "      <td>0.0</td>\n",
       "      <td>1.0</td>\n",
       "    </tr>\n",
       "    <tr>\n",
       "      <th>2</th>\n",
       "      <td>0.004386</td>\n",
       "      <td>0.0</td>\n",
       "      <td>0.0</td>\n",
       "      <td>0.0</td>\n",
       "      <td>0.0</td>\n",
       "      <td>0.0</td>\n",
       "      <td>0.0</td>\n",
       "      <td>1.0</td>\n",
       "      <td>1.0</td>\n",
       "      <td>0.0</td>\n",
       "      <td>0.0</td>\n",
       "      <td>0.0</td>\n",
       "      <td>0.0</td>\n",
       "      <td>0.0</td>\n",
       "      <td>1.0</td>\n",
       "    </tr>\n",
       "    <tr>\n",
       "      <th>3</th>\n",
       "      <td>0.052632</td>\n",
       "      <td>0.0</td>\n",
       "      <td>1.0</td>\n",
       "      <td>0.0</td>\n",
       "      <td>1.0</td>\n",
       "      <td>0.0</td>\n",
       "      <td>0.0</td>\n",
       "      <td>0.0</td>\n",
       "      <td>1.0</td>\n",
       "      <td>0.0</td>\n",
       "      <td>0.0</td>\n",
       "      <td>0.0</td>\n",
       "      <td>0.0</td>\n",
       "      <td>0.0</td>\n",
       "      <td>1.0</td>\n",
       "    </tr>\n",
       "    <tr>\n",
       "      <th>4</th>\n",
       "      <td>0.052632</td>\n",
       "      <td>0.0</td>\n",
       "      <td>1.0</td>\n",
       "      <td>0.0</td>\n",
       "      <td>1.0</td>\n",
       "      <td>0.0</td>\n",
       "      <td>0.0</td>\n",
       "      <td>0.0</td>\n",
       "      <td>1.0</td>\n",
       "      <td>0.0</td>\n",
       "      <td>0.0</td>\n",
       "      <td>0.0</td>\n",
       "      <td>0.0</td>\n",
       "      <td>0.0</td>\n",
       "      <td>1.0</td>\n",
       "    </tr>\n",
       "    <tr>\n",
       "      <th>...</th>\n",
       "      <td>...</td>\n",
       "      <td>...</td>\n",
       "      <td>...</td>\n",
       "      <td>...</td>\n",
       "      <td>...</td>\n",
       "      <td>...</td>\n",
       "      <td>...</td>\n",
       "      <td>...</td>\n",
       "      <td>...</td>\n",
       "      <td>...</td>\n",
       "      <td>...</td>\n",
       "      <td>...</td>\n",
       "      <td>...</td>\n",
       "      <td>...</td>\n",
       "      <td>...</td>\n",
       "    </tr>\n",
       "    <tr>\n",
       "      <th>31094</th>\n",
       "      <td>0.526316</td>\n",
       "      <td>1.0</td>\n",
       "      <td>0.0</td>\n",
       "      <td>0.0</td>\n",
       "      <td>0.0</td>\n",
       "      <td>1.0</td>\n",
       "      <td>0.0</td>\n",
       "      <td>0.0</td>\n",
       "      <td>1.0</td>\n",
       "      <td>0.0</td>\n",
       "      <td>0.0</td>\n",
       "      <td>0.0</td>\n",
       "      <td>1.0</td>\n",
       "      <td>0.0</td>\n",
       "      <td>0.0</td>\n",
       "    </tr>\n",
       "    <tr>\n",
       "      <th>31095</th>\n",
       "      <td>0.157895</td>\n",
       "      <td>0.0</td>\n",
       "      <td>1.0</td>\n",
       "      <td>0.0</td>\n",
       "      <td>1.0</td>\n",
       "      <td>0.0</td>\n",
       "      <td>0.0</td>\n",
       "      <td>0.0</td>\n",
       "      <td>1.0</td>\n",
       "      <td>0.0</td>\n",
       "      <td>0.0</td>\n",
       "      <td>0.0</td>\n",
       "      <td>0.0</td>\n",
       "      <td>0.0</td>\n",
       "      <td>1.0</td>\n",
       "    </tr>\n",
       "    <tr>\n",
       "      <th>31096</th>\n",
       "      <td>0.004386</td>\n",
       "      <td>0.0</td>\n",
       "      <td>0.0</td>\n",
       "      <td>0.0</td>\n",
       "      <td>1.0</td>\n",
       "      <td>0.0</td>\n",
       "      <td>0.0</td>\n",
       "      <td>0.0</td>\n",
       "      <td>1.0</td>\n",
       "      <td>0.0</td>\n",
       "      <td>0.0</td>\n",
       "      <td>0.0</td>\n",
       "      <td>1.0</td>\n",
       "      <td>0.0</td>\n",
       "      <td>0.0</td>\n",
       "    </tr>\n",
       "    <tr>\n",
       "      <th>31097</th>\n",
       "      <td>0.052632</td>\n",
       "      <td>0.0</td>\n",
       "      <td>1.0</td>\n",
       "      <td>0.0</td>\n",
       "      <td>1.0</td>\n",
       "      <td>0.0</td>\n",
       "      <td>0.0</td>\n",
       "      <td>0.0</td>\n",
       "      <td>1.0</td>\n",
       "      <td>0.0</td>\n",
       "      <td>0.0</td>\n",
       "      <td>0.0</td>\n",
       "      <td>0.0</td>\n",
       "      <td>0.0</td>\n",
       "      <td>1.0</td>\n",
       "    </tr>\n",
       "    <tr>\n",
       "      <th>31098</th>\n",
       "      <td>0.052632</td>\n",
       "      <td>1.0</td>\n",
       "      <td>1.0</td>\n",
       "      <td>0.0</td>\n",
       "      <td>1.0</td>\n",
       "      <td>0.0</td>\n",
       "      <td>0.0</td>\n",
       "      <td>0.0</td>\n",
       "      <td>1.0</td>\n",
       "      <td>0.0</td>\n",
       "      <td>0.0</td>\n",
       "      <td>0.0</td>\n",
       "      <td>1.0</td>\n",
       "      <td>0.0</td>\n",
       "      <td>0.0</td>\n",
       "    </tr>\n",
       "  </tbody>\n",
       "</table>\n",
       "<p>31099 rows × 15 columns</p>\n",
       "</div>"
      ],
      "text/plain": [
       "       age_upon_intake_months  neutered_or_spayed_intake  Animal Type  Breed  \\\n",
       "0                    0.263158                        1.0          1.0    0.0   \n",
       "1                    0.008772                        0.0          0.0    0.0   \n",
       "2                    0.004386                        0.0          0.0    0.0   \n",
       "3                    0.052632                        0.0          1.0    0.0   \n",
       "4                    0.052632                        0.0          1.0    0.0   \n",
       "...                       ...                        ...          ...    ...   \n",
       "31094                0.526316                        1.0          0.0    0.0   \n",
       "31095                0.157895                        0.0          1.0    0.0   \n",
       "31096                0.004386                        0.0          0.0    0.0   \n",
       "31097                0.052632                        0.0          1.0    0.0   \n",
       "31098                0.052632                        1.0          1.0    0.0   \n",
       "\n",
       "       color_Bicolor  color_Dark  color_Light  color_Tricolor  \\\n",
       "0                1.0         0.0          0.0             0.0   \n",
       "1                0.0         1.0          0.0             0.0   \n",
       "2                0.0         0.0          0.0             1.0   \n",
       "3                1.0         0.0          0.0             0.0   \n",
       "4                1.0         0.0          0.0             0.0   \n",
       "...              ...         ...          ...             ...   \n",
       "31094            0.0         1.0          0.0             0.0   \n",
       "31095            1.0         0.0          0.0             0.0   \n",
       "31096            1.0         0.0          0.0             0.0   \n",
       "31097            1.0         0.0          0.0             0.0   \n",
       "31098            1.0         0.0          0.0             0.0   \n",
       "\n",
       "       Intake Condition_Normal  Intake Condition_Not-Normal  \\\n",
       "0                          1.0                          0.0   \n",
       "1                          1.0                          0.0   \n",
       "2                          1.0                          0.0   \n",
       "3                          1.0                          0.0   \n",
       "4                          1.0                          0.0   \n",
       "...                        ...                          ...   \n",
       "31094                      1.0                          0.0   \n",
       "31095                      1.0                          0.0   \n",
       "31096                      1.0                          0.0   \n",
       "31097                      1.0                          0.0   \n",
       "31098                      1.0                          0.0   \n",
       "\n",
       "       Intake Type_Abandoned  Intake Type_Euthanasia Request  \\\n",
       "0                        0.0                             0.0   \n",
       "1                        0.0                             0.0   \n",
       "2                        0.0                             0.0   \n",
       "3                        0.0                             0.0   \n",
       "4                        0.0                             0.0   \n",
       "...                      ...                             ...   \n",
       "31094                    0.0                             0.0   \n",
       "31095                    0.0                             0.0   \n",
       "31096                    0.0                             0.0   \n",
       "31097                    0.0                             0.0   \n",
       "31098                    0.0                             0.0   \n",
       "\n",
       "       Intake Type_Owner Surrender  Intake Type_Public Assist  \\\n",
       "0                              0.0                        1.0   \n",
       "1                              0.0                        0.0   \n",
       "2                              0.0                        0.0   \n",
       "3                              0.0                        0.0   \n",
       "4                              0.0                        0.0   \n",
       "...                            ...                        ...   \n",
       "31094                          1.0                        0.0   \n",
       "31095                          0.0                        0.0   \n",
       "31096                          1.0                        0.0   \n",
       "31097                          0.0                        0.0   \n",
       "31098                          1.0                        0.0   \n",
       "\n",
       "       Intake Type_Stray  \n",
       "0                    0.0  \n",
       "1                    1.0  \n",
       "2                    1.0  \n",
       "3                    1.0  \n",
       "4                    1.0  \n",
       "...                  ...  \n",
       "31094                0.0  \n",
       "31095                1.0  \n",
       "31096                0.0  \n",
       "31097                1.0  \n",
       "31098                0.0  \n",
       "\n",
       "[31099 rows x 15 columns]"
      ]
     },
     "execution_count": 71,
     "metadata": {},
     "output_type": "execute_result"
    }
   ],
   "source": [
    "df_X_train_transf"
   ]
  },
  {
   "cell_type": "code",
   "execution_count": 72,
   "id": "a615702a",
   "metadata": {},
   "outputs": [
    {
     "data": {
      "text/plain": [
       "Intake Type                              object\n",
       "Intake Condition                         object\n",
       "Animal Type                              object\n",
       "Breed                                    object\n",
       "Date of Birth                    datetime64[ns]\n",
       "age_upon_intake_number_months           float64\n",
       "age_upon_intake_months                    int64\n",
       "neutered_or_spayed_intake                 int64\n",
       "color                                    object\n",
       "dtype: object"
      ]
     },
     "execution_count": 72,
     "metadata": {},
     "output_type": "execute_result"
    }
   ],
   "source": [
    "X_train.dtypes"
   ]
  },
  {
   "cell_type": "markdown",
   "id": "4a8ebd0e",
   "metadata": {},
   "source": [
    "## GridSearch"
   ]
  },
  {
   "cell_type": "code",
   "execution_count": 20,
   "id": "53f31ee3",
   "metadata": {},
   "outputs": [
    {
     "name": "stdout",
     "output_type": "stream",
     "text": [
      "{'max_depth': 10}\n",
      "-2.7889375329814436\n"
     ]
    }
   ],
   "source": [
    "model = RandomForestRegressor(max_samples=2000)\n",
    "\n",
    "# Hyperparameter Grid\n",
    "grid = {'max_depth': [10, 20]}\n",
    "\n",
    "# Instanciate Grid Search\n",
    "search = GridSearchCV(model, grid, \n",
    "                           scoring='neg_mean_squared_error',\n",
    "                           cv = 5) \n",
    "search.fit(X_train_transf,y_train)\n",
    "print(search.best_params_)\n",
    "print(search.best_score_)"
   ]
  },
  {
   "cell_type": "code",
   "execution_count": null,
   "id": "c6ce46af",
   "metadata": {},
   "outputs": [],
   "source": [
    "import numpy as np\n",
    "np.sqrt(-2.7889)"
   ]
  },
  {
   "cell_type": "markdown",
   "id": "554366f3",
   "metadata": {},
   "source": [
    "## Cross validate RandomForestRegressor"
   ]
  },
  {
   "cell_type": "code",
   "execution_count": 77,
   "id": "40633971",
   "metadata": {},
   "outputs": [],
   "source": [
    "from sklearn.metrics import mean_squared_error\n",
    "from sklearn.metrics import make_scorer\n",
    "\n",
    "def rmse(y_true, y_pred):\n",
    "    return np.sqrt(mean_squared_error(y_true, y_pred))\n",
    "\n",
    "def rmse_neg(y_true, y_pred):\n",
    "    return 0 - np.sqrt(mean_squared_error(y_true, y_pred))\n",
    " \n",
    "rmse_s = make_scorer(rmse)\n",
    "rmse_neg_s = make_scorer(rmse_neg)"
   ]
  },
  {
   "cell_type": "code",
   "execution_count": 75,
   "id": "abdf1198",
   "metadata": {},
   "outputs": [],
   "source": [
    "model = RandomForestRegressor(max_depth=10)"
   ]
  },
  {
   "cell_type": "code",
   "execution_count": 78,
   "id": "5febc01e",
   "metadata": {},
   "outputs": [
    {
     "data": {
      "text/plain": [
       "56.66239037016497"
      ]
     },
     "execution_count": 78,
     "metadata": {},
     "output_type": "execute_result"
    }
   ],
   "source": [
    "from sklearn.model_selection import cross_validate, cross_val_score\n",
    "\n",
    "# Cross validate pipeline\n",
    "#cross_val_score(model, X_train_transf, y_train, cv=5, scoring='neg_mean_squared_error').mean()\n",
    "Cv = cross_validate(model, X_train_transf, y_train, cv=5, scoring={'rmse_neg': rmse_neg_s, 'rmse': rmse_s})\n",
    "Cv['test_rmse'].mean() "
   ]
  },
  {
   "cell_type": "code",
   "execution_count": 79,
   "id": "770bb9a3",
   "metadata": {},
   "outputs": [
    {
     "data": {
      "text/plain": [
       "61.39345577798158"
      ]
     },
     "execution_count": 79,
     "metadata": {},
     "output_type": "execute_result"
    }
   ],
   "source": [
    "X_test_transf = preprocessor.fit_transform(X_test)\n",
    "model.fit(X_train_transf, y_train)\n",
    "y_pred = model.predict(X_test_transf)\n",
    "y_true = y_test\n",
    "rmse(y_true, y_pred)"
   ]
  },
  {
   "cell_type": "markdown",
   "id": "e43f441d",
   "metadata": {},
   "source": [
    "## Test importance of features "
   ]
  },
  {
   "cell_type": "code",
   "execution_count": 80,
   "id": "7687db51",
   "metadata": {},
   "outputs": [],
   "source": [
    "feature_names = [i for i in df_X_train_transf.columns]\n",
    "\n",
    "train_X, val_X, train_y, val_y = train_test_split(df_X_train_transf, y_train, random_state=1)\n",
    "\n",
    "my_model = RandomForestRegressor(max_depth=20).fit(df_X_train_transf, y_train)\n",
    "\n",
    "from sklearn.inspection import permutation_importance\n",
    "\n",
    "perm = permutation_importance(my_model,val_X, val_y,n_repeats=30, random_state=1)\n",
    " "
   ]
  },
  {
   "cell_type": "code",
   "execution_count": 81,
   "id": "de04f497",
   "metadata": {},
   "outputs": [
    {
     "data": {
      "text/html": [
       "<div>\n",
       "<style scoped>\n",
       "    .dataframe tbody tr th:only-of-type {\n",
       "        vertical-align: middle;\n",
       "    }\n",
       "\n",
       "    .dataframe tbody tr th {\n",
       "        vertical-align: top;\n",
       "    }\n",
       "\n",
       "    .dataframe thead th {\n",
       "        text-align: right;\n",
       "    }\n",
       "</style>\n",
       "<table border=\"1\" class=\"dataframe\">\n",
       "  <thead>\n",
       "    <tr style=\"text-align: right;\">\n",
       "      <th></th>\n",
       "      <th>feature</th>\n",
       "      <th>score decrease</th>\n",
       "    </tr>\n",
       "  </thead>\n",
       "  <tbody>\n",
       "    <tr>\n",
       "      <th>11</th>\n",
       "      <td>Intake Type_Euthanasia Request</td>\n",
       "      <td>1.856440732236342e-05</td>\n",
       "    </tr>\n",
       "    <tr>\n",
       "      <th>0</th>\n",
       "      <td>age_upon_intake_months</td>\n",
       "      <td>0.2879551867922462</td>\n",
       "    </tr>\n",
       "    <tr>\n",
       "      <th>1</th>\n",
       "      <td>neutered_or_spayed_intake</td>\n",
       "      <td>0.16288980752264492</td>\n",
       "    </tr>\n",
       "    <tr>\n",
       "      <th>2</th>\n",
       "      <td>Animal Type</td>\n",
       "      <td>0.08182476886646138</td>\n",
       "    </tr>\n",
       "    <tr>\n",
       "      <th>13</th>\n",
       "      <td>Intake Type_Public Assist</td>\n",
       "      <td>0.042039819996373747</td>\n",
       "    </tr>\n",
       "    <tr>\n",
       "      <th>5</th>\n",
       "      <td>color_Dark</td>\n",
       "      <td>0.02947890976230857</td>\n",
       "    </tr>\n",
       "    <tr>\n",
       "      <th>12</th>\n",
       "      <td>Intake Type_Owner Surrender</td>\n",
       "      <td>0.02924179322383905</td>\n",
       "    </tr>\n",
       "    <tr>\n",
       "      <th>8</th>\n",
       "      <td>Intake Condition_Normal</td>\n",
       "      <td>0.026307326531574034</td>\n",
       "    </tr>\n",
       "    <tr>\n",
       "      <th>9</th>\n",
       "      <td>Intake Condition_Not-Normal</td>\n",
       "      <td>0.024599565453485954</td>\n",
       "    </tr>\n",
       "    <tr>\n",
       "      <th>3</th>\n",
       "      <td>Breed</td>\n",
       "      <td>0.021463985644944217</td>\n",
       "    </tr>\n",
       "    <tr>\n",
       "      <th>7</th>\n",
       "      <td>color_Tricolor</td>\n",
       "      <td>0.015936406744864413</td>\n",
       "    </tr>\n",
       "    <tr>\n",
       "      <th>4</th>\n",
       "      <td>color_Bicolor</td>\n",
       "      <td>0.014394907518870074</td>\n",
       "    </tr>\n",
       "    <tr>\n",
       "      <th>14</th>\n",
       "      <td>Intake Type_Stray</td>\n",
       "      <td>0.011612066998781796</td>\n",
       "    </tr>\n",
       "    <tr>\n",
       "      <th>6</th>\n",
       "      <td>color_Light</td>\n",
       "      <td>0.007795029153611436</td>\n",
       "    </tr>\n",
       "    <tr>\n",
       "      <th>10</th>\n",
       "      <td>Intake Type_Abandoned</td>\n",
       "      <td>0.0005284944994789228</td>\n",
       "    </tr>\n",
       "  </tbody>\n",
       "</table>\n",
       "</div>"
      ],
      "text/plain": [
       "                           feature         score decrease\n",
       "11  Intake Type_Euthanasia Request  1.856440732236342e-05\n",
       "0           age_upon_intake_months     0.2879551867922462\n",
       "1        neutered_or_spayed_intake    0.16288980752264492\n",
       "2                      Animal Type    0.08182476886646138\n",
       "13       Intake Type_Public Assist   0.042039819996373747\n",
       "5                       color_Dark    0.02947890976230857\n",
       "12     Intake Type_Owner Surrender    0.02924179322383905\n",
       "8          Intake Condition_Normal   0.026307326531574034\n",
       "9      Intake Condition_Not-Normal   0.024599565453485954\n",
       "3                            Breed   0.021463985644944217\n",
       "7                   color_Tricolor   0.015936406744864413\n",
       "4                    color_Bicolor   0.014394907518870074\n",
       "14               Intake Type_Stray   0.011612066998781796\n",
       "6                      color_Light   0.007795029153611436\n",
       "10           Intake Type_Abandoned  0.0005284944994789228"
      ]
     },
     "execution_count": 81,
     "metadata": {},
     "output_type": "execute_result"
    }
   ],
   "source": [
    "importance_df = pd.DataFrame(np.vstack((feature_names,\n",
    "                                        perm.importances_mean)).T) # Unstack results\n",
    "importance_df.columns=['feature','score decrease']\n",
    "\n",
    "importance_df.sort_values(by=\"score decrease\", ascending = False) # Order by importance"
   ]
  },
  {
   "cell_type": "markdown",
   "id": "88e6228d",
   "metadata": {},
   "source": [
    "# Regression model is not better than a simple mean!!!!"
   ]
  },
  {
   "cell_type": "code",
   "execution_count": null,
   "id": "20e0520c",
   "metadata": {},
   "outputs": [],
   "source": []
  },
  {
   "cell_type": "code",
   "execution_count": null,
   "id": "e7d3072d",
   "metadata": {},
   "outputs": [],
   "source": []
  },
  {
   "cell_type": "code",
   "execution_count": null,
   "id": "cece06e4",
   "metadata": {},
   "outputs": [],
   "source": []
  }
 ],
 "metadata": {
  "kernelspec": {
   "display_name": "Python 3 (ipykernel)",
   "language": "python",
   "name": "python3"
  },
  "language_info": {
   "codemirror_mode": {
    "name": "ipython",
    "version": 3
   },
   "file_extension": ".py",
   "mimetype": "text/x-python",
   "name": "python",
   "nbconvert_exporter": "python",
   "pygments_lexer": "ipython3",
   "version": "3.8.6"
  },
  "toc": {
   "base_numbering": 1,
   "nav_menu": {},
   "number_sections": true,
   "sideBar": true,
   "skip_h1_title": false,
   "title_cell": "Table of Contents",
   "title_sidebar": "Contents",
   "toc_cell": false,
   "toc_position": {},
   "toc_section_display": true,
   "toc_window_display": false
  }
 },
 "nbformat": 4,
 "nbformat_minor": 5
}
