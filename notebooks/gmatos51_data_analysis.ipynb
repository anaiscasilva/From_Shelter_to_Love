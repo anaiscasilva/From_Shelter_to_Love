{
 "cells": [
  {
   "cell_type": "markdown",
   "id": "d47171de-672d-46b1-a959-d710dfc8c021",
   "metadata": {
    "tags": []
   },
   "source": [
    "# Animal Shelter EDA"
   ]
  },
  {
   "cell_type": "code",
   "execution_count": 102,
   "id": "0340df31-9a3d-4a13-9234-0dc074caced8",
   "metadata": {},
   "outputs": [],
   "source": [
    "import pandas as pd\n",
    "import numpy as np\n",
    "import matplotlib.pyplot as plt\n",
    "import seaborn as sns\n",
    "import re"
   ]
  },
  {
   "cell_type": "markdown",
   "id": "1852fccd-4c0d-46f3-891c-9fd109411897",
   "metadata": {
    "tags": []
   },
   "source": [
    "## Reading the CSVs"
   ]
  },
  {
   "cell_type": "code",
   "execution_count": null,
   "id": "9711bbf0-8cd3-4d27-a0d3-2069aeb93ada",
   "metadata": {
    "tags": []
   },
   "outputs": [],
   "source": [
    "df_intakes = pd.read_csv('../raw_data/Austin_Animal_Center_Intakes.csv', parse_dates=['DateTime'])\n",
    "df_outcomes = pd.read_csv('../raw_data/Austin_Animal_Center_Outcomes.csv', parse_dates=['DateTime'])\n",
    "df_straymap = pd.read_csv('../raw_data/Austin_Animal_Center_Stray_Map.csv')"
   ]
  },
  {
   "cell_type": "markdown",
   "id": "075b71aa-ac72-4fc2-b85a-3568b1d3bfe3",
   "metadata": {
    "tags": []
   },
   "source": [
    "#### Table sizes"
   ]
  },
  {
   "cell_type": "code",
   "execution_count": null,
   "id": "9390170e-956c-454c-8881-e204fcb42a47",
   "metadata": {
    "tags": []
   },
   "outputs": [
    {
     "name": "stdout",
     "output_type": "stream",
     "text": [
      "(124120, 12)\n",
      "(124491, 12)\n",
      "(16, 10)\n"
     ]
    }
   ],
   "source": [
    "print(df_intakes.shape)\n",
    "print(df_outcomes.shape)\n",
    "print(df_straymap.shape)"
   ]
  },
  {
   "cell_type": "markdown",
   "id": "8e836169-ea61-4742-abee-c57880330fd8",
   "metadata": {},
   "source": [
    "<b>Straymap only have 16 rows so we will not use this table.</b>"
   ]
  },
  {
   "cell_type": "markdown",
   "id": "f0905398-b304-4588-b4cd-90f8e729d29c",
   "metadata": {},
   "source": [
    "## Merging Intakes and Outcomes   \n",
    "\n",
    "Merging the Intakes dataset with the Outcomes dataset."
   ]
  },
  {
   "cell_type": "code",
   "execution_count": null,
   "id": "d0bfffc8-6b0b-4070-9b58-ca179305a87b",
   "metadata": {},
   "outputs": [
    {
     "data": {
      "text/html": [
       "<div>\n",
       "<style scoped>\n",
       "    .dataframe tbody tr th:only-of-type {\n",
       "        vertical-align: middle;\n",
       "    }\n",
       "\n",
       "    .dataframe tbody tr th {\n",
       "        vertical-align: top;\n",
       "    }\n",
       "\n",
       "    .dataframe thead th {\n",
       "        text-align: right;\n",
       "    }\n",
       "</style>\n",
       "<table border=\"1\" class=\"dataframe\">\n",
       "  <thead>\n",
       "    <tr style=\"text-align: right;\">\n",
       "      <th></th>\n",
       "      <th>Animal ID</th>\n",
       "      <th>Name</th>\n",
       "      <th>DateTime</th>\n",
       "      <th>MonthYear</th>\n",
       "      <th>Found Location</th>\n",
       "      <th>Intake Type</th>\n",
       "      <th>Intake Condition</th>\n",
       "      <th>Animal Type</th>\n",
       "      <th>Sex upon Intake</th>\n",
       "      <th>Age upon Intake</th>\n",
       "      <th>Breed</th>\n",
       "      <th>Color</th>\n",
       "    </tr>\n",
       "  </thead>\n",
       "  <tbody>\n",
       "    <tr>\n",
       "      <th>0</th>\n",
       "      <td>A786884</td>\n",
       "      <td>*Brock</td>\n",
       "      <td>2019-01-03 16:19:00</td>\n",
       "      <td>01/03/2019 04:19:00 PM</td>\n",
       "      <td>2501 Magin Meadow Dr in Austin (TX)</td>\n",
       "      <td>Stray</td>\n",
       "      <td>Normal</td>\n",
       "      <td>Dog</td>\n",
       "      <td>Neutered Male</td>\n",
       "      <td>2 years</td>\n",
       "      <td>Beagle Mix</td>\n",
       "      <td>Tricolor</td>\n",
       "    </tr>\n",
       "    <tr>\n",
       "      <th>1</th>\n",
       "      <td>A706918</td>\n",
       "      <td>Belle</td>\n",
       "      <td>2015-07-05 12:59:00</td>\n",
       "      <td>07/05/2015 12:59:00 PM</td>\n",
       "      <td>9409 Bluegrass Dr in Austin (TX)</td>\n",
       "      <td>Stray</td>\n",
       "      <td>Normal</td>\n",
       "      <td>Dog</td>\n",
       "      <td>Spayed Female</td>\n",
       "      <td>8 years</td>\n",
       "      <td>English Springer Spaniel</td>\n",
       "      <td>White/Liver</td>\n",
       "    </tr>\n",
       "  </tbody>\n",
       "</table>\n",
       "</div>"
      ],
      "text/plain": [
       "  Animal ID    Name            DateTime               MonthYear  \\\n",
       "0   A786884  *Brock 2019-01-03 16:19:00  01/03/2019 04:19:00 PM   \n",
       "1   A706918   Belle 2015-07-05 12:59:00  07/05/2015 12:59:00 PM   \n",
       "\n",
       "                        Found Location Intake Type Intake Condition  \\\n",
       "0  2501 Magin Meadow Dr in Austin (TX)       Stray           Normal   \n",
       "1     9409 Bluegrass Dr in Austin (TX)       Stray           Normal   \n",
       "\n",
       "  Animal Type Sex upon Intake Age upon Intake                     Breed  \\\n",
       "0         Dog   Neutered Male         2 years                Beagle Mix   \n",
       "1         Dog   Spayed Female         8 years  English Springer Spaniel   \n",
       "\n",
       "         Color  \n",
       "0     Tricolor  \n",
       "1  White/Liver  "
      ]
     },
     "execution_count": 105,
     "metadata": {},
     "output_type": "execute_result"
    }
   ],
   "source": [
    "df_intakes.head(2)"
   ]
  },
  {
   "cell_type": "code",
   "execution_count": null,
   "id": "259877fb-a9b3-4e55-83fa-4884c2158039",
   "metadata": {
    "tags": []
   },
   "outputs": [
    {
     "data": {
      "text/html": [
       "<div>\n",
       "<style scoped>\n",
       "    .dataframe tbody tr th:only-of-type {\n",
       "        vertical-align: middle;\n",
       "    }\n",
       "\n",
       "    .dataframe tbody tr th {\n",
       "        vertical-align: top;\n",
       "    }\n",
       "\n",
       "    .dataframe thead th {\n",
       "        text-align: right;\n",
       "    }\n",
       "</style>\n",
       "<table border=\"1\" class=\"dataframe\">\n",
       "  <thead>\n",
       "    <tr style=\"text-align: right;\">\n",
       "      <th></th>\n",
       "      <th>Animal ID</th>\n",
       "      <th>Name</th>\n",
       "      <th>DateTime</th>\n",
       "      <th>MonthYear</th>\n",
       "      <th>Date of Birth</th>\n",
       "      <th>Outcome Type</th>\n",
       "      <th>Outcome Subtype</th>\n",
       "      <th>Animal Type</th>\n",
       "      <th>Sex upon Outcome</th>\n",
       "      <th>Age upon Outcome</th>\n",
       "      <th>Breed</th>\n",
       "      <th>Color</th>\n",
       "    </tr>\n",
       "  </thead>\n",
       "  <tbody>\n",
       "    <tr>\n",
       "      <th>0</th>\n",
       "      <td>A794011</td>\n",
       "      <td>Chunk</td>\n",
       "      <td>2019-05-08 18:20:00</td>\n",
       "      <td>05/08/2019 06:20:00 PM</td>\n",
       "      <td>05/02/2017</td>\n",
       "      <td>Rto-Adopt</td>\n",
       "      <td>NaN</td>\n",
       "      <td>Cat</td>\n",
       "      <td>Neutered Male</td>\n",
       "      <td>2 years</td>\n",
       "      <td>Domestic Shorthair Mix</td>\n",
       "      <td>Brown Tabby/White</td>\n",
       "    </tr>\n",
       "    <tr>\n",
       "      <th>1</th>\n",
       "      <td>A776359</td>\n",
       "      <td>Gizmo</td>\n",
       "      <td>2018-07-18 16:02:00</td>\n",
       "      <td>07/18/2018 04:02:00 PM</td>\n",
       "      <td>07/12/2017</td>\n",
       "      <td>Adoption</td>\n",
       "      <td>NaN</td>\n",
       "      <td>Dog</td>\n",
       "      <td>Neutered Male</td>\n",
       "      <td>1 year</td>\n",
       "      <td>Chihuahua Shorthair Mix</td>\n",
       "      <td>White/Brown</td>\n",
       "    </tr>\n",
       "  </tbody>\n",
       "</table>\n",
       "</div>"
      ],
      "text/plain": [
       "  Animal ID   Name            DateTime               MonthYear Date of Birth  \\\n",
       "0   A794011  Chunk 2019-05-08 18:20:00  05/08/2019 06:20:00 PM    05/02/2017   \n",
       "1   A776359  Gizmo 2018-07-18 16:02:00  07/18/2018 04:02:00 PM    07/12/2017   \n",
       "\n",
       "  Outcome Type Outcome Subtype Animal Type Sex upon Outcome Age upon Outcome  \\\n",
       "0    Rto-Adopt             NaN         Cat    Neutered Male          2 years   \n",
       "1     Adoption             NaN         Dog    Neutered Male           1 year   \n",
       "\n",
       "                     Breed              Color  \n",
       "0   Domestic Shorthair Mix  Brown Tabby/White  \n",
       "1  Chihuahua Shorthair Mix        White/Brown  "
      ]
     },
     "execution_count": 106,
     "metadata": {},
     "output_type": "execute_result"
    }
   ],
   "source": [
    "df_outcomes.head(2)"
   ]
  },
  {
   "cell_type": "markdown",
   "id": "7c8a3967-c9c2-4769-a324-bcc1b5346914",
   "metadata": {
    "tags": []
   },
   "source": [
    "### Dropping and sorting before merging datasets   \n",
    "Next steps we will:\n",
    "- Dropping irrelevant features\n",
    "- Sorting all the intakes and outcomes based on Animal ID and DateTime\n",
    "- Dropping all the animals that were more than one time in the shelter"
   ]
  },
  {
   "cell_type": "code",
   "execution_count": null,
   "id": "9fe36eb8-9bd9-411f-9a5a-b9c4def75424",
   "metadata": {},
   "outputs": [],
   "source": [
    "#Dropping irrelevant features\n",
    "\n",
    "df_intakes.drop(columns = ['Name','MonthYear','Found Location'], inplace = True)\n",
    "df_intakes.rename(columns = {'DateTime':'DateTimeIntake'}, inplace = True)\n",
    "df_outcomes.drop(columns = ['Name','MonthYear','Date of Birth','Breed','Color','Animal Type'], inplace = True)\n",
    "df_outcomes.rename(columns = {'DateTime':'DateTimeOutcome'}, inplace = True)"
   ]
  },
  {
   "cell_type": "code",
   "execution_count": null,
   "id": "585ce171-9cb6-4a3c-a0ee-761bd910b70b",
   "metadata": {},
   "outputs": [],
   "source": [
    "# Sorting all the intakes and outcomes based on Animal ID and DateTime\n",
    "\n",
    "df_intakes.sort_values(by = ['Animal ID', 'DateTimeIntake'], ascending = [True, True], inplace = True)\n",
    "df_outcomes.sort_values(by = ['Animal ID','DateTimeOutcome'], ascending = [True,True], inplace = True) "
   ]
  },
  {
   "cell_type": "code",
   "execution_count": null,
   "id": "f5b83fc8-75f2-4078-a07f-9aac16020a32",
   "metadata": {
    "tags": []
   },
   "outputs": [
    {
     "data": {
      "text/html": [
       "<div>\n",
       "<style scoped>\n",
       "    .dataframe tbody tr th:only-of-type {\n",
       "        vertical-align: middle;\n",
       "    }\n",
       "\n",
       "    .dataframe tbody tr th {\n",
       "        vertical-align: top;\n",
       "    }\n",
       "\n",
       "    .dataframe thead th {\n",
       "        text-align: right;\n",
       "    }\n",
       "</style>\n",
       "<table border=\"1\" class=\"dataframe\">\n",
       "  <thead>\n",
       "    <tr style=\"text-align: right;\">\n",
       "      <th></th>\n",
       "      <th>Animal ID</th>\n",
       "      <th>DateTimeIntake</th>\n",
       "      <th>Intake Type</th>\n",
       "      <th>Intake Condition</th>\n",
       "      <th>Animal Type</th>\n",
       "      <th>Sex upon Intake</th>\n",
       "      <th>Age upon Intake</th>\n",
       "      <th>Breed</th>\n",
       "      <th>Color</th>\n",
       "      <th>DateTimeOutcome</th>\n",
       "      <th>Outcome Type</th>\n",
       "      <th>Outcome Subtype</th>\n",
       "      <th>Sex upon Outcome</th>\n",
       "      <th>Age upon Outcome</th>\n",
       "    </tr>\n",
       "  </thead>\n",
       "  <tbody>\n",
       "    <tr>\n",
       "      <th>0</th>\n",
       "      <td>A006100</td>\n",
       "      <td>2014-03-07 14:26:00</td>\n",
       "      <td>Public Assist</td>\n",
       "      <td>Normal</td>\n",
       "      <td>Dog</td>\n",
       "      <td>Neutered Male</td>\n",
       "      <td>6 years</td>\n",
       "      <td>Spinone Italiano Mix</td>\n",
       "      <td>Yellow/White</td>\n",
       "      <td>2014-03-08 17:10:00</td>\n",
       "      <td>Return to Owner</td>\n",
       "      <td>NaN</td>\n",
       "      <td>Neutered Male</td>\n",
       "      <td>6 years</td>\n",
       "    </tr>\n",
       "    <tr>\n",
       "      <th>1</th>\n",
       "      <td>A047759</td>\n",
       "      <td>2014-04-02 15:55:00</td>\n",
       "      <td>Owner Surrender</td>\n",
       "      <td>Normal</td>\n",
       "      <td>Dog</td>\n",
       "      <td>Neutered Male</td>\n",
       "      <td>10 years</td>\n",
       "      <td>Dachshund</td>\n",
       "      <td>Tricolor</td>\n",
       "      <td>2014-04-07 15:12:00</td>\n",
       "      <td>Transfer</td>\n",
       "      <td>Partner</td>\n",
       "      <td>Neutered Male</td>\n",
       "      <td>10 years</td>\n",
       "    </tr>\n",
       "  </tbody>\n",
       "</table>\n",
       "</div>"
      ],
      "text/plain": [
       "  Animal ID      DateTimeIntake      Intake Type Intake Condition Animal Type  \\\n",
       "0   A006100 2014-03-07 14:26:00    Public Assist           Normal         Dog   \n",
       "1   A047759 2014-04-02 15:55:00  Owner Surrender           Normal         Dog   \n",
       "\n",
       "  Sex upon Intake Age upon Intake                 Breed         Color  \\\n",
       "0   Neutered Male         6 years  Spinone Italiano Mix  Yellow/White   \n",
       "1   Neutered Male        10 years             Dachshund      Tricolor   \n",
       "\n",
       "      DateTimeOutcome     Outcome Type Outcome Subtype Sex upon Outcome  \\\n",
       "0 2014-03-08 17:10:00  Return to Owner             NaN    Neutered Male   \n",
       "1 2014-04-07 15:12:00         Transfer         Partner    Neutered Male   \n",
       "\n",
       "  Age upon Outcome  \n",
       "0          6 years  \n",
       "1         10 years  "
      ]
     },
     "execution_count": 109,
     "metadata": {},
     "output_type": "execute_result"
    }
   ],
   "source": [
    "# Dropping all the animals that were more than one time in the shelter\n",
    "\n",
    "df_intakes.drop_duplicates(subset = 'Animal ID', inplace = True)\n",
    "df_outcomes.drop_duplicates(subset = 'Animal ID', inplace = True)\n",
    "\n",
    "# Merging the datasets\n",
    "df_merged = pd.merge(left = df_intakes, right = df_outcomes, how = 'left', on = ['Animal ID'])\n",
    "df_merged.head(2)"
   ]
  },
  {
   "cell_type": "markdown",
   "id": "e421dd3a-bd95-4cb2-80a4-4083d44b9233",
   "metadata": {},
   "source": [
    "### Creating our target (Days in Shelter)   \n",
    "Next we will create our target with OutcomeDate - IntakeDate."
   ]
  },
  {
   "cell_type": "code",
   "execution_count": 112,
   "id": "7d29f246-d23d-4c0c-9548-3c8d3cdcc02a",
   "metadata": {
    "tags": []
   },
   "outputs": [
    {
     "data": {
      "text/html": [
       "<div>\n",
       "<style scoped>\n",
       "    .dataframe tbody tr th:only-of-type {\n",
       "        vertical-align: middle;\n",
       "    }\n",
       "\n",
       "    .dataframe tbody tr th {\n",
       "        vertical-align: top;\n",
       "    }\n",
       "\n",
       "    .dataframe thead th {\n",
       "        text-align: right;\n",
       "    }\n",
       "</style>\n",
       "<table border=\"1\" class=\"dataframe\">\n",
       "  <thead>\n",
       "    <tr style=\"text-align: right;\">\n",
       "      <th></th>\n",
       "      <th>Animal ID</th>\n",
       "      <th>DateTimeIntake</th>\n",
       "      <th>Intake Type</th>\n",
       "      <th>Intake Condition</th>\n",
       "      <th>Sex upon Intake</th>\n",
       "      <th>Age upon Intake</th>\n",
       "      <th>Breed</th>\n",
       "      <th>Color</th>\n",
       "      <th>DateTimeOutcome</th>\n",
       "      <th>Outcome Type</th>\n",
       "      <th>Outcome Subtype</th>\n",
       "      <th>Sex upon Outcome</th>\n",
       "      <th>Age upon Outcome</th>\n",
       "      <th>days_in_shelter</th>\n",
       "    </tr>\n",
       "  </thead>\n",
       "  <tbody>\n",
       "    <tr>\n",
       "      <th>0</th>\n",
       "      <td>A006100</td>\n",
       "      <td>2014-03-07 14:26:00</td>\n",
       "      <td>Public Assist</td>\n",
       "      <td>Normal</td>\n",
       "      <td>Neutered Male</td>\n",
       "      <td>6 years</td>\n",
       "      <td>Spinone Italiano Mix</td>\n",
       "      <td>Yellow/White</td>\n",
       "      <td>2014-03-08 17:10:00</td>\n",
       "      <td>Return to Owner</td>\n",
       "      <td>NaN</td>\n",
       "      <td>Neutered Male</td>\n",
       "      <td>6 years</td>\n",
       "      <td>2.0</td>\n",
       "    </tr>\n",
       "    <tr>\n",
       "      <th>1</th>\n",
       "      <td>A047759</td>\n",
       "      <td>2014-04-02 15:55:00</td>\n",
       "      <td>Owner Surrender</td>\n",
       "      <td>Normal</td>\n",
       "      <td>Neutered Male</td>\n",
       "      <td>10 years</td>\n",
       "      <td>Dachshund</td>\n",
       "      <td>Tricolor</td>\n",
       "      <td>2014-04-07 15:12:00</td>\n",
       "      <td>Transfer</td>\n",
       "      <td>Partner</td>\n",
       "      <td>Neutered Male</td>\n",
       "      <td>10 years</td>\n",
       "      <td>5.0</td>\n",
       "    </tr>\n",
       "  </tbody>\n",
       "</table>\n",
       "</div>"
      ],
      "text/plain": [
       "  Animal ID      DateTimeIntake      Intake Type Intake Condition  \\\n",
       "0   A006100 2014-03-07 14:26:00    Public Assist           Normal   \n",
       "1   A047759 2014-04-02 15:55:00  Owner Surrender           Normal   \n",
       "\n",
       "  Sex upon Intake Age upon Intake                 Breed         Color  \\\n",
       "0   Neutered Male         6 years  Spinone Italiano Mix  Yellow/White   \n",
       "1   Neutered Male        10 years             Dachshund      Tricolor   \n",
       "\n",
       "      DateTimeOutcome     Outcome Type Outcome Subtype Sex upon Outcome  \\\n",
       "0 2014-03-08 17:10:00  Return to Owner             NaN    Neutered Male   \n",
       "1 2014-04-07 15:12:00         Transfer         Partner    Neutered Male   \n",
       "\n",
       "  Age upon Outcome  days_in_shelter  \n",
       "0          6 years              2.0  \n",
       "1         10 years              5.0  "
      ]
     },
     "execution_count": 112,
     "metadata": {},
     "output_type": "execute_result"
    }
   ],
   "source": [
    "# Filtering only dogs\n",
    "\n",
    "df_filtered = df_merged[df_merged['Animal Type'] == 'Dog'].copy()\n",
    "\n",
    "# Calculating the number of days a dog stays in shelter\n",
    "\n",
    "df_filtered['days_in_shelter'] = np.ceil((df_filtered['DateTimeOutcome'] - df_filtered['DateTimeIntake']) / np.timedelta64(24,'h'))\n",
    "\n",
    "# Dropping all the the negatives values (errors in merging datasets) and null values (dogs that are still in shelter)\n",
    "\n",
    "df_filtered = df_filtered[df_filtered.days_in_shelter > 0]\n",
    "df_filtered = df_filtered.drop(columns = 'Animal Type')\n",
    "df_filtered.head(2)"
   ]
  },
  {
   "cell_type": "markdown",
   "id": "9dc0e190-aaa4-4057-a5a8-8880763fc028",
   "metadata": {},
   "source": [
    "## Data Preprocessing   "
   ]
  },
  {
   "cell_type": "code",
   "execution_count": 113,
   "id": "a2e27e81-a473-4c9d-a3f3-36843a793131",
   "metadata": {},
   "outputs": [],
   "source": [
    "# Type of each feature\n",
    "#df_filtered.dtypes"
   ]
  },
  {
   "cell_type": "code",
   "execution_count": 114,
   "id": "721140f4-5f9c-4c89-95af-10519505e20a",
   "metadata": {},
   "outputs": [
    {
     "data": {
      "text/plain": [
       "array(['6 years', '10 years', '16 years', '15 years', '18 years',\n",
       "       '14 years', '17 years', '13 years', '12 years', '11 years',\n",
       "       '9 years', '8 years', '7 years', '3 years', '19 years', '23 years',\n",
       "       '5 years', '4 years', '9 months', '2 years', '1 year', '8 months',\n",
       "       '11 months', '10 months', '7 months', '5 months', '6 months',\n",
       "       '4 months', '2 months', '3 months', '1 month', '4 days', '4 weeks',\n",
       "       '1 week', '0 years', '3 weeks', '2 weeks', '1 day', '5 days',\n",
       "       '5 weeks', '1 weeks', '6 days', '2 days', '3 days', '-3 years',\n",
       "       '20 years', '-1 years', '-2 years', '24 years'], dtype=object)"
      ]
     },
     "execution_count": 114,
     "metadata": {},
     "output_type": "execute_result"
    }
   ],
   "source": [
    "df_filtered['Age upon Intake'].unique()"
   ]
  },
  {
   "cell_type": "code",
   "execution_count": 115,
   "id": "d000e07d-c901-4886-a9a1-0ebcb659bde5",
   "metadata": {},
   "outputs": [],
   "source": [
    "# Transforming ages in string to integer in months\n",
    "\n",
    "def dog_age(df):\n",
    "    dog_months = []\n",
    "    dog_years = []\n",
    "    for age in df:\n",
    "        if 'years' in age or 'year' in age:\n",
    "            years = int(re.findall('(-?\\d+)',age)[0])\n",
    "            if years < 0:\n",
    "                dog_months.append(np.nan)\n",
    "                dog_years.append(np.nan)\n",
    "            else:\n",
    "                dog_months.append(years*12)\n",
    "                dog_years.append(years)\n",
    "        elif 'months' in age or 'month' in age:\n",
    "            months = int(re.findall('(-?\\d+)',age)[0])\n",
    "            years = int(re.findall('(-?\\d+)',age)[0])\n",
    "            if months < 0:\n",
    "                dog_months.append(np.nan)\n",
    "            else:\n",
    "                dog_months.append(months)\n",
    "                dog_years.append(1)\n",
    "        else:\n",
    "            weeks_or_days = int(re.findall('(-?\\d+)',age)[0])\n",
    "            if weeks_or_days < 0:\n",
    "                dog_months.append(np.nan)\n",
    "            else:\n",
    "                dog_months.append(1)\n",
    "                dog_years.append(1)\n",
    "    return [dog_months, dog_years]"
   ]
  },
  {
   "cell_type": "code",
   "execution_count": 116,
   "id": "73f59f8b-a97c-4f3b-b0c6-fd1161a73afb",
   "metadata": {
    "tags": []
   },
   "outputs": [],
   "source": [
    "#Converting dog ages\n",
    "df_filtered['age_upon_intake_months'] = dog_age(df_filtered['Age upon Intake'])[0]\n",
    "df_filtered['age_upon_intake_years'] = dog_age(df_filtered['Age upon Intake'])[1]\n",
    "df_filtered['age_upon_outcome_months'] = dog_age(df_filtered['Age upon Outcome'])[0]\n",
    "df_filtered['age_upon_outcome_years'] = dog_age(df_filtered['Age upon Outcome'])[1]"
   ]
  },
  {
   "cell_type": "code",
   "execution_count": 117,
   "id": "f3f57b94-88ec-4581-9bfb-6179eaa5136c",
   "metadata": {
    "tags": []
   },
   "outputs": [
    {
     "data": {
      "text/html": [
       "<div>\n",
       "<style scoped>\n",
       "    .dataframe tbody tr th:only-of-type {\n",
       "        vertical-align: middle;\n",
       "    }\n",
       "\n",
       "    .dataframe tbody tr th {\n",
       "        vertical-align: top;\n",
       "    }\n",
       "\n",
       "    .dataframe thead th {\n",
       "        text-align: right;\n",
       "    }\n",
       "</style>\n",
       "<table border=\"1\" class=\"dataframe\">\n",
       "  <thead>\n",
       "    <tr style=\"text-align: right;\">\n",
       "      <th></th>\n",
       "      <th>Animal ID</th>\n",
       "      <th>Intake Type</th>\n",
       "      <th>Intake Condition</th>\n",
       "      <th>Breed</th>\n",
       "      <th>Color</th>\n",
       "      <th>Outcome Type</th>\n",
       "      <th>Outcome Subtype</th>\n",
       "      <th>Sex upon Outcome</th>\n",
       "      <th>days_in_shelter</th>\n",
       "      <th>age_upon_intake_months</th>\n",
       "      <th>age_upon_intake_years</th>\n",
       "      <th>age_upon_outcome_months</th>\n",
       "      <th>age_upon_outcome_years</th>\n",
       "    </tr>\n",
       "  </thead>\n",
       "  <tbody>\n",
       "    <tr>\n",
       "      <th>0</th>\n",
       "      <td>A006100</td>\n",
       "      <td>Public Assist</td>\n",
       "      <td>Normal</td>\n",
       "      <td>Spinone Italiano Mix</td>\n",
       "      <td>Yellow/White</td>\n",
       "      <td>Return to Owner</td>\n",
       "      <td>NaN</td>\n",
       "      <td>Neutered Male</td>\n",
       "      <td>2.0</td>\n",
       "      <td>72.0</td>\n",
       "      <td>6.0</td>\n",
       "      <td>72.0</td>\n",
       "      <td>6.0</td>\n",
       "    </tr>\n",
       "    <tr>\n",
       "      <th>1</th>\n",
       "      <td>A047759</td>\n",
       "      <td>Owner Surrender</td>\n",
       "      <td>Normal</td>\n",
       "      <td>Dachshund</td>\n",
       "      <td>Tricolor</td>\n",
       "      <td>Transfer</td>\n",
       "      <td>Partner</td>\n",
       "      <td>Neutered Male</td>\n",
       "      <td>5.0</td>\n",
       "      <td>120.0</td>\n",
       "      <td>10.0</td>\n",
       "      <td>120.0</td>\n",
       "      <td>10.0</td>\n",
       "    </tr>\n",
       "  </tbody>\n",
       "</table>\n",
       "</div>"
      ],
      "text/plain": [
       "  Animal ID      Intake Type Intake Condition                 Breed  \\\n",
       "0   A006100    Public Assist           Normal  Spinone Italiano Mix   \n",
       "1   A047759  Owner Surrender           Normal             Dachshund   \n",
       "\n",
       "          Color     Outcome Type Outcome Subtype Sex upon Outcome  \\\n",
       "0  Yellow/White  Return to Owner             NaN    Neutered Male   \n",
       "1      Tricolor         Transfer         Partner    Neutered Male   \n",
       "\n",
       "   days_in_shelter  age_upon_intake_months  age_upon_intake_years  \\\n",
       "0              2.0                    72.0                    6.0   \n",
       "1              5.0                   120.0                   10.0   \n",
       "\n",
       "   age_upon_outcome_months  age_upon_outcome_years  \n",
       "0                     72.0                     6.0  \n",
       "1                    120.0                    10.0  "
      ]
     },
     "execution_count": 117,
     "metadata": {},
     "output_type": "execute_result"
    }
   ],
   "source": [
    "df_filtered.drop(columns = ['DateTimeIntake', 'DateTimeOutcome','Age upon Intake', 'Age upon Outcome', 'Sex upon Intake'], inplace = True)\n",
    "df_filtered.head(2)"
   ]
  },
  {
   "cell_type": "code",
   "execution_count": 120,
   "id": "c6630091-99b5-48a7-bdf2-3bbc4db1656d",
   "metadata": {},
   "outputs": [
    {
     "data": {
      "text/plain": [
       "(58890, 13)"
      ]
     },
     "execution_count": 120,
     "metadata": {},
     "output_type": "execute_result"
    }
   ],
   "source": [
    "df_filtered.shape"
   ]
  },
  {
   "cell_type": "code",
   "execution_count": null,
   "id": "e6ad24b6-1c2f-4b7c-9bb9-cc304358761a",
   "metadata": {},
   "outputs": [],
   "source": [
    "#google sheet"
   ]
  },
  {
   "cell_type": "code",
   "execution_count": null,
   "id": "9ea96442-7722-42ea-a51c-3d8acb76a2e0",
   "metadata": {},
   "outputs": [],
   "source": [
    "# Intake Type\n",
    "# Intake Condition\n",
    "# Color\n",
    "# Outcome Type\n",
    "# Outcome Subtype\n",
    "\n",
    "# Sex upon Outcome\n",
    "# Breed"
   ]
  },
  {
   "cell_type": "markdown",
   "id": "1cab5429-90d7-4c97-bb68-4d2e90656773",
   "metadata": {},
   "source": [
    "## EDA - Exploratory Data Analysis"
   ]
  },
  {
   "cell_type": "code",
   "execution_count": 20,
   "id": "040b6f6f-b3cc-41e4-8f92-4238a01546d9",
   "metadata": {},
   "outputs": [
    {
     "data": {
      "text/plain": [
       "count    58890.000000\n",
       "mean        17.249958\n",
       "std         43.162151\n",
       "min          1.000000\n",
       "25%          3.000000\n",
       "50%          6.000000\n",
       "75%         12.000000\n",
       "max       1522.000000\n",
       "Name: days_in_shelter, dtype: float64"
      ]
     },
     "execution_count": 20,
     "metadata": {},
     "output_type": "execute_result"
    }
   ],
   "source": [
    "df_filtered['days_in_shelter'].describe()"
   ]
  },
  {
   "cell_type": "markdown",
   "id": "43591e70-c575-4c72-9b5a-ee7eb8c1234c",
   "metadata": {},
   "source": [
    "### Categorical features"
   ]
  },
  {
   "cell_type": "code",
   "execution_count": 147,
   "id": "d4722d0d-3195-43a1-989c-151404bc486a",
   "metadata": {},
   "outputs": [
    {
     "data": {
      "text/plain": [
       "<AxesSubplot:xlabel='Sex upon Outcome', ylabel='count'>"
      ]
     },
     "execution_count": 147,
     "metadata": {},
     "output_type": "execute_result"
    },
    {
     "data": {
      "image/png": "[encoded data removed]",
      "text/plain": [
       "<Figure size 432x288 with 1 Axes>"
      ]
     },
     "metadata": {
      "needs_background": "light"
     },
     "output_type": "display_data"
    }
   ],
   "source": [
    "sns.boxplot(x = df_filtered['Sex upon Outcome'], y = df_filtered['days_in_shelter'])\n",
    "sns.countplot(x = df_filtered['Sex upon Outcome'])"
   ]
  },
  {
   "cell_type": "code",
   "execution_count": 142,
   "id": "63cd4ace-5806-4973-8a99-bb54d5174d7f",
   "metadata": {},
   "outputs": [
    {
     "data": {
      "text/plain": [
       "(7458, 13)"
      ]
     },
     "execution_count": 142,
     "metadata": {},
     "output_type": "execute_result"
    }
   ],
   "source": [
    "df_filtered[df_filtered['days_in_shelter'] > 30].shape"
   ]
  },
  {
   "cell_type": "markdown",
   "id": "b7a82cb7-2788-4b35-a69b-709e50c49c24",
   "metadata": {},
   "source": [
    "### Numerical features"
   ]
  },
  {
   "cell_type": "markdown",
   "id": "3e5452bf-17b5-4c1e-be41-9fc22694b7cb",
   "metadata": {},
   "source": [
    "## Baseline Model   \n",
    "Baseline Model with RMSE and utilizing the mean as prediction"
   ]
  },
  {
   "cell_type": "code",
   "execution_count": 45,
   "id": "73129f9d-e3bb-4ff4-9b41-98265c82fcbd",
   "metadata": {},
   "outputs": [],
   "source": [
    "y_pred = df_filtered['days_in_shelter'].mean()"
   ]
  },
  {
   "cell_type": "code",
   "execution_count": 46,
   "id": "e6afb45f-7e3b-4104-9513-55eb4503fe9f",
   "metadata": {},
   "outputs": [
    {
     "data": {
      "text/plain": [
       "43.1617847268447"
      ]
     },
     "execution_count": 46,
     "metadata": {},
     "output_type": "execute_result"
    }
   ],
   "source": [
    "#RMSE\n",
    "np.sqrt(np.mean((y_pred - df_filtered['days_in_shelter'])**2))"
   ]
  }
 ],
 "metadata": {
  "kernelspec": {
   "display_name": "Python 3 (ipykernel)",
   "language": "python",
   "name": "python3"
  },
  "language_info": {
   "codemirror_mode": {
    "name": "ipython",
    "version": 3
   },
   "file_extension": ".py",
   "mimetype": "text/x-python",
   "name": "python",
   "nbconvert_exporter": "python",
   "pygments_lexer": "ipython3",
   "version": "3.8.6"
  }
 },
 "nbformat": 4,
 "nbformat_minor": 5
}
