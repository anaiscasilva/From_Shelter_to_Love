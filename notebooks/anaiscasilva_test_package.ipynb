{
 "cells": [
  {
   "cell_type": "code",
   "execution_count": 1,
   "id": "bb0955d4",
   "metadata": {},
   "outputs": [],
   "source": [
    "%load_ext autoreload\n",
    "%autoreload 2"
   ]
  },
  {
   "cell_type": "markdown",
   "id": "2997f490",
   "metadata": {},
   "source": [
    "## Final Dataframe from data.py"
   ]
  },
  {
   "cell_type": "code",
   "execution_count": 30,
   "id": "06d3b107",
   "metadata": {},
   "outputs": [],
   "source": [
    "from From_Shelter_to_Love.data import final_data"
   ]
  },
  {
   "cell_type": "code",
   "execution_count": 31,
   "id": "361c3748",
   "metadata": {},
   "outputs": [],
   "source": [
    "df = final_data()"
   ]
  },
  {
   "cell_type": "code",
   "execution_count": 32,
   "id": "fa4f21a2",
   "metadata": {},
   "outputs": [
    {
     "data": {
      "text/html": [
       "<div>\n",
       "<style scoped>\n",
       "    .dataframe tbody tr th:only-of-type {\n",
       "        vertical-align: middle;\n",
       "    }\n",
       "\n",
       "    .dataframe tbody tr th {\n",
       "        vertical-align: top;\n",
       "    }\n",
       "\n",
       "    .dataframe thead th {\n",
       "        text-align: right;\n",
       "    }\n",
       "</style>\n",
       "<table border=\"1\" class=\"dataframe\">\n",
       "  <thead>\n",
       "    <tr style=\"text-align: right;\">\n",
       "      <th></th>\n",
       "      <th>intake_type</th>\n",
       "      <th>animal_type</th>\n",
       "      <th>intake_condition</th>\n",
       "      <th>breed</th>\n",
       "      <th>age_upon_intake_months</th>\n",
       "      <th>neutered_or_spayed_intake</th>\n",
       "      <th>male_or_female_intake</th>\n",
       "      <th>color</th>\n",
       "      <th>target</th>\n",
       "    </tr>\n",
       "  </thead>\n",
       "  <tbody>\n",
       "    <tr>\n",
       "      <th>0</th>\n",
       "      <td>Public Assist</td>\n",
       "      <td>Dog</td>\n",
       "      <td>Normal</td>\n",
       "      <td>Mixed</td>\n",
       "      <td>72.0</td>\n",
       "      <td>1</td>\n",
       "      <td>1.0</td>\n",
       "      <td>Bicolor</td>\n",
       "      <td>0</td>\n",
       "    </tr>\n",
       "    <tr>\n",
       "      <th>1</th>\n",
       "      <td>Owner Surrender</td>\n",
       "      <td>Dog</td>\n",
       "      <td>Normal</td>\n",
       "      <td>Pure</td>\n",
       "      <td>120.0</td>\n",
       "      <td>1</td>\n",
       "      <td>1.0</td>\n",
       "      <td>Tricolor</td>\n",
       "      <td>0</td>\n",
       "    </tr>\n",
       "    <tr>\n",
       "      <th>2</th>\n",
       "      <td>Public Assist</td>\n",
       "      <td>Dog</td>\n",
       "      <td>Injured</td>\n",
       "      <td>Pure</td>\n",
       "      <td>192.0</td>\n",
       "      <td>1</td>\n",
       "      <td>1.0</td>\n",
       "      <td>Bicolor</td>\n",
       "      <td>0</td>\n",
       "    </tr>\n",
       "    <tr>\n",
       "      <th>3</th>\n",
       "      <td>Stray</td>\n",
       "      <td>Dog</td>\n",
       "      <td>Aged</td>\n",
       "      <td>Mixed</td>\n",
       "      <td>180.0</td>\n",
       "      <td>1</td>\n",
       "      <td>0.0</td>\n",
       "      <td>Bicolor</td>\n",
       "      <td>0</td>\n",
       "    </tr>\n",
       "    <tr>\n",
       "      <th>4</th>\n",
       "      <td>Stray</td>\n",
       "      <td>Dog</td>\n",
       "      <td>Normal</td>\n",
       "      <td>Mixed</td>\n",
       "      <td>180.0</td>\n",
       "      <td>0</td>\n",
       "      <td>0.0</td>\n",
       "      <td>Bicolor</td>\n",
       "      <td>0</td>\n",
       "    </tr>\n",
       "    <tr>\n",
       "      <th>...</th>\n",
       "      <td>...</td>\n",
       "      <td>...</td>\n",
       "      <td>...</td>\n",
       "      <td>...</td>\n",
       "      <td>...</td>\n",
       "      <td>...</td>\n",
       "      <td>...</td>\n",
       "      <td>...</td>\n",
       "      <td>...</td>\n",
       "    </tr>\n",
       "    <tr>\n",
       "      <th>102717</th>\n",
       "      <td>Stray</td>\n",
       "      <td>Dog</td>\n",
       "      <td>Normal</td>\n",
       "      <td>Mixed</td>\n",
       "      <td>24.0</td>\n",
       "      <td>0</td>\n",
       "      <td>1.0</td>\n",
       "      <td>Bicolor</td>\n",
       "      <td>0</td>\n",
       "    </tr>\n",
       "    <tr>\n",
       "      <th>102718</th>\n",
       "      <td>Stray</td>\n",
       "      <td>Dog</td>\n",
       "      <td>Normal</td>\n",
       "      <td>Mixed</td>\n",
       "      <td>24.0</td>\n",
       "      <td>1</td>\n",
       "      <td>0.0</td>\n",
       "      <td>Bicolor</td>\n",
       "      <td>0</td>\n",
       "    </tr>\n",
       "    <tr>\n",
       "      <th>102719</th>\n",
       "      <td>Stray</td>\n",
       "      <td>Dog</td>\n",
       "      <td>Normal</td>\n",
       "      <td>Mixed</td>\n",
       "      <td>24.0</td>\n",
       "      <td>1</td>\n",
       "      <td>1.0</td>\n",
       "      <td>Bicolor</td>\n",
       "      <td>0</td>\n",
       "    </tr>\n",
       "    <tr>\n",
       "      <th>102720</th>\n",
       "      <td>Owner Surrender</td>\n",
       "      <td>Dog</td>\n",
       "      <td>Normal</td>\n",
       "      <td>Pure</td>\n",
       "      <td>12.0</td>\n",
       "      <td>0</td>\n",
       "      <td>1.0</td>\n",
       "      <td>Bicolor</td>\n",
       "      <td>0</td>\n",
       "    </tr>\n",
       "    <tr>\n",
       "      <th>102721</th>\n",
       "      <td>Owner Surrender</td>\n",
       "      <td>Dog</td>\n",
       "      <td>Injured</td>\n",
       "      <td>Pure</td>\n",
       "      <td>1.0</td>\n",
       "      <td>0</td>\n",
       "      <td>NaN</td>\n",
       "      <td>Bicolor</td>\n",
       "      <td>0</td>\n",
       "    </tr>\n",
       "  </tbody>\n",
       "</table>\n",
       "<p>102722 rows × 9 columns</p>\n",
       "</div>"
      ],
      "text/plain": [
       "            intake_type animal_type intake_condition  breed  \\\n",
       "0         Public Assist         Dog           Normal  Mixed   \n",
       "1       Owner Surrender         Dog           Normal   Pure   \n",
       "2         Public Assist         Dog          Injured   Pure   \n",
       "3                 Stray         Dog             Aged  Mixed   \n",
       "4                 Stray         Dog           Normal  Mixed   \n",
       "...                 ...         ...              ...    ...   \n",
       "102717            Stray         Dog           Normal  Mixed   \n",
       "102718            Stray         Dog           Normal  Mixed   \n",
       "102719            Stray         Dog           Normal  Mixed   \n",
       "102720  Owner Surrender         Dog           Normal   Pure   \n",
       "102721  Owner Surrender         Dog          Injured   Pure   \n",
       "\n",
       "        age_upon_intake_months  neutered_or_spayed_intake  \\\n",
       "0                         72.0                          1   \n",
       "1                        120.0                          1   \n",
       "2                        192.0                          1   \n",
       "3                        180.0                          1   \n",
       "4                        180.0                          0   \n",
       "...                        ...                        ...   \n",
       "102717                    24.0                          0   \n",
       "102718                    24.0                          1   \n",
       "102719                    24.0                          1   \n",
       "102720                    12.0                          0   \n",
       "102721                     1.0                          0   \n",
       "\n",
       "        male_or_female_intake     color  target  \n",
       "0                         1.0   Bicolor       0  \n",
       "1                         1.0  Tricolor       0  \n",
       "2                         1.0   Bicolor       0  \n",
       "3                         0.0   Bicolor       0  \n",
       "4                         0.0   Bicolor       0  \n",
       "...                       ...       ...     ...  \n",
       "102717                    1.0   Bicolor       0  \n",
       "102718                    0.0   Bicolor       0  \n",
       "102719                    1.0   Bicolor       0  \n",
       "102720                    1.0   Bicolor       0  \n",
       "102721                    NaN   Bicolor       0  \n",
       "\n",
       "[102722 rows x 9 columns]"
      ]
     },
     "execution_count": 32,
     "metadata": {},
     "output_type": "execute_result"
    }
   ],
   "source": [
    "df"
   ]
  },
  {
   "cell_type": "code",
   "execution_count": 5,
   "id": "95c8e15a",
   "metadata": {},
   "outputs": [
    {
     "data": {
      "text/plain": [
       "(102722, 8)"
      ]
     },
     "execution_count": 5,
     "metadata": {},
     "output_type": "execute_result"
    }
   ],
   "source": [
    "df.shape"
   ]
  },
  {
   "cell_type": "code",
   "execution_count": 7,
   "id": "225ec37f",
   "metadata": {},
   "outputs": [
    {
     "data": {
      "text/plain": [
       "Intake Type                     0\n",
       "Animal Type                     0\n",
       "Intake Condition                0\n",
       "Breed                           0\n",
       "age_upon_intake_months          0\n",
       "neutered_or_spayed_intake       0\n",
       "male_or_female_intake        4177\n",
       "color                           0\n",
       "dtype: int64"
      ]
     },
     "execution_count": 7,
     "metadata": {},
     "output_type": "execute_result"
    }
   ],
   "source": [
    "df.isnull().sum()"
   ]
  },
  {
   "cell_type": "markdown",
   "id": "e02b007c",
   "metadata": {},
   "source": [
    "## Dataframe from data_provisoria_v2.py"
   ]
  },
  {
   "cell_type": "code",
   "execution_count": 12,
   "id": "21063d68",
   "metadata": {},
   "outputs": [],
   "source": [
    "from From_Shelter_to_Love.data_provisoria_v2 import get_data"
   ]
  },
  {
   "cell_type": "code",
   "execution_count": 13,
   "id": "b5e08011",
   "metadata": {},
   "outputs": [],
   "source": [
    "v2 = get_data()"
   ]
  },
  {
   "cell_type": "code",
   "execution_count": 14,
   "id": "b0569f9f",
   "metadata": {},
   "outputs": [
    {
     "data": {
      "text/plain": [
       "(102725, 17)"
      ]
     },
     "execution_count": 14,
     "metadata": {},
     "output_type": "execute_result"
    }
   ],
   "source": [
    "v2.shape"
   ]
  },
  {
   "cell_type": "code",
   "execution_count": 15,
   "id": "0b92e93c",
   "metadata": {},
   "outputs": [
    {
     "data": {
      "text/plain": [
       "Animal ID                        0\n",
       "Intake Type                      0\n",
       "Intake Condition                 0\n",
       "Animal Type                      0\n",
       "Breed                            0\n",
       "Date of Birth                    0\n",
       "Outcome Type                     0\n",
       "days_in_shelter                  0\n",
       "age_upon_intake_months           3\n",
       "age_upon_intake_years            3\n",
       "age_upon_outcome_months          3\n",
       "age_upon_outcome_years           3\n",
       "neutered_or_spayed_outcome       0\n",
       "male_or_female_outcome        4177\n",
       "neutered_or_spayed_intake        0\n",
       "male_or_female_intake         4177\n",
       "color                            0\n",
       "dtype: int64"
      ]
     },
     "execution_count": 15,
     "metadata": {},
     "output_type": "execute_result"
    }
   ],
   "source": [
    "v2.isnull().sum()"
   ]
  },
  {
   "cell_type": "code",
   "execution_count": 16,
   "id": "18281b8f",
   "metadata": {},
   "outputs": [],
   "source": [
    "from From_Shelter_to_Love.data_provisoria import get_data"
   ]
  },
  {
   "cell_type": "code",
   "execution_count": 17,
   "id": "a1c35f8b",
   "metadata": {},
   "outputs": [],
   "source": [
    "v1 = get_data()"
   ]
  },
  {
   "cell_type": "code",
   "execution_count": 18,
   "id": "25e53529",
   "metadata": {},
   "outputs": [
    {
     "data": {
      "text/html": [
       "<div>\n",
       "<style scoped>\n",
       "    .dataframe tbody tr th:only-of-type {\n",
       "        vertical-align: middle;\n",
       "    }\n",
       "\n",
       "    .dataframe tbody tr th {\n",
       "        vertical-align: top;\n",
       "    }\n",
       "\n",
       "    .dataframe thead th {\n",
       "        text-align: right;\n",
       "    }\n",
       "</style>\n",
       "<table border=\"1\" class=\"dataframe\">\n",
       "  <thead>\n",
       "    <tr style=\"text-align: right;\">\n",
       "      <th></th>\n",
       "      <th>Animal ID</th>\n",
       "      <th>Intake Type</th>\n",
       "      <th>Intake Condition</th>\n",
       "      <th>Animal Type</th>\n",
       "      <th>Breed</th>\n",
       "      <th>Outcome Type</th>\n",
       "      <th>days_in_shelter</th>\n",
       "      <th>age_upon_intake_months</th>\n",
       "      <th>age_upon_intake_years</th>\n",
       "      <th>age_upon_outcome_months</th>\n",
       "      <th>age_upon_outcome_years</th>\n",
       "      <th>neutered_or_spayed_outcome</th>\n",
       "      <th>male_or_female_outcome</th>\n",
       "      <th>neutered_or_spayed_intake</th>\n",
       "      <th>male_or_female_intake</th>\n",
       "      <th>group_color</th>\n",
       "    </tr>\n",
       "  </thead>\n",
       "  <tbody>\n",
       "    <tr>\n",
       "      <th>0</th>\n",
       "      <td>A006100</td>\n",
       "      <td>Public Assist</td>\n",
       "      <td>Normal</td>\n",
       "      <td>Dog</td>\n",
       "      <td>Mixed</td>\n",
       "      <td>Return to Owner</td>\n",
       "      <td>2.0</td>\n",
       "      <td>72.0</td>\n",
       "      <td>6.0</td>\n",
       "      <td>72.0</td>\n",
       "      <td>6.0</td>\n",
       "      <td>1</td>\n",
       "      <td>1.0</td>\n",
       "      <td>1</td>\n",
       "      <td>1.0</td>\n",
       "      <td>Yellow</td>\n",
       "    </tr>\n",
       "    <tr>\n",
       "      <th>1</th>\n",
       "      <td>A047759</td>\n",
       "      <td>Owner Surrender</td>\n",
       "      <td>Normal</td>\n",
       "      <td>Dog</td>\n",
       "      <td>Dachshund</td>\n",
       "      <td>Transfer</td>\n",
       "      <td>5.0</td>\n",
       "      <td>120.0</td>\n",
       "      <td>10.0</td>\n",
       "      <td>120.0</td>\n",
       "      <td>10.0</td>\n",
       "      <td>1</td>\n",
       "      <td>1.0</td>\n",
       "      <td>1</td>\n",
       "      <td>1.0</td>\n",
       "      <td>Tricolor</td>\n",
       "    </tr>\n",
       "    <tr>\n",
       "      <th>2</th>\n",
       "      <td>A134067</td>\n",
       "      <td>Public Assist</td>\n",
       "      <td>Injured</td>\n",
       "      <td>Dog</td>\n",
       "      <td>Shetland Sheepdog</td>\n",
       "      <td>Return to Owner</td>\n",
       "      <td>1.0</td>\n",
       "      <td>192.0</td>\n",
       "      <td>16.0</td>\n",
       "      <td>192.0</td>\n",
       "      <td>16.0</td>\n",
       "      <td>1</td>\n",
       "      <td>1.0</td>\n",
       "      <td>1</td>\n",
       "      <td>1.0</td>\n",
       "      <td>Brown</td>\n",
       "    </tr>\n",
       "    <tr>\n",
       "      <th>3</th>\n",
       "      <td>A141142</td>\n",
       "      <td>Stray</td>\n",
       "      <td>Aged</td>\n",
       "      <td>Dog</td>\n",
       "      <td>Mixed</td>\n",
       "      <td>Return to Owner</td>\n",
       "      <td>1.0</td>\n",
       "      <td>180.0</td>\n",
       "      <td>15.0</td>\n",
       "      <td>180.0</td>\n",
       "      <td>15.0</td>\n",
       "      <td>1</td>\n",
       "      <td>0.0</td>\n",
       "      <td>1</td>\n",
       "      <td>0.0</td>\n",
       "      <td>Black</td>\n",
       "    </tr>\n",
       "    <tr>\n",
       "      <th>4</th>\n",
       "      <td>A163459</td>\n",
       "      <td>Stray</td>\n",
       "      <td>Normal</td>\n",
       "      <td>Dog</td>\n",
       "      <td>Mixed</td>\n",
       "      <td>Return to Owner</td>\n",
       "      <td>1.0</td>\n",
       "      <td>180.0</td>\n",
       "      <td>15.0</td>\n",
       "      <td>180.0</td>\n",
       "      <td>15.0</td>\n",
       "      <td>0</td>\n",
       "      <td>0.0</td>\n",
       "      <td>0</td>\n",
       "      <td>0.0</td>\n",
       "      <td>Black</td>\n",
       "    </tr>\n",
       "    <tr>\n",
       "      <th>...</th>\n",
       "      <td>...</td>\n",
       "      <td>...</td>\n",
       "      <td>...</td>\n",
       "      <td>...</td>\n",
       "      <td>...</td>\n",
       "      <td>...</td>\n",
       "      <td>...</td>\n",
       "      <td>...</td>\n",
       "      <td>...</td>\n",
       "      <td>...</td>\n",
       "      <td>...</td>\n",
       "      <td>...</td>\n",
       "      <td>...</td>\n",
       "      <td>...</td>\n",
       "      <td>...</td>\n",
       "      <td>...</td>\n",
       "    </tr>\n",
       "    <tr>\n",
       "      <th>110852</th>\n",
       "      <td>A829991</td>\n",
       "      <td>Stray</td>\n",
       "      <td>Normal</td>\n",
       "      <td>Dog</td>\n",
       "      <td>Mixed</td>\n",
       "      <td>Return to Owner</td>\n",
       "      <td>2.0</td>\n",
       "      <td>24.0</td>\n",
       "      <td>2.0</td>\n",
       "      <td>24.0</td>\n",
       "      <td>2.0</td>\n",
       "      <td>0</td>\n",
       "      <td>1.0</td>\n",
       "      <td>0</td>\n",
       "      <td>1.0</td>\n",
       "      <td>Black</td>\n",
       "    </tr>\n",
       "    <tr>\n",
       "      <th>110853</th>\n",
       "      <td>A829992</td>\n",
       "      <td>Stray</td>\n",
       "      <td>Normal</td>\n",
       "      <td>Dog</td>\n",
       "      <td>Mixed</td>\n",
       "      <td>Return to Owner</td>\n",
       "      <td>2.0</td>\n",
       "      <td>24.0</td>\n",
       "      <td>2.0</td>\n",
       "      <td>24.0</td>\n",
       "      <td>2.0</td>\n",
       "      <td>1</td>\n",
       "      <td>0.0</td>\n",
       "      <td>1</td>\n",
       "      <td>0.0</td>\n",
       "      <td>White</td>\n",
       "    </tr>\n",
       "    <tr>\n",
       "      <th>110861</th>\n",
       "      <td>A830034</td>\n",
       "      <td>Stray</td>\n",
       "      <td>Normal</td>\n",
       "      <td>Dog</td>\n",
       "      <td>Mixed</td>\n",
       "      <td>Return to Owner</td>\n",
       "      <td>1.0</td>\n",
       "      <td>24.0</td>\n",
       "      <td>2.0</td>\n",
       "      <td>24.0</td>\n",
       "      <td>2.0</td>\n",
       "      <td>1</td>\n",
       "      <td>1.0</td>\n",
       "      <td>1</td>\n",
       "      <td>1.0</td>\n",
       "      <td>Brown</td>\n",
       "    </tr>\n",
       "    <tr>\n",
       "      <th>110874</th>\n",
       "      <td>A830080</td>\n",
       "      <td>Owner Surrender</td>\n",
       "      <td>Normal</td>\n",
       "      <td>Dog</td>\n",
       "      <td>Alaskan Husky</td>\n",
       "      <td>Rto-Adopt</td>\n",
       "      <td>2.0</td>\n",
       "      <td>12.0</td>\n",
       "      <td>1.0</td>\n",
       "      <td>12.0</td>\n",
       "      <td>1.0</td>\n",
       "      <td>1</td>\n",
       "      <td>1.0</td>\n",
       "      <td>0</td>\n",
       "      <td>1.0</td>\n",
       "      <td>Black</td>\n",
       "    </tr>\n",
       "    <tr>\n",
       "      <th>110888</th>\n",
       "      <td>A830112</td>\n",
       "      <td>Owner Surrender</td>\n",
       "      <td>Injured</td>\n",
       "      <td>Dog</td>\n",
       "      <td>Pit Bull</td>\n",
       "      <td>Euthanasia</td>\n",
       "      <td>1.0</td>\n",
       "      <td>1.0</td>\n",
       "      <td>1.0</td>\n",
       "      <td>1.0</td>\n",
       "      <td>1.0</td>\n",
       "      <td>0</td>\n",
       "      <td>NaN</td>\n",
       "      <td>0</td>\n",
       "      <td>NaN</td>\n",
       "      <td>Tan</td>\n",
       "    </tr>\n",
       "  </tbody>\n",
       "</table>\n",
       "<p>102725 rows × 16 columns</p>\n",
       "</div>"
      ],
      "text/plain": [
       "       Animal ID      Intake Type Intake Condition Animal Type  \\\n",
       "0        A006100    Public Assist           Normal         Dog   \n",
       "1        A047759  Owner Surrender           Normal         Dog   \n",
       "2        A134067    Public Assist          Injured         Dog   \n",
       "3        A141142            Stray             Aged         Dog   \n",
       "4        A163459            Stray           Normal         Dog   \n",
       "...          ...              ...              ...         ...   \n",
       "110852   A829991            Stray           Normal         Dog   \n",
       "110853   A829992            Stray           Normal         Dog   \n",
       "110861   A830034            Stray           Normal         Dog   \n",
       "110874   A830080  Owner Surrender           Normal         Dog   \n",
       "110888   A830112  Owner Surrender          Injured         Dog   \n",
       "\n",
       "                    Breed     Outcome Type  days_in_shelter  \\\n",
       "0                   Mixed  Return to Owner              2.0   \n",
       "1               Dachshund         Transfer              5.0   \n",
       "2       Shetland Sheepdog  Return to Owner              1.0   \n",
       "3                   Mixed  Return to Owner              1.0   \n",
       "4                   Mixed  Return to Owner              1.0   \n",
       "...                   ...              ...              ...   \n",
       "110852              Mixed  Return to Owner              2.0   \n",
       "110853              Mixed  Return to Owner              2.0   \n",
       "110861              Mixed  Return to Owner              1.0   \n",
       "110874      Alaskan Husky        Rto-Adopt              2.0   \n",
       "110888           Pit Bull       Euthanasia              1.0   \n",
       "\n",
       "        age_upon_intake_months  age_upon_intake_years  \\\n",
       "0                         72.0                    6.0   \n",
       "1                        120.0                   10.0   \n",
       "2                        192.0                   16.0   \n",
       "3                        180.0                   15.0   \n",
       "4                        180.0                   15.0   \n",
       "...                        ...                    ...   \n",
       "110852                    24.0                    2.0   \n",
       "110853                    24.0                    2.0   \n",
       "110861                    24.0                    2.0   \n",
       "110874                    12.0                    1.0   \n",
       "110888                     1.0                    1.0   \n",
       "\n",
       "        age_upon_outcome_months  age_upon_outcome_years  \\\n",
       "0                          72.0                     6.0   \n",
       "1                         120.0                    10.0   \n",
       "2                         192.0                    16.0   \n",
       "3                         180.0                    15.0   \n",
       "4                         180.0                    15.0   \n",
       "...                         ...                     ...   \n",
       "110852                     24.0                     2.0   \n",
       "110853                     24.0                     2.0   \n",
       "110861                     24.0                     2.0   \n",
       "110874                     12.0                     1.0   \n",
       "110888                      1.0                     1.0   \n",
       "\n",
       "        neutered_or_spayed_outcome  male_or_female_outcome  \\\n",
       "0                                1                     1.0   \n",
       "1                                1                     1.0   \n",
       "2                                1                     1.0   \n",
       "3                                1                     0.0   \n",
       "4                                0                     0.0   \n",
       "...                            ...                     ...   \n",
       "110852                           0                     1.0   \n",
       "110853                           1                     0.0   \n",
       "110861                           1                     1.0   \n",
       "110874                           1                     1.0   \n",
       "110888                           0                     NaN   \n",
       "\n",
       "        neutered_or_spayed_intake  male_or_female_intake group_color  \n",
       "0                               1                    1.0      Yellow  \n",
       "1                               1                    1.0    Tricolor  \n",
       "2                               1                    1.0       Brown  \n",
       "3                               1                    0.0       Black  \n",
       "4                               0                    0.0       Black  \n",
       "...                           ...                    ...         ...  \n",
       "110852                          0                    1.0       Black  \n",
       "110853                          1                    0.0       White  \n",
       "110861                          1                    1.0       Brown  \n",
       "110874                          0                    1.0       Black  \n",
       "110888                          0                    NaN         Tan  \n",
       "\n",
       "[102725 rows x 16 columns]"
      ]
     },
     "execution_count": 18,
     "metadata": {},
     "output_type": "execute_result"
    }
   ],
   "source": [
    "v1"
   ]
  },
  {
   "cell_type": "markdown",
   "id": "7d930483",
   "metadata": {},
   "source": [
    "## Testing trained models"
   ]
  },
  {
   "cell_type": "code",
   "execution_count": 9,
   "id": "59dee038",
   "metadata": {},
   "outputs": [],
   "source": [
    "from From_Shelter_to_Love.trainer import preprocessing_and_train_cats"
   ]
  },
  {
   "cell_type": "code",
   "execution_count": 10,
   "id": "e82b503a",
   "metadata": {},
   "outputs": [
    {
     "name": "stdout",
     "output_type": "stream",
     "text": [
      "split data of cats\n",
      "preprocessing cats data\n",
      "trained model of cats\n"
     ]
    }
   ],
   "source": [
    "trained_model_cats, y_test_cats, X_test_cats_transf = preprocessing_and_train_cats()"
   ]
  },
  {
   "cell_type": "code",
   "execution_count": 37,
   "id": "1d808865",
   "metadata": {},
   "outputs": [
    {
     "data": {
      "text/plain": [
       "XGBClassifier(base_score=0.5, booster=None, colsample_bylevel=1,\n",
       "              colsample_bynode=1, colsample_bytree=1, gamma=0, gpu_id=-1,\n",
       "              importance_type='gain', interaction_constraints=None,\n",
       "              learning_rate=0.1, max_delta_step=0, max_depth=5,\n",
       "              min_child_weight=1, missing=nan, monotone_constraints=None,\n",
       "              n_estimators=180, n_jobs=0, num_parallel_tree=1, random_state=0,\n",
       "              reg_alpha=0, reg_lambda=1, scale_pos_weight=1, subsample=1,\n",
       "              tree_method=None, validate_parameters=False, verbosity=None)"
      ]
     },
     "execution_count": 37,
     "metadata": {},
     "output_type": "execute_result"
    }
   ],
   "source": [
    "trained_model_cats"
   ]
  },
  {
   "cell_type": "code",
   "execution_count": 38,
   "id": "132188c2",
   "metadata": {},
   "outputs": [],
   "source": [
    "from sklearn.metrics import f1_score"
   ]
  },
  {
   "cell_type": "code",
   "execution_count": 39,
   "id": "ed049d52",
   "metadata": {},
   "outputs": [
    {
     "name": "stdout",
     "output_type": "stream",
     "text": [
      "The f1:0.6704760992645649\n"
     ]
    }
   ],
   "source": [
    "print(f\"The f1:{f1_score(y_test_cats, trained_model_cats.predict(X_test_cats_transf), average='macro')}\")"
   ]
  },
  {
   "cell_type": "code",
   "execution_count": 40,
   "id": "e5046eba",
   "metadata": {},
   "outputs": [],
   "source": [
    "from From_Shelter_to_Love.trainer import preprocessing_and_train_dogs"
   ]
  },
  {
   "cell_type": "code",
   "execution_count": 44,
   "id": "20e69355",
   "metadata": {},
   "outputs": [],
   "source": [
    "trained_model_dogs, y_test_dogs, X_test_dogs_transf = preprocessing_and_train_dogs()"
   ]
  },
  {
   "cell_type": "code",
   "execution_count": 45,
   "id": "2b8df98c",
   "metadata": {
    "scrolled": true
   },
   "outputs": [
    {
     "data": {
      "text/plain": [
       "RandomForestClassifier(class_weight='balanced_subsample', max_depth=10,\n",
       "                       max_features='log2', min_samples_leaf=2,\n",
       "                       min_samples_split=5, n_jobs=1)"
      ]
     },
     "execution_count": 45,
     "metadata": {},
     "output_type": "execute_result"
    }
   ],
   "source": [
    "trained_model_dogs"
   ]
  },
  {
   "cell_type": "code",
   "execution_count": 46,
   "id": "dcd15ee2",
   "metadata": {},
   "outputs": [
    {
     "name": "stdout",
     "output_type": "stream",
     "text": [
      "The f1:0.6166614226646503\n"
     ]
    }
   ],
   "source": [
    "print(f\"The f1:{f1_score(y_test_dogs, trained_model_dogs.predict(X_test_dogs_transf), average='macro')}\")"
   ]
  },
  {
   "cell_type": "markdown",
   "id": "ee882661",
   "metadata": {},
   "source": [
    "## Testing API"
   ]
  },
  {
   "cell_type": "code",
   "execution_count": 5,
   "id": "a5b08c8f",
   "metadata": {},
   "outputs": [],
   "source": [
    "from From_Shelter_to_Love.pipeline import preprocessor\n",
    "from From_Shelter_to_Love.trainer import split_cats, split_dogs\n",
    "import joblib"
   ]
  },
  {
   "cell_type": "code",
   "execution_count": 6,
   "id": "4cef72d8",
   "metadata": {},
   "outputs": [],
   "source": [
    "import pandas as pd"
   ]
  },
  {
   "cell_type": "code",
   "execution_count": 8,
   "id": "1cb97e31",
   "metadata": {},
   "outputs": [
    {
     "name": "stdout",
     "output_type": "stream",
     "text": [
      "split data of cats\n",
      "{'prediction': array([0])}\n"
     ]
    }
   ],
   "source": [
    "intake_type = 'Stray'\n",
    "intake_condition = 'Normal'\n",
    "breed = 'Mixed'\n",
    "age_upon_intake_months = '21'\n",
    "neutered_or_spayed_intake = '1'\n",
    "male_or_female_intake = '0'\n",
    "color ='Black'\n",
    "animal_type = 'Cat'\n",
    "\n",
    "dic = {\"intake_type\": [intake_type],\n",
    "        \"intake_condition\": [intake_condition],\n",
    "        \"breed\": [breed],\n",
    "        \"age_upon_intake_months\": [float(age_upon_intake_months)],\n",
    "        \"neutered_or_spayed_intake\": [int(neutered_or_spayed_intake)],\n",
    "        \"male_or_female_intake\": [float(male_or_female_intake)],\n",
    "        \"color\": [color] \n",
    "        }\n",
    "\n",
    "X_pred = pd.DataFrame.from_dict(dic)\n",
    "\n",
    "if animal_type == \"Cat\":\n",
    "\n",
    "    X_train_cats, y_train_cats, X_test_cats, y_test_cats = split_cats()\n",
    "    prep = preprocessor()\n",
    "    prep.fit(X_train_cats, y_train_cats)\n",
    "    X_pred_t = prep.transform(X_pred)\n",
    "\n",
    "    PATH_TO_LOCAL_MODEL = '../catsmodel.joblib'\n",
    "\n",
    "    model = joblib.load(PATH_TO_LOCAL_MODEL)\n",
    "\n",
    "    y_pred = (model.predict(X_pred_t))\n",
    "\n",
    "    print({\"prediction\": y_pred})\n",
    "\n"
   ]
  },
  {
   "cell_type": "code",
   "execution_count": 11,
   "id": "09876adb",
   "metadata": {},
   "outputs": [
    {
     "name": "stdout",
     "output_type": "stream",
     "text": [
      "split data of cats\n"
     ]
    },
    {
     "data": {
      "text/plain": [
       "{'prediction': 0}"
      ]
     },
     "execution_count": 11,
     "metadata": {},
     "output_type": "execute_result"
    }
   ],
   "source": [
    "dic = {\"intake_type\": ['Stray'],\n",
    "        \"intake_condition\": ['Normal'],\n",
    "        \"breed\": ['Mixed'],\n",
    "        \"age_upon_intake_months\": [21],\n",
    "        \"neutered_or_spayed_intake\":[1],\n",
    "        \"male_or_female_intake\": [0],\n",
    "        \"color\": ['Black'] \n",
    "        }\n",
    "\n",
    "X_pred = pd.DataFrame.from_dict(dic)\n",
    "\n",
    "X_train_cats, y_train_cats, X_test_cats, y_test_cats = split_cats()\n",
    "prep = preprocessor()\n",
    "prep.fit(X_train_cats, y_train_cats)\n",
    "X_pred_t = prep.transform(X_pred) \n",
    "\n",
    "y_pred = (trained_model_cats.predict(X_pred_t))[0]\n",
    "\n",
    "z = {\"prediction\": y_pred}\n",
    "z"
   ]
  },
  {
   "cell_type": "code",
   "execution_count": 14,
   "id": "a5778c7b",
   "metadata": {},
   "outputs": [
    {
     "data": {
      "text/plain": [
       "0"
      ]
     },
     "execution_count": 14,
     "metadata": {},
     "output_type": "execute_result"
    }
   ],
   "source": [
    "y_pred"
   ]
  },
  {
   "cell_type": "code",
   "execution_count": 12,
   "id": "90957cce",
   "metadata": {},
   "outputs": [
    {
     "data": {
      "text/html": [
       "<div>\n",
       "<style scoped>\n",
       "    .dataframe tbody tr th:only-of-type {\n",
       "        vertical-align: middle;\n",
       "    }\n",
       "\n",
       "    .dataframe tbody tr th {\n",
       "        vertical-align: top;\n",
       "    }\n",
       "\n",
       "    .dataframe thead th {\n",
       "        text-align: right;\n",
       "    }\n",
       "</style>\n",
       "<table border=\"1\" class=\"dataframe\">\n",
       "  <thead>\n",
       "    <tr style=\"text-align: right;\">\n",
       "      <th></th>\n",
       "      <th>intake_type</th>\n",
       "      <th>intake_condition</th>\n",
       "      <th>breed</th>\n",
       "      <th>age_upon_intake_months</th>\n",
       "      <th>neutered_or_spayed_intake</th>\n",
       "      <th>male_or_female_intake</th>\n",
       "      <th>color</th>\n",
       "    </tr>\n",
       "  </thead>\n",
       "  <tbody>\n",
       "    <tr>\n",
       "      <th>21565</th>\n",
       "      <td>Stray</td>\n",
       "      <td>Normal</td>\n",
       "      <td>Mixed</td>\n",
       "      <td>12.0</td>\n",
       "      <td>0</td>\n",
       "      <td>0.0</td>\n",
       "      <td>Tricolor</td>\n",
       "    </tr>\n",
       "    <tr>\n",
       "      <th>16587</th>\n",
       "      <td>Owner Surrender</td>\n",
       "      <td>Normal</td>\n",
       "      <td>Mixed</td>\n",
       "      <td>24.0</td>\n",
       "      <td>0</td>\n",
       "      <td>1.0</td>\n",
       "      <td>Light</td>\n",
       "    </tr>\n",
       "    <tr>\n",
       "      <th>79907</th>\n",
       "      <td>Stray</td>\n",
       "      <td>Injured</td>\n",
       "      <td>Mixed</td>\n",
       "      <td>12.0</td>\n",
       "      <td>0</td>\n",
       "      <td>1.0</td>\n",
       "      <td>Dark</td>\n",
       "    </tr>\n",
       "    <tr>\n",
       "      <th>98522</th>\n",
       "      <td>Stray</td>\n",
       "      <td>Normal</td>\n",
       "      <td>Mixed</td>\n",
       "      <td>1.0</td>\n",
       "      <td>0</td>\n",
       "      <td>1.0</td>\n",
       "      <td>Bicolor</td>\n",
       "    </tr>\n",
       "    <tr>\n",
       "      <th>86571</th>\n",
       "      <td>Stray</td>\n",
       "      <td>Normal</td>\n",
       "      <td>Mixed</td>\n",
       "      <td>3.0</td>\n",
       "      <td>0</td>\n",
       "      <td>1.0</td>\n",
       "      <td>Dark</td>\n",
       "    </tr>\n",
       "    <tr>\n",
       "      <th>...</th>\n",
       "      <td>...</td>\n",
       "      <td>...</td>\n",
       "      <td>...</td>\n",
       "      <td>...</td>\n",
       "      <td>...</td>\n",
       "      <td>...</td>\n",
       "      <td>...</td>\n",
       "    </tr>\n",
       "    <tr>\n",
       "      <th>93319</th>\n",
       "      <td>Stray</td>\n",
       "      <td>Normal</td>\n",
       "      <td>Mixed</td>\n",
       "      <td>2.0</td>\n",
       "      <td>0</td>\n",
       "      <td>1.0</td>\n",
       "      <td>Light</td>\n",
       "    </tr>\n",
       "    <tr>\n",
       "      <th>66686</th>\n",
       "      <td>Owner Surrender</td>\n",
       "      <td>Normal</td>\n",
       "      <td>Mixed</td>\n",
       "      <td>132.0</td>\n",
       "      <td>1</td>\n",
       "      <td>1.0</td>\n",
       "      <td>Bicolor</td>\n",
       "    </tr>\n",
       "    <tr>\n",
       "      <th>69761</th>\n",
       "      <td>Stray</td>\n",
       "      <td>Normal</td>\n",
       "      <td>Mixed</td>\n",
       "      <td>2.0</td>\n",
       "      <td>0</td>\n",
       "      <td>1.0</td>\n",
       "      <td>Dark</td>\n",
       "    </tr>\n",
       "    <tr>\n",
       "      <th>93328</th>\n",
       "      <td>Stray</td>\n",
       "      <td>Normal</td>\n",
       "      <td>Mixed</td>\n",
       "      <td>2.0</td>\n",
       "      <td>0</td>\n",
       "      <td>1.0</td>\n",
       "      <td>Dark</td>\n",
       "    </tr>\n",
       "    <tr>\n",
       "      <th>43224</th>\n",
       "      <td>Stray</td>\n",
       "      <td>Injured</td>\n",
       "      <td>Mixed</td>\n",
       "      <td>120.0</td>\n",
       "      <td>1</td>\n",
       "      <td>0.0</td>\n",
       "      <td>Bicolor</td>\n",
       "    </tr>\n",
       "  </tbody>\n",
       "</table>\n",
       "<p>30690 rows × 7 columns</p>\n",
       "</div>"
      ],
      "text/plain": [
       "           intake_type intake_condition  breed  age_upon_intake_months  \\\n",
       "21565            Stray           Normal  Mixed                    12.0   \n",
       "16587  Owner Surrender           Normal  Mixed                    24.0   \n",
       "79907            Stray          Injured  Mixed                    12.0   \n",
       "98522            Stray           Normal  Mixed                     1.0   \n",
       "86571            Stray           Normal  Mixed                     3.0   \n",
       "...                ...              ...    ...                     ...   \n",
       "93319            Stray           Normal  Mixed                     2.0   \n",
       "66686  Owner Surrender           Normal  Mixed                   132.0   \n",
       "69761            Stray           Normal  Mixed                     2.0   \n",
       "93328            Stray           Normal  Mixed                     2.0   \n",
       "43224            Stray          Injured  Mixed                   120.0   \n",
       "\n",
       "       neutered_or_spayed_intake  male_or_female_intake     color  \n",
       "21565                          0                    0.0  Tricolor  \n",
       "16587                          0                    1.0     Light  \n",
       "79907                          0                    1.0      Dark  \n",
       "98522                          0                    1.0   Bicolor  \n",
       "86571                          0                    1.0      Dark  \n",
       "...                          ...                    ...       ...  \n",
       "93319                          0                    1.0     Light  \n",
       "66686                          1                    1.0   Bicolor  \n",
       "69761                          0                    1.0      Dark  \n",
       "93328                          0                    1.0      Dark  \n",
       "43224                          1                    0.0   Bicolor  \n",
       "\n",
       "[30690 rows x 7 columns]"
      ]
     },
     "execution_count": 12,
     "metadata": {},
     "output_type": "execute_result"
    }
   ],
   "source": [
    "X_train_cats"
   ]
  },
  {
   "cell_type": "code",
   "execution_count": 13,
   "id": "b384a556",
   "metadata": {},
   "outputs": [
    {
     "data": {
      "text/html": [
       "<div>\n",
       "<style scoped>\n",
       "    .dataframe tbody tr th:only-of-type {\n",
       "        vertical-align: middle;\n",
       "    }\n",
       "\n",
       "    .dataframe tbody tr th {\n",
       "        vertical-align: top;\n",
       "    }\n",
       "\n",
       "    .dataframe thead th {\n",
       "        text-align: right;\n",
       "    }\n",
       "</style>\n",
       "<table border=\"1\" class=\"dataframe\">\n",
       "  <thead>\n",
       "    <tr style=\"text-align: right;\">\n",
       "      <th></th>\n",
       "      <th>intake_type</th>\n",
       "      <th>intake_condition</th>\n",
       "      <th>breed</th>\n",
       "      <th>age_upon_intake_months</th>\n",
       "      <th>neutered_or_spayed_intake</th>\n",
       "      <th>male_or_female_intake</th>\n",
       "      <th>color</th>\n",
       "    </tr>\n",
       "  </thead>\n",
       "  <tbody>\n",
       "    <tr>\n",
       "      <th>0</th>\n",
       "      <td>Stray</td>\n",
       "      <td>Normal</td>\n",
       "      <td>Mixed</td>\n",
       "      <td>21</td>\n",
       "      <td>1</td>\n",
       "      <td>0</td>\n",
       "      <td>Black</td>\n",
       "    </tr>\n",
       "  </tbody>\n",
       "</table>\n",
       "</div>"
      ],
      "text/plain": [
       "  intake_type intake_condition  breed  age_upon_intake_months  \\\n",
       "0       Stray           Normal  Mixed                      21   \n",
       "\n",
       "   neutered_or_spayed_intake  male_or_female_intake  color  \n",
       "0                          1                      0  Black  "
      ]
     },
     "execution_count": 13,
     "metadata": {},
     "output_type": "execute_result"
    }
   ],
   "source": [
    "X_pred"
   ]
  },
  {
   "cell_type": "markdown",
   "id": "5a9cf98e",
   "metadata": {},
   "source": [
    "# API & Interface"
   ]
  },
  {
   "cell_type": "code",
   "execution_count": null,
   "id": "767096de",
   "metadata": {},
   "outputs": [],
   "source": [
    "Remote:\n",
    "    \n",
    "pip install git+https://github.com/anaiscasilva/from_shelter_to_love"
   ]
  },
  {
   "cell_type": "code",
   "execution_count": null,
   "id": "22219e6d",
   "metadata": {},
   "outputs": [],
   "source": [
    "Install the pakage:\n",
    "    \n",
    "pip install -e ."
   ]
  },
  {
   "cell_type": "code",
   "execution_count": null,
   "id": "30751c61",
   "metadata": {},
   "outputs": [],
   "source": [
    "pip install -r requirements.txt"
   ]
  },
  {
   "cell_type": "markdown",
   "id": "e84e8ee3",
   "metadata": {},
   "source": [
    "## Create the Bucket in GCP"
   ]
  },
  {
   "cell_type": "code",
   "execution_count": null,
   "id": "e2502970",
   "metadata": {},
   "outputs": [],
   "source": [
    "No makefile:\n",
    "\n",
    "# project id - replace with your GCP project id\n",
    "PROJECT_ID=XXX\n",
    "\n",
    "# bucket name - replace with your GCP bucket name\n",
    "BUCKET_NAME=XXX\n",
    "\n",
    "# choose your region from https://cloud.google.com/storage/docs/locations#available_locations\n",
    "REGION=europe-west1\n",
    "\n",
    "set_project:\n",
    "    @gcloud config set project ${PROJECT_ID}\n",
    "\n",
    "create_bucket:\n",
    "    @gsutil mb -l ${REGION} -p ${PROJECT_ID} gs://${BUCKET_NAME}"
   ]
  },
  {
   "cell_type": "code",
   "execution_count": null,
   "id": "7f0829f6",
   "metadata": {},
   "outputs": [],
   "source": [
    "Run no terminal:\n",
    "\n",
    "make set_project\n",
    "make create_bucket"
   ]
  },
  {
   "cell_type": "markdown",
   "id": "9884ec94",
   "metadata": {
    "heading_collapsed": true
   },
   "source": [
    "## Upload the data in GCP "
   ]
  },
  {
   "cell_type": "code",
   "execution_count": null,
   "id": "5e0f8498",
   "metadata": {
    "hidden": true
   },
   "outputs": [],
   "source": [
    "No makefile:\n",
    "    \n",
    "# path to the file to upload to GCP (the path to the file should be absolute or should match the directory where the make command is ran)\n",
    "# replace with your local path to the `train_1k.csv` and make sure to put the path between quotes\n",
    "LOCAL_PATH=\"XXX\"\n",
    "\n",
    "# bucket directory in which to store the uploaded file (`data` is an arbitrary name that we choose to use)\n",
    "BUCKET_FOLDER=data\n",
    "\n",
    "# name for the uploaded file inside of the bucket (we choose not to rename the file that we upload)\n",
    "BUCKET_FILE_NAME=$(shell basename ${LOCAL_PATH})\n",
    "\n",
    "upload_data:\n",
    "    # @gsutil cp train_1k.csv gs://wagon-ml-my-bucket-name/data/train_1k.csv\n",
    "    @gsutil cp ${LOCAL_PATH} gs://${BUCKET_NAME}/${BUCKET_FOLDER}/${BUCKET_FILE_NAME}"
   ]
  },
  {
   "cell_type": "code",
   "execution_count": null,
   "id": "922a0525",
   "metadata": {
    "hidden": true
   },
   "outputs": [],
   "source": [
    "Run no terminal:\n",
    "\n",
    "make upload_data"
   ]
  },
  {
   "cell_type": "markdown",
   "id": "f1e1d07f",
   "metadata": {},
   "source": [
    "## Creating a model.joblib"
   ]
  },
  {
   "cell_type": "code",
   "execution_count": null,
   "id": "ebcca505",
   "metadata": {},
   "outputs": [],
   "source": [
    "Example No trainer.py:\n",
    "    \n",
    "    \n",
    "from google.cloud import storage\n",
    "import pandas as pd\n",
    "from sklearn import linear_model\n",
    "import numpy as np\n",
    "import joblib\n",
    "\n",
    "BUCKET_NAME = 'wagon-data-682-silva'\n",
    "BUCKET_TRAIN_DATA_PATH = 'data/train_1k.csv'\n",
    "MODEL_NAME = 'taxifare'\n",
    "MODEL_VERSION = 'v1'\n",
    "\n",
    "def get_data():\n",
    "    \"\"\"method to get the training data (or a portion of it) from google cloud bucket\"\"\"\n",
    "    df = pd.read_csv(f\"gs://{BUCKET_NAME}/{BUCKET_TRAIN_DATA_PATH}\", nrows=1000)\n",
    "    return df\n",
    "\n",
    "\n",
    "def compute_distance(df,\n",
    "                     start_lat=\"pickup_latitude\",\n",
    "                     start_lon=\"pickup_longitude\",\n",
    "                     end_lat=\"dropoff_latitude\",\n",
    "                     end_lon=\"dropoff_longitude\"):\n",
    "    lat_1_rad, lon_1_rad = np.radians(df[start_lat].astype(float)), np.radians(df[start_lon].astype(float))\n",
    "    lat_2_rad, lon_2_rad = np.radians(df[end_lat].astype(float)), np.radians(df[end_lon].astype(float))\n",
    "    dlon = lon_2_rad - lon_1_rad\n",
    "    dlat = lat_2_rad - lat_1_rad\n",
    "\n",
    "    a = np.sin(dlat / 2.0) ** 2 + np.cos(lat_1_rad) * np.cos(lat_2_rad) * np.sin(dlon / 2.0) ** 2\n",
    "    c = 2 * np.arcsin(np.sqrt(a))\n",
    "    return 6371 * c\n",
    "\n",
    "\n",
    "def preprocess(df):\n",
    "    \"\"\"method that pre-process the data\"\"\"\n",
    "    df[\"distance\"] = compute_distance(df)\n",
    "    X_train = df[[\"distance\"]]\n",
    "    y_train = df[\"fare_amount\"]\n",
    "    return X_train, y_train\n",
    "\n",
    "\n",
    "def train_model(X_train, y_train):\n",
    "    \"\"\"method that trains the model\"\"\"\n",
    "    rgs = linear_model.Lasso(alpha=0.1)\n",
    "    rgs.fit(X_train, y_train)\n",
    "    print(\"trained model\")\n",
    "    return rgs\n",
    "\n",
    "\n",
    "STORAGE_LOCATION = 'models/simpletaxifare/model.joblib'\n",
    "\n",
    "\n",
    "def upload_model_to_gcp():\n",
    "\n",
    "    client = storage.Client()\n",
    "\n",
    "    bucket = client.bucket(BUCKET_NAME)\n",
    "\n",
    "    blob = bucket.blob(STORAGE_LOCATION)\n",
    "\n",
    "    blob.upload_from_filename('model.joblib')\n",
    "\n",
    "\n",
    "def save_model(reg):\n",
    "    \"\"\"method that saves the model into a .joblib file and uploads it on Google Storage /models folder\n",
    "    HINTS : use joblib library and google-cloud-storage\"\"\"\n",
    "\n",
    "    # saving the trained model to disk is mandatory to then beeing able to upload it to storage\n",
    "    # Implement here\n",
    "    joblib.dump(reg, 'model.joblib')\n",
    "    print(\"saved model.joblib locally\")\n",
    "\n",
    "    # Implement here\n",
    "    upload_model_to_gcp()\n",
    "    print(f\"uploaded model.joblib to gcp cloud storage under \\n => {STORAGE_LOCATION}\")\n",
    "\n",
    "\n",
    "if __name__ == '__main__':\n",
    "    # get training data from GCP bucket\n",
    "    df = get_data()\n",
    "\n",
    "    # preprocess data\n",
    "    X_train, y_train = preprocess(df)\n",
    "\n",
    "    # train model (locally if this file was called through the run_locally command\n",
    "    # or on GCP if it was called through the gcp_submit_training, in which case\n",
    "    # this package is uploaded to GCP before being executed)\n",
    "    reg = train_model(X_train, y_train)\n",
    "\n",
    "    # save trained model to GCP bucket (whether the training occured locally or on GCP)\n",
    "    save_model(reg)\n"
   ]
  },
  {
   "cell_type": "code",
   "execution_count": null,
   "id": "9595ab99",
   "metadata": {},
   "outputs": [],
   "source": [
    "pip install -r requirements.txt\n",
    "make run_locally --> to see how it runs "
   ]
  },
  {
   "cell_type": "code",
   "execution_count": null,
   "id": "ff69f0fc",
   "metadata": {},
   "outputs": [],
   "source": [
    "model.joblib was created locally and on GCP "
   ]
  },
  {
   "cell_type": "markdown",
   "id": "4903e1ca",
   "metadata": {},
   "source": [
    "## Creating Fast API"
   ]
  },
  {
   "cell_type": "code",
   "execution_count": null,
   "id": "56579d41",
   "metadata": {},
   "outputs": [],
   "source": [
    "Create a api folder and a fast.py file"
   ]
  },
  {
   "cell_type": "code",
   "execution_count": null,
   "id": "a3553559",
   "metadata": {},
   "outputs": [],
   "source": [
    "No makefile:\n",
    "       \n",
    "run_api:\n",
    "    uvicorn api.fast:app --reload  # load web server with code autoreload"
   ]
  },
  {
   "cell_type": "code",
   "execution_count": null,
   "id": "31eb473c",
   "metadata": {},
   "outputs": [],
   "source": [
    "Example No fast.py:\n",
    "    \n",
    "from fastapi import FastAPI\n",
    "from fastapi.middleware.cors import CORSMiddleware\n",
    "from datetime import datetime\n",
    "import pytz\n",
    "import pandas as pd\n",
    "import joblib\n",
    "\n",
    "app = FastAPI()\n",
    "\n",
    "app.add_middleware(\n",
    "    CORSMiddleware,\n",
    "    allow_origins=[\"*\"],  # Allows all origins\n",
    "    allow_credentials=True,\n",
    "    allow_methods=[\"*\"],  # Allows all methods\n",
    "    allow_headers=[\"*\"],  # Allows all headers\n",
    ")\n",
    "\n",
    "@app.get(\"/\")\n",
    "def index():\n",
    "    return {\"greeting\": \"Hello world\"}\n",
    "\n",
    "@app.get(\"/predict\")\n",
    "def predict(pickup_datetime, pickup_longitude, pickup_latitude, dropoff_longitude, dropoff_latitude, passenger_count):\n",
    "    \n",
    "    # create a datetime object from the user provided datetime\n",
    "    pickup_datetime = datetime.strptime(pickup_datetime, \"%Y-%m-%d %H:%M:%S\")\n",
    "\n",
    "    # localize the user datetime with NYC timezone\n",
    "    eastern = pytz.timezone(\"US/Eastern\")\n",
    "    localized_pickup_datetime = eastern.localize(pickup_datetime, is_dst=None)\n",
    "\n",
    "    # localize the datetime to UTC\n",
    "    utc_pickup_datetime = localized_pickup_datetime.astimezone(pytz.utc)\n",
    "\n",
    "    formatted_pickup_datetime = utc_pickup_datetime.strftime(\"%Y-%m-%d %H:%M:%S UTC\")\n",
    "\n",
    "    key = '2013-07-06 17:18:00.000000119'\n",
    "    \n",
    "    dic = {\"key\": [key],\n",
    "        \"pickup_datetime\": [formatted_pickup_datetime],\n",
    "        \"pickup_longitude\": [float(pickup_longitude)],\n",
    "        \"pickup_latitude\": [float(pickup_latitude)],\n",
    "        \"dropoff_longitude\": [float(dropoff_longitude)],\n",
    "        \"dropoff_latitude\": [float(dropoff_latitude)],\n",
    "        \"passenger_count\": [int(passenger_count)]\n",
    "        }\n",
    "\n",
    "    X_pred = pd.DataFrame.from_dict(dic)\n",
    "    \n",
    "    PATH_TO_LOCAL_MODEL = 'model.joblib'\n",
    "    \n",
    "    pipeline = joblib.load(PATH_TO_LOCAL_MODEL)\n",
    "\n",
    "    y_pred = (pipeline.predict(X_pred))[0]\n",
    "\n",
    "    return {\"prediction\": y_pred}"
   ]
  },
  {
   "cell_type": "code",
   "execution_count": null,
   "id": "3c72bf8a",
   "metadata": {},
   "outputs": [],
   "source": [
    "make run_api"
   ]
  },
  {
   "cell_type": "code",
   "execution_count": null,
   "id": "f5244e88",
   "metadata": {},
   "outputs": [],
   "source": [
    "http://localhost:8000"
   ]
  },
  {
   "cell_type": "markdown",
   "id": "358b4c0c",
   "metadata": {},
   "source": [
    "* until now only locally running "
   ]
  },
  {
   "cell_type": "code",
   "execution_count": 3,
   "id": "a75a2e16",
   "metadata": {},
   "outputs": [
    {
     "data": {
      "text/plain": [
       "{'prediction': 0}"
      ]
     },
     "execution_count": 3,
     "metadata": {},
     "output_type": "execute_result"
    }
   ],
   "source": [
    "# test on jupyter:\n",
    "\n",
    "import requests\n",
    "url = 'http://localhost:8000/predict'\n",
    "params ={\"intake_type\": 'Stray',\n",
    "         \"animal_type\": 'Cat',\n",
    "        \"intake_condition\": 'Normal',\n",
    "        \"breed\": 'Mixed',\n",
    "        \"age_upon_intake_months\": '21',\n",
    "        \"neutered_or_spayed_intake\":'1',\n",
    "        \"male_or_female_intake\": '0',\n",
    "        \"color\": 'Black' \n",
    "        }\n",
    "response = requests.get(url, params=params)\n",
    "response.json()"
   ]
  },
  {
   "cell_type": "markdown",
   "id": "39865e83",
   "metadata": {},
   "source": [
    "## Docker"
   ]
  },
  {
   "cell_type": "code",
   "execution_count": null,
   "id": "eebda4fc",
   "metadata": {},
   "outputs": [],
   "source": [
    "Create a Dockerfile:\n",
    "    \n",
    "    \n",
    "# write some code to build your image\n",
    "\n",
    "FROM python:3.8.6-buster\n",
    "\n",
    "COPY api /api\n",
    "COPY TaxiFareModel /TaxiFareModel\n",
    "COPY model.joblib /model.joblib\n",
    "COPY requirements.txt /requirements.txt\n",
    "#COPY /home/isa/code/anaiscasilva/gcp/wagon-bootcamp-320316-49d8c8f5f779.json /credentials.json\n",
    "\n",
    "RUN pip install --upgrade pip\n",
    "RUN pip install -r requirements.txt\n",
    "\n",
    "CMD uvicorn api.fast:app --host 0.0.0.0 --port $PORT"
   ]
  },
  {
   "cell_type": "code",
   "execution_count": null,
   "id": "86d1e9d4",
   "metadata": {},
   "outputs": [],
   "source": [
    "docker build . -t <name of image> ---> create a image "
   ]
  },
  {
   "cell_type": "code",
   "execution_count": null,
   "id": "34fd7d38",
   "metadata": {},
   "outputs": [],
   "source": [
    "docker run <name of image> --> to run the image "
   ]
  },
  {
   "cell_type": "code",
   "execution_count": null,
   "id": "5fab14e1",
   "metadata": {},
   "outputs": [],
   "source": [
    "docker run <name of image> sh --> to run the image interactively "
   ]
  },
  {
   "cell_type": "code",
   "execution_count": null,
   "id": "905769a9",
   "metadata": {},
   "outputs": [],
   "source": [
    "docker run -p 8080:8000 api --> run the container"
   ]
  },
  {
   "cell_type": "code",
   "execution_count": null,
   "id": "8b090d95",
   "metadata": {},
   "outputs": [],
   "source": [
    "http://localhost:8080/"
   ]
  },
  {
   "cell_type": "code",
   "execution_count": null,
   "id": "a6cb7ba8",
   "metadata": {},
   "outputs": [],
   "source": [
    "docker ps --> List the running containers"
   ]
  },
  {
   "cell_type": "markdown",
   "id": "1fd58fe6",
   "metadata": {},
   "source": [
    "### Deploy to Could Run"
   ]
  },
  {
   "cell_type": "code",
   "execution_count": null,
   "id": "9836c35f",
   "metadata": {},
   "outputs": [],
   "source": [
    "export PROJECT_ID=replace-with-your-gcloud-project-id\n",
    "echo $PROJECT_ID\n",
    "gcloud config set project $PROJECT_ID"
   ]
  },
  {
   "cell_type": "code",
   "execution_count": null,
   "id": "148fae8c",
   "metadata": {},
   "outputs": [],
   "source": [
    "export DOCKER_IMAGE_NAME=define-some-container-image-name\n",
    "echo $DOCKER_IMAGE_NAME"
   ]
  },
  {
   "cell_type": "code",
   "execution_count": null,
   "id": "2e5e1587",
   "metadata": {},
   "outputs": [],
   "source": [
    "docker build -t eu.gcr.io/$PROJECT_ID/$DOCKER_IMAGE_NAME ."
   ]
  },
  {
   "cell_type": "code",
   "execution_count": null,
   "id": "6e7077d4",
   "metadata": {},
   "outputs": [],
   "source": [
    "docker run -e PORT=8000 -p 8000:8000 eu.gcr.io/$PROJECT_ID/$DOCKER_IMAGE_NAME"
   ]
  },
  {
   "cell_type": "code",
   "execution_count": null,
   "id": "a6e34f41",
   "metadata": {},
   "outputs": [],
   "source": [
    "docker push eu.gcr.io/$PROJECT_ID/$DOCKER_IMAGE_NAME"
   ]
  },
  {
   "cell_type": "code",
   "execution_count": null,
   "id": "d25cebae",
   "metadata": {},
   "outputs": [],
   "source": [
    "gcloud run deploy --image eu.gcr.io/$PROJECT_ID/$DOCKER_IMAGE_NAME --platform managed --region europe-west1"
   ]
  },
  {
   "cell_type": "code",
   "execution_count": null,
   "id": "81c6800b",
   "metadata": {},
   "outputs": [],
   "source": [
    "output:\n",
    "\n",
    "Service name (wagon-data-tpl-image):\n",
    "Allow unauthenticated invocations to [wagon-data-tpl-image] (y/N)?  y\n",
    "\n",
    "Deploying container to Cloud Run service [wagon-data-tpl-image] in project [le-wagon-data] region [europe-west1]\n",
    "✓ Deploying new service... Done.\n",
    "  ✓ Creating Revision... Revision deployment finished. Waiting for health check to begin.\n",
    "  ✓ Routing traffic...\n",
    "  ✓ Setting IAM Policy...\n",
    "Done.\n",
    "Service [wagon-data-tpl-image] revision [wagon-data-tpl-image-00001-kup] has been deployed and is serving 100 percent of traffic.\n",
    "Service URL: https://wagon-data-tpl-image-xi54eseqrq-ew.a.run.app"
   ]
  },
  {
   "cell_type": "code",
   "execution_count": null,
   "id": "f328adef",
   "metadata": {},
   "outputs": [],
   "source": [
    "API to use: https://wagon-data-tpl-image-xi54eseqrq-ew.a.run.app"
   ]
  },
  {
   "cell_type": "code",
   "execution_count": null,
   "id": "d2490808",
   "metadata": {},
   "outputs": [],
   "source": []
  },
  {
   "cell_type": "markdown",
   "id": "1d72600d",
   "metadata": {},
   "source": [
    "## Creating a streamlit website "
   ]
  },
  {
   "cell_type": "code",
   "execution_count": null,
   "id": "a8bcd02b",
   "metadata": {},
   "outputs": [],
   "source": [
    "Create a app.py file"
   ]
  },
  {
   "cell_type": "code",
   "execution_count": null,
   "id": "a6fe789b",
   "metadata": {},
   "outputs": [],
   "source": [
    "No app.py:\n",
    "\n",
    "import streamlit as st\n",
    "import requests\n",
    "\n",
    "'''\n",
    "# From Shelter to Love\n",
    "'''\n",
    "\n",
    "'''\n",
    "## Select your animal characteristics\n",
    "'''\n",
    "\n",
    "\n",
    "'''\n",
    "## Prediction the animal staying\n",
    "'''\n",
    "\n",
    "#if animal_type == \"cat\":\n",
    "    #pass\n",
    "\n",
    "# url = 'https://isy-cont-image-6uajp3sgsa-ew.a.run.app/predict'\n",
    "\n",
    "#params = {\"Intake Type\": intake_type,\n",
    "        # \"Intake Condition\": intake_condition,\n",
    "        # \"Breed\": breed,\n",
    "        # \"age_upon_intake_months\": age_upon_intake_months,\n",
    "        # \"neutered_or_spayed_intake\": neutered_or_spayed_intake,\n",
    "        # \"male_or_female_intake\": male_or_female_intake,\n",
    "        # \"color\": color}\n",
    "\n",
    "#if st.button('Predict'):\n",
    "    # # PRINT IS VISIBLE IN THE SERVER OUTPUT, NOT IN THE PAGE\n",
    "    # RESPONSE = REQUESTS.GET(URL, PARAMS=PARAMS).JSON()\n",
    "    # ST.WRITE(RESPONSE['PREDICTION'])\n"
   ]
  },
  {
   "cell_type": "code",
   "execution_count": null,
   "id": "59134f7c",
   "metadata": {},
   "outputs": [],
   "source": [
    "No makefile:\n",
    "       \n",
    "# ----------------------------------\n",
    "#         HEROKU COMMANDS\n",
    "# ----------------------------------\n",
    "\n",
    "streamlit:\n",
    "\t-@streamlit run app.py\n",
    "\n",
    "heroku_login:\n",
    "\t-@heroku login\n",
    "\n",
    "APP_NAME = From_Shelter_to_Love\n",
    "\n",
    "heroku_create_app:\n",
    "\t-@heroku create ${APP_NAME}\n",
    "\n",
    "deploy_heroku:\n",
    "\t-@git push heroku master\n",
    "\t-@heroku ps:scale web=1"
   ]
  },
  {
   "cell_type": "code",
   "execution_count": null,
   "id": "04c109b8",
   "metadata": {},
   "outputs": [],
   "source": [
    "No terminal:\n",
    "     make streamlit "
   ]
  },
  {
   "cell_type": "code",
   "execution_count": null,
   "id": "2cb5ee67",
   "metadata": {},
   "outputs": [],
   "source": [
    "http://localhost:8501"
   ]
  },
  {
   "cell_type": "markdown",
   "id": "a8e4803e",
   "metadata": {},
   "source": [
    "* until now only locally running "
   ]
  }
 ],
 "metadata": {
  "kernelspec": {
   "display_name": "Python 3 (ipykernel)",
   "language": "python",
   "name": "python3"
  },
  "language_info": {
   "codemirror_mode": {
    "name": "ipython",
    "version": 3
   },
   "file_extension": ".py",
   "mimetype": "text/x-python",
   "name": "python",
   "nbconvert_exporter": "python",
   "pygments_lexer": "ipython3",
   "version": "3.8.6"
  },
  "toc": {
   "base_numbering": 1,
   "nav_menu": {},
   "number_sections": true,
   "sideBar": true,
   "skip_h1_title": false,
   "title_cell": "Table of Contents",
   "title_sidebar": "Contents",
   "toc_cell": false,
   "toc_position": {},
   "toc_section_display": true,
   "toc_window_display": false
  }
 },
 "nbformat": 4,
 "nbformat_minor": 5
}
