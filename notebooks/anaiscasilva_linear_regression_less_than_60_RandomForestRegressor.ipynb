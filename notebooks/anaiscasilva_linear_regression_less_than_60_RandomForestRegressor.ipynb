{
 "cells": [
  {
   "cell_type": "code",
   "execution_count": 1,
   "id": "ae1cf7ab",
   "metadata": {},
   "outputs": [],
   "source": [
    "%load_ext autoreload\n",
    "%autoreload 2"
   ]
  },
  {
   "cell_type": "code",
   "execution_count": 2,
   "id": "801e2da3",
   "metadata": {},
   "outputs": [],
   "source": [
    "import pandas as pd\n",
    "import numpy as np"
   ]
  },
  {
   "cell_type": "code",
   "execution_count": 11,
   "id": "f404f208",
   "metadata": {},
   "outputs": [],
   "source": [
    "from sklearn.pipeline import Pipeline\n",
    "from sklearn.impute import SimpleImputer\n",
    "from sklearn.preprocessing import MinMaxScaler , FunctionTransformer,OneHotEncoder\n",
    "from sklearn.compose import make_column_selector,ColumnTransformer\n",
    "from sklearn.ensemble import RandomForestRegressor\n",
    "from sklearn.model_selection import GridSearchCV\n",
    "from sklearn.model_selection import ShuffleSplit"
   ]
  },
  {
   "cell_type": "markdown",
   "id": "8e4dc4c4",
   "metadata": {},
   "source": [
    "## Load the data"
   ]
  },
  {
   "cell_type": "code",
   "execution_count": 3,
   "id": "edd761a1",
   "metadata": {},
   "outputs": [],
   "source": [
    "from From_Shelter_to_Love.data_provisoria import get_data"
   ]
  },
  {
   "cell_type": "code",
   "execution_count": 4,
   "id": "cd1614c2",
   "metadata": {},
   "outputs": [],
   "source": [
    "df_all = get_data()"
   ]
  },
  {
   "cell_type": "markdown",
   "id": "9aca4b59",
   "metadata": {},
   "source": [
    "## Drop the outcome features and the data with more than 60 days in shelter "
   ]
  },
  {
   "cell_type": "code",
   "execution_count": 5,
   "id": "8a4d5039",
   "metadata": {},
   "outputs": [],
   "source": [
    "df = df_all.drop(columns =['Animal ID','age_upon_intake_years', 'age_upon_outcome_years', 'Outcome Type', 'age_upon_outcome_months', 'neutered_or_spayed_outcome', 'male_or_female_outcome', 'male_or_female_intake'], axis=1)\n",
    "df_less_60 = df[df['days_in_shelter'] < 60]\n"
   ]
  },
  {
   "cell_type": "code",
   "execution_count": 14,
   "id": "94915979",
   "metadata": {},
   "outputs": [
    {
     "data": {
      "text/html": [
       "<div>\n",
       "<style scoped>\n",
       "    .dataframe tbody tr th:only-of-type {\n",
       "        vertical-align: middle;\n",
       "    }\n",
       "\n",
       "    .dataframe tbody tr th {\n",
       "        vertical-align: top;\n",
       "    }\n",
       "\n",
       "    .dataframe thead th {\n",
       "        text-align: right;\n",
       "    }\n",
       "</style>\n",
       "<table border=\"1\" class=\"dataframe\">\n",
       "  <thead>\n",
       "    <tr style=\"text-align: right;\">\n",
       "      <th></th>\n",
       "      <th>Intake Type</th>\n",
       "      <th>Intake Condition</th>\n",
       "      <th>Animal Type</th>\n",
       "      <th>Breed</th>\n",
       "      <th>days_in_shelter</th>\n",
       "      <th>age_upon_intake_months</th>\n",
       "      <th>neutered_or_spayed_intake</th>\n",
       "      <th>group_color</th>\n",
       "    </tr>\n",
       "  </thead>\n",
       "  <tbody>\n",
       "    <tr>\n",
       "      <th>0</th>\n",
       "      <td>Public Assist</td>\n",
       "      <td>Normal</td>\n",
       "      <td>Dog</td>\n",
       "      <td>Mixed</td>\n",
       "      <td>2.0</td>\n",
       "      <td>72.0</td>\n",
       "      <td>1</td>\n",
       "      <td>Yellow</td>\n",
       "    </tr>\n",
       "    <tr>\n",
       "      <th>1</th>\n",
       "      <td>Owner Surrender</td>\n",
       "      <td>Normal</td>\n",
       "      <td>Dog</td>\n",
       "      <td>Dachshund</td>\n",
       "      <td>5.0</td>\n",
       "      <td>120.0</td>\n",
       "      <td>1</td>\n",
       "      <td>Tricolor</td>\n",
       "    </tr>\n",
       "    <tr>\n",
       "      <th>2</th>\n",
       "      <td>Public Assist</td>\n",
       "      <td>Injured</td>\n",
       "      <td>Dog</td>\n",
       "      <td>Shetland Sheepdog</td>\n",
       "      <td>1.0</td>\n",
       "      <td>192.0</td>\n",
       "      <td>1</td>\n",
       "      <td>Brown</td>\n",
       "    </tr>\n",
       "    <tr>\n",
       "      <th>3</th>\n",
       "      <td>Stray</td>\n",
       "      <td>Aged</td>\n",
       "      <td>Dog</td>\n",
       "      <td>Mixed</td>\n",
       "      <td>1.0</td>\n",
       "      <td>180.0</td>\n",
       "      <td>1</td>\n",
       "      <td>Black</td>\n",
       "    </tr>\n",
       "    <tr>\n",
       "      <th>4</th>\n",
       "      <td>Stray</td>\n",
       "      <td>Normal</td>\n",
       "      <td>Dog</td>\n",
       "      <td>Mixed</td>\n",
       "      <td>1.0</td>\n",
       "      <td>180.0</td>\n",
       "      <td>0</td>\n",
       "      <td>Black</td>\n",
       "    </tr>\n",
       "  </tbody>\n",
       "</table>\n",
       "</div>"
      ],
      "text/plain": [
       "       Intake Type Intake Condition Animal Type              Breed  \\\n",
       "0    Public Assist           Normal         Dog              Mixed   \n",
       "1  Owner Surrender           Normal         Dog          Dachshund   \n",
       "2    Public Assist          Injured         Dog  Shetland Sheepdog   \n",
       "3            Stray             Aged         Dog              Mixed   \n",
       "4            Stray           Normal         Dog              Mixed   \n",
       "\n",
       "   days_in_shelter  age_upon_intake_months  neutered_or_spayed_intake  \\\n",
       "0              2.0                    72.0                          1   \n",
       "1              5.0                   120.0                          1   \n",
       "2              1.0                   192.0                          1   \n",
       "3              1.0                   180.0                          1   \n",
       "4              1.0                   180.0                          0   \n",
       "\n",
       "  group_color  \n",
       "0      Yellow  \n",
       "1    Tricolor  \n",
       "2       Brown  \n",
       "3       Black  \n",
       "4       Black  "
      ]
     },
     "execution_count": 14,
     "metadata": {},
     "output_type": "execute_result"
    }
   ],
   "source": [
    "df_less_60.head(5)"
   ]
  },
  {
   "cell_type": "markdown",
   "id": "b81dfe53",
   "metadata": {},
   "source": [
    "## Baseline to less than 60 days in Shelter - RMSE"
   ]
  },
  {
   "cell_type": "code",
   "execution_count": 7,
   "id": "8a15ddec",
   "metadata": {},
   "outputs": [
    {
     "data": {
      "text/plain": [
       "12.985501995602426"
      ]
     },
     "execution_count": 7,
     "metadata": {},
     "output_type": "execute_result"
    }
   ],
   "source": [
    "y_pred = df_less_60['days_in_shelter'].mean()\n",
    "#RMSE\n",
    "np.sqrt(np.mean((y_pred - df_less_60['days_in_shelter'])**2))"
   ]
  },
  {
   "cell_type": "markdown",
   "id": "f8bb99bb",
   "metadata": {},
   "source": [
    "### Split the data"
   ]
  },
  {
   "cell_type": "code",
   "execution_count": 25,
   "id": "fffa20aa",
   "metadata": {},
   "outputs": [],
   "source": [
    "from sklearn.model_selection import train_test_split\n",
    "\n",
    "y = df_less_60[\"days_in_shelter\"]\n",
    "X = df_less_60.drop(columns = [\"days_in_shelter\"] , axis=1)\n",
    "\n",
    "X_train, X_test, y_train, y_test = train_test_split(X, y, test_size=0.3, random_state = 10)"
   ]
  },
  {
   "cell_type": "code",
   "execution_count": 26,
   "id": "eab4caaa",
   "metadata": {},
   "outputs": [],
   "source": [
    "X_train, X_val, y_train, y_val = train_test_split(X_train, y_train, test_size=0.3, random_state = 10)"
   ]
  },
  {
   "cell_type": "markdown",
   "id": "cc80da88",
   "metadata": {},
   "source": [
    "## Preprocessing "
   ]
  },
  {
   "cell_type": "code",
   "execution_count": 49,
   "id": "9bb035ef",
   "metadata": {},
   "outputs": [
    {
     "data": {
      "text/plain": [
       "Intake Type                   object\n",
       "Intake Condition              object\n",
       "Animal Type                   object\n",
       "Breed                         object\n",
       "age_upon_intake_months       float64\n",
       "neutered_or_spayed_intake      int64\n",
       "group_color                   object\n",
       "dtype: object"
      ]
     },
     "execution_count": 49,
     "metadata": {},
     "output_type": "execute_result"
    }
   ],
   "source": [
    "X.dtypes"
   ]
  },
  {
   "cell_type": "code",
   "execution_count": 27,
   "id": "f0fe6ced",
   "metadata": {},
   "outputs": [],
   "source": [
    "# Impute then Scale for numerical variables\n",
    "num_transformer = Pipeline([\n",
    "    ('imputer', SimpleImputer()),\n",
    "    ('scaler', MinMaxScaler())])\n",
    "\n",
    "# Encode categorical varibles \n",
    "cat_transformer = OneHotEncoder(handle_unknown='ignore',sparse=False)\n",
    "\n",
    "cat_bi_transformer = OneHotEncoder(drop='if_binary', handle_unknown='ignore', sparse = False)\n",
    "\n",
    "# Apply transformations to desired features\n",
    "preprocessor = ColumnTransformer([\n",
    "    ('num_transformer', num_transformer, make_column_selector(dtype_include=['int64',\"float64\"])),\n",
    "    ('cat_transformer', cat_transformer, make_column_selector(dtype_include=[\"object\"]))])"
   ]
  },
  {
   "cell_type": "code",
   "execution_count": 28,
   "id": "ea499bcb",
   "metadata": {},
   "outputs": [],
   "source": [
    "X_train_transf = preprocessor.fit_transform(X_train)"
   ]
  },
  {
   "cell_type": "code",
   "execution_count": 31,
   "id": "e90e93e5",
   "metadata": {},
   "outputs": [],
   "source": [
    "X_val_transf = preprocessor.transform(X_val)"
   ]
  },
  {
   "cell_type": "code",
   "execution_count": 9,
   "id": "8f5998f5",
   "metadata": {},
   "outputs": [],
   "source": [
    "#cv = cross_validate(pipe_baseline, X, y, cv=5, scoring={'rmse_neg': rmse_neg, 'rmse': rmse})"
   ]
  },
  {
   "cell_type": "markdown",
   "id": "af4c55ee",
   "metadata": {},
   "source": [
    "## GridSearch"
   ]
  },
  {
   "cell_type": "code",
   "execution_count": 30,
   "id": "53f31ee3",
   "metadata": {},
   "outputs": [
    {
     "name": "stdout",
     "output_type": "stream",
     "text": [
      "{'max_depth': 20}\n",
      "-153.22551754622432\n"
     ]
    }
   ],
   "source": [
    "model = RandomForestRegressor(max_samples=2000)\n",
    "\n",
    "# Hyperparameter Grid\n",
    "grid = {'max_depth': [10, 20]}\n",
    "\n",
    "# Instanciate Grid Search\n",
    "search = GridSearchCV(model, grid, \n",
    "                           scoring='neg_mean_squared_error',\n",
    "                           cv = 5) \n",
    "search.fit(X_train_transf,y_train)\n",
    "print(search.best_params_)\n",
    "print(search.best_score_)"
   ]
  },
  {
   "cell_type": "code",
   "execution_count": 15,
   "id": "c6ce46af",
   "metadata": {},
   "outputs": [
    {
     "data": {
      "text/plain": [
       "12.36931687685298"
      ]
     },
     "execution_count": 15,
     "metadata": {},
     "output_type": "execute_result"
    }
   ],
   "source": [
    "import numpy as np\n",
    "np.sqrt(153)"
   ]
  },
  {
   "cell_type": "markdown",
   "id": "d2a1ef82",
   "metadata": {},
   "source": [
    "## Cross validate RandomForestRegressor"
   ]
  },
  {
   "cell_type": "code",
   "execution_count": 8,
   "id": "40633971",
   "metadata": {},
   "outputs": [],
   "source": [
    "from sklearn.metrics import mean_squared_error\n",
    "from sklearn.metrics import make_scorer\n",
    "\n",
    "def rmse(y_true, y_pred):\n",
    "    return np.sqrt(mean_squared_error(y_true, y_pred))\n",
    "\n",
    "def rmse_neg(y_true, y_pred):\n",
    "    return 0 - np.sqrt(mean_squared_error(y_true, y_pred))\n",
    " \n",
    "rmse = make_scorer(rmse)\n",
    "rmse_neg = make_scorer(rmse_neg)"
   ]
  },
  {
   "cell_type": "code",
   "execution_count": null,
   "id": "c7039622",
   "metadata": {},
   "outputs": [],
   "source": [
    "model = RandomForestRegressor(max_depth=20)"
   ]
  },
  {
   "cell_type": "code",
   "execution_count": null,
   "id": "5febc01e",
   "metadata": {},
   "outputs": [],
   "source": [
    "from sklearn.model_selection import cross_validate, cross_val_score\n",
    "\n",
    "# Cross validate pipeline\n",
    "#cross_val_score(model, X_train_transf, y_train, cv=5, scoring='neg_mean_squared_error').mean()\n",
    "Cv = cross_validate(model, X_train_transf, y_train, cv=5, scoring={'rmse_neg': rmse_neg, 'rmse': rmse})\n",
    "Cv['test_rmse'].mean() "
   ]
  },
  {
   "cell_type": "code",
   "execution_count": 33,
   "id": "ac253124",
   "metadata": {},
   "outputs": [
    {
     "data": {
      "text/plain": [
       "0.0860115775223389"
      ]
     },
     "execution_count": 33,
     "metadata": {},
     "output_type": "execute_result"
    }
   ],
   "source": [
    "model.fit(X_train_transf, y_train)\n",
    "model.score(X_val_transf, y_val)"
   ]
  },
  {
   "cell_type": "markdown",
   "id": "3cff55c4",
   "metadata": {},
   "source": [
    "## Test importance of features "
   ]
  },
  {
   "cell_type": "code",
   "execution_count": null,
   "id": "61c9260a",
   "metadata": {},
   "outputs": [],
   "source": [
    "feature_names = [i for i in data.columns if data[i].dtype in [np.int64]]\n",
    "X = data[feature_names]\n",
    "train_X, val_X, train_y, val_y = train_test_split(X, y, random_state=1)\n",
    "my_model = RandomForestClassifier(n_estimators=100,\n",
    "                                  random_state=0).fit(train_X, train_y)\n",
    "\n",
    "import eli5\n",
    "from eli5.sklearn import PermutationImportance\n",
    "\n",
    "perm = PermutationImportance(my_model, random_state=1).fit(val_X, val_y)\n",
    "eli5.show_weights(perm, feature_names = val_X.columns.tolist())\n"
   ]
  },
  {
   "cell_type": "code",
   "execution_count": null,
   "id": "7b1a3d92",
   "metadata": {},
   "outputs": [],
   "source": [
    "from sklearn.inspection import permutation_importance\n",
    "\n",
    "r = permutation_importance(model, X_val_transf, y_val,\n",
    "                            n_repeats=30,\n",
    "                            random_state=0)\n",
    "\n",
    "for i in r.importances_mean.argsort()[::-1]:\n",
    "     if r.importances_mean[i] - 2 * r.importances_std[i] > 0:\n",
    "         print(f\"{X.feature_names[i]:<8}\"\n",
    "               f\"{r.importances_mean[i]:.3f}\"\n",
    "               f\" +/- {r.importances_std[i]:.3f}\")"
   ]
  },
  {
   "cell_type": "markdown",
   "id": "152881c2",
   "metadata": {},
   "source": [
    "## XGBoost for Regression"
   ]
  },
  {
   "cell_type": "code",
   "execution_count": 52,
   "id": "ce81a4b8",
   "metadata": {},
   "outputs": [
    {
     "data": {
      "text/plain": [
       "-152.94647472509286"
      ]
     },
     "execution_count": 52,
     "metadata": {},
     "output_type": "execute_result"
    }
   ],
   "source": [
    "import xgboost as xgb\n",
    "from sklearn.model_selection import RepeatedKFold\n",
    "\n",
    "#model_xgbr = xgb.XGBRegressor(n_estimators=1000, max_depth=7, eta=0.1, subsample=0.7, colsample_bytree=0.8)\n",
    "\n",
    "# define model\n",
    "model_2 = xgb.XGBRegressor()\n",
    "# define model evaluation method\n",
    "# cv = RepeatedKFold(n_splits=10, n_repeats=3, random_state=1)\n",
    "# evaluate model\n",
    "cross_val_score(model_2, X_train_transf, y_train, scoring='neg_mean_squared_error', cv=5, n_jobs=-1).mean()\n",
    "#Cv2 = cross_validate(model, X_train_transf, y_train, cv=5, scoring={'rmse_neg': rmse_neg, 'rmse': rmse})\n",
    "#Cv2['test_rmse'].mean() \n"
   ]
  },
  {
   "cell_type": "markdown",
   "id": "0043bf1e",
   "metadata": {},
   "source": [
    "## GradientBoostingRegressor"
   ]
  },
  {
   "cell_type": "code",
   "execution_count": 53,
   "id": "7f6fd2d7",
   "metadata": {},
   "outputs": [
    {
     "data": {
      "text/plain": [
       "-8.749832032708584"
      ]
     },
     "execution_count": 53,
     "metadata": {},
     "output_type": "execute_result"
    }
   ],
   "source": [
    "from sklearn.datasets import make_regression\n",
    "from sklearn.ensemble import GradientBoostingRegressor\n",
    "from sklearn.model_selection import train_test_split\n",
    "X, y = make_regression(random_state=0)\n",
    "X_train_2, X_test_2, y_train_2, y_test_2 = train_test_split(X, y, random_state=0)\n",
    "reg = GradientBoostingRegressor(random_state=0)\n",
    "\n",
    "cross_val_score(reg, X_train_transf, y_train, scoring='neg_mean_absolute_error', cv=5, n_jobs=-1).mean()\n",
    "\n",
    "#reg.fit(X_train, y_train)\n",
    "#reg.predict(X_test[1:2])\n",
    "#reg.score(X_test, y_test)\n"
   ]
  },
  {
   "cell_type": "code",
   "execution_count": null,
   "id": "8e8f56ed",
   "metadata": {},
   "outputs": [],
   "source": []
  }
 ],
 "metadata": {
  "kernelspec": {
   "display_name": "Python 3 (ipykernel)",
   "language": "python",
   "name": "python3"
  },
  "language_info": {
   "codemirror_mode": {
    "name": "ipython",
    "version": 3
   },
   "file_extension": ".py",
   "mimetype": "text/x-python",
   "name": "python",
   "nbconvert_exporter": "python",
   "pygments_lexer": "ipython3",
   "version": "3.8.6"
  },
  "toc": {
   "base_numbering": 1,
   "nav_menu": {},
   "number_sections": true,
   "sideBar": true,
   "skip_h1_title": false,
   "title_cell": "Table of Contents",
   "title_sidebar": "Contents",
   "toc_cell": false,
   "toc_position": {},
   "toc_section_display": true,
   "toc_window_display": false
  }
 },
 "nbformat": 4,
 "nbformat_minor": 5
}
