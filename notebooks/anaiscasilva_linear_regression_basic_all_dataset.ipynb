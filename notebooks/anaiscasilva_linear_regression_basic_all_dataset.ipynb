{
 "cells": [
  {
   "cell_type": "code",
   "execution_count": 78,
   "id": "ae1cf7ab",
   "metadata": {},
   "outputs": [
    {
     "name": "stdout",
     "output_type": "stream",
     "text": [
      "The autoreload extension is already loaded. To reload it, use:\n",
      "  %reload_ext autoreload\n"
     ]
    }
   ],
   "source": [
    "%load_ext autoreload\n",
    "%autoreload 2"
   ]
  },
  {
   "cell_type": "code",
   "execution_count": 1,
   "id": "0227f514",
   "metadata": {},
   "outputs": [],
   "source": [
    "from sklearn import set_config ;set_config(display='diagram')\n",
    "from sklearn.pipeline import Pipeline\n",
    "from sklearn.impute import SimpleImputer\n",
    "from sklearn.preprocessing import MinMaxScaler , FunctionTransformer,OneHotEncoder\n",
    "from sklearn.compose import make_column_selector,ColumnTransformer\n",
    "from sklearn.linear_model import LinearRegression, Ridge, SGDRegressor\n",
    "from sklearn.ensemble import RandomForestRegressor"
   ]
  },
  {
   "cell_type": "markdown",
   "id": "12537654",
   "metadata": {},
   "source": [
    "Load the data "
   ]
  },
  {
   "cell_type": "code",
   "execution_count": 7,
   "id": "edd761a1",
   "metadata": {},
   "outputs": [],
   "source": [
    "from From_Shelter_to_Love.data_provisoria import get_data"
   ]
  },
  {
   "cell_type": "code",
   "execution_count": 8,
   "id": "cd1614c2",
   "metadata": {},
   "outputs": [],
   "source": [
    "df_all = get_data()"
   ]
  },
  {
   "cell_type": "markdown",
   "id": "ef61f614",
   "metadata": {},
   "source": [
    "Drop features with outcome"
   ]
  },
  {
   "cell_type": "code",
   "execution_count": 47,
   "id": "8a4d5039",
   "metadata": {},
   "outputs": [],
   "source": [
    "df = df_all.drop(columns =['Animal ID','age_upon_intake_years', 'age_upon_outcome_years', 'Outcome Type', 'age_upon_outcome_months', 'neutered_or_spayed_outcome', 'male_or_female_outcome'], axis=1)\n"
   ]
  },
  {
   "cell_type": "code",
   "execution_count": 48,
   "id": "0937f13a",
   "metadata": {},
   "outputs": [
    {
     "data": {
      "text/html": [
       "<div>\n",
       "<style scoped>\n",
       "    .dataframe tbody tr th:only-of-type {\n",
       "        vertical-align: middle;\n",
       "    }\n",
       "\n",
       "    .dataframe tbody tr th {\n",
       "        vertical-align: top;\n",
       "    }\n",
       "\n",
       "    .dataframe thead th {\n",
       "        text-align: right;\n",
       "    }\n",
       "</style>\n",
       "<table border=\"1\" class=\"dataframe\">\n",
       "  <thead>\n",
       "    <tr style=\"text-align: right;\">\n",
       "      <th></th>\n",
       "      <th>Intake Type</th>\n",
       "      <th>Intake Condition</th>\n",
       "      <th>Animal Type</th>\n",
       "      <th>Breed</th>\n",
       "      <th>days_in_shelter</th>\n",
       "      <th>age_upon_intake_months</th>\n",
       "      <th>neutered_or_spayed_intake</th>\n",
       "      <th>male_or_female_intake</th>\n",
       "      <th>group_color</th>\n",
       "    </tr>\n",
       "  </thead>\n",
       "  <tbody>\n",
       "    <tr>\n",
       "      <th>0</th>\n",
       "      <td>Public Assist</td>\n",
       "      <td>Normal</td>\n",
       "      <td>Dog</td>\n",
       "      <td>Mixed</td>\n",
       "      <td>2.0</td>\n",
       "      <td>72.0</td>\n",
       "      <td>1</td>\n",
       "      <td>1.0</td>\n",
       "      <td>Yellow</td>\n",
       "    </tr>\n",
       "    <tr>\n",
       "      <th>1</th>\n",
       "      <td>Owner Surrender</td>\n",
       "      <td>Normal</td>\n",
       "      <td>Dog</td>\n",
       "      <td>Dachshund</td>\n",
       "      <td>5.0</td>\n",
       "      <td>120.0</td>\n",
       "      <td>1</td>\n",
       "      <td>1.0</td>\n",
       "      <td>Tricolor</td>\n",
       "    </tr>\n",
       "    <tr>\n",
       "      <th>2</th>\n",
       "      <td>Public Assist</td>\n",
       "      <td>Injured</td>\n",
       "      <td>Dog</td>\n",
       "      <td>Shetland Sheepdog</td>\n",
       "      <td>1.0</td>\n",
       "      <td>192.0</td>\n",
       "      <td>1</td>\n",
       "      <td>1.0</td>\n",
       "      <td>Brown</td>\n",
       "    </tr>\n",
       "    <tr>\n",
       "      <th>3</th>\n",
       "      <td>Stray</td>\n",
       "      <td>Aged</td>\n",
       "      <td>Dog</td>\n",
       "      <td>Mixed</td>\n",
       "      <td>1.0</td>\n",
       "      <td>180.0</td>\n",
       "      <td>1</td>\n",
       "      <td>0.0</td>\n",
       "      <td>Black</td>\n",
       "    </tr>\n",
       "    <tr>\n",
       "      <th>4</th>\n",
       "      <td>Stray</td>\n",
       "      <td>Normal</td>\n",
       "      <td>Dog</td>\n",
       "      <td>Mixed</td>\n",
       "      <td>1.0</td>\n",
       "      <td>180.0</td>\n",
       "      <td>0</td>\n",
       "      <td>0.0</td>\n",
       "      <td>Black</td>\n",
       "    </tr>\n",
       "    <tr>\n",
       "      <th>...</th>\n",
       "      <td>...</td>\n",
       "      <td>...</td>\n",
       "      <td>...</td>\n",
       "      <td>...</td>\n",
       "      <td>...</td>\n",
       "      <td>...</td>\n",
       "      <td>...</td>\n",
       "      <td>...</td>\n",
       "      <td>...</td>\n",
       "    </tr>\n",
       "    <tr>\n",
       "      <th>110852</th>\n",
       "      <td>Stray</td>\n",
       "      <td>Normal</td>\n",
       "      <td>Dog</td>\n",
       "      <td>Mixed</td>\n",
       "      <td>2.0</td>\n",
       "      <td>24.0</td>\n",
       "      <td>0</td>\n",
       "      <td>1.0</td>\n",
       "      <td>Black</td>\n",
       "    </tr>\n",
       "    <tr>\n",
       "      <th>110853</th>\n",
       "      <td>Stray</td>\n",
       "      <td>Normal</td>\n",
       "      <td>Dog</td>\n",
       "      <td>Mixed</td>\n",
       "      <td>2.0</td>\n",
       "      <td>24.0</td>\n",
       "      <td>1</td>\n",
       "      <td>0.0</td>\n",
       "      <td>White</td>\n",
       "    </tr>\n",
       "    <tr>\n",
       "      <th>110861</th>\n",
       "      <td>Stray</td>\n",
       "      <td>Normal</td>\n",
       "      <td>Dog</td>\n",
       "      <td>Mixed</td>\n",
       "      <td>1.0</td>\n",
       "      <td>24.0</td>\n",
       "      <td>1</td>\n",
       "      <td>1.0</td>\n",
       "      <td>Brown</td>\n",
       "    </tr>\n",
       "    <tr>\n",
       "      <th>110874</th>\n",
       "      <td>Owner Surrender</td>\n",
       "      <td>Normal</td>\n",
       "      <td>Dog</td>\n",
       "      <td>Alaskan Husky</td>\n",
       "      <td>2.0</td>\n",
       "      <td>12.0</td>\n",
       "      <td>0</td>\n",
       "      <td>1.0</td>\n",
       "      <td>Black</td>\n",
       "    </tr>\n",
       "    <tr>\n",
       "      <th>110888</th>\n",
       "      <td>Owner Surrender</td>\n",
       "      <td>Injured</td>\n",
       "      <td>Dog</td>\n",
       "      <td>Pit Bull</td>\n",
       "      <td>1.0</td>\n",
       "      <td>1.0</td>\n",
       "      <td>0</td>\n",
       "      <td>NaN</td>\n",
       "      <td>Tan</td>\n",
       "    </tr>\n",
       "  </tbody>\n",
       "</table>\n",
       "<p>102725 rows × 9 columns</p>\n",
       "</div>"
      ],
      "text/plain": [
       "            Intake Type Intake Condition Animal Type              Breed  \\\n",
       "0         Public Assist           Normal         Dog              Mixed   \n",
       "1       Owner Surrender           Normal         Dog          Dachshund   \n",
       "2         Public Assist          Injured         Dog  Shetland Sheepdog   \n",
       "3                 Stray             Aged         Dog              Mixed   \n",
       "4                 Stray           Normal         Dog              Mixed   \n",
       "...                 ...              ...         ...                ...   \n",
       "110852            Stray           Normal         Dog              Mixed   \n",
       "110853            Stray           Normal         Dog              Mixed   \n",
       "110861            Stray           Normal         Dog              Mixed   \n",
       "110874  Owner Surrender           Normal         Dog      Alaskan Husky   \n",
       "110888  Owner Surrender          Injured         Dog           Pit Bull   \n",
       "\n",
       "        days_in_shelter  age_upon_intake_months  neutered_or_spayed_intake  \\\n",
       "0                   2.0                    72.0                          1   \n",
       "1                   5.0                   120.0                          1   \n",
       "2                   1.0                   192.0                          1   \n",
       "3                   1.0                   180.0                          1   \n",
       "4                   1.0                   180.0                          0   \n",
       "...                 ...                     ...                        ...   \n",
       "110852              2.0                    24.0                          0   \n",
       "110853              2.0                    24.0                          1   \n",
       "110861              1.0                    24.0                          1   \n",
       "110874              2.0                    12.0                          0   \n",
       "110888              1.0                     1.0                          0   \n",
       "\n",
       "        male_or_female_intake group_color  \n",
       "0                         1.0      Yellow  \n",
       "1                         1.0    Tricolor  \n",
       "2                         1.0       Brown  \n",
       "3                         0.0       Black  \n",
       "4                         0.0       Black  \n",
       "...                       ...         ...  \n",
       "110852                    1.0       Black  \n",
       "110853                    0.0       White  \n",
       "110861                    1.0       Brown  \n",
       "110874                    1.0       Black  \n",
       "110888                    NaN         Tan  \n",
       "\n",
       "[102725 rows x 9 columns]"
      ]
     },
     "execution_count": 48,
     "metadata": {},
     "output_type": "execute_result"
    }
   ],
   "source": [
    "df"
   ]
  },
  {
   "cell_type": "code",
   "execution_count": 49,
   "id": "29e57318",
   "metadata": {},
   "outputs": [
    {
     "data": {
      "text/plain": [
       "(102725, 9)"
      ]
     },
     "execution_count": 49,
     "metadata": {},
     "output_type": "execute_result"
    }
   ],
   "source": [
    "df.shape"
   ]
  },
  {
   "cell_type": "code",
   "execution_count": 50,
   "id": "8bbffa3e",
   "metadata": {},
   "outputs": [
    {
     "data": {
      "text/plain": [
       "Intake Type                   object\n",
       "Intake Condition              object\n",
       "Animal Type                   object\n",
       "Breed                         object\n",
       "days_in_shelter              float64\n",
       "age_upon_intake_months       float64\n",
       "neutered_or_spayed_intake      int64\n",
       "male_or_female_intake        float64\n",
       "group_color                   object\n",
       "dtype: object"
      ]
     },
     "execution_count": 50,
     "metadata": {},
     "output_type": "execute_result"
    }
   ],
   "source": [
    "df.dtypes"
   ]
  },
  {
   "cell_type": "markdown",
   "id": "ab5260fd",
   "metadata": {},
   "source": [
    "Split the data "
   ]
  },
  {
   "cell_type": "code",
   "execution_count": 51,
   "id": "fffa20aa",
   "metadata": {},
   "outputs": [],
   "source": [
    "from sklearn.model_selection import train_test_split\n",
    "\n",
    "y = df[\"days_in_shelter\"]\n",
    "X = df.drop(columns = [\"days_in_shelter\"] , axis=1)\n",
    "\n",
    "X_train, X_test, y_train, y_test = train_test_split(X, y, test_size=0.3, random_state = 10)"
   ]
  },
  {
   "cell_type": "code",
   "execution_count": 52,
   "id": "524e0e96",
   "metadata": {},
   "outputs": [
    {
     "data": {
      "text/plain": [
       "(71907,)"
      ]
     },
     "execution_count": 52,
     "metadata": {},
     "output_type": "execute_result"
    }
   ],
   "source": [
    "y_train.shape"
   ]
  },
  {
   "cell_type": "code",
   "execution_count": 53,
   "id": "7697f5cd",
   "metadata": {},
   "outputs": [
    {
     "data": {
      "text/html": [
       "<div>\n",
       "<style scoped>\n",
       "    .dataframe tbody tr th:only-of-type {\n",
       "        vertical-align: middle;\n",
       "    }\n",
       "\n",
       "    .dataframe tbody tr th {\n",
       "        vertical-align: top;\n",
       "    }\n",
       "\n",
       "    .dataframe thead th {\n",
       "        text-align: right;\n",
       "    }\n",
       "</style>\n",
       "<table border=\"1\" class=\"dataframe\">\n",
       "  <thead>\n",
       "    <tr style=\"text-align: right;\">\n",
       "      <th></th>\n",
       "      <th>Intake Type</th>\n",
       "      <th>Intake Condition</th>\n",
       "      <th>Animal Type</th>\n",
       "      <th>Breed</th>\n",
       "      <th>age_upon_intake_months</th>\n",
       "      <th>neutered_or_spayed_intake</th>\n",
       "      <th>male_or_female_intake</th>\n",
       "      <th>group_color</th>\n",
       "    </tr>\n",
       "  </thead>\n",
       "  <tbody>\n",
       "    <tr>\n",
       "      <th>79164</th>\n",
       "      <td>Stray</td>\n",
       "      <td>Normal</td>\n",
       "      <td>Cat</td>\n",
       "      <td>Mixed</td>\n",
       "      <td>1.0</td>\n",
       "      <td>0</td>\n",
       "      <td>1.0</td>\n",
       "      <td>Black Tabby</td>\n",
       "    </tr>\n",
       "    <tr>\n",
       "      <th>46730</th>\n",
       "      <td>Stray</td>\n",
       "      <td>Injured</td>\n",
       "      <td>Cat</td>\n",
       "      <td>Mixed</td>\n",
       "      <td>2.0</td>\n",
       "      <td>0</td>\n",
       "      <td>1.0</td>\n",
       "      <td>Black</td>\n",
       "    </tr>\n",
       "    <tr>\n",
       "      <th>66253</th>\n",
       "      <td>Stray</td>\n",
       "      <td>Normal</td>\n",
       "      <td>Dog</td>\n",
       "      <td>Mixed</td>\n",
       "      <td>24.0</td>\n",
       "      <td>1</td>\n",
       "      <td>1.0</td>\n",
       "      <td>White</td>\n",
       "    </tr>\n",
       "    <tr>\n",
       "      <th>92536</th>\n",
       "      <td>Stray</td>\n",
       "      <td>Normal</td>\n",
       "      <td>Cat</td>\n",
       "      <td>Mixed</td>\n",
       "      <td>1.0</td>\n",
       "      <td>0</td>\n",
       "      <td>1.0</td>\n",
       "      <td>Orange Tabby</td>\n",
       "    </tr>\n",
       "    <tr>\n",
       "      <th>6085</th>\n",
       "      <td>Owner Surrender</td>\n",
       "      <td>Normal</td>\n",
       "      <td>Dog</td>\n",
       "      <td>Mixed</td>\n",
       "      <td>1.0</td>\n",
       "      <td>0</td>\n",
       "      <td>1.0</td>\n",
       "      <td>Black</td>\n",
       "    </tr>\n",
       "    <tr>\n",
       "      <th>...</th>\n",
       "      <td>...</td>\n",
       "      <td>...</td>\n",
       "      <td>...</td>\n",
       "      <td>...</td>\n",
       "      <td>...</td>\n",
       "      <td>...</td>\n",
       "      <td>...</td>\n",
       "      <td>...</td>\n",
       "    </tr>\n",
       "    <tr>\n",
       "      <th>9934</th>\n",
       "      <td>Stray</td>\n",
       "      <td>Normal</td>\n",
       "      <td>Dog</td>\n",
       "      <td>Mixed</td>\n",
       "      <td>12.0</td>\n",
       "      <td>0</td>\n",
       "      <td>1.0</td>\n",
       "      <td>White</td>\n",
       "    </tr>\n",
       "    <tr>\n",
       "      <th>100433</th>\n",
       "      <td>Stray</td>\n",
       "      <td>Normal</td>\n",
       "      <td>Cat</td>\n",
       "      <td>Mixed</td>\n",
       "      <td>12.0</td>\n",
       "      <td>0</td>\n",
       "      <td>0.0</td>\n",
       "      <td>Tortie</td>\n",
       "    </tr>\n",
       "    <tr>\n",
       "      <th>54076</th>\n",
       "      <td>Stray</td>\n",
       "      <td>Injured</td>\n",
       "      <td>Cat</td>\n",
       "      <td>Mixed</td>\n",
       "      <td>1.0</td>\n",
       "      <td>0</td>\n",
       "      <td>0.0</td>\n",
       "      <td>Black</td>\n",
       "    </tr>\n",
       "    <tr>\n",
       "      <th>101706</th>\n",
       "      <td>Stray</td>\n",
       "      <td>Normal</td>\n",
       "      <td>Dog</td>\n",
       "      <td>Mixed</td>\n",
       "      <td>2.0</td>\n",
       "      <td>0</td>\n",
       "      <td>0.0</td>\n",
       "      <td>Black</td>\n",
       "    </tr>\n",
       "    <tr>\n",
       "      <th>89502</th>\n",
       "      <td>Stray</td>\n",
       "      <td>Normal</td>\n",
       "      <td>Cat</td>\n",
       "      <td>Mixed</td>\n",
       "      <td>1.0</td>\n",
       "      <td>0</td>\n",
       "      <td>0.0</td>\n",
       "      <td>White</td>\n",
       "    </tr>\n",
       "  </tbody>\n",
       "</table>\n",
       "<p>71907 rows × 8 columns</p>\n",
       "</div>"
      ],
      "text/plain": [
       "            Intake Type Intake Condition Animal Type  Breed  \\\n",
       "79164             Stray           Normal         Cat  Mixed   \n",
       "46730             Stray          Injured         Cat  Mixed   \n",
       "66253             Stray           Normal         Dog  Mixed   \n",
       "92536             Stray           Normal         Cat  Mixed   \n",
       "6085    Owner Surrender           Normal         Dog  Mixed   \n",
       "...                 ...              ...         ...    ...   \n",
       "9934              Stray           Normal         Dog  Mixed   \n",
       "100433            Stray           Normal         Cat  Mixed   \n",
       "54076             Stray          Injured         Cat  Mixed   \n",
       "101706            Stray           Normal         Dog  Mixed   \n",
       "89502             Stray           Normal         Cat  Mixed   \n",
       "\n",
       "        age_upon_intake_months  neutered_or_spayed_intake  \\\n",
       "79164                      1.0                          0   \n",
       "46730                      2.0                          0   \n",
       "66253                     24.0                          1   \n",
       "92536                      1.0                          0   \n",
       "6085                       1.0                          0   \n",
       "...                        ...                        ...   \n",
       "9934                      12.0                          0   \n",
       "100433                    12.0                          0   \n",
       "54076                      1.0                          0   \n",
       "101706                     2.0                          0   \n",
       "89502                      1.0                          0   \n",
       "\n",
       "        male_or_female_intake   group_color  \n",
       "79164                     1.0   Black Tabby  \n",
       "46730                     1.0         Black  \n",
       "66253                     1.0         White  \n",
       "92536                     1.0  Orange Tabby  \n",
       "6085                      1.0         Black  \n",
       "...                       ...           ...  \n",
       "9934                      1.0         White  \n",
       "100433                    0.0        Tortie  \n",
       "54076                     0.0         Black  \n",
       "101706                    0.0         Black  \n",
       "89502                     0.0         White  \n",
       "\n",
       "[71907 rows x 8 columns]"
      ]
     },
     "execution_count": 53,
     "metadata": {},
     "output_type": "execute_result"
    }
   ],
   "source": [
    "X_train"
   ]
  },
  {
   "cell_type": "markdown",
   "id": "c1e10fbb",
   "metadata": {},
   "source": [
    "## Preprocessing "
   ]
  },
  {
   "cell_type": "code",
   "execution_count": 75,
   "id": "f0fe6ced",
   "metadata": {},
   "outputs": [],
   "source": [
    "\n",
    "# Impute then Scale for numerical variables\n",
    "num_transformer = Pipeline([\n",
    "    ('imputer', SimpleImputer()),\n",
    "    ('scaler', MinMaxScaler())])\n",
    "\n",
    "# Encode categorical varibles \n",
    "cat_transformer = OneHotEncoder(handle_unknown='ignore',sparse=False)\n",
    "\n",
    "# Apply transformations to desired features\n",
    "preprocessor = ColumnTransformer([\n",
    "    ('num_transformer', num_transformer, make_column_selector(dtype_include=['int64',\"float64\"])),\n",
    "    ('cat_transformer', cat_transformer, make_column_selector(dtype_include=[\"object\"]))])\n",
    "\n",
    "final_pipe = Pipeline([\n",
    "    ('preprocessing', preprocessor),\n",
    "    ('linear_regression', Ridge())])\n",
    "\n",
    "final_pipe_RF = Pipeline([\n",
    "    ('preprocessing', preprocessor),\n",
    "    ('linear_regression', RandomForestRegressor(n_estimators=100, max_depth=2, random_state=0, n_jobs=-1))])\n",
    "\n",
    "final_pipe_SGD = Pipeline([\n",
    "    ('preprocessing', preprocessor),\n",
    "    ('linear_regression', SGDRegressor())])"
   ]
  },
  {
   "cell_type": "code",
   "execution_count": 66,
   "id": "ea499bcb",
   "metadata": {},
   "outputs": [
    {
     "data": {
      "text/plain": [
       "(71907, 268)"
      ]
     },
     "execution_count": 66,
     "metadata": {},
     "output_type": "execute_result"
    }
   ],
   "source": [
    "shape = preprocessor.fit_transform(X_train).shape\n",
    "shape"
   ]
  },
  {
   "cell_type": "markdown",
   "id": "4dd37e52",
   "metadata": {},
   "source": [
    "## Scores - Ridge, SGD, RF"
   ]
  },
  {
   "cell_type": "code",
   "execution_count": 57,
   "id": "a622e4ff",
   "metadata": {
    "scrolled": true
   },
   "outputs": [
    {
     "data": {
      "text/plain": [
       "0.018339886790568527"
      ]
     },
     "execution_count": 57,
     "metadata": {},
     "output_type": "execute_result"
    }
   ],
   "source": [
    "final_pipe_trained = final_pipe.fit(X_train,y_train)\n",
    "final_pipe_trained.score(X_test,y_test)"
   ]
  },
  {
   "cell_type": "code",
   "execution_count": 58,
   "id": "6b93eb7a",
   "metadata": {},
   "outputs": [
    {
     "data": {
      "text/plain": [
       "0.017548784163934794"
      ]
     },
     "execution_count": 58,
     "metadata": {},
     "output_type": "execute_result"
    }
   ],
   "source": [
    "final_pipe_SGD_trained = final_pipe_SGD.fit(X_train,y_train)\n",
    "final_pipe_SGD_trained.score(X_test,y_test)"
   ]
  },
  {
   "cell_type": "code",
   "execution_count": 76,
   "id": "7f96587a",
   "metadata": {},
   "outputs": [
    {
     "data": {
      "text/plain": [
       "0.016589911601590956"
      ]
     },
     "execution_count": 76,
     "metadata": {},
     "output_type": "execute_result"
    }
   ],
   "source": [
    "final_pipe_RF_trained = final_pipe_RF.fit(X_train,y_train)\n",
    "final_pipe_RF_trained.score(X_test,y_test)"
   ]
  },
  {
   "cell_type": "markdown",
   "id": "1b687f29",
   "metadata": {},
   "source": [
    "## Cross validate - Ridge, SGD, RF - mean_squared_error"
   ]
  },
  {
   "cell_type": "code",
   "execution_count": 59,
   "id": "0bd71b0a",
   "metadata": {},
   "outputs": [
    {
     "data": {
      "text/plain": [
       "-1752.57917951213"
      ]
     },
     "execution_count": 59,
     "metadata": {},
     "output_type": "execute_result"
    }
   ],
   "source": [
    "from sklearn.model_selection import cross_validate, cross_val_score\n",
    "\n",
    "# Cross validate pipeline\n",
    "cross_val_score(final_pipe, X_train, y_train, cv=5, scoring='neg_mean_squared_error').mean()"
   ]
  },
  {
   "cell_type": "code",
   "execution_count": 60,
   "id": "a626bea0",
   "metadata": {},
   "outputs": [
    {
     "data": {
      "text/plain": [
       "-1752.6916582493582"
      ]
     },
     "execution_count": 60,
     "metadata": {},
     "output_type": "execute_result"
    }
   ],
   "source": [
    "from sklearn.model_selection import cross_validate, cross_val_score\n",
    "\n",
    "# Cross validate pipeline\n",
    "cross_val_score(final_pipe_SGD, X_train, y_train, cv=5, scoring='neg_mean_squared_error').mean()"
   ]
  },
  {
   "cell_type": "code",
   "execution_count": 77,
   "id": "2f809065",
   "metadata": {},
   "outputs": [
    {
     "data": {
      "text/plain": [
       "-1754.3268664611085"
      ]
     },
     "execution_count": 77,
     "metadata": {},
     "output_type": "execute_result"
    }
   ],
   "source": [
    "from sklearn.model_selection import cross_validate, cross_val_score\n",
    "\n",
    "# Cross validate pipeline\n",
    "cross_val_score(final_pipe_RF, X_train, y_train, cv=5, scoring='neg_mean_squared_error').mean()"
   ]
  },
  {
   "cell_type": "markdown",
   "id": "fc1223c2",
   "metadata": {},
   "source": [
    "RMSE"
   ]
  },
  {
   "cell_type": "code",
   "execution_count": 72,
   "id": "7a18c35a",
   "metadata": {},
   "outputs": [
    {
     "data": {
      "text/plain": [
       "41.8568990729127"
      ]
     },
     "execution_count": 72,
     "metadata": {},
     "output_type": "execute_result"
    }
   ],
   "source": [
    "import numpy as np\n",
    "np.sqrt(1752)"
   ]
  },
  {
   "cell_type": "code",
   "execution_count": 63,
   "id": "44d209ca",
   "metadata": {},
   "outputs": [
    {
     "data": {
      "text/plain": [
       "{'fit_time': array([0.34194636, 0.39222789, 0.45366383, 0.46326661, 0.51181865]),\n",
       " 'score_time': array([0.15389299, 0.15667534, 0.15009308, 0.13900185, 0.17520595]),\n",
       " 'test_score': array([0.01593589, 0.012062  , 0.01566102, 0.0187366 , 0.01528112])}"
      ]
     },
     "execution_count": 63,
     "metadata": {},
     "output_type": "execute_result"
    }
   ],
   "source": [
    "cv_results = cross_validate(final_pipe, X_train, y_train, cv=5)\n",
    "cv_results"
   ]
  },
  {
   "cell_type": "markdown",
   "id": "df65357f",
   "metadata": {},
   "source": [
    "RMSE da Baseline "
   ]
  },
  {
   "cell_type": "code",
   "execution_count": 80,
   "id": "7f025909",
   "metadata": {},
   "outputs": [
    {
     "data": {
      "text/plain": [
       "42.65241520991277"
      ]
     },
     "execution_count": 80,
     "metadata": {},
     "output_type": "execute_result"
    }
   ],
   "source": [
    "y_pred = df['days_in_shelter'].mean()\n",
    "#RMSE\n",
    "np.sqrt(np.mean((y_pred - df['days_in_shelter'])**2))"
   ]
  },
  {
   "cell_type": "code",
   "execution_count": null,
   "id": "c5fce89e",
   "metadata": {},
   "outputs": [],
   "source": []
  }
 ],
 "metadata": {
  "kernelspec": {
   "display_name": "Python 3 (ipykernel)",
   "language": "python",
   "name": "python3"
  },
  "language_info": {
   "codemirror_mode": {
    "name": "ipython",
    "version": 3
   },
   "file_extension": ".py",
   "mimetype": "text/x-python",
   "name": "python",
   "nbconvert_exporter": "python",
   "pygments_lexer": "ipython3",
   "version": "3.8.6"
  },
  "toc": {
   "base_numbering": 1,
   "nav_menu": {},
   "number_sections": true,
   "sideBar": true,
   "skip_h1_title": false,
   "title_cell": "Table of Contents",
   "title_sidebar": "Contents",
   "toc_cell": false,
   "toc_position": {},
   "toc_section_display": true,
   "toc_window_display": false
  }
 },
 "nbformat": 4,
 "nbformat_minor": 5
}
