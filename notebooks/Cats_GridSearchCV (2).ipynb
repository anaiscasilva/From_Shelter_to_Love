{
 "cells": [
  {
   "cell_type": "markdown",
   "metadata": {
    "id": "xffSMCtoS8UQ"
   },
   "source": [
    "# Import packs"
   ]
  },
  {
   "cell_type": "code",
   "execution_count": 3,
   "metadata": {},
   "outputs": [
    {
     "name": "stdout",
     "output_type": "stream",
     "text": [
      "Collecting xgboost\n",
      "  Using cached xgboost-1.4.2-py3-none-manylinux2010_x86_64.whl (166.7 MB)\n",
      "Requirement already satisfied: numpy in /home/fernando/.pyenv/versions/3.8.6/envs/from_shelter_to_love/lib/python3.8/site-packages (from xgboost) (1.21.2)\n",
      "Requirement already satisfied: scipy in /home/fernando/.pyenv/versions/3.8.6/envs/from_shelter_to_love/lib/python3.8/site-packages (from xgboost) (1.7.1)\n",
      "Installing collected packages: xgboost\n",
      "Successfully installed xgboost-1.4.2\n"
     ]
    }
   ],
   "source": [
    "!pip install xgboost"
   ]
  },
  {
   "cell_type": "code",
   "execution_count": 2,
   "metadata": {
    "id": "9R_2flG6f-PG"
   },
   "outputs": [],
   "source": [
    "import numpy as np\n",
    "import pandas as pd\n",
    "import matplotlib.pyplot as plt\n",
    "import seaborn as sns\n",
    "import xgboost as xgb\n",
    "\n",
    "\n",
    "from sklearn.metrics import confusion_matrix\n",
    "from sklearn.model_selection import train_test_split\n",
    "from sklearn.model_selection import GridSearchCV\n",
    "from imblearn.over_sampling import SMOTE\n",
    "from sklearn.ensemble import RandomForestClassifier\n",
    "from sklearn.metrics import accuracy_score\n",
    "from sklearn.metrics import f1_score\n",
    "from xgboost import XGBClassifier\n",
    "\n",
    "\n",
    "from sklearn.pipeline import Pipeline\n",
    "from sklearn.impute import SimpleImputer\n",
    "from sklearn.preprocessing import MinMaxScaler , FunctionTransformer,OneHotEncoder\n",
    "from sklearn.compose import make_column_selector,ColumnTransformer\n",
    "\n",
    "from From_Shelter_to_Love.data_provisoria import get_data"
   ]
  },
  {
   "cell_type": "markdown",
   "metadata": {
    "id": "yPpOdhZUS84x"
   },
   "source": [
    "# Animal and Features"
   ]
  },
  {
   "cell_type": "code",
   "execution_count": 3,
   "metadata": {
    "id": "UpF5pszTgrFp"
   },
   "outputs": [],
   "source": [
    "Animal = \"Cat\"\n",
    "features = ['Intake Type','Intake Condition','Breed','age_upon_intake_months','neutered_or_spayed_intake','male_or_female_intake','group_color']\n"
   ]
  },
  {
   "cell_type": "markdown",
   "metadata": {
    "id": "MgRCbT8mT0zz"
   },
   "source": [
    "# Creating targets"
   ]
  },
  {
   "cell_type": "code",
   "execution_count": 4,
   "metadata": {
    "id": "VxypTRpiURcV"
   },
   "outputs": [],
   "source": [
    "def classifier_y0(df,column):\n",
    "    target = []\n",
    "    for days in df[column]:\n",
    "        if days <= 7:\n",
    "          target.append(0)\n",
    "        elif days > 7:\n",
    "          target.append(1)\n",
    "    df['target'] = target\n",
    "    return df"
   ]
  },
  {
   "cell_type": "markdown",
   "metadata": {
    "id": "RYyv9xrFV_7k"
   },
   "source": [
    "# Pre-processing"
   ]
  },
  {
   "cell_type": "code",
   "execution_count": 5,
   "metadata": {
    "id": "BN6kReziWOiQ"
   },
   "outputs": [],
   "source": [
    "# Impute then Scale for numerical variables\n",
    "num_transformer = Pipeline([\n",
    "    ('imputer', SimpleImputer()),\n",
    "    ('scaler', MinMaxScaler())])\n",
    "\n",
    "# Encode categorical varibles \n",
    "cat_transformer = OneHotEncoder(handle_unknown='ignore',sparse=False)\n",
    "\n",
    "# Apply transformations to desired features\n",
    "preprocessor = ColumnTransformer([\n",
    "    ('num_transformer', num_transformer, make_column_selector(dtype_include=['int64',\"float64\"])),\n",
    "    ('cat_transformer', cat_transformer, make_column_selector(dtype_include=[\"object\"]))])"
   ]
  },
  {
   "cell_type": "markdown",
   "metadata": {
    "id": "EqaNa6YqZp3z"
   },
   "source": [
    "# Get Data and creating X and y"
   ]
  },
  {
   "cell_type": "code",
   "execution_count": 6,
   "metadata": {
    "id": "__GYnpjraHmS"
   },
   "outputs": [],
   "source": [
    "data = get_data()\n",
    "# data = data[data[\"Animal Type\"]==Animal]"
   ]
  },
  {
   "cell_type": "code",
   "execution_count": 7,
   "metadata": {
    "id": "05YJvn_2ZTz9"
   },
   "outputs": [],
   "source": [
    "classifier_y0(data,\"days_in_shelter\");"
   ]
  },
  {
   "cell_type": "code",
   "execution_count": 8,
   "metadata": {
    "id": "ZeB-Zerlg1Ph"
   },
   "outputs": [],
   "source": [
    "X = data[features]\n",
    "y = data['target']\n",
    "\n",
    "X_train, X_test ,y_train, y_test = train_test_split(X, y, test_size=0.3, random_state = 10)\n",
    "\n",
    "\n",
    "preprocessor.fit(X_train, y_train)\n",
    "\n",
    "X_train_new = preprocessor.transform(X_train)\n",
    "X_test_new = preprocessor.transform(X_test)\n"
   ]
  },
  {
   "cell_type": "markdown",
   "metadata": {
    "id": "NpP2qR93bppT"
   },
   "source": [
    "## Target distribution plot"
   ]
  },
  {
   "cell_type": "code",
   "execution_count": 9,
   "metadata": {
    "colab": {
     "base_uri": "https://localhost:8080/",
     "height": 281
    },
    "id": "Pe6ankSIbiuB",
    "outputId": "f49a001a-f86b-4c1d-d00c-99c2737d8bba"
   },
   "outputs": [
    {
     "data": {
      "text/plain": [
       "<AxesSubplot:>"
      ]
     },
     "execution_count": 9,
     "metadata": {},
     "output_type": "execute_result"
    },
    {
     "data": {
      "image/png": "[encoded data removed]",
      "text/plain": [
       "<Figure size 432x288 with 1 Axes>"
      ]
     },
     "metadata": {
      "needs_background": "light"
     },
     "output_type": "display_data"
    }
   ],
   "source": [
    "data[\"target\"].value_counts().plot(kind='barh')"
   ]
  },
  {
   "cell_type": "markdown",
   "metadata": {
    "id": "Fj8a4Gqk5rHS"
   },
   "source": [
    "## Base Line"
   ]
  },
  {
   "cell_type": "markdown",
   "metadata": {
    "id": "Dgx6xbV-58BZ"
   },
   "source": [
    "### Modelo aleatorio"
   ]
  },
  {
   "cell_type": "code",
   "execution_count": 10,
   "metadata": {
    "id": "Bzdf5AQW6HtQ"
   },
   "outputs": [],
   "source": [
    "def aleatorio_predict(X):\n",
    "  return np.array([np.random.randint(0,3) for i in range(X.shape[0])])"
   ]
  },
  {
   "cell_type": "code",
   "execution_count": 11,
   "metadata": {
    "colab": {
     "base_uri": "https://localhost:8080/"
    },
    "id": "AHsq13Zy8xUZ",
    "outputId": "ede76b38-4325-41a6-c088-fb9e30937bb4"
   },
   "outputs": [
    {
     "name": "stdout",
     "output_type": "stream",
     "text": [
      "The f1 aleatorio :0.2644720571402383\n"
     ]
    }
   ],
   "source": [
    "y_pred_aleat = aleatorio_predict(X_test_new)\n",
    "print(f'The f1 aleatorio :{f1_score(y_test, y_pred_aleat, average=\"macro\")}')"
   ]
  },
  {
   "cell_type": "markdown",
   "metadata": {
    "id": "V2Sck1Qz6War"
   },
   "source": [
    "### Dumb Model"
   ]
  },
  {
   "cell_type": "code",
   "execution_count": 18,
   "metadata": {
    "colab": {
     "base_uri": "https://localhost:8080/"
    },
    "id": "O13ZnLYP6nVP",
    "outputId": "541b115a-be50-4d1e-f4a2-abe8a4cb9952"
   },
   "outputs": [
    {
     "data": {
      "text/plain": [
       "0    17423\n",
       "1    13395\n",
       "Name: target, dtype: int64"
      ]
     },
     "execution_count": 18,
     "metadata": {},
     "output_type": "execute_result"
    }
   ],
   "source": [
    "y_test.value_counts()"
   ]
  },
  {
   "cell_type": "code",
   "execution_count": 19,
   "metadata": {
    "id": "hxQh9SBH-LlV"
   },
   "outputs": [],
   "source": [
    "def dumb_predict(X):\n",
    "  return np.array([0 for i in range(X.shape[0])])"
   ]
  },
  {
   "cell_type": "code",
   "execution_count": 20,
   "metadata": {
    "colab": {
     "base_uri": "https://localhost:8080/"
    },
    "id": "6C7ftd68-ThM",
    "outputId": "130bb11e-c323-4547-8c99-1359e1a4970b"
   },
   "outputs": [
    {
     "name": "stdout",
     "output_type": "stream",
     "text": [
      "The f1 Dumb :0.3611658133123277\n"
     ]
    }
   ],
   "source": [
    "y_pred_dumb = dumb_predict(X_test_new)\n",
    "print(f'The f1 Dumb :{f1_score(y_test, y_pred_dumb, average=\"macro\")}')"
   ]
  },
  {
   "cell_type": "markdown",
   "metadata": {
    "heading_collapsed": true,
    "id": "NvBuFirSQbZW"
   },
   "source": [
    "# Model"
   ]
  },
  {
   "cell_type": "code",
   "execution_count": null,
   "metadata": {
    "hidden": true,
    "id": "o-Tll1TnQeU4"
   },
   "outputs": [],
   "source": [
    "scores_y0 = []\n",
    "RF = RandomForestClassifier(class_weight=\"balanced\")\n",
    "RF.fit(X_train_new, y_train)\n",
    "scores_y0.append({\n",
    "        'best_params':None,\n",
    "        'F1_avg_macro': f1_score(y_test, RF.predict(X_test_new), average='macro'),\n",
    "        'accuracy_score':accuracy_score(y_test, RF.predict(X_test_new)),\n",
    "        'F1_aleatorio':f1_score(y_test, y_pred_aleat, average=\"macro\"),\n",
    "        'F1_Dumb':f1_score(y_test, y_pred_dumb, average=\"macro\")\n",
    "    })\n",
    "scores_df_y0 = pd.DataFrame(scores_y0, columns=['best_params', 'F1_avg_macro','accuracy_score','F1_aleatorio','F1_Dumb'])"
   ]
  },
  {
   "cell_type": "code",
   "execution_count": null,
   "metadata": {
    "colab": {
     "base_uri": "https://localhost:8080/",
     "height": 78
    },
    "hidden": true,
    "id": "cAglKXUGQdpM",
    "outputId": "fe115fc6-8647-4df1-cf35-44516b24a33a"
   },
   "outputs": [],
   "source": [
    "scores_df_y0"
   ]
  },
  {
   "cell_type": "markdown",
   "metadata": {
    "heading_collapsed": true,
    "id": "tn3HIiF_NUzT"
   },
   "source": [
    "# GridSearchCV"
   ]
  },
  {
   "cell_type": "markdown",
   "metadata": {
    "hidden": true,
    "id": "UHq63JpmOjOM"
   },
   "source": [
    "## First interaction"
   ]
  },
  {
   "cell_type": "code",
   "execution_count": null,
   "metadata": {
    "colab": {
     "base_uri": "https://localhost:8080/"
    },
    "hidden": true,
    "id": "yB2HiywlN1-N",
    "outputId": "9eb1c338-2ff7-44bc-86fb-2b077c21afe9"
   },
   "outputs": [],
   "source": [
    "RF = RandomForestClassifier()\n",
    "param_grid = { \n",
    "    'n_estimators': [90,100, 120],\n",
    "    'criterion' :['gini', 'entropy'],\n",
    "    'max_depth' : [10,15,20],\n",
    "    'min_samples_split' : [2,5,8],\n",
    "    'min_samples_leaf' : [1,2,3],\n",
    "    'class_weight' : ['balanced','balanced_subsample'],\n",
    "    'max_features': ['auto', 'sqrt', 'log2'],\n",
    "    'n_jobs' : [-1,1 ] \n",
    "}\n",
    "\n",
    "CV_rfc = GridSearchCV(estimator=RF, param_grid=param_grid, cv= 5,scoring='f1_macro')\n",
    "CV_rfc.fit(X_train_new, y_train)\n",
    "print(f\"The f1:{f1_score(y_test, CV_rfc.best_estimator_.predict(X_test_new), average='macro')}\")\n",
    "print(f\"CV_rfc.best_params_\" ,CV_rfc.best_params_)"
   ]
  },
  {
   "cell_type": "markdown",
   "metadata": {
    "hidden": true,
    "id": "VXg99ebj5LAu"
   },
   "source": [
    "### Result"
   ]
  },
  {
   "cell_type": "code",
   "execution_count": null,
   "metadata": {
    "colab": {
     "base_uri": "https://localhost:8080/"
    },
    "hidden": true,
    "id": "f4zf5mfW7BB6",
    "outputId": "1b1dd48d-65db-4318-c7ae-67fcbdbe4635"
   },
   "outputs": [],
   "source": [
    "print(f\"The f1:{f1_score(y_test, CV_rfc.best_estimator_.predict(X_test_new), average='macro')}\")\n",
    "scores_y0.append({\n",
    "        'best_params':CV_rfc.best_params_,\n",
    "        'F1_avg_macro': f1_score(y_test, CV_rfc.best_estimator_.predict(X_test_new), average='macro'),\n",
    "        'accuracy_score': accuracy_score(y_test, CV_rfc.best_estimator_.predict(X_test_new)),\n",
    "        'F1_aleatorio': f1_score(y_test, y_pred_aleat, average=\"macro\"),\n",
    "        'F1_Dumb': f1_score(y_test, y_pred_dumb, average=\"macro\")\n",
    "    })\n",
    "scores_df_y0 = pd.DataFrame(scores_y0, columns=['best_params', 'F1_avg_macro','accuracy_score','F1_aleatorio','F1_Dumb'])"
   ]
  },
  {
   "cell_type": "code",
   "execution_count": null,
   "metadata": {
    "colab": {
     "base_uri": "https://localhost:8080/",
     "height": 171
    },
    "hidden": true,
    "id": "twp6eRw1S2Bm",
    "outputId": "b13075e0-84a2-4a06-f1cf-e6d4da633ce1"
   },
   "outputs": [],
   "source": [
    "scores_df_y0"
   ]
  },
  {
   "cell_type": "markdown",
   "metadata": {
    "heading_collapsed": true,
    "id": "dbQp8h4TRD5c"
   },
   "source": [
    "# Final result"
   ]
  },
  {
   "cell_type": "code",
   "execution_count": null,
   "metadata": {
    "hidden": true,
    "id": "4evbUIRbRKzO"
   },
   "outputs": [],
   "source": [
    "RF = RandomForestClassifier(class_weight='balanced_subsample',criterion='gini',max_features='log2',min_samples_leaf=2,min_samples_split=5,n_estimators=100,n_jobs=1,max_depth=10)\n",
    "RF.fit(X_train_new, y_train)\n",
    "scores_y0.append({\n",
    "        'best_params': \"GridSearchCV params\",\n",
    "        'F1_avg_macro': f1_score(y_test, RF.predict(X_test_new), average='macro'),\n",
    "        'accuracy_score':accuracy_score(y_test, RF.predict(X_test_new)),\n",
    "        'F1_aleatorio':f1_score(y_test, y_pred_aleat, average=\"macro\"),\n",
    "        'F1_Dumb':f1_score(y_test, y_pred_dumb, average=\"macro\")\n",
    "    })\n",
    "scores_df_y0 = pd.DataFrame(scores_y0, columns=['best_params', 'F1_avg_macro','accuracy_score','F1_aleatorio','F1_Dumb'])"
   ]
  },
  {
   "cell_type": "code",
   "execution_count": null,
   "metadata": {
    "colab": {
     "base_uri": "https://localhost:8080/",
     "height": 111
    },
    "hidden": true,
    "id": "QHITcJ_1RKtU",
    "outputId": "c9bde2b2-4492-46c9-fd40-9d20100c44c6"
   },
   "outputs": [],
   "source": [
    "scores_df_y0"
   ]
  },
  {
   "cell_type": "code",
   "execution_count": null,
   "metadata": {
    "colab": {
     "base_uri": "https://localhost:8080/"
    },
    "hidden": true,
    "id": "u4eI5cE4RKng",
    "outputId": "6e447540-c65f-4e7a-c42b-6ae085c76f6c"
   },
   "outputs": [],
   "source": [
    "print(f\"The f1:{f1_score(y_test, RF.predict(X_test_new), average='macro')}\")"
   ]
  },
  {
   "cell_type": "markdown",
   "metadata": {
    "id": "MEFJE27zSKAk"
   },
   "source": [
    "# XGBClassifier"
   ]
  },
  {
   "cell_type": "code",
   "execution_count": 12,
   "metadata": {
    "colab": {
     "base_uri": "https://localhost:8080/"
    },
    "id": "VtCTTXJdRKcz",
    "outputId": "546cbfef-2c76-4bfb-a8c8-c285c5ddb766"
   },
   "outputs": [
    {
     "name": "stderr",
     "output_type": "stream",
     "text": [
      "/home/fernando/.pyenv/versions/3.8.6/envs/from_shelter_to_love/lib/python3.8/site-packages/xgboost/sklearn.py:1146: UserWarning: The use of label encoder in XGBClassifier is deprecated and will be removed in a future release. To remove this warning, do the following: 1) Pass option use_label_encoder=False when constructing XGBClassifier object; and 2) Encode your labels (y) as integers starting with 0, i.e. 0, 1, 2, ..., [num_class - 1].\n",
      "  warnings.warn(label_encoder_deprecation_msg, UserWarning)\n"
     ]
    },
    {
     "name": "stdout",
     "output_type": "stream",
     "text": [
      "[17:24:18] WARNING: ../src/learner.cc:1095: Starting in XGBoost 1.3.0, the default evaluation metric used with the objective 'binary:logistic' was changed from 'error' to 'logloss'. Explicitly set eval_metric if you'd like to restore the old behavior.\n",
      "The f1:0.6324879804682808\n"
     ]
    }
   ],
   "source": [
    "import xgboost as xgb\n",
    "\n",
    "from xgboost import XGBClassifier\n",
    "\n",
    "random_state = np.random.randint(0, 1000)\n",
    "xgb_model = XGBClassifier()\n",
    "\n",
    "\n",
    "xgb_model.fit(X_train_new, y_train,verbose=False)\n",
    "print(f\"The f1:{f1_score(y_test, xgb_model.predict(X_test_new), average='macro')}\")\n"
   ]
  },
  {
   "cell_type": "code",
   "execution_count": 13,
   "metadata": {
    "id": "urssNN6AWSV8"
   },
   "outputs": [],
   "source": [
    "from xgboost import XGBClassifier\n",
    "estimator = XGBClassifier(\n",
    "    objective= 'binary:logistic',\n",
    "    nthread=4,\n",
    "    seed=42\n",
    ")\n",
    "parameters = {\n",
    "    'max_depth': range (2, 10, 1),\n",
    "    'n_estimators': range(60, 220, 40),\n",
    "    'learning_rate': [0.1, 0.01, 0.05]\n",
    "}\n",
    "grid_search = GridSearchCV(\n",
    "    estimator=estimator,\n",
    "    param_grid=parameters,\n",
    "    scoring = 'f1_macro',\n",
    "    n_jobs = 10,\n",
    "    cv = 10,\n",
    "    verbose=True\n",
    ")"
   ]
  },
  {
   "cell_type": "code",
   "execution_count": null,
   "metadata": {
    "colab": {
     "base_uri": "https://localhost:8080/"
    },
    "id": "M89x7LKQWSPf",
    "outputId": "64fbc92c-76a7-4ca7-af63-c896077b563a"
   },
   "outputs": [
    {
     "name": "stdout",
     "output_type": "stream",
     "text": [
      "Fitting 10 folds for each of 96 candidates, totalling 960 fits\n"
     ]
    },
    {
     "name": "stderr",
     "output_type": "stream",
     "text": [
      "/home/fernando/.pyenv/versions/3.8.6/envs/from_shelter_to_love/lib/python3.8/site-packages/joblib/externals/loky/process_executor.py:688: UserWarning: A worker stopped while some jobs were given to the executor. This can be caused by a too short worker timeout or by a memory leak.\n",
      "  warnings.warn(\n"
     ]
    }
   ],
   "source": [
    "grid_search.fit(X_train_new, y_train)"
   ]
  },
  {
   "cell_type": "code",
   "execution_count": null,
   "metadata": {
    "id": "xpqH3UtlWSKQ"
   },
   "outputs": [],
   "source": [
    "f1_score(y_test, grid_search.best_estimator_.predict(X_test_new), average='macro')"
   ]
  },
  {
   "cell_type": "code",
   "execution_count": null,
   "metadata": {
    "id": "t0z4rqxYs-j0"
   },
   "outputs": [],
   "source": [
    "print(f\"grid_search.best_params_\" ,grid_search.best_params_)"
   ]
  },
  {
   "cell_type": "code",
   "execution_count": null,
   "metadata": {
    "colab": {
     "base_uri": "https://localhost:8080/"
    },
    "id": "q7YAJCsEs-d9",
    "outputId": "4cb129aa-591b-416c-935b-911506ba33f4"
   },
   "outputs": [],
   "source": [
    "from xgboost import XGBClassifier\n",
    "\n",
    "xgb_model = XGBClassifier(\n",
    "    objective= 'binary:logistic',\n",
    "    learning_rate=0.1,\n",
    "    max_depth=5,\n",
    "    n_estimators= 180)\n",
    "\n",
    "\n",
    "xgb_model.fit(X_train_new, y_train,verbose=True)\n",
    "print(f\"The f1:{f1_score(y_test, xgb_model.predict(X_test_new), average='macro')}\")"
   ]
  },
  {
   "cell_type": "code",
   "execution_count": null,
   "metadata": {
    "id": "3-4Swicds-Mt"
   },
   "outputs": [],
   "source": [
    "estimator = XGBClassifier(\n",
    "    objective= 'binary:logistic',\n",
    "    nthread=4,\n",
    "    seed=42\n",
    ")\n",
    "parameters =  {\n",
    "            'max_depth': [5],\n",
    "            'learning_rate': [0.1, 0.2, 0.3],\n",
    "            'n_estimators': [150, 180, 200],\n",
    "            'gamma': [0, 0.1, 0.2],\n",
    "            'min_child_weight': [0, 0.5, 1],\n",
    "            'max_delta_step': [0],\n",
    "            'subsample': [0.7, 0.8, 0.9, 1],\n",
    "            'colsample_bytree': [0.6, 0.8, 1],\n",
    "            'colsample_bylevel': [1],\n",
    "            'reg_alpha': [0, 1e-2, 1, 1e1],\n",
    "            'reg_lambda': [0, 1e-2, 1, 1e1],\n",
    "            'base_score': [0.5]\n",
    "            }\n",
    "grid_search = GridSearchCV(\n",
    "    estimator=estimator,\n",
    "    param_grid=parameters,\n",
    "    scoring = 'f1_macro',\n",
    "    n_jobs = 10,\n",
    "    cv = 10,\n",
    "    verbose=True\n",
    ")"
   ]
  },
  {
   "cell_type": "code",
   "execution_count": null,
   "metadata": {
    "colab": {
     "base_uri": "https://localhost:8080/",
     "height": 163
    },
    "id": "FTkuTDH5ttfI",
    "outputId": "e2ddf78e-0859-43ff-e1dd-6bf1eb260b96"
   },
   "outputs": [],
   "source": [
    "grid_search.fit(X_train_new, y_train)"
   ]
  },
  {
   "cell_type": "code",
   "execution_count": null,
   "metadata": {
    "id": "GPNeA6VQxnyY"
   },
   "outputs": [],
   "source": [
    "f1_score(y_test, grid_search.best_estimator_.predict(X_test_new), average='macro')"
   ]
  },
  {
   "cell_type": "code",
   "execution_count": null,
   "metadata": {
    "id": "KVshbCUhxneU"
   },
   "outputs": [],
   "source": []
  }
 ],
 "metadata": {
  "colab": {
   "collapsed_sections": [],
   "name": "Cats_GridSearchCV.ipynb",
   "provenance": []
  },
  "kernelspec": {
   "display_name": "Python 3 (ipykernel)",
   "language": "python",
   "name": "python3"
  },
  "language_info": {
   "codemirror_mode": {
    "name": "ipython",
    "version": 3
   },
   "file_extension": ".py",
   "mimetype": "text/x-python",
   "name": "python",
   "nbconvert_exporter": "python",
   "pygments_lexer": "ipython3",
   "version": "3.8.6"
  },
  "toc": {
   "base_numbering": 1,
   "nav_menu": {},
   "number_sections": true,
   "sideBar": true,
   "skip_h1_title": false,
   "title_cell": "Table of Contents",
   "title_sidebar": "Contents",
   "toc_cell": false,
   "toc_position": {},
   "toc_section_display": true,
   "toc_window_display": false
  },
  "varInspector": {
   "cols": {
    "lenName": 16,
    "lenType": 16,
    "lenVar": 40
   },
   "kernels_config": {
    "python": {
     "delete_cmd_postfix": "",
     "delete_cmd_prefix": "del ",
     "library": "var_list.py",
     "varRefreshCmd": "print(var_dic_list())"
    },
    "r": {
     "delete_cmd_postfix": ") ",
     "delete_cmd_prefix": "rm(",
     "library": "var_list.r",
     "varRefreshCmd": "cat(var_dic_list()) "
    }
   },
   "types_to_exclude": [
    "module",
    "function",
    "builtin_function_or_method",
    "instance",
    "_Feature"
   ],
   "window_display": false
  }
 },
 "nbformat": 4,
 "nbformat_minor": 1
}
