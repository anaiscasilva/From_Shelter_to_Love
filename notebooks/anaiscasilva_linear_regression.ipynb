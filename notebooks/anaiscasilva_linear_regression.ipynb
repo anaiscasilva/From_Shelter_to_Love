{
 "cells": [
  {
   "cell_type": "code",
   "execution_count": 162,
   "id": "ae1cf7ab",
   "metadata": {},
   "outputs": [],
   "source": [
    "%load_ext autoreload\n",
    "%autoreload 2"
   ]
  },
  {
   "cell_type": "code",
   "execution_count": 1,
   "id": "edd761a1",
   "metadata": {},
   "outputs": [],
   "source": [
    "from From_Shelter_to_Love.data_provisoria import get_data"
   ]
  },
  {
   "cell_type": "code",
   "execution_count": 2,
   "id": "cd1614c2",
   "metadata": {},
   "outputs": [],
   "source": [
    "df = get_data()"
   ]
  },
  {
   "cell_type": "code",
   "execution_count": 3,
   "id": "8a4d5039",
   "metadata": {},
   "outputs": [],
   "source": [
    "df = df.drop(columns = [\"Animal ID\", \"age_upon_intake_years\", \"age_upon_outcome_years\"] , axis=1)\n",
    "df = df[df['days_in_shelter'] < 60]"
   ]
  },
  {
   "cell_type": "code",
   "execution_count": 4,
   "id": "0937f13a",
   "metadata": {},
   "outputs": [
    {
     "data": {
      "text/html": [
       "<div>\n",
       "<style scoped>\n",
       "    .dataframe tbody tr th:only-of-type {\n",
       "        vertical-align: middle;\n",
       "    }\n",
       "\n",
       "    .dataframe tbody tr th {\n",
       "        vertical-align: top;\n",
       "    }\n",
       "\n",
       "    .dataframe thead th {\n",
       "        text-align: right;\n",
       "    }\n",
       "</style>\n",
       "<table border=\"1\" class=\"dataframe\">\n",
       "  <thead>\n",
       "    <tr style=\"text-align: right;\">\n",
       "      <th></th>\n",
       "      <th>Intake Type</th>\n",
       "      <th>Intake Condition</th>\n",
       "      <th>Animal Type</th>\n",
       "      <th>Breed</th>\n",
       "      <th>Outcome Type</th>\n",
       "      <th>days_in_shelter</th>\n",
       "      <th>age_upon_intake_months</th>\n",
       "      <th>age_upon_outcome_months</th>\n",
       "      <th>neutered_or_spayed_outcome</th>\n",
       "      <th>male_or_female_outcome</th>\n",
       "      <th>neutered_or_spayed_intake</th>\n",
       "      <th>male_or_female_intake</th>\n",
       "      <th>group_color</th>\n",
       "    </tr>\n",
       "  </thead>\n",
       "  <tbody>\n",
       "    <tr>\n",
       "      <th>0</th>\n",
       "      <td>Public Assist</td>\n",
       "      <td>Normal</td>\n",
       "      <td>Dog</td>\n",
       "      <td>Mixed</td>\n",
       "      <td>Return to Owner</td>\n",
       "      <td>2.0</td>\n",
       "      <td>72.0</td>\n",
       "      <td>72.0</td>\n",
       "      <td>1</td>\n",
       "      <td>1.0</td>\n",
       "      <td>1</td>\n",
       "      <td>1.0</td>\n",
       "      <td>Yellow</td>\n",
       "    </tr>\n",
       "    <tr>\n",
       "      <th>1</th>\n",
       "      <td>Owner Surrender</td>\n",
       "      <td>Normal</td>\n",
       "      <td>Dog</td>\n",
       "      <td>Dachshund</td>\n",
       "      <td>Transfer</td>\n",
       "      <td>5.0</td>\n",
       "      <td>120.0</td>\n",
       "      <td>120.0</td>\n",
       "      <td>1</td>\n",
       "      <td>1.0</td>\n",
       "      <td>1</td>\n",
       "      <td>1.0</td>\n",
       "      <td>Tricolor</td>\n",
       "    </tr>\n",
       "    <tr>\n",
       "      <th>2</th>\n",
       "      <td>Public Assist</td>\n",
       "      <td>Injured</td>\n",
       "      <td>Dog</td>\n",
       "      <td>Shetland Sheepdog</td>\n",
       "      <td>Return to Owner</td>\n",
       "      <td>1.0</td>\n",
       "      <td>192.0</td>\n",
       "      <td>192.0</td>\n",
       "      <td>1</td>\n",
       "      <td>1.0</td>\n",
       "      <td>1</td>\n",
       "      <td>1.0</td>\n",
       "      <td>Brown</td>\n",
       "    </tr>\n",
       "    <tr>\n",
       "      <th>3</th>\n",
       "      <td>Stray</td>\n",
       "      <td>Aged</td>\n",
       "      <td>Dog</td>\n",
       "      <td>Mixed</td>\n",
       "      <td>Return to Owner</td>\n",
       "      <td>1.0</td>\n",
       "      <td>180.0</td>\n",
       "      <td>180.0</td>\n",
       "      <td>1</td>\n",
       "      <td>0.0</td>\n",
       "      <td>1</td>\n",
       "      <td>0.0</td>\n",
       "      <td>Black</td>\n",
       "    </tr>\n",
       "    <tr>\n",
       "      <th>4</th>\n",
       "      <td>Stray</td>\n",
       "      <td>Normal</td>\n",
       "      <td>Dog</td>\n",
       "      <td>Mixed</td>\n",
       "      <td>Return to Owner</td>\n",
       "      <td>1.0</td>\n",
       "      <td>180.0</td>\n",
       "      <td>180.0</td>\n",
       "      <td>0</td>\n",
       "      <td>0.0</td>\n",
       "      <td>0</td>\n",
       "      <td>0.0</td>\n",
       "      <td>Black</td>\n",
       "    </tr>\n",
       "    <tr>\n",
       "      <th>...</th>\n",
       "      <td>...</td>\n",
       "      <td>...</td>\n",
       "      <td>...</td>\n",
       "      <td>...</td>\n",
       "      <td>...</td>\n",
       "      <td>...</td>\n",
       "      <td>...</td>\n",
       "      <td>...</td>\n",
       "      <td>...</td>\n",
       "      <td>...</td>\n",
       "      <td>...</td>\n",
       "      <td>...</td>\n",
       "      <td>...</td>\n",
       "    </tr>\n",
       "    <tr>\n",
       "      <th>110852</th>\n",
       "      <td>Stray</td>\n",
       "      <td>Normal</td>\n",
       "      <td>Dog</td>\n",
       "      <td>Mixed</td>\n",
       "      <td>Return to Owner</td>\n",
       "      <td>2.0</td>\n",
       "      <td>24.0</td>\n",
       "      <td>24.0</td>\n",
       "      <td>0</td>\n",
       "      <td>1.0</td>\n",
       "      <td>0</td>\n",
       "      <td>1.0</td>\n",
       "      <td>Black</td>\n",
       "    </tr>\n",
       "    <tr>\n",
       "      <th>110853</th>\n",
       "      <td>Stray</td>\n",
       "      <td>Normal</td>\n",
       "      <td>Dog</td>\n",
       "      <td>Mixed</td>\n",
       "      <td>Return to Owner</td>\n",
       "      <td>2.0</td>\n",
       "      <td>24.0</td>\n",
       "      <td>24.0</td>\n",
       "      <td>1</td>\n",
       "      <td>0.0</td>\n",
       "      <td>1</td>\n",
       "      <td>0.0</td>\n",
       "      <td>White</td>\n",
       "    </tr>\n",
       "    <tr>\n",
       "      <th>110861</th>\n",
       "      <td>Stray</td>\n",
       "      <td>Normal</td>\n",
       "      <td>Dog</td>\n",
       "      <td>Mixed</td>\n",
       "      <td>Return to Owner</td>\n",
       "      <td>1.0</td>\n",
       "      <td>24.0</td>\n",
       "      <td>24.0</td>\n",
       "      <td>1</td>\n",
       "      <td>1.0</td>\n",
       "      <td>1</td>\n",
       "      <td>1.0</td>\n",
       "      <td>Brown</td>\n",
       "    </tr>\n",
       "    <tr>\n",
       "      <th>110874</th>\n",
       "      <td>Owner Surrender</td>\n",
       "      <td>Normal</td>\n",
       "      <td>Dog</td>\n",
       "      <td>Alaskan Husky</td>\n",
       "      <td>Rto-Adopt</td>\n",
       "      <td>2.0</td>\n",
       "      <td>12.0</td>\n",
       "      <td>12.0</td>\n",
       "      <td>1</td>\n",
       "      <td>1.0</td>\n",
       "      <td>0</td>\n",
       "      <td>1.0</td>\n",
       "      <td>Black</td>\n",
       "    </tr>\n",
       "    <tr>\n",
       "      <th>110888</th>\n",
       "      <td>Owner Surrender</td>\n",
       "      <td>Injured</td>\n",
       "      <td>Dog</td>\n",
       "      <td>Pit Bull</td>\n",
       "      <td>Euthanasia</td>\n",
       "      <td>1.0</td>\n",
       "      <td>1.0</td>\n",
       "      <td>1.0</td>\n",
       "      <td>0</td>\n",
       "      <td>NaN</td>\n",
       "      <td>0</td>\n",
       "      <td>NaN</td>\n",
       "      <td>Tan</td>\n",
       "    </tr>\n",
       "  </tbody>\n",
       "</table>\n",
       "<p>94178 rows × 13 columns</p>\n",
       "</div>"
      ],
      "text/plain": [
       "            Intake Type Intake Condition Animal Type              Breed  \\\n",
       "0         Public Assist           Normal         Dog              Mixed   \n",
       "1       Owner Surrender           Normal         Dog          Dachshund   \n",
       "2         Public Assist          Injured         Dog  Shetland Sheepdog   \n",
       "3                 Stray             Aged         Dog              Mixed   \n",
       "4                 Stray           Normal         Dog              Mixed   \n",
       "...                 ...              ...         ...                ...   \n",
       "110852            Stray           Normal         Dog              Mixed   \n",
       "110853            Stray           Normal         Dog              Mixed   \n",
       "110861            Stray           Normal         Dog              Mixed   \n",
       "110874  Owner Surrender           Normal         Dog      Alaskan Husky   \n",
       "110888  Owner Surrender          Injured         Dog           Pit Bull   \n",
       "\n",
       "           Outcome Type  days_in_shelter  age_upon_intake_months  \\\n",
       "0       Return to Owner              2.0                    72.0   \n",
       "1              Transfer              5.0                   120.0   \n",
       "2       Return to Owner              1.0                   192.0   \n",
       "3       Return to Owner              1.0                   180.0   \n",
       "4       Return to Owner              1.0                   180.0   \n",
       "...                 ...              ...                     ...   \n",
       "110852  Return to Owner              2.0                    24.0   \n",
       "110853  Return to Owner              2.0                    24.0   \n",
       "110861  Return to Owner              1.0                    24.0   \n",
       "110874        Rto-Adopt              2.0                    12.0   \n",
       "110888       Euthanasia              1.0                     1.0   \n",
       "\n",
       "        age_upon_outcome_months  neutered_or_spayed_outcome  \\\n",
       "0                          72.0                           1   \n",
       "1                         120.0                           1   \n",
       "2                         192.0                           1   \n",
       "3                         180.0                           1   \n",
       "4                         180.0                           0   \n",
       "...                         ...                         ...   \n",
       "110852                     24.0                           0   \n",
       "110853                     24.0                           1   \n",
       "110861                     24.0                           1   \n",
       "110874                     12.0                           1   \n",
       "110888                      1.0                           0   \n",
       "\n",
       "        male_or_female_outcome  neutered_or_spayed_intake  \\\n",
       "0                          1.0                          1   \n",
       "1                          1.0                          1   \n",
       "2                          1.0                          1   \n",
       "3                          0.0                          1   \n",
       "4                          0.0                          0   \n",
       "...                        ...                        ...   \n",
       "110852                     1.0                          0   \n",
       "110853                     0.0                          1   \n",
       "110861                     1.0                          1   \n",
       "110874                     1.0                          0   \n",
       "110888                     NaN                          0   \n",
       "\n",
       "        male_or_female_intake group_color  \n",
       "0                         1.0      Yellow  \n",
       "1                         1.0    Tricolor  \n",
       "2                         1.0       Brown  \n",
       "3                         0.0       Black  \n",
       "4                         0.0       Black  \n",
       "...                       ...         ...  \n",
       "110852                    1.0       Black  \n",
       "110853                    0.0       White  \n",
       "110861                    1.0       Brown  \n",
       "110874                    1.0       Black  \n",
       "110888                    NaN         Tan  \n",
       "\n",
       "[94178 rows x 13 columns]"
      ]
     },
     "execution_count": 4,
     "metadata": {},
     "output_type": "execute_result"
    }
   ],
   "source": [
    "df"
   ]
  },
  {
   "cell_type": "code",
   "execution_count": 150,
   "id": "29e57318",
   "metadata": {},
   "outputs": [
    {
     "data": {
      "text/plain": [
       "(94178, 11)"
      ]
     },
     "execution_count": 150,
     "metadata": {},
     "output_type": "execute_result"
    }
   ],
   "source": [
    "df.shape"
   ]
  },
  {
   "cell_type": "code",
   "execution_count": 151,
   "id": "8bbffa3e",
   "metadata": {},
   "outputs": [
    {
     "data": {
      "text/plain": [
       "Intake Type                 object\n",
       "Intake Condition            object\n",
       "Animal Type                 object\n",
       "Breed                       object\n",
       "Outcome Type                object\n",
       "days_in_shelter            float64\n",
       "age_upon_intake_months     float64\n",
       "age_upon_outcome_months    float64\n",
       "neutered_or_spayed           int64\n",
       "male_or_female             float64\n",
       "group_color                 object\n",
       "dtype: object"
      ]
     },
     "execution_count": 151,
     "metadata": {},
     "output_type": "execute_result"
    }
   ],
   "source": [
    "df.dtypes"
   ]
  },
  {
   "cell_type": "code",
   "execution_count": 153,
   "id": "fffa20aa",
   "metadata": {},
   "outputs": [],
   "source": [
    "from sklearn.model_selection import train_test_split\n",
    "\n",
    "y = df[\"days_in_shelter\"]\n",
    "X = df.drop(columns = [\"days_in_shelter\"] , axis=1)\n",
    "\n",
    "X_train, X_test, y_train, y_test = train_test_split(X, y, test_size=0.3, random_state = 10)"
   ]
  },
  {
   "cell_type": "code",
   "execution_count": 154,
   "id": "524e0e96",
   "metadata": {},
   "outputs": [
    {
     "data": {
      "text/plain": [
       "(65924,)"
      ]
     },
     "execution_count": 154,
     "metadata": {},
     "output_type": "execute_result"
    }
   ],
   "source": [
    "y_train.shape"
   ]
  },
  {
   "cell_type": "code",
   "execution_count": 155,
   "id": "c24d1c40",
   "metadata": {},
   "outputs": [],
   "source": [
    "from sklearn.linear_model import SGDRegressor\n",
    "from sklearn.preprocessing import StandardScaler"
   ]
  },
  {
   "cell_type": "code",
   "execution_count": 156,
   "id": "f0fe6ced",
   "metadata": {},
   "outputs": [],
   "source": [
    "from sklearn import set_config ;set_config(display='diagram')\n",
    "from sklearn.pipeline import Pipeline\n",
    "from sklearn.impute import SimpleImputer\n",
    "from sklearn.preprocessing import MinMaxScaler , FunctionTransformer,OneHotEncoder\n",
    "from sklearn.compose import make_column_selector,ColumnTransformer\n",
    "from sklearn.linear_model import LinearRegression\n",
    "\n",
    "# Impute then Scale for numerical variables\n",
    "num_transformer = Pipeline([\n",
    "    ('imputer', SimpleImputer()),\n",
    "    ('scaler', MinMaxScaler())])\n",
    "\n",
    "# Encode categorical varibles \n",
    "cat_transformer = OneHotEncoder(handle_unknown='ignore',sparse=False)\n",
    "\n",
    "# Apply transformations to desired features\n",
    "preprocessor = ColumnTransformer([\n",
    "    ('num_transformer', num_transformer, make_column_selector(dtype_include=['int64',\"float64\"])),\n",
    "    ('cat_transformer', cat_transformer, make_column_selector(dtype_include=[\"object\"]))])\n",
    "\n",
    "final_pipe = Pipeline([\n",
    "    ('preprocessing', preprocessor),\n",
    "    ('linear_regression', LinearRegression())])\n",
    "\n",
    "final_pipe_SGD = Pipeline([\n",
    "    ('preprocessing', preprocessor),\n",
    "    ('linear_regression', SGDRegressor())])"
   ]
  },
  {
   "cell_type": "code",
   "execution_count": 157,
   "id": "a622e4ff",
   "metadata": {
    "scrolled": true
   },
   "outputs": [
    {
     "data": {
      "text/plain": [
       "-4.0376116067402644e+18"
      ]
     },
     "execution_count": 157,
     "metadata": {},
     "output_type": "execute_result"
    }
   ],
   "source": [
    "final_pipe_trained = final_pipe.fit(X_train,y_train)\n",
    "final_pipe_trained.score(X_test,y_test)"
   ]
  },
  {
   "cell_type": "code",
   "execution_count": 158,
   "id": "6b93eb7a",
   "metadata": {},
   "outputs": [
    {
     "data": {
      "text/plain": [
       "0.22895906964070933"
      ]
     },
     "execution_count": 158,
     "metadata": {},
     "output_type": "execute_result"
    }
   ],
   "source": [
    "final_pipe_SGD_trained = final_pipe_SGD.fit(X_train,y_train)\n",
    "final_pipe_SGD_trained.score(X_test,y_test)"
   ]
  },
  {
   "cell_type": "code",
   "execution_count": 159,
   "id": "0bd71b0a",
   "metadata": {},
   "outputs": [
    {
     "data": {
      "text/plain": [
       "-3.2239896142778117e+18"
      ]
     },
     "execution_count": 159,
     "metadata": {},
     "output_type": "execute_result"
    }
   ],
   "source": [
    "from sklearn.model_selection import cross_validate, cross_val_score\n",
    "\n",
    "# Cross validate pipeline\n",
    "cross_val_score(final_pipe, X_train, y_train, cv=5, scoring='neg_mean_squared_error').mean()"
   ]
  },
  {
   "cell_type": "code",
   "execution_count": 160,
   "id": "a626bea0",
   "metadata": {},
   "outputs": [
    {
     "data": {
      "text/plain": [
       "-130.3827428999406"
      ]
     },
     "execution_count": 160,
     "metadata": {},
     "output_type": "execute_result"
    }
   ],
   "source": [
    "from sklearn.model_selection import cross_validate, cross_val_score\n",
    "\n",
    "# Cross validate pipeline\n",
    "cross_val_score(final_pipe_SGD, X_train, y_train, cv=5, scoring='neg_mean_squared_error').mean()"
   ]
  },
  {
   "cell_type": "code",
   "execution_count": 161,
   "id": "44d209ca",
   "metadata": {},
   "outputs": [
    {
     "data": {
      "text/plain": [
       "{'fit_time': array([1.72568941, 1.51526141, 2.17139935, 4.66699266, 3.15224075]),\n",
       " 'score_time': array([0.08465219, 0.06908703, 0.09852266, 0.23815632, 0.15608644]),\n",
       " 'test_score': array([-8.92307655e+15, -4.77844663e+16, -8.89984731e+11, -3.38938622e+15,\n",
       "        -3.68829193e+16])}"
      ]
     },
     "execution_count": 161,
     "metadata": {},
     "output_type": "execute_result"
    }
   ],
   "source": [
    "cv_results = cross_validate(final_pipe, X_train, y_train, cv=5)\n",
    "cv_results"
   ]
  },
  {
   "cell_type": "code",
   "execution_count": 130,
   "id": "2be714ef",
   "metadata": {},
   "outputs": [],
   "source": [
    "#cv_results = cross_validate(model, X_train, y_train, cv=5, scoring=['max_error', 'r2', 'neg_mean_absolute_error', 'neg_mean_squared_error'])\n"
   ]
  },
  {
   "cell_type": "code",
   "execution_count": null,
   "id": "8f0281e4",
   "metadata": {},
   "outputs": [],
   "source": []
  }
 ],
 "metadata": {
  "kernelspec": {
   "display_name": "Python 3 (ipykernel)",
   "language": "python",
   "name": "python3"
  },
  "language_info": {
   "codemirror_mode": {
    "name": "ipython",
    "version": 3
   },
   "file_extension": ".py",
   "mimetype": "text/x-python",
   "name": "python",
   "nbconvert_exporter": "python",
   "pygments_lexer": "ipython3",
   "version": "3.8.6"
  },
  "toc": {
   "base_numbering": 1,
   "nav_menu": {},
   "number_sections": true,
   "sideBar": true,
   "skip_h1_title": false,
   "title_cell": "Table of Contents",
   "title_sidebar": "Contents",
   "toc_cell": false,
   "toc_position": {},
   "toc_section_display": true,
   "toc_window_display": false
  }
 },
 "nbformat": 4,
 "nbformat_minor": 5
}
