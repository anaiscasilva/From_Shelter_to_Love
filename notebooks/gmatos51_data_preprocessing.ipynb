{
 "cells": [
  {
   "cell_type": "markdown",
   "id": "d47171de-672d-46b1-a959-d710dfc8c021",
   "metadata": {
    "tags": []
   },
   "source": [
    "# Animal Shelter EDA"
   ]
  },
  {
   "cell_type": "code",
   "execution_count": 374,
   "id": "0340df31-9a3d-4a13-9234-0dc074caced8",
   "metadata": {},
   "outputs": [],
   "source": [
    "import pandas as pd\n",
    "import numpy as np\n",
    "import matplotlib.pyplot as plt\n",
    "import seaborn as sns\n",
    "import re"
   ]
  },
  {
   "cell_type": "markdown",
   "id": "1852fccd-4c0d-46f3-891c-9fd109411897",
   "metadata": {
    "tags": []
   },
   "source": [
    "## Reading the CSVs"
   ]
  },
  {
   "cell_type": "code",
   "execution_count": 375,
   "id": "9711bbf0-8cd3-4d27-a0d3-2069aeb93ada",
   "metadata": {
    "tags": []
   },
   "outputs": [],
   "source": [
    "df_intakes = pd.read_csv('../raw_data/Austin_Animal_Center_Intakes.csv', parse_dates=['DateTime'])\n",
    "df_outcomes = pd.read_csv('../raw_data/Austin_Animal_Center_Outcomes.csv', parse_dates=['DateTime'])\n",
    "df_straymap = pd.read_csv('../raw_data/Austin_Animal_Center_Stray_Map.csv')"
   ]
  },
  {
   "cell_type": "markdown",
   "id": "075b71aa-ac72-4fc2-b85a-3568b1d3bfe3",
   "metadata": {
    "tags": []
   },
   "source": [
    "#### Table sizes"
   ]
  },
  {
   "cell_type": "code",
   "execution_count": 376,
   "id": "9390170e-956c-454c-8881-e204fcb42a47",
   "metadata": {
    "tags": []
   },
   "outputs": [
    {
     "name": "stdout",
     "output_type": "stream",
     "text": [
      "(124120, 12)\n",
      "(124491, 12)\n",
      "(16, 10)\n"
     ]
    }
   ],
   "source": [
    "print(df_intakes.shape)\n",
    "print(df_outcomes.shape)\n",
    "print(df_straymap.shape)"
   ]
  },
  {
   "cell_type": "markdown",
   "id": "8e836169-ea61-4742-abee-c57880330fd8",
   "metadata": {},
   "source": [
    "<b>Straymap only have 16 rows so we will not use this table.</b>"
   ]
  },
  {
   "cell_type": "markdown",
   "id": "f0905398-b304-4588-b4cd-90f8e729d29c",
   "metadata": {},
   "source": [
    "## Merging Intakes and Outcomes   \n",
    "\n",
    "Merging the Intakes dataset with the Outcomes dataset."
   ]
  },
  {
   "cell_type": "code",
   "execution_count": 377,
   "id": "ca179ff7-59e2-45eb-9d56-7949334f1c98",
   "metadata": {},
   "outputs": [
    {
     "name": "stdout",
     "output_type": "stream",
     "text": [
      "(124101, 12)\n"
     ]
    },
    {
     "data": {
      "text/html": [
       "<div>\n",
       "<style scoped>\n",
       "    .dataframe tbody tr th:only-of-type {\n",
       "        vertical-align: middle;\n",
       "    }\n",
       "\n",
       "    .dataframe tbody tr th {\n",
       "        vertical-align: top;\n",
       "    }\n",
       "\n",
       "    .dataframe thead th {\n",
       "        text-align: right;\n",
       "    }\n",
       "</style>\n",
       "<table border=\"1\" class=\"dataframe\">\n",
       "  <thead>\n",
       "    <tr style=\"text-align: right;\">\n",
       "      <th></th>\n",
       "      <th>Animal ID</th>\n",
       "      <th>Name</th>\n",
       "      <th>DateTime</th>\n",
       "      <th>MonthYear</th>\n",
       "      <th>Found Location</th>\n",
       "      <th>Intake Type</th>\n",
       "      <th>Intake Condition</th>\n",
       "      <th>Animal Type</th>\n",
       "      <th>Sex upon Intake</th>\n",
       "      <th>Age upon Intake</th>\n",
       "      <th>Breed</th>\n",
       "      <th>Color</th>\n",
       "    </tr>\n",
       "  </thead>\n",
       "  <tbody>\n",
       "    <tr>\n",
       "      <th>0</th>\n",
       "      <td>A786884</td>\n",
       "      <td>*Brock</td>\n",
       "      <td>2019-01-03 16:19:00</td>\n",
       "      <td>01/03/2019 04:19:00 PM</td>\n",
       "      <td>2501 Magin Meadow Dr in Austin (TX)</td>\n",
       "      <td>Stray</td>\n",
       "      <td>Normal</td>\n",
       "      <td>Dog</td>\n",
       "      <td>Neutered Male</td>\n",
       "      <td>2 years</td>\n",
       "      <td>Beagle Mix</td>\n",
       "      <td>Tricolor</td>\n",
       "    </tr>\n",
       "    <tr>\n",
       "      <th>1</th>\n",
       "      <td>A706918</td>\n",
       "      <td>Belle</td>\n",
       "      <td>2015-07-05 12:59:00</td>\n",
       "      <td>07/05/2015 12:59:00 PM</td>\n",
       "      <td>9409 Bluegrass Dr in Austin (TX)</td>\n",
       "      <td>Stray</td>\n",
       "      <td>Normal</td>\n",
       "      <td>Dog</td>\n",
       "      <td>Spayed Female</td>\n",
       "      <td>8 years</td>\n",
       "      <td>English Springer Spaniel</td>\n",
       "      <td>White/Liver</td>\n",
       "    </tr>\n",
       "  </tbody>\n",
       "</table>\n",
       "</div>"
      ],
      "text/plain": [
       "  Animal ID    Name            DateTime               MonthYear  \\\n",
       "0   A786884  *Brock 2019-01-03 16:19:00  01/03/2019 04:19:00 PM   \n",
       "1   A706918   Belle 2015-07-05 12:59:00  07/05/2015 12:59:00 PM   \n",
       "\n",
       "                        Found Location Intake Type Intake Condition  \\\n",
       "0  2501 Magin Meadow Dr in Austin (TX)       Stray           Normal   \n",
       "1     9409 Bluegrass Dr in Austin (TX)       Stray           Normal   \n",
       "\n",
       "  Animal Type Sex upon Intake Age upon Intake                     Breed  \\\n",
       "0         Dog   Neutered Male         2 years                Beagle Mix   \n",
       "1         Dog   Spayed Female         8 years  English Springer Spaniel   \n",
       "\n",
       "         Color  \n",
       "0     Tricolor  \n",
       "1  White/Liver  "
      ]
     },
     "execution_count": 377,
     "metadata": {},
     "output_type": "execute_result"
    }
   ],
   "source": [
    "df_intakes.drop_duplicates(inplace = True)\n",
    "print(df_intakes.shape)\n",
    "df_intakes.head(2)"
   ]
  },
  {
   "cell_type": "code",
   "execution_count": 378,
   "id": "259877fb-a9b3-4e55-83fa-4884c2158039",
   "metadata": {
    "tags": []
   },
   "outputs": [
    {
     "name": "stdout",
     "output_type": "stream",
     "text": [
      "(124474, 12)\n"
     ]
    },
    {
     "data": {
      "text/html": [
       "<div>\n",
       "<style scoped>\n",
       "    .dataframe tbody tr th:only-of-type {\n",
       "        vertical-align: middle;\n",
       "    }\n",
       "\n",
       "    .dataframe tbody tr th {\n",
       "        vertical-align: top;\n",
       "    }\n",
       "\n",
       "    .dataframe thead th {\n",
       "        text-align: right;\n",
       "    }\n",
       "</style>\n",
       "<table border=\"1\" class=\"dataframe\">\n",
       "  <thead>\n",
       "    <tr style=\"text-align: right;\">\n",
       "      <th></th>\n",
       "      <th>Animal ID</th>\n",
       "      <th>Name</th>\n",
       "      <th>DateTime</th>\n",
       "      <th>MonthYear</th>\n",
       "      <th>Date of Birth</th>\n",
       "      <th>Outcome Type</th>\n",
       "      <th>Outcome Subtype</th>\n",
       "      <th>Animal Type</th>\n",
       "      <th>Sex upon Outcome</th>\n",
       "      <th>Age upon Outcome</th>\n",
       "      <th>Breed</th>\n",
       "      <th>Color</th>\n",
       "    </tr>\n",
       "  </thead>\n",
       "  <tbody>\n",
       "    <tr>\n",
       "      <th>0</th>\n",
       "      <td>A794011</td>\n",
       "      <td>Chunk</td>\n",
       "      <td>2019-05-08 18:20:00</td>\n",
       "      <td>05/08/2019 06:20:00 PM</td>\n",
       "      <td>05/02/2017</td>\n",
       "      <td>Rto-Adopt</td>\n",
       "      <td>NaN</td>\n",
       "      <td>Cat</td>\n",
       "      <td>Neutered Male</td>\n",
       "      <td>2 years</td>\n",
       "      <td>Domestic Shorthair Mix</td>\n",
       "      <td>Brown Tabby/White</td>\n",
       "    </tr>\n",
       "    <tr>\n",
       "      <th>1</th>\n",
       "      <td>A776359</td>\n",
       "      <td>Gizmo</td>\n",
       "      <td>2018-07-18 16:02:00</td>\n",
       "      <td>07/18/2018 04:02:00 PM</td>\n",
       "      <td>07/12/2017</td>\n",
       "      <td>Adoption</td>\n",
       "      <td>NaN</td>\n",
       "      <td>Dog</td>\n",
       "      <td>Neutered Male</td>\n",
       "      <td>1 year</td>\n",
       "      <td>Chihuahua Shorthair Mix</td>\n",
       "      <td>White/Brown</td>\n",
       "    </tr>\n",
       "  </tbody>\n",
       "</table>\n",
       "</div>"
      ],
      "text/plain": [
       "  Animal ID   Name            DateTime               MonthYear Date of Birth  \\\n",
       "0   A794011  Chunk 2019-05-08 18:20:00  05/08/2019 06:20:00 PM    05/02/2017   \n",
       "1   A776359  Gizmo 2018-07-18 16:02:00  07/18/2018 04:02:00 PM    07/12/2017   \n",
       "\n",
       "  Outcome Type Outcome Subtype Animal Type Sex upon Outcome Age upon Outcome  \\\n",
       "0    Rto-Adopt             NaN         Cat    Neutered Male          2 years   \n",
       "1     Adoption             NaN         Dog    Neutered Male           1 year   \n",
       "\n",
       "                     Breed              Color  \n",
       "0   Domestic Shorthair Mix  Brown Tabby/White  \n",
       "1  Chihuahua Shorthair Mix        White/Brown  "
      ]
     },
     "execution_count": 378,
     "metadata": {},
     "output_type": "execute_result"
    }
   ],
   "source": [
    "df_outcomes.drop_duplicates(inplace = True)\n",
    "print(df_outcomes.shape)\n",
    "df_outcomes.head(2)"
   ]
  },
  {
   "cell_type": "markdown",
   "id": "7c8a3967-c9c2-4769-a324-bcc1b5346914",
   "metadata": {
    "tags": []
   },
   "source": [
    "### Dropping and sorting before merging datasets   \n",
    "Next steps we will:\n",
    "- Dropping irrelevant features\n",
    "- Sorting all the intakes and outcomes based on Animal ID and DateTime\n",
    "- Dropping all the animals that were more than one time in the shelter"
   ]
  },
  {
   "cell_type": "code",
   "execution_count": 379,
   "id": "9fe36eb8-9bd9-411f-9a5a-b9c4def75424",
   "metadata": {},
   "outputs": [],
   "source": [
    "#Dropping irrelevant features\n",
    "\n",
    "df_intakes.drop(columns = ['Name','MonthYear','Found Location','Sex upon Intake'], inplace = True)\n",
    "df_intakes.rename(columns = {'DateTime':'DateTimeIntake'}, inplace = True)\n",
    "df_outcomes.drop(columns = ['Name','MonthYear','Date of Birth','Breed','Color','Animal Type', 'Outcome Subtype'], inplace = True)\n",
    "df_outcomes.rename(columns = {'DateTime':'DateTimeOutcome'}, inplace = True)"
   ]
  },
  {
   "cell_type": "code",
   "execution_count": 380,
   "id": "585ce171-9cb6-4a3c-a0ee-761bd910b70b",
   "metadata": {},
   "outputs": [],
   "source": [
    "# Sorting all the intakes and outcomes based on Animal ID and DateTime\n",
    "\n",
    "df_intakes.sort_values(by = ['Animal ID', 'DateTimeIntake'], ascending = [True, True], inplace = True)\n",
    "df_outcomes.sort_values(by = ['Animal ID','DateTimeOutcome'], ascending = [True,True], inplace = True) "
   ]
  },
  {
   "cell_type": "code",
   "execution_count": 381,
   "id": "f5b83fc8-75f2-4078-a07f-9aac16020a32",
   "metadata": {
    "tags": []
   },
   "outputs": [
    {
     "data": {
      "text/html": [
       "<div>\n",
       "<style scoped>\n",
       "    .dataframe tbody tr th:only-of-type {\n",
       "        vertical-align: middle;\n",
       "    }\n",
       "\n",
       "    .dataframe tbody tr th {\n",
       "        vertical-align: top;\n",
       "    }\n",
       "\n",
       "    .dataframe thead th {\n",
       "        text-align: right;\n",
       "    }\n",
       "</style>\n",
       "<table border=\"1\" class=\"dataframe\">\n",
       "  <thead>\n",
       "    <tr style=\"text-align: right;\">\n",
       "      <th></th>\n",
       "      <th>Animal ID</th>\n",
       "      <th>DateTimeIntake</th>\n",
       "      <th>Intake Type</th>\n",
       "      <th>Intake Condition</th>\n",
       "      <th>Animal Type</th>\n",
       "      <th>Age upon Intake</th>\n",
       "      <th>Breed</th>\n",
       "      <th>Color</th>\n",
       "      <th>DateTimeOutcome</th>\n",
       "      <th>Outcome Type</th>\n",
       "      <th>Sex upon Outcome</th>\n",
       "      <th>Age upon Outcome</th>\n",
       "    </tr>\n",
       "  </thead>\n",
       "  <tbody>\n",
       "    <tr>\n",
       "      <th>0</th>\n",
       "      <td>A006100</td>\n",
       "      <td>2014-03-07 14:26:00</td>\n",
       "      <td>Public Assist</td>\n",
       "      <td>Normal</td>\n",
       "      <td>Dog</td>\n",
       "      <td>6 years</td>\n",
       "      <td>Spinone Italiano Mix</td>\n",
       "      <td>Yellow/White</td>\n",
       "      <td>2014-03-08 17:10:00</td>\n",
       "      <td>Return to Owner</td>\n",
       "      <td>Neutered Male</td>\n",
       "      <td>6 years</td>\n",
       "    </tr>\n",
       "    <tr>\n",
       "      <th>1</th>\n",
       "      <td>A047759</td>\n",
       "      <td>2014-04-02 15:55:00</td>\n",
       "      <td>Owner Surrender</td>\n",
       "      <td>Normal</td>\n",
       "      <td>Dog</td>\n",
       "      <td>10 years</td>\n",
       "      <td>Dachshund</td>\n",
       "      <td>Tricolor</td>\n",
       "      <td>2014-04-07 15:12:00</td>\n",
       "      <td>Transfer</td>\n",
       "      <td>Neutered Male</td>\n",
       "      <td>10 years</td>\n",
       "    </tr>\n",
       "  </tbody>\n",
       "</table>\n",
       "</div>"
      ],
      "text/plain": [
       "  Animal ID      DateTimeIntake      Intake Type Intake Condition Animal Type  \\\n",
       "0   A006100 2014-03-07 14:26:00    Public Assist           Normal         Dog   \n",
       "1   A047759 2014-04-02 15:55:00  Owner Surrender           Normal         Dog   \n",
       "\n",
       "  Age upon Intake                 Breed         Color     DateTimeOutcome  \\\n",
       "0         6 years  Spinone Italiano Mix  Yellow/White 2014-03-08 17:10:00   \n",
       "1        10 years             Dachshund      Tricolor 2014-04-07 15:12:00   \n",
       "\n",
       "      Outcome Type Sex upon Outcome Age upon Outcome  \n",
       "0  Return to Owner    Neutered Male          6 years  \n",
       "1         Transfer    Neutered Male         10 years  "
      ]
     },
     "execution_count": 381,
     "metadata": {},
     "output_type": "execute_result"
    }
   ],
   "source": [
    "# Dropping all the animals that were more than one time in the shelter\n",
    "\n",
    "df_intakes.drop_duplicates(subset = 'Animal ID', inplace = True)\n",
    "df_outcomes.drop_duplicates(subset = 'Animal ID', inplace = True)\n",
    "\n",
    "# Merging the datasets\n",
    "df_merged = pd.merge(left = df_intakes, right = df_outcomes, how = 'left', on = ['Animal ID'])\n",
    "df_merged.head(2)"
   ]
  },
  {
   "cell_type": "markdown",
   "id": "e421dd3a-bd95-4cb2-80a4-4083d44b9233",
   "metadata": {},
   "source": [
    "### Creating our target (Days in Shelter)   \n",
    "Next we will create our target with OutcomeDate - IntakeDate."
   ]
  },
  {
   "cell_type": "code",
   "execution_count": 382,
   "id": "7d29f246-d23d-4c0c-9548-3c8d3cdcc02a",
   "metadata": {
    "tags": []
   },
   "outputs": [
    {
     "data": {
      "text/html": [
       "<div>\n",
       "<style scoped>\n",
       "    .dataframe tbody tr th:only-of-type {\n",
       "        vertical-align: middle;\n",
       "    }\n",
       "\n",
       "    .dataframe tbody tr th {\n",
       "        vertical-align: top;\n",
       "    }\n",
       "\n",
       "    .dataframe thead th {\n",
       "        text-align: right;\n",
       "    }\n",
       "</style>\n",
       "<table border=\"1\" class=\"dataframe\">\n",
       "  <thead>\n",
       "    <tr style=\"text-align: right;\">\n",
       "      <th></th>\n",
       "      <th>Animal ID</th>\n",
       "      <th>DateTimeIntake</th>\n",
       "      <th>Intake Type</th>\n",
       "      <th>Intake Condition</th>\n",
       "      <th>Animal Type</th>\n",
       "      <th>Age upon Intake</th>\n",
       "      <th>Breed</th>\n",
       "      <th>Color</th>\n",
       "      <th>DateTimeOutcome</th>\n",
       "      <th>Outcome Type</th>\n",
       "      <th>Sex upon Outcome</th>\n",
       "      <th>Age upon Outcome</th>\n",
       "      <th>days_in_shelter</th>\n",
       "    </tr>\n",
       "  </thead>\n",
       "  <tbody>\n",
       "    <tr>\n",
       "      <th>0</th>\n",
       "      <td>A006100</td>\n",
       "      <td>2014-03-07 14:26:00</td>\n",
       "      <td>Public Assist</td>\n",
       "      <td>Normal</td>\n",
       "      <td>Dog</td>\n",
       "      <td>6 years</td>\n",
       "      <td>Spinone Italiano Mix</td>\n",
       "      <td>Yellow/White</td>\n",
       "      <td>2014-03-08 17:10:00</td>\n",
       "      <td>Return to Owner</td>\n",
       "      <td>Neutered Male</td>\n",
       "      <td>6 years</td>\n",
       "      <td>2.0</td>\n",
       "    </tr>\n",
       "    <tr>\n",
       "      <th>1</th>\n",
       "      <td>A047759</td>\n",
       "      <td>2014-04-02 15:55:00</td>\n",
       "      <td>Owner Surrender</td>\n",
       "      <td>Normal</td>\n",
       "      <td>Dog</td>\n",
       "      <td>10 years</td>\n",
       "      <td>Dachshund</td>\n",
       "      <td>Tricolor</td>\n",
       "      <td>2014-04-07 15:12:00</td>\n",
       "      <td>Transfer</td>\n",
       "      <td>Neutered Male</td>\n",
       "      <td>10 years</td>\n",
       "      <td>5.0</td>\n",
       "    </tr>\n",
       "  </tbody>\n",
       "</table>\n",
       "</div>"
      ],
      "text/plain": [
       "  Animal ID      DateTimeIntake      Intake Type Intake Condition Animal Type  \\\n",
       "0   A006100 2014-03-07 14:26:00    Public Assist           Normal         Dog   \n",
       "1   A047759 2014-04-02 15:55:00  Owner Surrender           Normal         Dog   \n",
       "\n",
       "  Age upon Intake                 Breed         Color     DateTimeOutcome  \\\n",
       "0         6 years  Spinone Italiano Mix  Yellow/White 2014-03-08 17:10:00   \n",
       "1        10 years             Dachshund      Tricolor 2014-04-07 15:12:00   \n",
       "\n",
       "      Outcome Type Sex upon Outcome Age upon Outcome  days_in_shelter  \n",
       "0  Return to Owner    Neutered Male          6 years              2.0  \n",
       "1         Transfer    Neutered Male         10 years              5.0  "
      ]
     },
     "execution_count": 382,
     "metadata": {},
     "output_type": "execute_result"
    }
   ],
   "source": [
    "# Filtering only dogs\n",
    "\n",
    "df_filtered = df_merged[(df_merged['Animal Type'] == 'Dog') | (df_merged['Animal Type'] == 'Cat')].copy()\n",
    "\n",
    "# Calculating the number of days a dog stays in shelter\n",
    "\n",
    "df_filtered['days_in_shelter'] = np.ceil((df_filtered['DateTimeOutcome'] - df_filtered['DateTimeIntake']) / np.timedelta64(24,'h'))\n",
    "\n",
    "# Dropping all the the negatives values (errors in merging datasets) and null values (dogs that are still in shelter)\n",
    "\n",
    "df_filtered = df_filtered[df_filtered.days_in_shelter > 0]\n",
    "df_filtered.head(2)"
   ]
  },
  {
   "cell_type": "markdown",
   "id": "9dc0e190-aaa4-4057-a5a8-8880763fc028",
   "metadata": {},
   "source": [
    "## Data Preprocessing   "
   ]
  },
  {
   "cell_type": "code",
   "execution_count": 383,
   "id": "a2e27e81-a473-4c9d-a3f3-36843a793131",
   "metadata": {},
   "outputs": [
    {
     "name": "stdout",
     "output_type": "stream",
     "text": [
      "(102725, 13)\n",
      "<class 'pandas.core.frame.DataFrame'>\n",
      "Int64Index: 102725 entries, 0 to 110888\n",
      "Data columns (total 13 columns):\n",
      " #   Column            Non-Null Count   Dtype         \n",
      "---  ------            --------------   -----         \n",
      " 0   Animal ID         102725 non-null  object        \n",
      " 1   DateTimeIntake    102725 non-null  datetime64[ns]\n",
      " 2   Intake Type       102725 non-null  object        \n",
      " 3   Intake Condition  102725 non-null  object        \n",
      " 4   Animal Type       102725 non-null  object        \n",
      " 5   Age upon Intake   102725 non-null  object        \n",
      " 6   Breed             102725 non-null  object        \n",
      " 7   Color             102725 non-null  object        \n",
      " 8   DateTimeOutcome   102725 non-null  datetime64[ns]\n",
      " 9   Outcome Type      102725 non-null  object        \n",
      " 10  Sex upon Outcome  102725 non-null  object        \n",
      " 11  Age upon Outcome  102725 non-null  object        \n",
      " 12  days_in_shelter   102725 non-null  float64       \n",
      "dtypes: datetime64[ns](2), float64(1), object(10)\n",
      "memory usage: 11.0+ MB\n"
     ]
    }
   ],
   "source": [
    "# Type of each feature\n",
    "#df_filtered.dtypes\n",
    "\n",
    "#Dropping rows with NaNs\n",
    "df_filtered.dropna(inplace = True)\n",
    "print(df_filtered.shape)\n",
    "df_filtered.info()"
   ]
  },
  {
   "cell_type": "code",
   "execution_count": 384,
   "id": "d000e07d-c901-4886-a9a1-0ebcb659bde5",
   "metadata": {},
   "outputs": [],
   "source": [
    "# Transforming ages in string to integer in months\n",
    "\n",
    "def dog_age(df):\n",
    "    dog_months = []\n",
    "    dog_years = []\n",
    "    for age in df:\n",
    "        if 'years' in age or 'year' in age:\n",
    "            years = int(re.findall('(-?\\d+)',age)[0])\n",
    "            if years < 0:\n",
    "                dog_months.append(np.nan)\n",
    "                dog_years.append(np.nan)\n",
    "            else:\n",
    "                dog_months.append(years*12)\n",
    "                dog_years.append(years)\n",
    "        elif 'months' in age or 'month' in age:\n",
    "            months = int(re.findall('(-?\\d+)',age)[0])\n",
    "            years = int(re.findall('(-?\\d+)',age)[0])\n",
    "            if months < 0:\n",
    "                dog_months.append(np.nan)\n",
    "            else:\n",
    "                dog_months.append(months)\n",
    "                dog_years.append(1)\n",
    "        else:\n",
    "            weeks_or_days = int(re.findall('(-?\\d+)',age)[0])\n",
    "            if weeks_or_days < 0:\n",
    "                dog_months.append(np.nan)\n",
    "            else:\n",
    "                dog_months.append(1)\n",
    "                dog_years.append(1)\n",
    "    return [dog_months, dog_years]"
   ]
  },
  {
   "cell_type": "code",
   "execution_count": 385,
   "id": "73f59f8b-a97c-4f3b-b0c6-fd1161a73afb",
   "metadata": {
    "tags": []
   },
   "outputs": [],
   "source": [
    "#Converting dog ages\n",
    "df_filtered['age_upon_intake_months'] = dog_age(df_filtered['Age upon Intake'])[0]\n",
    "df_filtered['age_upon_intake_years'] = dog_age(df_filtered['Age upon Intake'])[1]\n",
    "df_filtered['age_upon_outcome_months'] = dog_age(df_filtered['Age upon Outcome'])[0]\n",
    "df_filtered['age_upon_outcome_years'] = dog_age(df_filtered['Age upon Outcome'])[1]"
   ]
  },
  {
   "cell_type": "code",
   "execution_count": 386,
   "id": "f3f57b94-88ec-4581-9bfb-6179eaa5136c",
   "metadata": {
    "tags": []
   },
   "outputs": [
    {
     "data": {
      "text/html": [
       "<div>\n",
       "<style scoped>\n",
       "    .dataframe tbody tr th:only-of-type {\n",
       "        vertical-align: middle;\n",
       "    }\n",
       "\n",
       "    .dataframe tbody tr th {\n",
       "        vertical-align: top;\n",
       "    }\n",
       "\n",
       "    .dataframe thead th {\n",
       "        text-align: right;\n",
       "    }\n",
       "</style>\n",
       "<table border=\"1\" class=\"dataframe\">\n",
       "  <thead>\n",
       "    <tr style=\"text-align: right;\">\n",
       "      <th></th>\n",
       "      <th>Animal ID</th>\n",
       "      <th>Intake Type</th>\n",
       "      <th>Intake Condition</th>\n",
       "      <th>Animal Type</th>\n",
       "      <th>Breed</th>\n",
       "      <th>Color</th>\n",
       "      <th>Outcome Type</th>\n",
       "      <th>Sex upon Outcome</th>\n",
       "      <th>days_in_shelter</th>\n",
       "      <th>age_upon_intake_months</th>\n",
       "      <th>age_upon_intake_years</th>\n",
       "      <th>age_upon_outcome_months</th>\n",
       "      <th>age_upon_outcome_years</th>\n",
       "    </tr>\n",
       "  </thead>\n",
       "  <tbody>\n",
       "    <tr>\n",
       "      <th>0</th>\n",
       "      <td>A006100</td>\n",
       "      <td>Public Assist</td>\n",
       "      <td>Normal</td>\n",
       "      <td>Dog</td>\n",
       "      <td>Spinone Italiano Mix</td>\n",
       "      <td>Yellow/White</td>\n",
       "      <td>Return to Owner</td>\n",
       "      <td>Neutered Male</td>\n",
       "      <td>2.0</td>\n",
       "      <td>72.0</td>\n",
       "      <td>6.0</td>\n",
       "      <td>72.0</td>\n",
       "      <td>6.0</td>\n",
       "    </tr>\n",
       "    <tr>\n",
       "      <th>1</th>\n",
       "      <td>A047759</td>\n",
       "      <td>Owner Surrender</td>\n",
       "      <td>Normal</td>\n",
       "      <td>Dog</td>\n",
       "      <td>Dachshund</td>\n",
       "      <td>Tricolor</td>\n",
       "      <td>Transfer</td>\n",
       "      <td>Neutered Male</td>\n",
       "      <td>5.0</td>\n",
       "      <td>120.0</td>\n",
       "      <td>10.0</td>\n",
       "      <td>120.0</td>\n",
       "      <td>10.0</td>\n",
       "    </tr>\n",
       "  </tbody>\n",
       "</table>\n",
       "</div>"
      ],
      "text/plain": [
       "  Animal ID      Intake Type Intake Condition Animal Type  \\\n",
       "0   A006100    Public Assist           Normal         Dog   \n",
       "1   A047759  Owner Surrender           Normal         Dog   \n",
       "\n",
       "                  Breed         Color     Outcome Type Sex upon Outcome  \\\n",
       "0  Spinone Italiano Mix  Yellow/White  Return to Owner    Neutered Male   \n",
       "1             Dachshund      Tricolor         Transfer    Neutered Male   \n",
       "\n",
       "   days_in_shelter  age_upon_intake_months  age_upon_intake_years  \\\n",
       "0              2.0                    72.0                    6.0   \n",
       "1              5.0                   120.0                   10.0   \n",
       "\n",
       "   age_upon_outcome_months  age_upon_outcome_years  \n",
       "0                     72.0                     6.0  \n",
       "1                    120.0                    10.0  "
      ]
     },
     "execution_count": 386,
     "metadata": {},
     "output_type": "execute_result"
    }
   ],
   "source": [
    "df_filtered.drop(columns = ['DateTimeIntake', 'DateTimeOutcome','Age upon Intake', 'Age upon Outcome'], inplace = True)\n",
    "df_filtered.head(2)"
   ]
  },
  {
   "cell_type": "markdown",
   "id": "43591e70-c575-4c72-9b5a-ee7eb8c1234c",
   "metadata": {},
   "source": [
    "### Categorical features"
   ]
  },
  {
   "cell_type": "code",
   "execution_count": 387,
   "id": "9ea96442-7722-42ea-a51c-3d8acb76a2e0",
   "metadata": {},
   "outputs": [],
   "source": [
    "# Intake Type (FERNANDO)\n",
    "# Intake Condition (FERNANDO)\n",
    "# Color (FERNANDO)\n",
    "# Outcome Type (FERNANDO)\n",
    "# Outcome Subtype (FERNANDO)\n",
    "# Sex upon Outcome (GONÇALO)\n",
    "# Breed (GONÇALO)"
   ]
  },
  {
   "cell_type": "markdown",
   "id": "afe6a245-182c-4dbc-915a-a08ab0781e3b",
   "metadata": {},
   "source": [
    "#### Sex upon Outcome   \n",
    "Dividing the sex and the status of dog into 2 columns"
   ]
  },
  {
   "cell_type": "code",
   "execution_count": 388,
   "id": "35536245-8ec6-4d23-9407-48f1e2412f6f",
   "metadata": {},
   "outputs": [
    {
     "data": {
      "text/plain": [
       "Neutered Male    36360\n",
       "Spayed Female    33354\n",
       "Intact Male      14439\n",
       "Intact Female    14395\n",
       "Unknown           4177\n",
       "Name: Sex upon Outcome, dtype: int64"
      ]
     },
     "execution_count": 388,
     "metadata": {},
     "output_type": "execute_result"
    }
   ],
   "source": [
    "df_filtered['Sex upon Outcome'].value_counts()"
   ]
  },
  {
   "cell_type": "code",
   "execution_count": 389,
   "id": "bcdd10a2-afe8-490c-a433-8834ae680fd0",
   "metadata": {},
   "outputs": [],
   "source": [
    "# Defining functions to see if the animal is neutered/spayed or not and if the animal is male or female\n",
    "\n",
    "def neutered_animals(df):\n",
    "    animal_neutered = []\n",
    "    for animal in df:\n",
    "        if 'Neutered' in animal or 'Spayed' in animal:\n",
    "            animal_neutered.append(1)\n",
    "        elif 'Unkown' in animal:\n",
    "            animal_neutered.append(np.nan)\n",
    "        else:\n",
    "            animal_neutered.append(0)\n",
    "    return animal_neutered\n",
    "\n",
    "def male_animals(df):\n",
    "    male_animal = []\n",
    "    for animal in df:\n",
    "        if 'Male' in animal:\n",
    "            male_animal.append(1)\n",
    "        elif 'Female' in animal:\n",
    "            male_animal.append(0)\n",
    "        else:\n",
    "            male_animal.append(np.nan)\n",
    "    return male_animal"
   ]
  },
  {
   "cell_type": "code",
   "execution_count": 390,
   "id": "ff72d708-e3f1-4957-915a-4d2c9bbf08c5",
   "metadata": {},
   "outputs": [],
   "source": [
    "df_filtered['neutered_or_spayed'] = neutered_animals(df_filtered['Sex upon Outcome'])\n",
    "df_filtered['male_or_female'] = male_animals(df_filtered['Sex upon Outcome'])\n",
    "df_filtered.drop(columns = ['Sex upon Outcome'], inplace = True)"
   ]
  },
  {
   "cell_type": "markdown",
   "id": "7d1cd307-acf3-429a-a113-84763c258d50",
   "metadata": {},
   "source": [
    "#### Breed   \n",
    "Merging all the breeds that are mixed"
   ]
  },
  {
   "cell_type": "code",
   "execution_count": 391,
   "id": "933051a7-6ec9-4347-9d6f-b42da8a51dcf",
   "metadata": {},
   "outputs": [
    {
     "data": {
      "text/plain": [
       "Domestic Shorthair Mix                     29240\n",
       "Domestic Shorthair                          6646\n",
       "Pit Bull Mix                                6372\n",
       "Labrador Retriever Mix                      5717\n",
       "Chihuahua Shorthair Mix                     5556\n",
       "                                           ...  \n",
       "Bluetick Hound/Treeing Walker Coonhound        1\n",
       "Lhasa Apso/Yorkshire Terrier                   1\n",
       "Basset Hound/Golden Retriever                  1\n",
       "Jack Russell Terrier/Chihuahua Longhair        1\n",
       "Smooth Fox Terrier/French Bulldog              1\n",
       "Name: Breed, Length: 2417, dtype: int64"
      ]
     },
     "execution_count": 391,
     "metadata": {},
     "output_type": "execute_result"
    }
   ],
   "source": [
    "df_filtered['Breed'].value_counts()"
   ]
  },
  {
   "cell_type": "code",
   "execution_count": 392,
   "id": "b671fa88-46d8-4349-8faf-a513daa5890b",
   "metadata": {},
   "outputs": [
    {
     "name": "stdout",
     "output_type": "stream",
     "text": [
      "The number of CAT BREEDS in df_filtered is 100\n",
      "The number of DOG BREEDS in df_filtered is 2317\n"
     ]
    }
   ],
   "source": [
    "print(f\"The number of CAT BREEDS in df_filtered is {df_filtered[df_filtered['Animal Type'] == 'Cat']['Breed'].nunique()}\")\n",
    "print(f\"The number of DOG BREEDS in df_filtered is {df_filtered[df_filtered['Animal Type'] == 'Dog']['Breed'].nunique()}\")"
   ]
  },
  {
   "cell_type": "code",
   "execution_count": 424,
   "id": "4d6e1707-2d2d-48b6-a48a-114e16a5afe3",
   "metadata": {},
   "outputs": [],
   "source": [
    "# Defining a function to reduce the number of breeds to mixed and pure\n",
    "\n",
    "def breed(df):\n",
    "    breeds = []\n",
    "    for breed in df:\n",
    "        if 'Mix' in breed or '/' in breed or 'Domestic' in breed:\n",
    "            breeds.append('Mixed')\n",
    "        else:\n",
    "            breeds.append(breed)\n",
    "    return breeds"
   ]
  },
  {
   "cell_type": "code",
   "execution_count": 425,
   "id": "807c064d-a368-4128-a804-aa07d4780b81",
   "metadata": {},
   "outputs": [],
   "source": [
    "df_filtered['Breed'] = breed(df_filtered['Breed'])"
   ]
  },
  {
   "cell_type": "code",
   "execution_count": 433,
   "id": "0946f550-882d-4b5e-8cc3-5ba6de678a53",
   "metadata": {},
   "outputs": [
    {
     "data": {
      "text/html": [
       "<div>\n",
       "<style scoped>\n",
       "    .dataframe tbody tr th:only-of-type {\n",
       "        vertical-align: middle;\n",
       "    }\n",
       "\n",
       "    .dataframe tbody tr th {\n",
       "        vertical-align: top;\n",
       "    }\n",
       "\n",
       "    .dataframe thead th {\n",
       "        text-align: right;\n",
       "    }\n",
       "</style>\n",
       "<table border=\"1\" class=\"dataframe\">\n",
       "  <thead>\n",
       "    <tr style=\"text-align: right;\">\n",
       "      <th></th>\n",
       "      <th>Animal ID</th>\n",
       "      <th>Intake Type</th>\n",
       "      <th>Intake Condition</th>\n",
       "      <th>Animal Type</th>\n",
       "      <th>Breed</th>\n",
       "      <th>Outcome Type</th>\n",
       "      <th>days_in_shelter</th>\n",
       "      <th>age_upon_intake_months</th>\n",
       "      <th>age_upon_intake_years</th>\n",
       "      <th>age_upon_outcome_months</th>\n",
       "      <th>age_upon_outcome_years</th>\n",
       "      <th>neutered_or_spayed</th>\n",
       "      <th>male_or_female</th>\n",
       "      <th>grup_color</th>\n",
       "    </tr>\n",
       "  </thead>\n",
       "  <tbody>\n",
       "    <tr>\n",
       "      <th>0</th>\n",
       "      <td>A006100</td>\n",
       "      <td>Public Assist</td>\n",
       "      <td>Normal</td>\n",
       "      <td>Dog</td>\n",
       "      <td>Mixed</td>\n",
       "      <td>Return to Owner</td>\n",
       "      <td>2.0</td>\n",
       "      <td>72.0</td>\n",
       "      <td>6.0</td>\n",
       "      <td>72.0</td>\n",
       "      <td>6.0</td>\n",
       "      <td>1</td>\n",
       "      <td>1.0</td>\n",
       "      <td>Yellow</td>\n",
       "    </tr>\n",
       "    <tr>\n",
       "      <th>1</th>\n",
       "      <td>A047759</td>\n",
       "      <td>Owner Surrender</td>\n",
       "      <td>Normal</td>\n",
       "      <td>Dog</td>\n",
       "      <td>Dachshund</td>\n",
       "      <td>Transfer</td>\n",
       "      <td>5.0</td>\n",
       "      <td>120.0</td>\n",
       "      <td>10.0</td>\n",
       "      <td>120.0</td>\n",
       "      <td>10.0</td>\n",
       "      <td>1</td>\n",
       "      <td>1.0</td>\n",
       "      <td>Tricolor</td>\n",
       "    </tr>\n",
       "    <tr>\n",
       "      <th>2</th>\n",
       "      <td>A134067</td>\n",
       "      <td>Public Assist</td>\n",
       "      <td>Injured</td>\n",
       "      <td>Dog</td>\n",
       "      <td>Shetland Sheepdog</td>\n",
       "      <td>Return to Owner</td>\n",
       "      <td>1.0</td>\n",
       "      <td>192.0</td>\n",
       "      <td>16.0</td>\n",
       "      <td>192.0</td>\n",
       "      <td>16.0</td>\n",
       "      <td>1</td>\n",
       "      <td>1.0</td>\n",
       "      <td>Brown</td>\n",
       "    </tr>\n",
       "    <tr>\n",
       "      <th>3</th>\n",
       "      <td>A141142</td>\n",
       "      <td>Stray</td>\n",
       "      <td>Aged</td>\n",
       "      <td>Dog</td>\n",
       "      <td>Mixed</td>\n",
       "      <td>Return to Owner</td>\n",
       "      <td>1.0</td>\n",
       "      <td>180.0</td>\n",
       "      <td>15.0</td>\n",
       "      <td>180.0</td>\n",
       "      <td>15.0</td>\n",
       "      <td>1</td>\n",
       "      <td>0.0</td>\n",
       "      <td>Black</td>\n",
       "    </tr>\n",
       "    <tr>\n",
       "      <th>4</th>\n",
       "      <td>A163459</td>\n",
       "      <td>Stray</td>\n",
       "      <td>Normal</td>\n",
       "      <td>Dog</td>\n",
       "      <td>Mixed</td>\n",
       "      <td>Return to Owner</td>\n",
       "      <td>1.0</td>\n",
       "      <td>180.0</td>\n",
       "      <td>15.0</td>\n",
       "      <td>180.0</td>\n",
       "      <td>15.0</td>\n",
       "      <td>0</td>\n",
       "      <td>0.0</td>\n",
       "      <td>Black</td>\n",
       "    </tr>\n",
       "    <tr>\n",
       "      <th>...</th>\n",
       "      <td>...</td>\n",
       "      <td>...</td>\n",
       "      <td>...</td>\n",
       "      <td>...</td>\n",
       "      <td>...</td>\n",
       "      <td>...</td>\n",
       "      <td>...</td>\n",
       "      <td>...</td>\n",
       "      <td>...</td>\n",
       "      <td>...</td>\n",
       "      <td>...</td>\n",
       "      <td>...</td>\n",
       "      <td>...</td>\n",
       "      <td>...</td>\n",
       "    </tr>\n",
       "    <tr>\n",
       "      <th>110852</th>\n",
       "      <td>A829991</td>\n",
       "      <td>Stray</td>\n",
       "      <td>Normal</td>\n",
       "      <td>Dog</td>\n",
       "      <td>Mixed</td>\n",
       "      <td>Return to Owner</td>\n",
       "      <td>2.0</td>\n",
       "      <td>24.0</td>\n",
       "      <td>2.0</td>\n",
       "      <td>24.0</td>\n",
       "      <td>2.0</td>\n",
       "      <td>0</td>\n",
       "      <td>1.0</td>\n",
       "      <td>Black</td>\n",
       "    </tr>\n",
       "    <tr>\n",
       "      <th>110853</th>\n",
       "      <td>A829992</td>\n",
       "      <td>Stray</td>\n",
       "      <td>Normal</td>\n",
       "      <td>Dog</td>\n",
       "      <td>Mixed</td>\n",
       "      <td>Return to Owner</td>\n",
       "      <td>2.0</td>\n",
       "      <td>24.0</td>\n",
       "      <td>2.0</td>\n",
       "      <td>24.0</td>\n",
       "      <td>2.0</td>\n",
       "      <td>1</td>\n",
       "      <td>0.0</td>\n",
       "      <td>White</td>\n",
       "    </tr>\n",
       "    <tr>\n",
       "      <th>110861</th>\n",
       "      <td>A830034</td>\n",
       "      <td>Stray</td>\n",
       "      <td>Normal</td>\n",
       "      <td>Dog</td>\n",
       "      <td>Mixed</td>\n",
       "      <td>Return to Owner</td>\n",
       "      <td>1.0</td>\n",
       "      <td>24.0</td>\n",
       "      <td>2.0</td>\n",
       "      <td>24.0</td>\n",
       "      <td>2.0</td>\n",
       "      <td>1</td>\n",
       "      <td>1.0</td>\n",
       "      <td>Brown</td>\n",
       "    </tr>\n",
       "    <tr>\n",
       "      <th>110874</th>\n",
       "      <td>A830080</td>\n",
       "      <td>Owner Surrender</td>\n",
       "      <td>Normal</td>\n",
       "      <td>Dog</td>\n",
       "      <td>Alaskan Husky</td>\n",
       "      <td>Rto-Adopt</td>\n",
       "      <td>2.0</td>\n",
       "      <td>12.0</td>\n",
       "      <td>1.0</td>\n",
       "      <td>12.0</td>\n",
       "      <td>1.0</td>\n",
       "      <td>1</td>\n",
       "      <td>1.0</td>\n",
       "      <td>Black</td>\n",
       "    </tr>\n",
       "    <tr>\n",
       "      <th>110888</th>\n",
       "      <td>A830112</td>\n",
       "      <td>Owner Surrender</td>\n",
       "      <td>Injured</td>\n",
       "      <td>Dog</td>\n",
       "      <td>Pit Bull</td>\n",
       "      <td>Euthanasia</td>\n",
       "      <td>1.0</td>\n",
       "      <td>1.0</td>\n",
       "      <td>1.0</td>\n",
       "      <td>1.0</td>\n",
       "      <td>1.0</td>\n",
       "      <td>0</td>\n",
       "      <td>NaN</td>\n",
       "      <td>Tan</td>\n",
       "    </tr>\n",
       "  </tbody>\n",
       "</table>\n",
       "<p>102725 rows × 14 columns</p>\n",
       "</div>"
      ],
      "text/plain": [
       "       Animal ID      Intake Type Intake Condition Animal Type  \\\n",
       "0        A006100    Public Assist           Normal         Dog   \n",
       "1        A047759  Owner Surrender           Normal         Dog   \n",
       "2        A134067    Public Assist          Injured         Dog   \n",
       "3        A141142            Stray             Aged         Dog   \n",
       "4        A163459            Stray           Normal         Dog   \n",
       "...          ...              ...              ...         ...   \n",
       "110852   A829991            Stray           Normal         Dog   \n",
       "110853   A829992            Stray           Normal         Dog   \n",
       "110861   A830034            Stray           Normal         Dog   \n",
       "110874   A830080  Owner Surrender           Normal         Dog   \n",
       "110888   A830112  Owner Surrender          Injured         Dog   \n",
       "\n",
       "                    Breed     Outcome Type  days_in_shelter  \\\n",
       "0                   Mixed  Return to Owner              2.0   \n",
       "1               Dachshund         Transfer              5.0   \n",
       "2       Shetland Sheepdog  Return to Owner              1.0   \n",
       "3                   Mixed  Return to Owner              1.0   \n",
       "4                   Mixed  Return to Owner              1.0   \n",
       "...                   ...              ...              ...   \n",
       "110852              Mixed  Return to Owner              2.0   \n",
       "110853              Mixed  Return to Owner              2.0   \n",
       "110861              Mixed  Return to Owner              1.0   \n",
       "110874      Alaskan Husky        Rto-Adopt              2.0   \n",
       "110888           Pit Bull       Euthanasia              1.0   \n",
       "\n",
       "        age_upon_intake_months  age_upon_intake_years  \\\n",
       "0                         72.0                    6.0   \n",
       "1                        120.0                   10.0   \n",
       "2                        192.0                   16.0   \n",
       "3                        180.0                   15.0   \n",
       "4                        180.0                   15.0   \n",
       "...                        ...                    ...   \n",
       "110852                    24.0                    2.0   \n",
       "110853                    24.0                    2.0   \n",
       "110861                    24.0                    2.0   \n",
       "110874                    12.0                    1.0   \n",
       "110888                     1.0                    1.0   \n",
       "\n",
       "        age_upon_outcome_months  age_upon_outcome_years  neutered_or_spayed  \\\n",
       "0                          72.0                     6.0                   1   \n",
       "1                         120.0                    10.0                   1   \n",
       "2                         192.0                    16.0                   1   \n",
       "3                         180.0                    15.0                   1   \n",
       "4                         180.0                    15.0                   0   \n",
       "...                         ...                     ...                 ...   \n",
       "110852                     24.0                     2.0                   0   \n",
       "110853                     24.0                     2.0                   1   \n",
       "110861                     24.0                     2.0                   1   \n",
       "110874                     12.0                     1.0                   1   \n",
       "110888                      1.0                     1.0                   0   \n",
       "\n",
       "        male_or_female grup_color  \n",
       "0                  1.0     Yellow  \n",
       "1                  1.0   Tricolor  \n",
       "2                  1.0      Brown  \n",
       "3                  0.0      Black  \n",
       "4                  0.0      Black  \n",
       "...                ...        ...  \n",
       "110852             1.0      Black  \n",
       "110853             0.0      White  \n",
       "110861             1.0      Brown  \n",
       "110874             1.0      Black  \n",
       "110888             NaN        Tan  \n",
       "\n",
       "[102725 rows x 14 columns]"
      ]
     },
     "execution_count": 433,
     "metadata": {},
     "output_type": "execute_result"
    }
   ],
   "source": [
    "df_filtered.drop(columns = 'Color')"
   ]
  },
  {
   "cell_type": "code",
   "execution_count": null,
   "id": "97c2c204-56cc-44f8-a561-b25e5fee7d28",
   "metadata": {},
   "outputs": [],
   "source": []
  },
  {
   "cell_type": "code",
   "execution_count": 434,
   "id": "abc8201c-c9ce-40c4-8d7d-c69ab65e1ec7",
   "metadata": {},
   "outputs": [],
   "source": [
    "# Defining a function to reduce the number of mixed colors\n",
    "def group_color(df,column):\n",
    "    group_colors = []\n",
    "    for animal in df[column]:\n",
    "        color_split = animal.split(\"/\")\n",
    "        group_colors.append(color_split[0])\n",
    "    df[\"group_color\"] = group_colors\n",
    "    return df.reset_index(drop=True)"
   ]
  },
  {
   "cell_type": "code",
   "execution_count": 435,
   "id": "502d14c7-d322-4db5-ae70-4faeeae169ba",
   "metadata": {},
   "outputs": [],
   "source": [
    "group_color(df_filtered,'Color')\n",
    "df_filtered.drop(columns = 'Color', inplace = True)"
   ]
  },
  {
   "cell_type": "code",
   "execution_count": 436,
   "id": "17839048-3195-400c-9e9e-a859b7559b30",
   "metadata": {
    "tags": []
   },
   "outputs": [],
   "source": [
    "import pandas as pd\n",
    "import numpy as np\n",
    "import matplotlib.pyplot as plt\n",
    "import seaborn as sns\n",
    "import re\n",
    "\n",
    "def get_data():\n",
    "    # Read CSV\n",
    "    df_intakes = pd.read_csv('../raw_data/Austin_Animal_Center_Intakes.csv', parse_dates=['DateTime'])\n",
    "    df_outcomes = pd.read_csv('../raw_data/Austin_Animal_Center_Outcomes.csv', parse_dates=['DateTime'])\n",
    "    df_straymap = pd.read_csv('../raw_data/Austin_Animal_Center_Stray_Map.csv')\n",
    "    \n",
    "    # Drop Duplicates\n",
    "    df_intakes.drop_duplicates(inplace = True)\n",
    "    df_outcomes.drop_duplicates(inplace = True)\n",
    "    \n",
    "    #Dropping Irrelevant Features\n",
    "    df_intakes.drop(columns = ['Name','MonthYear','Found Location','Sex upon Intake'], inplace = True)\n",
    "    df_intakes.rename(columns = {'DateTime':'DateTimeIntake'}, inplace = True)\n",
    "    df_outcomes.drop(columns = ['Name','MonthYear','Date of Birth','Breed','Color','Animal Type', 'Outcome Subtype'], inplace = True)\n",
    "    df_outcomes.rename(columns = {'DateTime':'DateTimeOutcome'}, inplace = True)\n",
    "    \n",
    "    # Sorting all the intakes and outcomes based on Animal ID and DateTime\n",
    "    df_intakes.sort_values(by = ['Animal ID', 'DateTimeIntake'], ascending = [True, True], inplace = True)\n",
    "    df_outcomes.sort_values(by = ['Animal ID','DateTimeOutcome'], ascending = [True,True], inplace = True) \n",
    "\n",
    "    # Dropping all the animals that were more than one time in the shelter\n",
    "    df_intakes.drop_duplicates(subset = 'Animal ID', inplace = True)\n",
    "    df_outcomes.drop_duplicates(subset = 'Animal ID', inplace = True)\n",
    "\n",
    "    # Merging the datasets\n",
    "    df_merged = pd.merge(left = df_intakes, right = df_outcomes, how = 'left', on = ['Animal ID'])\n",
    "    \n",
    "    # Filtering only dogs\n",
    "    df_filtered = df_merged[(df_merged['Animal Type'] == 'Dog') | (df_merged['Animal Type'] == 'Cat')].copy()\n",
    "\n",
    "    # Calculating the number of days a dog stays in shelter\n",
    "    df_filtered['days_in_shelter'] = np.ceil((df_filtered['DateTimeOutcome'] - df_filtered['DateTimeIntake']) / np.timedelta64(24,'h'))\n",
    "\n",
    "    # Dropping all the the negatives values (errors in merging datasets) and null values (dogs that are still in shelter)\n",
    "    df_filtered = df_filtered[df_filtered.days_in_shelter > 0]\n",
    "    \n",
    "    #Dropping rows with NaNs\n",
    "    df_filtered.dropna(inplace = True)\n",
    "    \n",
    "    # Transforming ages in string to integer in months\n",
    "    def dog_age(df):\n",
    "        dog_months = []\n",
    "        dog_years = []\n",
    "        for age in df:\n",
    "            if 'years' in age or 'year' in age:\n",
    "                years = int(re.findall('(-?\\d+)',age)[0])\n",
    "                if years < 0:\n",
    "                    dog_months.append(np.nan)\n",
    "                    dog_years.append(np.nan)\n",
    "                else:\n",
    "                    dog_months.append(years*12)\n",
    "                    dog_years.append(years)\n",
    "            elif 'months' in age or 'month' in age:\n",
    "                months = int(re.findall('(-?\\d+)',age)[0])\n",
    "                years = int(re.findall('(-?\\d+)',age)[0])\n",
    "                if months < 0:\n",
    "                    dog_months.append(np.nan)\n",
    "                else:\n",
    "                    dog_months.append(months)\n",
    "                    dog_years.append(1)\n",
    "            else:\n",
    "                weeks_or_days = int(re.findall('(-?\\d+)',age)[0])\n",
    "                if weeks_or_days < 0:\n",
    "                    dog_months.append(np.nan)\n",
    "                else:\n",
    "                    dog_months.append(1)\n",
    "                    dog_years.append(1)\n",
    "        return [dog_months, dog_years]\n",
    "    \n",
    "    df_filtered['age_upon_intake_months'] = dog_age(df_filtered['Age upon Intake'])[0]\n",
    "    df_filtered['age_upon_intake_years'] = dog_age(df_filtered['Age upon Intake'])[1]\n",
    "    df_filtered['age_upon_outcome_months'] = dog_age(df_filtered['Age upon Outcome'])[0]\n",
    "    df_filtered['age_upon_outcome_years'] = dog_age(df_filtered['Age upon Outcome'])[1]\n",
    "    df_filtered.drop(columns = ['DateTimeIntake', 'DateTimeOutcome','Age upon Intake', 'Age upon Outcome'], inplace = True)\n",
    "    \n",
    "    # Defining functions to see if the animal is neutered/spayed\n",
    "    def neutered_animals(df):\n",
    "        animal_neutered = []\n",
    "        for animal in df:\n",
    "            if 'Neutered' in animal or 'Spayed' in animal:\n",
    "                animal_neutered.append(1)\n",
    "            elif 'Unkown' in animal:\n",
    "                animal_neutered.append(np.nan)\n",
    "            else:\n",
    "                animal_neutered.append(0)\n",
    "        return animal_neutered\n",
    "    \n",
    "    # or not and if the animal is male or female\n",
    "    def male_animals(df):\n",
    "        male_animal = []\n",
    "        for animal in df:\n",
    "            if 'Male' in animal:\n",
    "                male_animal.append(1)\n",
    "            elif 'Female' in animal:\n",
    "                male_animal.append(0)\n",
    "            else:\n",
    "                male_animal.append(np.nan)\n",
    "        return male_animal\n",
    "    \n",
    "    df_filtered['neutered_or_spayed'] = neutered_animals(df_filtered['Sex upon Outcome'])\n",
    "    df_filtered['male_or_female'] = male_animals(df_filtered['Sex upon Outcome'])\n",
    "    df_filtered.drop(columns = ['Sex upon Outcome'], inplace = True)\n",
    "    \n",
    "    # Defining a function to reduce the number of breeds to mixed and pure\n",
    "\n",
    "    def breed(df):\n",
    "        breeds = []\n",
    "        for breed in df:\n",
    "            if 'Mix' in breed or '/' in breed or 'Domestic' in breed:\n",
    "                breeds.append('Mixed')\n",
    "            else:\n",
    "                breeds.append(breed)\n",
    "        return breeds\n",
    "    \n",
    "    df_filtered['Breed'] = breed(df_filtered['Breed'])\n",
    "    \n",
    "    # Defining a function to reduce the number of colors\n",
    "    def group_color(df,column):\n",
    "        group_colors = []\n",
    "        for animal in df[column]:\n",
    "            color_split = animal.split(\"/\")\n",
    "            group_colors.append(color_split[0])\n",
    "        df[\"group_color\"] = group_colors\n",
    "        return df.reset_index(drop=True)\n",
    "    \n",
    "    group_color(df_filtered,'Color')\n",
    "    df_filtered.drop(columns = 'Color', inplace = True)\n",
    "    return df_filtered"
   ]
  },
  {
<<<<<<< HEAD:notebooks/gmatos51_data_analysis.ipynb
=======
   "cell_type": "markdown",
   "id": "1cab5429-90d7-4c97-bb68-4d2e90656773",
   "metadata": {
    "tags": []
   },
   "source": [
    "## EDA - Exploratory Data Analysis   \n",
    "Exploring our data."
   ]
  },
  {
>>>>>>> 3d8745b8e3f17c0b898760874f6b0f63907a5cfe:notebooks/gmatos51_data_preprocessing.ipynb
   "cell_type": "code",
   "execution_count": 427,
   "id": "040b6f6f-b3cc-41e4-8f92-4238a01546d9",
   "metadata": {},
   "outputs": [
    {
     "data": {
      "text/plain": [
       "count    102725.000000\n",
       "mean         19.717089\n",
       "std          42.652623\n",
       "min           1.000000\n",
       "25%           3.000000\n",
       "50%           6.000000\n",
       "75%          18.000000\n",
       "max        1522.000000\n",
       "Name: days_in_shelter, dtype: float64"
      ]
     },
     "execution_count": 427,
     "metadata": {},
     "output_type": "execute_result"
    }
   ],
   "source": [
    "df_filtered['days_in_shelter'].describe()"
   ]
  },
  {
   "cell_type": "code",
   "execution_count": 182,
   "id": "d4722d0d-3195-43a1-989c-151404bc486a",
   "metadata": {},
   "outputs": [
    {
     "data": {
      "text/plain": [
       "<AxesSubplot:xlabel='Sex upon Outcome', ylabel='days_in_shelter'>"
      ]
     },
     "execution_count": 182,
     "metadata": {},
     "output_type": "execute_result"
    },
    {
     "data": {
      "image/png": "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\n",
      "text/plain": [
       "<Figure size 432x288 with 1 Axes>"
      ]
     },
     "metadata": {
      "needs_background": "light"
     },
     "output_type": "display_data"
    }
   ],
   "source": [
    "sns.boxplot(x = df_filtered['Sex upon Outcome'], y = df_filtered['days_in_shelter'])"
   ]
  },
  {
   "cell_type": "code",
   "execution_count": 142,
   "id": "63cd4ace-5806-4973-8a99-bb54d5174d7f",
   "metadata": {},
   "outputs": [
    {
     "data": {
      "text/plain": [
       "(7458, 13)"
      ]
     },
     "execution_count": 142,
     "metadata": {},
     "output_type": "execute_result"
    }
   ],
   "source": [
    "df_filtered[df_filtered['days_in_shelter'] > 30].shape"
   ]
  },
  {
   "cell_type": "markdown",
   "id": "b7a82cb7-2788-4b35-a69b-709e50c49c24",
   "metadata": {},
   "source": [
    "### Numerical features"
   ]
  }
 ],
 "metadata": {
  "kernelspec": {
   "display_name": "Python 3 (ipykernel)",
   "language": "python",
   "name": "python3"
  },
  "language_info": {
   "codemirror_mode": {
    "name": "ipython",
    "version": 3
   },
   "file_extension": ".py",
   "mimetype": "text/x-python",
   "name": "python",
   "nbconvert_exporter": "python",
   "pygments_lexer": "ipython3",
   "version": "3.8.6"
  }
 },
 "nbformat": 4,
 "nbformat_minor": 5
}
